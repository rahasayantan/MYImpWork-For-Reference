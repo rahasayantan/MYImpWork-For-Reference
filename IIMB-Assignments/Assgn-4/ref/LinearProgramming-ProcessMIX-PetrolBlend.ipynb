{
 "cells": [
  {
   "cell_type": "code",
   "execution_count": 6,
   "metadata": {},
   "outputs": [
    {
     "name": "stdout",
     "output_type": "stream",
     "text": [
      "1\n",
      " a1 :: 400.0 ::\n",
      " a2 :: 150.0 ::\n",
      "Objective 12350000.0\n"
     ]
    }
   ],
   "source": [
    "from pulp import *\n",
    "# initialize the model\n",
    "prob = LpProblem(\"petBlend\", LpMaximize)\n",
    "#List of decision variables\n",
    "vehicles = ['a1', 'a2']\n",
    "# create a dictionary of pulp variables with keys from ingredients\n",
    "# the default lower bound is -inf\n",
    "x = pulp.LpVariable.dict('x_%s', vehicles, lowBound = 0)\n",
    "\n",
    "# Objective function\n",
    "\n",
    "#profit = [3000, 2500]\n",
    "#cost = dict(zip(vehicles, profit))\n",
    "\n",
    "#prob += sum([cost[i] * x[i] for i in vehicles]), \"Objective\"\n",
    "prob += 3000*(5 * x['a1'] + 3 * x['a2']) + 2500 * (2 * x['a1'] + 8 * x['a2']), \"Objective\"\n",
    "\n",
    "# Constraints\n",
    "\n",
    "prob += x['a1'] + 4 * x['a2'] <= 1000, \"Supply 1\"\n",
    "prob += 3 * x['a1'] + 2* x['a2'] <= 1500, \"Supply 2\"\n",
    "\n",
    "prob += 5 * x['a1'] + 3 * x['a2'] >= 800.0, \"Demand 1\"\n",
    "prob += 2 * x['a1'] + 8 * x['a2'] >= 700.0, \"Demand 2\"\n",
    "\n",
    "prob.writeLP(\"petBlend.lp\")\n",
    "    \n",
    "status = prob.solve(GLPK(options=[\"--ranges\",\"petBlend.sen\"]))\n",
    "print(status)\n",
    "#print the result\n",
    "for vehicle in vehicles:\n",
    "    print(' {} :: {} ::'.format(vehicle,\n",
    "    x[vehicle].value()))\n",
    "    \n",
    "print(\"Objective\", value(prob.objective))"
   ]
  },
  {
   "cell_type": "code",
   "execution_count": null,
   "metadata": {},
   "outputs": [],
   "source": [
    "# %load petBlend.sen\n",
    "GLPK 4.65 - SENSITIVITY ANALYSIS REPORT                                                                         Page   1\n",
    "\n",
    "Problem:    \n",
    "Objective:  Objective = 12350000 (MAXimum)\n",
    "\n",
    "   No. Row name     St      Activity         Slack   Lower bound       Activity      Obj coef  Obj value at Limiting\n",
    "                                          Marginal   Upper bound          range         range   break point variable\n",
    "------ ------------ -- ------------- ------------- -------------  ------------- ------------- ------------- ------------\n",
    "     1 Demand_1     BS    2450.00000   -1650.00000     800.00000      750.00000   -3000.00000         5e+06 Supply_2\n",
    "                                            .               +Inf     2500.00000   47000.00000     1.275e+08 Supply_1\n",
    "\n",
    "     2 Demand_2     BS    2000.00000   -1300.00000     700.00000     1000.00000   -2350.00000      7.65e+06 Supply_1\n",
    "                                            .               +Inf     2000.00000          +Inf          +Inf\n",
    "\n",
    "     3 Supply_1     NU    1000.00000        .               -Inf      500.00000   -4700.00000         1e+07 x_a2\n",
    "                                        4700.00000    1000.00000     3000.00000          +Inf     2.175e+07 x_a1\n",
    "\n",
    "     4 Supply_2     NU    1500.00000        .               -Inf      529.41176   -5100.00000       7.4e+06 Demand_1\n",
    "                                        5100.00000    1500.00000     3000.00000          +Inf         2e+07 x_a2\n",
    "\n",
    "GLPK 4.65 - SENSITIVITY ANALYSIS REPORT                                                                         Page   2\n",
    "\n",
    "Problem:    \n",
    "Objective:  Objective = 12350000 (MAXimum)\n",
    "\n",
    "   No. Column name  St      Activity      Obj coef   Lower bound       Activity      Obj coef  Obj value at Limiting\n",
    "                                          Marginal   Upper bound          range         range   break point variable\n",
    "------ ------------ -- ------------- ------------- -------------  ------------- ------------- ------------- ------------\n",
    "     1 x_a1         BS     400.00000   20000.00000        .            11.76471    7250.00000      7.25e+06 Supply_2\n",
    "                                            .               +Inf      500.00000   43500.00000     2.175e+07 Supply_1\n",
    "\n",
    "     2 x_a2         BS     150.00000   29000.00000        .           -45.00000   13333.33333         1e+07 Supply_1\n",
    "                                            .               +Inf      247.05882   80000.00000         2e+07 Supply_2\n",
    "\n",
    "End of report\n"
   ]
  },
  {
   "cell_type": "code",
   "execution_count": null,
   "metadata": {},
   "outputs": [],
   "source": []
  }
 ],
 "metadata": {
  "kernelspec": {
   "display_name": "Python 3",
   "language": "python",
   "name": "python3"
  },
  "language_info": {
   "codemirror_mode": {
    "name": "ipython",
    "version": 3
   },
   "file_extension": ".py",
   "mimetype": "text/x-python",
   "name": "python",
   "nbconvert_exporter": "python",
   "pygments_lexer": "ipython3",
   "version": "3.6.4"
  }
 },
 "nbformat": 4,
 "nbformat_minor": 2
}
