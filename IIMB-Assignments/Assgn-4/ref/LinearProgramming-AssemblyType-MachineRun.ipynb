{
 "cells": [
  {
   "cell_type": "code",
   "execution_count": 4,
   "metadata": {},
   "outputs": [
    {
     "name": "stdout",
     "output_type": "stream",
     "text": [
      "1\n",
      " 1 :: 1.4 ::\n",
      " 2 :: 0.0 ::\n",
      " 3 :: 0.4 ::\n",
      "Objective 1.7999999999999998\n"
     ]
    }
   ],
   "source": [
    "from pulp import *\n",
    "# initialize the model\n",
    "prob = LpProblem(\"machineRun\", LpMinimize)\n",
    "#List of decision variables\n",
    "vehicles = ['1', '2', '3']\n",
    "# create a dictionary of pulp variables with keys from ingredients\n",
    "# the default lower bound is -inf\n",
    "x = pulp.LpVariable.dict('x_%s', vehicles, lowBound = 0)\n",
    "\n",
    "# Objective function\n",
    "prob += sum([x[i] for i in vehicles]), \"Objective\"\n",
    "\n",
    "# Constraints\n",
    "rm1 = [7,4,2]\n",
    "rm11 = dict(zip(vehicles, rm1))\n",
    "prob += sum([rm11[i] * x[i] for i in vehicles]) <= 1000, \"Supply 1\"\n",
    "rm1 = [5,8,7]\n",
    "rm11 = dict(zip(vehicles, rm1))\n",
    "prob += sum([rm11[i] * x[i] for i in vehicles]) <= 1500, \"Supply 2\"\n",
    "\n",
    "dm1 = [2,1,3]\n",
    "rm11 = dict(zip(vehicles, dm1))\n",
    "prob += sum([rm11[i] * x[i] for i in vehicles]) >= 4, \"D1\"\n",
    "dm1 = [4,3,1]\n",
    "rm11 = dict(zip(vehicles, dm1))\n",
    "prob += sum([rm11[i] * x[i] for i in vehicles]) >= 6, \"D2\"\n",
    "dm1 = [2,4,2]\n",
    "rm11 = dict(zip(vehicles, dm1))\n",
    "prob += sum([rm11[i] * x[i] for i in vehicles]) >= 3, \"D3\"\n",
    "\n",
    "prob.writeLP(\"machineRun.lp\")\n",
    "    \n",
    "status = prob.solve(GLPK(options=[\"--ranges\",\"machineRun.sen\"]))\n",
    "print(status)\n",
    "#print the result\n",
    "for vehicle in vehicles:\n",
    "    print(' {} :: {} ::'.format(vehicle,\n",
    "    x[vehicle].value()))\n",
    "    \n",
    "print(\"Objective\", value(prob.objective))"
   ]
  },
  {
   "cell_type": "code",
   "execution_count": null,
   "metadata": {},
   "outputs": [],
   "source": [
    "# %load machineRun.sen\n",
    "GLPK 4.65 - SENSITIVITY ANALYSIS REPORT                                                                         Page   1\n",
    "\n",
    "Problem:    \n",
    "Objective:  Objective = 1.8 (MINimum)\n",
    "\n",
    "   No. Row name     St      Activity         Slack   Lower bound       Activity      Obj coef  Obj value at Limiting\n",
    "                                          Marginal   Upper bound          range         range   break point variable\n",
    "------ ------------ -- ------------- ------------- -------------  ------------- ------------- ------------- ------------\n",
    "     1 D1           NL       4.00000        .            4.00000        3.00000       -.30000       1.50000 D3\n",
    "                                            .30000          +Inf       18.00000          +Inf       6.00000 x_1\n",
    "\n",
    "     2 D2           NL       6.00000        .            6.00000        3.00000       -.10000       1.50000 D3\n",
    "                                            .10000          +Inf        8.00000          +Inf       2.00000 x_3\n",
    "\n",
    "     3 D3           BS       3.60000       -.60000       3.00000        8.50000       -.14286       1.28571 x_2\n",
    "                                            .               +Inf        3.60000          +Inf          +Inf\n",
    "\n",
    "     4 Supply_1     BS      10.60000     989.40000          -Inf       14.00000       -.05882       1.17647 D2\n",
    "                                            .         1000.00000        8.50000        .33333       5.33333 x_2\n",
    "\n",
    "     5 Supply_2     BS       9.80000    1490.20000          -Inf       19.25000       -.07407       1.07407 x_2\n",
    "                                            .         1500.00000        9.80000          +Inf          +Inf\n",
    "\n",
    "GLPK 4.65 - SENSITIVITY ANALYSIS REPORT                                                                         Page   2\n",
    "\n",
    "Problem:    \n",
    "Objective:  Objective = 1.8 (MINimum)\n",
    "\n",
    "   No. Column name  St      Activity      Obj coef   Lower bound       Activity      Obj coef  Obj value at Limiting\n",
    "                                          Marginal   Upper bound          range         range   break point variable\n",
    "------ ------------ -- ------------- ------------- -------------  ------------- ------------- ------------- ------------\n",
    "     1 x_1          BS       1.40000       1.00000        .             2.00000        .66667       1.33333 D2\n",
    "                                            .               +Inf     -219.37037       1.50000       2.50000 x_2\n",
    "\n",
    "     2 x_2          NL        .            1.00000        .             -.21429        .60000       1.71429 D3\n",
    "                                            .40000          +Inf        1.75000          +Inf       2.50000 x_1\n",
    "\n",
    "     3 x_3          BS        .40000       1.00000        .             6.00000        .25000       1.50000 D1\n",
    "                                            .               +Inf     -116.00000       1.50000       2.00000 D2\n",
    "\n",
    "End of report\n"
   ]
  },
  {
   "cell_type": "code",
   "execution_count": null,
   "metadata": {},
   "outputs": [],
   "source": []
  }
 ],
 "metadata": {
  "kernelspec": {
   "display_name": "Python 3",
   "language": "python",
   "name": "python3"
  },
  "language_info": {
   "codemirror_mode": {
    "name": "ipython",
    "version": 3
   },
   "file_extension": ".py",
   "mimetype": "text/x-python",
   "name": "python",
   "nbconvert_exporter": "python",
   "pygments_lexer": "ipython3",
   "version": "3.6.4"
  }
 },
 "nbformat": 4,
 "nbformat_minor": 2
}
