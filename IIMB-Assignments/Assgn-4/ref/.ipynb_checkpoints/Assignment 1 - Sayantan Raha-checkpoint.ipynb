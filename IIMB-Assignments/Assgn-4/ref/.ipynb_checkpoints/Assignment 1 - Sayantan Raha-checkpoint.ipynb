{
 "cells": [
  {
   "cell_type": "markdown",
   "metadata": {},
   "source": [
    "### SAYANTAN RAHA\n",
    "## Roll # : BAI09056\n",
    "### IIMB - BAI09 - Assignment 1\n"
   ]
  },
  {
   "cell_type": "code",
   "execution_count": 1,
   "metadata": {},
   "outputs": [
    {
     "data": {
      "text/html": [
       "<script>\n",
       "code_show=true; \n",
       "function code_toggle() {\n",
       " if (code_show){\n",
       " $('div.input').hide();\n",
       " } else {\n",
       " $('div.input').show();\n",
       " }\n",
       " code_show = !code_show\n",
       "} \n",
       "$( document ).ready(code_toggle);\n",
       "</script>\n",
       "<form action=\"javascript:code_toggle()\"><input type=\"submit\" value=\"Toggle on/off Code\"></form>"
      ],
      "text/plain": [
       "<IPython.core.display.HTML object>"
      ]
     },
     "execution_count": 1,
     "metadata": {},
     "output_type": "execute_result"
    }
   ],
   "source": [
    "from IPython.display import HTML\n",
    "\n",
    "HTML('''<script>\n",
    "code_show=true; \n",
    "function code_toggle() {\n",
    " if (code_show){\n",
    " $('div.input').hide();\n",
    " } else {\n",
    " $('div.input').show();\n",
    " }\n",
    " code_show = !code_show\n",
    "} \n",
    "$( document ).ready(code_toggle);\n",
    "</script>\n",
    "<form action=\"javascript:code_toggle()\"><input type=\"submit\" value=\"Toggle on/off Code\"></form>''')"
   ]
  },
  {
   "cell_type": "code",
   "execution_count": 2,
   "metadata": {},
   "outputs": [],
   "source": [
    "import warnings\n",
    "warnings.filterwarnings('ignore')\n",
    "\n",
    "%load_ext rpy2.ipython"
   ]
  },
  {
   "cell_type": "code",
   "execution_count": 3,
   "metadata": {},
   "outputs": [],
   "source": [
    "import pandas as pd\n",
    "import numpy as np\n",
    "import scipy as sp\n",
    "import matplotlib.pyplot as plt\n",
    "import seaborn as sns\n",
    "%matplotlib inline"
   ]
  },
  {
   "cell_type": "markdown",
   "metadata": {},
   "source": [
    "***\n",
    "***\n",
    "\n",
    "\n",
    "# Q1"
   ]
  },
  {
   "cell_type": "markdown",
   "metadata": {},
   "source": [
    "## Q1 - a"
   ]
  },
  {
   "cell_type": "code",
   "execution_count": 4,
   "metadata": {},
   "outputs": [
    {
     "name": "stdout",
     "output_type": "stream",
     "text": [
      "List of cgpa scores: [3.36, 1.56, 1.48, 1.43, 2.64, 1.48, 2.77, 2.2, 1.38, 2.84, 1.88, 1.83, 1.87, 1.95, 3.43, 1.28, 3.67, 2.23, 1.71, 1.68, 2.57, 3.74, 1.98, 1.66, 1.66, 2.96, 1.77, 1.62, 2.74, 3.35, 1.8, 2.86, 3.28, 1.14, 1.98, 2.96, 3.75, 1.89, 2.16, 2.07]\n"
     ]
    }
   ],
   "source": [
    "cgpaList = [3.36, 1.56, 1.48, 1.43, 2.64, 1.48, 2.77, 2.20, 1.38, 2.84,\n",
    "            1.88, 1.83, 1.87, 1.95, 3.43, 1.28, 3.67, 2.23, 1.71, 1.68,\n",
    "            2.57, 3.74, 1.98, 1.66, 1.66, 2.96, 1.77, 1.62, 2.74, 3.35,\n",
    "            1.80, 2.86, 3.28, 1.14, 1.98, 2.96, 3.75, 1.89, 2.16, 2.07]\n",
    "\n",
    "print(\"List of cgpa scores: {}\".format(cgpaList))"
   ]
  },
  {
   "cell_type": "markdown",
   "metadata": {},
   "source": [
    "**MEAN**\n",
    "\n",
    "The Mean of a list of numbers are defined as the sum of all the numbers in the list divided by \n",
    "the number of elements of the list.\n",
    "\n",
    "n = number of elements in list\n",
    "\n",
    "\\begin{equation*}\n",
    "Mean = \\frac{( \\sum_{k=1}^n x_k )} {n}\n",
    "\\end{equation*}\n",
    "\n"
   ]
  },
  {
   "cell_type": "code",
   "execution_count": 5,
   "metadata": {},
   "outputs": [
    {
     "name": "stdout",
     "output_type": "stream",
     "text": [
      "Mean of CGPA: 2.2652499999999995\n"
     ]
    }
   ],
   "source": [
    "meanList = sum(cgpaList) / len(cgpaList)\n",
    "print(\"Mean of CGPA: {}\".format(meanList))"
   ]
  },
  {
   "cell_type": "markdown",
   "metadata": {},
   "source": [
    "**MEDIAN**\n",
    "\n",
    "The Median is the mid Value of the list of numbers. Here n (number of items in list) is even hence median is average of \\begin{equation*} \\frac{( n )} {2} \\end{equation*} and \\begin{equation*} \\frac{( n + 2)} {2} \\end{equation*} element of the list.\n",
    "\n",
    "First we will sort all items in the list in ascending order, then take average of 20 and 21 element of the list to find the median of the list"
   ]
  },
  {
   "cell_type": "code",
   "execution_count": 6,
   "metadata": {},
   "outputs": [
    {
     "name": "stdout",
     "output_type": "stream",
     "text": [
      "Sorted list is : [1.14, 1.28, 1.38, 1.43, 1.48, 1.48, 1.56, 1.62, 1.66, 1.66, 1.68, 1.71, 1.77, 1.8, 1.83, 1.87, 1.88, 1.89, 1.95, 1.98, 1.98, 2.07, 2.16, 2.2, 2.23, 2.57, 2.64, 2.74, 2.77, 2.84, 2.86, 2.96, 2.96, 3.28, 3.35, 3.36, 3.43, 3.67, 3.74, 3.75]\n",
      "\n",
      "20th Element of list is: 1.98\n",
      "21th Element of list is: 1.98\n",
      "\n",
      "Median of list is: 1.98\n"
     ]
    }
   ],
   "source": [
    "cgpaList.sort()\n",
    "print(\"Sorted list is : {}\".format(cgpaList))\n",
    "print(\"\")\n",
    "print(\"20th Element of list is: {}\".format(cgpaList[19]))\n",
    "print(\"21th Element of list is: {}\".format(cgpaList[20]))\n",
    "print(\"\")\n",
    "\n",
    "print(\"Median of list is: {}\".format((cgpaList[20] + cgpaList[20])/2))\n"
   ]
  },
  {
   "cell_type": "markdown",
   "metadata": {},
   "source": [
    "**MODE**\n",
    "\n",
    "Mode is the most frequent occurring element in the list. Sort the elements and count the most frequesnt ones. The mode(s) of the list is:"
   ]
  },
  {
   "cell_type": "code",
   "execution_count": 7,
   "metadata": {},
   "outputs": [
    {
     "name": "stdout",
     "output_type": "stream",
     "text": [
      "Mode is:\n",
      "0    1.48\n",
      "1    1.66\n",
      "2    1.98\n",
      "3    2.96\n",
      "dtype: float64\n"
     ]
    }
   ],
   "source": [
    "print(\"Mode is:\");\n",
    "print(pd.Series(cgpaList).mode())"
   ]
  },
  {
   "cell_type": "markdown",
   "metadata": {},
   "source": [
    "**Standard Deviation**\n",
    "\n",
    "The standard deviation of a list of numbers is calculated by:\n",
    "\n",
    "\\begin{equation*} \\sigma = \\sqrt{\\frac{ \\sum_{k=1}^n (x_k - \\bar{x})^2} {n - 1}} \\end{equation*}\n",
    "\n",
    "Instead of using n, we use n - 1. This is called Bessel's correction, which is required due to **downward bias**. When we compute the average from sample, we underestimate the numerator. \n",
    "\n",
    "Another possible explanation is, since we compute the mean from the sample, we loose **one degree of freedom**. Hence the denominator is n-1"
   ]
  },
  {
   "cell_type": "code",
   "execution_count": 8,
   "metadata": {},
   "outputs": [
    {
     "name": "stdout",
     "output_type": "stream",
     "text": [
      "Sample Mean: 2.26525\n",
      "Sum of Squared Difference from Mean: 22.1391975\n",
      "Standard Deviation: 0.7534399317591488\n"
     ]
    }
   ],
   "source": [
    "print(\"Sample Mean: {}\".format(np.mean(cgpaList)))\n",
    "print(\"Sum of Squared Difference from Mean: {}\".format((sum((cgpaList  - np.mean(cgpaList)) ** 2))))\n",
    "print(\"Standard Deviation: {}\".format(((sum((cgpaList  - np.mean(cgpaList)) ** 2))/(len(cgpaList) - 1))**0.5))"
   ]
  },
  {
   "cell_type": "markdown",
   "metadata": {},
   "source": [
    "## Q1 - b"
   ]
  },
  {
   "cell_type": "markdown",
   "metadata": {},
   "source": [
    "**Percentile**\n",
    "\n",
    "Position corresponding to percentile (x) is given by the following formula:\n",
    "\\begin{equation*} P_x = {\\frac{x * (n + 1)} {100}} \\end{equation*}\n",
    "\n",
    "Value at position is computed as:\n",
    "\n",
    "\\begin{equation*} Val_x = Val_{P_x} + Fractional part of P_x * (Value_{P_{x+1}} - Value_{P_x})\\end{equation*}\n"
   ]
  },
  {
   "cell_type": "code",
   "execution_count": 9,
   "metadata": {},
   "outputs": [
    {
     "name": "stdout",
     "output_type": "stream",
     "text": [
      "Position corresponding to Percentile 90: 36\n",
      "Value corresponding to Percentile 90: 3.423\n",
      "Position corresponding to Percentile 95: 38\n",
      "Value corresponding to Percentile 95: 3.737\n"
     ]
    }
   ],
   "source": [
    "import math\n",
    "cgpaList.sort()\n",
    "#print(cgpaList)\n",
    "pos = 90* (len(cgpaList) + 1)/100\n",
    "dec = round(math.modf(pos)[0], 2)\n",
    "val = cgpaList[int(pos) - 1] + dec * (cgpaList[int(pos)] - cgpaList[int(pos) - 1])\n",
    "print(\"Position corresponding to Percentile 90: {}\".format(math.floor(pos)))\n",
    "print(\"Value corresponding to Percentile 90: {}\".format(val))\n",
    "\n",
    "pos = 95* (len(cgpaList) + 1)/100\n",
    "dec = round(math.modf(pos)[0], 2)\n",
    "val = cgpaList[int(pos) - 1] + dec * (cgpaList[int(pos)] - cgpaList[int(pos) - 1])\n",
    "print(\"Position corresponding to Percentile 95: {}\".format(math.floor(pos)))\n",
    "print(\"Value corresponding to Percentile 95: {}\".format(round(val,3)))\n"
   ]
  },
  {
   "cell_type": "markdown",
   "metadata": {},
   "source": [
    "## Q1 - c"
   ]
  },
  {
   "cell_type": "markdown",
   "metadata": {},
   "source": [
    "**IQR**\n",
    "\n",
    "IQR is the range between **Percentile 25** and **Percentile 75**.\n",
    "The formula for computing percentile is same as above."
   ]
  },
  {
   "cell_type": "code",
   "execution_count": 10,
   "metadata": {},
   "outputs": [
    {
     "name": "stdout",
     "output_type": "stream",
     "text": [
      "Position corresponding to Percentile 25: 10\n",
      "Value corresponding to Percentile 25: 1.665\n",
      "Position corresponding to Percentile 75: 30\n",
      "Value corresponding to Percentile 75: 2.855\n",
      "IQR: 1.19\n"
     ]
    }
   ],
   "source": [
    "cgpaList.sort()\n",
    "pos = 25 * (len(cgpaList) + 1)/100\n",
    "dec = round(math.modf(pos)[0], 2)\n",
    "val25 = cgpaList[int(pos) - 1] + dec * (cgpaList[int(pos)] - cgpaList[int(pos) - 1])\n",
    "print(\"Position corresponding to Percentile 25: {}\".format(math.floor(pos)))\n",
    "print(\"Value corresponding to Percentile 25: {}\".format(round(val25,3)))\n",
    "\n",
    "pos = 75* (len(cgpaList) + 1)/100\n",
    "dec = round(math.modf(pos)[0], 2)\n",
    "val75 = cgpaList[int(pos) - 1] + dec * (cgpaList[int(pos)] - cgpaList[int(pos) - 1])\n",
    "print(\"Position corresponding to Percentile 75: {}\".format(math.floor(pos)))\n",
    "print(\"Value corresponding to Percentile 75: {}\".format(round(val75,3)))\n",
    "\n",
    "print(\"IQR: {}\".format(val75 - val25))\n"
   ]
  },
  {
   "cell_type": "markdown",
   "metadata": {},
   "source": [
    "## Q1 - d"
   ]
  },
  {
   "cell_type": "markdown",
   "metadata": {},
   "source": [
    "Plotting a histogram or computing Skew will both provide whether the distribution has right tail or not\n",
    "\n",
    "**SKEW** \n",
    "Skewness is computed by the following equation (**Pearson moment coefficient of skewness**):\n",
    "\\begin{equation*} g_1 = {\\frac{ \\sum_{k=1}^n \\frac{(x_k - \\bar{x})^3} {n}} {\\sigma^3}} \\end{equation*}\n",
    "\n",
    "\\begin{equation*} \\sigma = Standard Deviation\\end{equation*}\n",
    "\n",
    "\n",
    "For samples with n onservation the formula is adjusted as follows: \n",
    "\\begin{equation*} G_1 = \\sqrt{\\frac{n * (n - 1)} {n - 2}} * g_1\\end{equation*}\n",
    "\n",
    "\n",
    "If G1 < 0 it is left Skewed\n",
    "If G1 > 0  it is right Skewed\n",
    "For G1 near 0, the distribution is considered to be symmetric"
   ]
  },
  {
   "cell_type": "code",
   "execution_count": 11,
   "metadata": {},
   "outputs": [
    {
     "name": "stdout",
     "output_type": "stream",
     "text": [
      "Mean: 2.26525\n",
      "Numerator: 0.23074712128124997\n",
      "Sigma: 0.7439623226346883\n",
      "Skewness: 0.56\n",
      "This distribution is slightly Right Tailed\n"
     ]
    }
   ],
   "source": [
    "x_bar = np.mean(cgpaList)\n",
    "numerator = sum((cgpaList - x_bar) ** 3) / len(cgpaList)\n",
    "sigma = np.std(cgpaList)\n",
    "\n",
    "skewness = numerator / sigma ** 3\n",
    "print(\"Mean: {}\".format(x_bar))\n",
    "print(\"Numerator: {}\".format(numerator))\n",
    "print(\"Sigma: {}\".format(sigma))\n",
    "print(\"Skewness: {}\".format(round(skewness, 3)))\n",
    "\n",
    "print(\"This distribution is slightly Right Tailed\")"
   ]
  },
  {
   "cell_type": "markdown",
   "metadata": {},
   "source": [
    "## Q1 - e"
   ]
  },
  {
   "cell_type": "markdown",
   "metadata": {},
   "source": [
    "The Optimal number of bins is computed using the following formula:\n",
    "**N = 1 =3.322 * Log10 (n)**\n",
    "where n = number of onservations"
   ]
  },
  {
   "cell_type": "code",
   "execution_count": 12,
   "metadata": {},
   "outputs": [
    {
     "name": "stdout",
     "output_type": "stream",
     "text": [
      "Number of bins: 6\n"
     ]
    },
    {
     "data": {
      "text/plain": [
       "<matplotlib.axes._subplots.AxesSubplot at 0x7f987ab262e8>"
      ]
     },
     "execution_count": 12,
     "metadata": {},
     "output_type": "execute_result"
    },
    {
     "data": {
      "image/png": "[encoded data removed]",
      "text/plain": [
       "<Figure size 432x288 with 1 Axes>"
      ]
     },
     "metadata": {},
     "output_type": "display_data"
    }
   ],
   "source": [
    "N = 1 + 3.322* np.log10(len(cgpaList))\n",
    "print(\"Number of bins: {}\".format(int(N)))\n",
    "sns.distplot(cgpaList, bins= int(N))"
   ]
  },
  {
   "cell_type": "markdown",
   "metadata": {},
   "source": [
    "# Q2"
   ]
  },
  {
   "cell_type": "markdown",
   "metadata": {},
   "source": [
    "## Q2 - a"
   ]
  },
  {
   "cell_type": "code",
   "execution_count": 13,
   "metadata": {},
   "outputs": [
    {
     "name": "stdout",
     "output_type": "stream",
     "text": [
      "\n",
      "\"The data has Nominal Variable (e.g. Loan_Type, Gender, Accomodation Type etc.) , \n",
      "Continuous variables (e.g. Monthly Salary, Balance in Savings Account) \n",
      "and Discrete Continuous variables (e.g. No of Years in Job etc.)\"\n",
      "\n"
     ]
    }
   ],
   "source": [
    "data = pd.read_excel(\"./Chapter 2 BKB.xlsx\", sheet_name='DKB Bank Data')\n",
    "#data.head()\n",
    "text = \"\"\"\n",
    "\"The data has Nominal Variable (e.g. Loan_Type, Gender, Accomodation Type etc.) , \n",
    "Continuous variables (e.g. Monthly Salary, Balance in Savings Account) \n",
    "and Discrete Continuous variables (e.g. No of Years in Job etc.)\"\n",
    "\"\"\"\n",
    "print(text)"
   ]
  },
  {
   "cell_type": "code",
   "execution_count": 14,
   "metadata": {},
   "outputs": [],
   "source": [
    "#data.describe(include='all').transpose()"
   ]
  },
  {
   "cell_type": "code",
   "execution_count": 15,
   "metadata": {},
   "outputs": [
    {
     "data": {
      "image/png": "[encoded data removed]",
      "text/plain": [
       "<Figure size 720x360 with 4 Axes>"
      ]
     },
     "metadata": {},
     "output_type": "display_data"
    }
   ],
   "source": [
    "plt.figure(figsize = (10, 5))\n",
    "\n",
    "plt.subplot(2, 2, 1)\n",
    "\n",
    "sns.countplot( y = 'Loan Type',\n",
    "          data = data)\n",
    "\n",
    "plt.subplot(2, 2, 2)\n",
    "\n",
    "sns.countplot( y = 'Gender',\n",
    "          data = data)\n",
    "\n",
    "plt.subplot(2, 2, 3)\n",
    "\n",
    "sns.countplot( y = 'Marital Status',\n",
    "          data = data)\n",
    "\n",
    "plt.subplot(2, 2, 4)\n",
    "\n",
    "sns.countplot( y = 'Accomodation Type',\n",
    "          data = data)\n",
    "\n",
    "\n",
    "plt.tight_layout()"
   ]
  },
  {
   "cell_type": "markdown",
   "metadata": {},
   "source": [
    "#### Observations from above graphs\n",
    "\n",
    "- Most Loans are Home Loans\n",
    "- Most Loan Applicants are Male\n",
    "- Proportion of Married people apply for loans are higher\n",
    "- Most people applying for loan live in rented accomodation\n",
    "\n",
    "Observations above have to be validated by hypothesis test to prove statistical significance"
   ]
  },
  {
   "cell_type": "markdown",
   "metadata": {},
   "source": [
    "** Accomodation Type vs Loan Type **\n",
    "\n",
    "The Data below shows there is a correlation between Loan Type and Accomodation type. This has to be further validated with statistical hypothesis test."
   ]
  },
  {
   "cell_type": "code",
   "execution_count": 16,
   "metadata": {},
   "outputs": [
    {
     "name": "stdout",
     "output_type": "stream",
     "text": [
      "                   Loan Type  Marital Status    Gender  Accomodation Type\n",
      "Loan Type           1.000000       -0.016972  0.003260          -0.130769\n",
      "Marital Status     -0.016972        1.000000  0.066943          -0.003602\n",
      "Gender              0.003260        0.066943  1.000000           0.016295\n",
      "Accomodation Type  -0.130769       -0.003602  0.016295           1.000000\n"
     ]
    },
    {
     "data": {
      "text/plain": [
       "Accomodation Type  Loan Type       \n",
       "Company Provided   Home Improvement       2\n",
       "                   Home Loan             86\n",
       "Family Other       Home Improvement      62\n",
       "                   Home Loan            914\n",
       "Owned              Home Improvement     258\n",
       "                   Home Loan            771\n",
       "Rented             Home Improvement      30\n",
       "                   Home Loan           1741\n",
       "dtype: int64"
      ]
     },
     "execution_count": 16,
     "metadata": {},
     "output_type": "execute_result"
    }
   ],
   "source": [
    "print(data[['Loan Type', 'Marital Status' ,'Gender', 'Accomodation Type']].apply(lambda x : \n",
    "                                                                           pd.factorize(x)[0]).corr(method = \n",
    "                                                                                                'spearman'))\n",
    "data[['Accomodation Type','Loan Type']].groupby(['Accomodation Type','Loan Type']).size()"
   ]
  },
  {
   "cell_type": "code",
   "execution_count": 17,
   "metadata": {},
   "outputs": [
    {
     "data": {
      "image/png": "[encoded data removed]",
      "text/plain": [
       "<Figure size 720x864 with 8 Axes>"
      ]
     },
     "metadata": {},
     "output_type": "display_data"
    }
   ],
   "source": [
    "plt.figure(figsize = (10, 12))\n",
    "\n",
    "plt.subplot(4, 2, 1)\n",
    "\n",
    "sns.distplot(data['No of years in the current address'])\n",
    "\n",
    "plt.subplot(4, 2, 2)\n",
    "\n",
    "sns.distplot( data['No. of Years in the current job'])\n",
    "\n",
    "plt.subplot(4, 2, 3)\n",
    "\n",
    "sns.distplot(data['Monthly Salary'])\n",
    "\n",
    "plt.subplot(4, 2, 4)\n",
    "\n",
    "sns.distplot(data['Balance in Savings Account'])\n",
    "\n",
    "plt.subplot(4, 2, 5)\n",
    "\n",
    "sns.distplot(data['Loan Amount Requested'])\n",
    "\n",
    "plt.subplot(4, 2, 6)\n",
    "\n",
    "sns.distplot(data['Term'])\n",
    "\n",
    "plt.subplot(4, 2, 7)\n",
    "\n",
    "sns.distplot(data['Down Payment '])\n",
    "\n",
    "plt.subplot(4, 2, 8)\n",
    "\n",
    "sns.distplot(data['EMI Affordable '])\n",
    "\n",
    "plt.tight_layout()"
   ]
  },
  {
   "cell_type": "markdown",
   "metadata": {},
   "source": [
    "#### Observations\n",
    "\n",
    "- Number of years in Current Address - Right Skewed\n",
    "- No. of Years in current Job - Right Skewed. Jumps at 5, 10, 15, 20, 25, 30, implying people have a habit of rounding off to nearest 5 year mark\n",
    "- Salary is right skewed, most of salaries are withing 100K, with a few high value outliers\n",
    "- Balance in saving account - Mostly less than 50K, with a few high values\n",
    "- Loan Amount - Multimodal distribution. The values are rounded off more towards 200K, 300K, 400K, 500K, 600K, 700K, 800K 1000K\n",
    "- Loan tenure - Most apply for 180 Months of loan tenure\n",
    "- Fewer proportion of people can afford high EMI\n"
   ]
  },
  {
   "cell_type": "code",
   "execution_count": 18,
   "metadata": {},
   "outputs": [
    {
     "data": {
      "text/plain": [
       "<matplotlib.axes._subplots.AxesSubplot at 0x7f9871ec6be0>"
      ]
     },
     "execution_count": 18,
     "metadata": {},
     "output_type": "execute_result"
    },
    {
     "data": {
      "image/png": "[encoded data removed]",
      "text/plain": [
       "<Figure size 864x864 with 2 Axes>"
      ]
     },
     "metadata": {},
     "output_type": "display_data"
    }
   ],
   "source": [
    "corr = data[['No of years in the current address', 'No. of Years in the current job', \n",
    "      'Monthly Salary', 'Balance in Savings Account', 'Loan Amount Requested', 'Term', \n",
    "     'Down Payment ', 'EMI Affordable ']].corr(method='pearson')\n",
    "\n",
    "# Generate a mask for the upper triangle\n",
    "mask = np.zeros_like(corr, dtype=np.bool)\n",
    "mask[np.triu_indices_from(mask)] = True\n",
    "\n",
    "# Set up the matplotlib figure\n",
    "f, ax = plt.subplots(figsize=(12, 12))\n",
    "\n",
    "# Generate a custom diverging colormap\n",
    "cmap = sns.diverging_palette(255, 150, as_cmap=True)\n",
    "\n",
    "# Draw the heatmap with the mask and correct aspect ratio\n",
    "sns.heatmap(corr, mask=mask, cmap=cmap, vmax=.3, center=0,\n",
    "            square=True, linewidths=.5, cbar_kws={\"shrink\": .5})"
   ]
  },
  {
   "cell_type": "code",
   "execution_count": 19,
   "metadata": {},
   "outputs": [
    {
     "data": {
      "text/html": [
       "<div>\n",
       "<style scoped>\n",
       "    .dataframe tbody tr th:only-of-type {\n",
       "        vertical-align: middle;\n",
       "    }\n",
       "\n",
       "    .dataframe tbody tr th {\n",
       "        vertical-align: top;\n",
       "    }\n",
       "\n",
       "    .dataframe thead th {\n",
       "        text-align: right;\n",
       "    }\n",
       "</style>\n",
       "<table border=\"1\" class=\"dataframe\">\n",
       "  <thead>\n",
       "    <tr style=\"text-align: right;\">\n",
       "      <th></th>\n",
       "      <th>No. of Years in the current job</th>\n",
       "      <th>No of years in the current address</th>\n",
       "      <th>Down Payment</th>\n",
       "      <th>Term</th>\n",
       "      <th>Balance in Savings Account</th>\n",
       "      <th>Monthly Salary</th>\n",
       "      <th>Loan Amount Requested</th>\n",
       "    </tr>\n",
       "    <tr>\n",
       "      <th>Accomodation Type</th>\n",
       "      <th></th>\n",
       "      <th></th>\n",
       "      <th></th>\n",
       "      <th></th>\n",
       "      <th></th>\n",
       "      <th></th>\n",
       "      <th></th>\n",
       "    </tr>\n",
       "  </thead>\n",
       "  <tbody>\n",
       "    <tr>\n",
       "      <th>Company Provided</th>\n",
       "      <td>13.590909</td>\n",
       "      <td>11.659091</td>\n",
       "      <td>430372.818182</td>\n",
       "      <td>160.670455</td>\n",
       "      <td>52078.568182</td>\n",
       "      <td>16838.806818</td>\n",
       "      <td>662881.818182</td>\n",
       "    </tr>\n",
       "    <tr>\n",
       "      <th>Family Other</th>\n",
       "      <td>11.215164</td>\n",
       "      <td>16.846311</td>\n",
       "      <td>453250.704918</td>\n",
       "      <td>164.195697</td>\n",
       "      <td>31620.655738</td>\n",
       "      <td>23363.690574</td>\n",
       "      <td>646135.420082</td>\n",
       "    </tr>\n",
       "    <tr>\n",
       "      <th>Owned</th>\n",
       "      <td>12.651118</td>\n",
       "      <td>12.990282</td>\n",
       "      <td>430270.357629</td>\n",
       "      <td>140.511176</td>\n",
       "      <td>19325.789116</td>\n",
       "      <td>20295.480078</td>\n",
       "      <td>499773.082604</td>\n",
       "    </tr>\n",
       "    <tr>\n",
       "      <th>Rented</th>\n",
       "      <td>9.632976</td>\n",
       "      <td>5.717109</td>\n",
       "      <td>411493.360248</td>\n",
       "      <td>169.322981</td>\n",
       "      <td>37665.495200</td>\n",
       "      <td>23845.810277</td>\n",
       "      <td>649441.705251</td>\n",
       "    </tr>\n",
       "  </tbody>\n",
       "</table>\n",
       "</div>"
      ],
      "text/plain": [
       "                   No. of Years in the current job  \\\n",
       "Accomodation Type                                    \n",
       "Company Provided                         13.590909   \n",
       "Family Other                             11.215164   \n",
       "Owned                                    12.651118   \n",
       "Rented                                    9.632976   \n",
       "\n",
       "                   No of years in the current address  Down Payment   \\\n",
       "Accomodation Type                                                      \n",
       "Company Provided                            11.659091  430372.818182   \n",
       "Family Other                                16.846311  453250.704918   \n",
       "Owned                                       12.990282  430270.357629   \n",
       "Rented                                       5.717109  411493.360248   \n",
       "\n",
       "                         Term  Balance in Savings Account  Monthly Salary  \\\n",
       "Accomodation Type                                                           \n",
       "Company Provided   160.670455                52078.568182    16838.806818   \n",
       "Family Other       164.195697                31620.655738    23363.690574   \n",
       "Owned              140.511176                19325.789116    20295.480078   \n",
       "Rented             169.322981                37665.495200    23845.810277   \n",
       "\n",
       "                   Loan Amount Requested  \n",
       "Accomodation Type                         \n",
       "Company Provided           662881.818182  \n",
       "Family Other               646135.420082  \n",
       "Owned                      499773.082604  \n",
       "Rented                     649441.705251  "
      ]
     },
     "execution_count": 19,
     "metadata": {},
     "output_type": "execute_result"
    }
   ],
   "source": [
    "data[['Accomodation Type','No. of Years in the current job', 'No of years in the current address', \n",
    "      'Down Payment ', 'Term', 'Balance in Savings Account', 'Monthly Salary', 'Loan Amount Requested']].groupby(\n",
    "    ['Accomodation Type']).agg('mean')"
   ]
  },
  {
   "cell_type": "markdown",
   "metadata": {},
   "source": [
    "** Observations **\n",
    "\n",
    "- Applicants who live on rented apartments do tend to spend less time on same job and on same address, where as the other applicant types spend more time on same address and job. The corrleation of time spent on current address and job shows positive correlation\n",
    "- Applicants owning homes / properties seem to apply on average smaller amount of loan and for lesser tenure\n",
    "- Applicants living on Company Provided properties seems to have higher bank balance with lesser monthly salary on average\n",
    "\n",
    "All the above observations need to be validated statistically via hypothesis tests."
   ]
  },
  {
   "cell_type": "markdown",
   "metadata": {},
   "source": [
    "### Q2 - b"
   ]
  },
  {
   "cell_type": "markdown",
   "metadata": {},
   "source": [
    "**Formula and rules for Mean, Median, Mode, Standard Deviation and Skew is provided in answers for Qs1**\n",
    "\n",
    "\n",
    "The Kurtosis is given by the equation:\n",
    "\\begin{equation*} Kurtosis = {\\frac{ \\sum_{k=1}^n \\frac{(x_k - \\bar{x})^4} {n}} {\\sigma^4}} \\end{equation*}\n",
    "\n",
    "\\begin{equation*} \\sigma = Standard Deviation\\end{equation*}\n",
    "\n",
    "\n",
    "**Monthly Salary**"
   ]
  },
  {
   "cell_type": "code",
   "execution_count": 20,
   "metadata": {},
   "outputs": [
    {
     "name": "stdout",
     "output_type": "stream",
     "text": [
      "Mean: 22618.98447204969\n",
      "Total elements: 3864\n"
     ]
    }
   ],
   "source": [
    "print(\"Mean: {}\".format(np.sum(data['Monthly Salary']) / data['Monthly Salary'].shape[0]))\n",
    "print(\"Total elements: {}\".format(data['Monthly Salary'].shape[0]))\n"
   ]
  },
  {
   "cell_type": "code",
   "execution_count": 21,
   "metadata": {},
   "outputs": [
    {
     "name": "stdout",
     "output_type": "stream",
     "text": [
      "Median: 19000.0\n"
     ]
    }
   ],
   "source": [
    "data.sort_values('Monthly Salary', inplace = True)\n",
    "data.reset_index(inplace = True, drop = True)\n",
    "\n",
    "x = data['Monthly Salary']\n",
    "print(\"Median: {}\".format((x[x.shape[0] / 2 - 1] + \n",
    "                           x[x.shape[0] / 2])/2))"
   ]
  },
  {
   "cell_type": "code",
   "execution_count": 22,
   "metadata": {},
   "outputs": [
    {
     "name": "stdout",
     "output_type": "stream",
     "text": [
      "Mode :\n",
      " 0    15000\n",
      "dtype: int64\n"
     ]
    }
   ],
   "source": [
    "print(\"Mode :\\n {}\".format(data['Monthly Salary'].mode()))"
   ]
  },
  {
   "cell_type": "code",
   "execution_count": 23,
   "metadata": {},
   "outputs": [
    {
     "name": "stdout",
     "output_type": "stream",
     "text": [
      "Calculation for computing Skew: \n",
      "Numerator: 61538297730342.375\n",
      "Sigma: 19780.762269971405\n",
      "Skewness: 7.951\n"
     ]
    }
   ],
   "source": [
    "x_bar = np.mean(data['Monthly Salary'])\n",
    "\n",
    "numerator = sum((data['Monthly Salary'] - x_bar) ** 3) / data['Monthly Salary'].shape[0]\n",
    "sigma = np.std(data['Monthly Salary'])\n",
    "\n",
    "skewness = numerator / sigma ** 3\n",
    "print(\"Calculation for computing Skew: \")\n",
    "\n",
    "print(\"Numerator: {}\".format(numerator))\n",
    "print(\"Sigma: {}\".format(sigma))\n",
    "print(\"Skewness: {}\".format(round(skewness, 3)))"
   ]
  },
  {
   "cell_type": "code",
   "execution_count": 24,
   "metadata": {},
   "outputs": [
    {
     "name": "stdout",
     "output_type": "stream",
     "text": [
      "Numerator: 2.0575588117373972e+19\n",
      "Sigma: 19780.762269971405\n",
      "Kurtosis: 134.394\n"
     ]
    }
   ],
   "source": [
    "x_bar = np.mean(data['Monthly Salary'])\n",
    "numerator = sum((data['Monthly Salary'] - x_bar) ** 4) / data['Monthly Salary'].shape[0]\n",
    "sigma = np.std(data['Monthly Salary'])\n",
    "\n",
    "skewness = numerator / sigma ** 4\n",
    "print(\"Numerator: {}\".format(numerator))\n",
    "print(\"Sigma: {}\".format(sigma))\n",
    "print(\"Kurtosis: {}\".format(round(skewness, 3)))"
   ]
  },
  {
   "cell_type": "markdown",
   "metadata": {},
   "source": [
    "**Balance in Savings Account**"
   ]
  },
  {
   "cell_type": "code",
   "execution_count": 25,
   "metadata": {},
   "outputs": [
    {
     "name": "stdout",
     "output_type": "stream",
     "text": [
      "Mean: 31582.945910973085\n",
      "Total elements: 3864\n"
     ]
    }
   ],
   "source": [
    "print(\"Mean: {}\".format(np.sum(data['Balance in Savings Account']) / data['Balance in Savings Account'].shape[0]))\n",
    "print(\"Total elements: {}\".format(data['Balance in Savings Account'].shape[0]))\n"
   ]
  },
  {
   "cell_type": "code",
   "execution_count": 26,
   "metadata": {},
   "outputs": [
    {
     "name": "stdout",
     "output_type": "stream",
     "text": [
      "Median: 6357.5\n"
     ]
    }
   ],
   "source": [
    "data.sort_values('Balance in Savings Account', inplace = True)\n",
    "data.reset_index(inplace = True, drop = True)\n",
    "\n",
    "x = data['Balance in Savings Account'].sort_values()\n",
    "print(\"Median: {}\".format((x[x.shape[0] / 2 - 1] + \n",
    "                           x[x.shape[0] / 2 ])/2))"
   ]
  },
  {
   "cell_type": "code",
   "execution_count": 27,
   "metadata": {},
   "outputs": [
    {
     "name": "stdout",
     "output_type": "stream",
     "text": [
      "Mode :\n",
      " 0    0\n",
      "dtype: int64\n"
     ]
    }
   ],
   "source": [
    "print(\"Mode :\\n {}\".format(data['Balance in Savings Account'].mode()))"
   ]
  },
  {
   "cell_type": "code",
   "execution_count": 28,
   "metadata": {},
   "outputs": [
    {
     "name": "stdout",
     "output_type": "stream",
     "text": [
      "Calculation for computing Skew: \n",
      "Numerator: 4.8671220825693384e+16\n",
      "Sigma: 127482.44692023737\n",
      "Skewness: 23.492\n"
     ]
    }
   ],
   "source": [
    "x_bar = np.mean(data['Balance in Savings Account'])\n",
    "\n",
    "numerator = sum((data['Balance in Savings Account'] - x_bar) ** 3) / data['Balance in Savings Account'].shape[0]\n",
    "sigma = np.std(data['Balance in Savings Account'])\n",
    "\n",
    "skewness = numerator / sigma ** 3\n",
    "print(\"Calculation for computing Skew: \")\n",
    "\n",
    "print(\"Numerator: {}\".format(numerator))\n",
    "print(\"Sigma: {}\".format(sigma))\n",
    "print(\"Skewness: {}\".format(round(skewness, 3)))"
   ]
  },
  {
   "cell_type": "code",
   "execution_count": 29,
   "metadata": {},
   "outputs": [
    {
     "name": "stdout",
     "output_type": "stream",
     "text": [
      "Numerator: 2.2645418005570515e+23\n",
      "Sigma: 127482.44692023737\n",
      "Kurtosis: 857.391\n"
     ]
    }
   ],
   "source": [
    "x_bar = np.mean(data['Balance in Savings Account'])\n",
    "numerator = sum((data['Balance in Savings Account'] - x_bar) ** 4) / data['Balance in Savings Account'].shape[0]\n",
    "sigma = np.std(data['Balance in Savings Account'])\n",
    "\n",
    "skewness = numerator / sigma ** 4\n",
    "print(\"Numerator: {}\".format(numerator))\n",
    "print(\"Sigma: {}\".format(sigma))\n",
    "print(\"Kurtosis: {}\".format(round(skewness, 3)))"
   ]
  },
  {
   "cell_type": "markdown",
   "metadata": {},
   "source": [
    "## Q2 - c"
   ]
  },
  {
   "cell_type": "code",
   "execution_count": 30,
   "metadata": {},
   "outputs": [
    {
     "data": {
      "image/png": "[encoded data removed]",
      "text/plain": [
       "<Figure size 720x864 with 3 Axes>"
      ]
     },
     "metadata": {},
     "output_type": "display_data"
    }
   ],
   "source": [
    "plt.figure(figsize = (10, 12))\n",
    "\n",
    "for i, source in enumerate(['Loan Amount Requested', 'Down Payment ', 'EMI Affordable ']):\n",
    "    plt.subplot(3, 1, i + 1)\n",
    "    sns.boxplot(data[source])\n",
    "\n",
    "    # Label the plots\n",
    "    plt.title('Boxplot of %s' % source)\n",
    "    \n",
    "plt.tight_layout(h_pad = 2.5)"
   ]
  },
  {
   "cell_type": "markdown",
   "metadata": {},
   "source": [
    "**Observations:**\n",
    "- Loan Amount does not have outliers\n",
    "- Downpayment and EMI Affordable has outliers"
   ]
  },
  {
   "cell_type": "markdown",
   "metadata": {},
   "source": [
    "## Q2 - d\n",
    "\n",
    "Continuous variables are the following:\n",
    "- Monthly Salary\n",
    "- Loan Amount Requested\n",
    "- Down Payment \n",
    "- EMI Affordable "
   ]
  },
  {
   "cell_type": "code",
   "execution_count": 31,
   "metadata": {},
   "outputs": [
    {
     "name": "stdout",
     "output_type": "stream",
     "text": [
      "Column Monthly Salary has skew : 7.950902138083359\n",
      "Column Monthly Salary has Kurtosis : 131.39408769367247\n",
      "Column Loan Amount Requested has skew : 0.0073934349150113765\n",
      "Column Loan Amount Requested has Kurtosis : -1.018197531983543\n",
      "Column Down Payment  has skew : 13.041420458301284\n",
      "Column Down Payment  has Kurtosis : 257.61353462521816\n",
      "Column EMI Affordable  has skew : 25.533691859591546\n",
      "Column EMI Affordable  has Kurtosis : 760.4961457368507\n"
     ]
    }
   ],
   "source": [
    "colLst = ['Monthly Salary', 'Loan Amount Requested', 'Down Payment ', 'EMI Affordable ']\n",
    "\n",
    "for col in colLst:\n",
    "    print(\"Column {} has skew : {}\".format(col, sp.stats.skew(data[col])))\n",
    "    print(\"Column {} has Kurtosis : {}\".format(col, sp.stats.kurtosis(data[col])))"
   ]
  },
  {
   "cell_type": "markdown",
   "metadata": {},
   "source": [
    "Hence in descending order of Skewness and Kurtosis the columns can be arranged in following order:\n",
    "    - EMI Affordable - has highest skew\n",
    "    - Down Payment - Number 2 in skewness\n",
    "    - Monthly Salary = Number 3 in skewness\n",
    "    - Loan Amount Requested has no skewness"
   ]
  },
  {
   "cell_type": "markdown",
   "metadata": {},
   "source": [
    "# Q3\n",
    "\n",
    "\n",
    "## Q3 - a\n",
    "\n",
    "Z stat is computed by following equation:\n",
    "\n",
    "\\begin{equation*} z = (x - \\mu)/ \\sigma \\end{equation*}"
   ]
  },
  {
   "cell_type": "code",
   "execution_count": 32,
   "metadata": {},
   "outputs": [
    {
     "name": "stdout",
     "output_type": "stream",
     "text": [
      "Z Statistic for mean: 68, variance: 14, x: 90, Z-Stat: 1.5714285714285714\n",
      "Corresponding CDF: 0.9419584331306725\n",
      "Proportion of orders delivered after 90 mins = 1 - CDF(90): 5.8 %\n"
     ]
    }
   ],
   "source": [
    "mu = 68\n",
    "sigma = 14\n",
    "x = 90\n",
    "\n",
    "z = (x - mu) / sigma\n",
    "p90 = sp.stats.norm.cdf(z, 0, 1)\n",
    "\n",
    "print(\"Z Statistic for mean: {}, variance: {}, x: {}, Z-Stat: {}\".format(mu, sigma, x, z))\n",
    "print(\"Corresponding CDF: {}\".format(p90))\n",
    "\n",
    "print(\"Proportion of orders delivered after 90 mins = 1 - CDF(90): {} %\".format(round((1-p90)* 100, 2)))"
   ]
  },
  {
   "cell_type": "markdown",
   "metadata": {},
   "source": [
    "## Q3 - b  \n",
    "\n",
    "For 99% order fulfillment within 90 mins, Target Mean is given by equation:\n",
    "\n",
    "\\begin{equation*} \\mu = 90 - Z_c * \\sigma \\end{equation*}"
   ]
  },
  {
   "cell_type": "code",
   "execution_count": 33,
   "metadata": {},
   "outputs": [
    {
     "name": "stdout",
     "output_type": "stream",
     "text": [
      "Critical Zc: 2.3263478740408408\n",
      "Mean Delivery Time :57.43112976342823\n"
     ]
    }
   ],
   "source": [
    "z = sp.stats.norm.ppf(.99, 0, 1)\n",
    "print(\"Critical Zc: {}\".format(z))\n",
    "mu = 90 - z * sigma\n",
    "print(\"Mean Delivery Time :{}\".format(mu))"
   ]
  },
  {
   "cell_type": "markdown",
   "metadata": {},
   "source": [
    "## Q3 - c\n",
    "\n",
    "To meet 99% orders and to maintain same mean and variance the committed time should be calculated as following:\n",
    "\n",
    "\\begin{equation*} x = \\mu + Z_c * \\sigma \\end{equation*}"
   ]
  },
  {
   "cell_type": "code",
   "execution_count": 34,
   "metadata": {},
   "outputs": [
    {
     "name": "stdout",
     "output_type": "stream",
     "text": [
      "For Mean 68, variance 14, committed time is 100.56887023657177\n"
     ]
    }
   ],
   "source": [
    "mu = 68\n",
    "x = z * sigma + mu\n",
    "print(\"For Mean {}, variance {}, committed time is {}\".format(mu, sigma, x))"
   ]
  },
  {
   "cell_type": "markdown",
   "metadata": {},
   "source": [
    "# Q4\n",
    "\n",
    "\n",
    "## Q4 - a\n",
    "\n",
    "For exponential distribution:\n",
    "\n",
    "\\begin{equation*} Mean = {\\frac {1} {\\lambda}} \\end{equation*}\n",
    "\n",
    "\\begin{equation*} \\lambda = {Rate  of decay} \\end{equation*}\n",
    "\n",
    "Probability of Missing Flight :: P(X >= 25) = 1 - P(X <= 25)"
   ]
  },
  {
   "cell_type": "code",
   "execution_count": 35,
   "metadata": {},
   "outputs": [
    {
     "name": "stdout",
     "output_type": "stream",
     "text": [
      "lambda : 0.05\n",
      "Time Left for Security check for Ms. TKW is 25 mins\n",
      "Probability of missing flight: 0.287\n"
     ]
    }
   ],
   "source": [
    "lmbda = 1.0/20\n",
    "time_left = 40 - 15\n",
    "print(\"lambda : {}\".format(lmbda))\n",
    "print(\"Time Left for Security check for Ms. TKW is {} mins\".format(time_left))\n",
    "p25 = sp.stats.expon.cdf(time_left, scale = 1 / lmbda)\n",
    "print(\"Probability of missing flight: {}\".format(round((1 - p25), 3)))"
   ]
  },
  {
   "cell_type": "markdown",
   "metadata": {},
   "source": [
    "## Q4 - b\n",
    "\n",
    "Probability of Waiting for more than 40 min :: P(X >= 40) = 1 - P(X <= 40)"
   ]
  },
  {
   "cell_type": "code",
   "execution_count": 36,
   "metadata": {},
   "outputs": [
    {
     "name": "stdout",
     "output_type": "stream",
     "text": [
      "Probability of Ms. TKW waiting for 40 mins at security check: 0.135\n"
     ]
    }
   ],
   "source": [
    "time_left = 40\n",
    "p40 = sp.stats.expon.cdf(40, scale = 1 / lmbda)\n",
    "print(\"Probability of Ms. TKW waiting for {} mins at security check: {}\".format(40, round((1 - p40), 3)))"
   ]
  },
  {
   "cell_type": "markdown",
   "metadata": {},
   "source": [
    "## Q4 - c"
   ]
  },
  {
   "cell_type": "markdown",
   "metadata": {},
   "source": [
    "Exponential Distributions are memory less. \n",
    "\n",
    "\\begin{equation*} P(X \\ge 20 + 20 \\vert X \\ge 20) = P(X \\ge 20) = \\exp^{{-\\lambda} * {20}}\\end{equation*}\n",
    "\n",
    "\\begin{equation*} \\lambda = {Rate  of decay} \\end{equation*}"
   ]
  },
  {
   "cell_type": "code",
   "execution_count": 37,
   "metadata": {},
   "outputs": [
    {
     "name": "stdout",
     "output_type": "stream",
     "text": [
      "Probability that she would wait for another 20 mins : 0.368\n"
     ]
    }
   ],
   "source": [
    "PXgt20 = np.exp(-1*lmbda * 20)\n",
    "print(\"Probability that she would wait for another 20 mins : {}\".format(round(PXgt20, 3)))"
   ]
  },
  {
   "cell_type": "markdown",
   "metadata": {},
   "source": [
    "## Q4 - d"
   ]
  },
  {
   "cell_type": "markdown",
   "metadata": {},
   "source": [
    "Equation to find t is given as follows:\n",
    "\n",
    "\n",
    "\\begin{equation*} t = -1 * \\frac{1}{\\lambda} * \\ln (0.01)\\end{equation*}"
   ]
  },
  {
   "cell_type": "code",
   "execution_count": 38,
   "metadata": {},
   "outputs": [
    {
     "name": "stdout",
     "output_type": "stream",
     "text": [
      "To ensure she catches flight 99% of times she should reach airport 1.54 hours / 92.1 mins before departure\n"
     ]
    }
   ],
   "source": [
    "t = -1 * (1/lmbda) * np.log(0.01)\n",
    "print(\"To ensure she catches flight 99% of times she should reach airport {} hours / {} mins before departure\".format(round(t/60,2), round(t,2)))"
   ]
  },
  {
   "cell_type": "markdown",
   "metadata": {},
   "source": [
    "# Q5\n",
    "\n",
    "## Q5 - 1  \n",
    "\n",
    "We will use T-test for this hypothesis test as the population standard deviation is unknown.\n",
    "\n",
    "T-statistic equation:\n",
    "\n",
    "\\begin{equation*} T = {\\frac{\\bar x - \\mu} {S / \\sqrt n}} \\end{equation*}\n",
    "\n",
    "where S = Sample Sample SD\n"
   ]
  },
  {
   "cell_type": "code",
   "execution_count": 39,
   "metadata": {},
   "outputs": [
    {
     "name": "stdout",
     "output_type": "stream",
     "text": [
      "We assume that the correct data is in column D6\n",
      "Mean of accessing D6 info:40.863046476139324\n",
      "Sigma of accessing D6 info:19.21537805197856\n",
      "Number of observations of accessing D6 info:20\n",
      "Since the population standard deviation is not known, we will compute same from data.\n",
      "\n",
      "We will use T-Test for the hypothesis\n",
      "Null hypothesis: ho = Mean of accessing D6 <= 30\n",
      "Alternate hypothesis: ha = Mean of accessing D6 > 30\n",
      "This is a Right sided T-Test\n",
      "Value of T-statistics: 2.5282365298960063\n",
      "alpha/ Significance: 0.05\n",
      "Significant t-value at alpha - 0.05 is : 1.7291328115213678 @ df 19\n",
      "p-value:0.010240954188212248 is less than alpha(0.05)\n",
      "Hence we can reject the NULL Hypothesis (ho)\n"
     ]
    }
   ],
   "source": [
    "data = pd.read_excel(\"./Jayalaxmi Agro Case Data .xlsx\", sheet_name=\"App Usage Data\")\n",
    "\n",
    "d6 = data[data.Year >= '2015-10-01 00:00:00']\n",
    "print(\"We assume that the correct data is in column D6\")\n",
    "#sns.distplot(d6.D6, bins= 5)\n",
    "\n",
    "mu = 30\n",
    "xbar = d6.D6.mean()\n",
    "S = d6.D6.std()\n",
    "n = d6.shape[0]\n",
    "\n",
    "print(\"Mean of accessing D6 info:{}\".format(xbar))\n",
    "print(\"Sigma of accessing D6 info:{}\".format(S))\n",
    "print(\"Number of observations of accessing D6 info:{}\".format(n))\n",
    "\n",
    "\n",
    "print(\"\"\"Since the population standard deviation is not known, we will compute same from data.\\n\n",
    "We will use T-Test for the hypothesis\"\"\")\n",
    "\n",
    "ho = \"ho = Mean of accessing D6 <= 30\"\n",
    "ha = \"ha = Mean of accessing D6 > 30\"\n",
    "\n",
    "print(\"Null hypothesis: {}\".format(ho))\n",
    "print(\"Alternate hypothesis: {}\".format(ha))\n",
    "print(\"This is a Right sided T-Test\")\n",
    "\n",
    "tstat = (xbar - mu) / (S / n ** 0.5)\n",
    "\n",
    "print(\"Value of T-statistics: {}\".format(tstat))\n",
    "\n",
    "alpha = 0.05\n",
    "print(\"alpha/ Significance: {}\".format(alpha))\n",
    "print(\"Significant t-value at alpha - {} is : {} @ df {}\".format(alpha, -1* sp.stats.t.ppf(alpha, df = n-1), n-1))\n",
    "print(\"p-value:{} is less than alpha({})\".format(1 - sp.stats.t.cdf(tstat, df = n-1), alpha))\n",
    "print(\"Hence we can reject the NULL Hypothesis (ho)\")"
   ]
  },
  {
   "cell_type": "markdown",
   "metadata": {},
   "source": [
    "The claim disease 6 (leaf curl) was accessed at least 30 times every month on average since October 2015 is statistically significant.\n",
    "\n",
    "\n",
    "\n",
    "## Q5 - 2 \n",
    "\n",
    "We will use Z-test for this hypothesis test for proportions. \n",
    "\n",
    "Z-statistic equation:\n",
    "\n",
    "\\begin{equation*} Z = {\\frac{\\hat p - p} {\\sqrt \\frac{p * (1 - p)}{n}}} \\end{equation*}\n",
    "\n",
    "where \n",
    "\n",
    "\\begin{equation*} \\hat p = Estimated Sample proportion \\end{equation*}\n",
    "\n",
    "p = Expected Proportion\n",
    "\n",
    "The above is valid for large n (sample size) and if \n",
    "\\begin{equation*} n * p * (1-p) >= 10 \\end{equation*}\n"
   ]
  },
  {
   "cell_type": "code",
   "execution_count": 40,
   "metadata": {},
   "outputs": [
    {
     "name": "stdout",
     "output_type": "stream",
     "text": [
      "d6 users 856.806242628309\n",
      "total Disease application users (Sum of D1..D11): 5713.156874519798\n",
      "proportion of d6 users 0.14997071871938142\n",
      "n = 24\n",
      "n * p * (1- p)= 3.0595080539081665\n",
      "n * p * (1 - p) is less than 10, hence the power of the Z test for proportions may not be correct. \n",
      "\n",
      "Proceeding to calculate the metrics even though the assumptions are incorrect.\n",
      "Standard Error: 0.07288103955710223\n",
      "Z-Stat 0.00040176815254719557\n",
      "Null hypothesis: Proportion of D6 users <= 15%\n",
      "Alternate hypothesis: Proportion of D6 users > 15%\n",
      "This is a Right sided T-Test\n",
      "alpha/ Significance: 0.05\n",
      "Significant Z-value at alpha - 0.05 is : 1.6448536269514729\n",
      "p-value:0.49983971770134217 is greater than alpha(0.05)\n",
      "Hence we can retain the NULL Hypothesis (ho) but as the assumptions are not valid, the test results may not be valid\n"
     ]
    }
   ],
   "source": [
    "d6users = data.D6.sum()\n",
    "totusers = data.D1.sum() + data.D2.sum() + data.D3.sum() + data.D4.sum() + data.D5.sum() + data.D6.sum() + data.D7.sum() + data.D8.sum() + data.D1.sum() + data.D10.sum() + data.D11.sum() \n",
    "\n",
    "print(\"d6 users {}\".format(d6users))\n",
    "print(\"total Disease application users (Sum of D1..D11): {}\".format(totusers))\n",
    "p = d6users / totusers\n",
    "print(\"proportion of d6 users {}\".format(p))\n",
    "n = data.shape[0]\n",
    "print(\"n = {}\".format(n))\n",
    "print(\"n * p * (1- p)= {}\".format(n * p * (1-p)))\n",
    "#print(\"n * q =() {}\".format(n * (1 - p)))\n",
    "\n",
    "print(\"n * p * (1 - p) is less than 10, hence the power of the Z test for proportions may not be correct. \")\n",
    "\n",
    "\n",
    "print(\"\\nProceeding to calculate the metrics even though the assumptions are incorrect.\")\n",
    "\n",
    "phat = .15\n",
    "\n",
    "S = (p * (1 - p) / n) ** 0.5\n",
    "print(\"Standard Error: {}\".format(S))\n",
    "\n",
    "zstat = (phat - p) / S\n",
    "print(\"Z-Stat {}\".format(zstat))\n",
    "\n",
    "ho = \"Proportion of D6 users <= 15%\"\n",
    "ha = \"Proportion of D6 users > 15%\"\n",
    "\n",
    "print(\"Null hypothesis: {}\".format(ho))\n",
    "print(\"Alternate hypothesis: {}\".format(ha))\n",
    "print(\"This is a Right sided T-Test\")\n",
    "\n",
    "print(\"alpha/ Significance: {}\".format(alpha))\n",
    "print(\"Significant Z-value at alpha - {} is : {}\".format(alpha, -1* sp.stats.norm.ppf(alpha)))\n",
    "print(\"p-value:{} is greater than alpha({})\".format(1 - sp.stats.norm.cdf(zstat), alpha))\n",
    "print(\"Hence we can retain the NULL Hypothesis (ho) but as the assumptions are not valid, the test results may not be valid\")\n"
   ]
  },
  {
   "cell_type": "markdown",
   "metadata": {},
   "source": [
    "## Q5 - 3\n",
    "\n",
    "We will use 2 sample T-test (with unknown SD and unequal SD) for this hypothesis test. \n",
    "\n",
    "T-statistic equation:\n",
    "\n",
    "\\begin{equation*} T = \\frac{(\\bar x_1 - \\bar x_2) - (\\mu _1 - \\mu _2)} {\\sqrt {\\frac {S_1}{n_1} + \\frac {S_2} {n_2}}} \\end{equation*}\n",
    "\n",
    "DF equation :\n",
    "\n",
    "\\begin{equation*} df = \\left \\lfloor{\\frac{S_u ^ 4} {\\frac{( \\frac{S_1 ^ 2}{n_1} )^2}{n_1 - 1} + {\\frac{( \\frac{S_2 ^ 2}{n_2} )^2}{n_2 - 1}}}} \\right \\rfloor\\end{equation*}\n",
    "\n",
    "SD (Su):\n",
    "\n",
    "\\begin{equation*} S_u = \\sqrt{\\frac{S_1 ^ 2}{n_1} + \\frac{S_2 ^ 2}{n_2}}  \\end{equation*}\n",
    "\n",
    "S1, S2 are the Sample SD, n1, n2 are the sample lengths"
   ]
  },
  {
   "cell_type": "code",
   "execution_count": 41,
   "metadata": {},
   "outputs": [
    {
     "name": "stdout",
     "output_type": "stream",
     "text": [
      "Total Usage data for Time >= June 2015 & Time < Jul-2016 :: len (n2) = 13, mean (x1) = 198.53846153846155, se (S1) = 73.04977228417094\n",
      "Total Usage data for Time >= Jul-2016 :: len (n2) = 11, mean (x2) = 409.3636363636364, se (S2) = 219.79775828123124\n",
      "This is 2 Sample T test, with unknown population SD and the SD of the two are unequal\n",
      "SE 69.29932393687176\n",
      "DF 11\n",
      "T-stat 3.0422399938161893\n",
      "Null hypothesis: Null Hypothesis: ho = x2 - x1 <= 0\n",
      "Alternate hypothesis: Alternate hypothesis ha = x2 - x1 > 0\n",
      "This is a right sided T-Test\n",
      "alpha/ Significance: 0.05\n",
      "Significant t-value at alpha - 0.05 is : 1.7958848187036696\n",
      "p-value:0.005600843093913066 is less than alpha(0.05 for t-stat 3.0422399938161893)\n",
      "Hence we can reject the NULL Hypothesis (ho)\n",
      "We have proven statistically that number of users have increased over the years\n"
     ]
    }
   ],
   "source": [
    "jun15jun16 = data.loc[(data.Year >= \"2015-06-01 00:00:00\") & (data.Year <= \"2016-06-01 00:00:00\"), \n",
    "                      \"Number of users\"]\n",
    "n1 = jun15jun16.shape[0]\n",
    "x1 = jun15jun16.mean()\n",
    "S1 = jun15jun16.std()\n",
    "\n",
    "print(\"Total Usage data for Time >= June 2015 & Time < Jul-2016 :: len (n2) = {}, mean (x1) = {}, se (S1) = {}\".format(n1, x1, S1))\n",
    "\n",
    "jun16may17 = data.loc[(data.Year > \"2016-06-01 00:00:00\"), \"Number of users\"]#Number of users\n",
    "n2 = jun16may17.shape[0]\n",
    "x2 = jun16may17.mean()\n",
    "S2 = jun16may17.std()\n",
    "print(\"Total Usage data for Time >= Jul-2016 :: len (n2) = {}, mean (x2) = {}, se (S2) = {}\".format(n2, x2, S2))\n",
    "\n",
    "#print(x1)\n",
    "#print(x2)\n",
    "#print(S1)\n",
    "#print(S2)\n",
    "\n",
    "print(\"This is 2 Sample T test, with unknown population SD and the SD of the two are unequal\")\n",
    "Su = ((S1 ** 2) / n1 + (S2 ** 2) / n2) ** 0.5\n",
    "print(\"SE {}\".format(Su))\n",
    "\n",
    "df = np.math.floor(Su ** 4 / ((((S1 ** 2) / n1) ** 2) / (n1 -1) + (((S2 ** 2) / n2) ** 2) / (n2 -1)))\n",
    "print(\"DF {}\".format(df))\n",
    "\n",
    "tstat = ((x2 - x1) - 0) /(Su)\n",
    "print(\"T-stat {}\".format(tstat))\n",
    "\n",
    "ho = \"Null Hypothesis: ho = x2 - x1 <= 0\"\n",
    "ha = \"Alternate hypothesis ha = x2 - x1 > 0\"\n",
    "\n",
    "print(\"Null hypothesis: {}\".format(ho))\n",
    "print(\"Alternate hypothesis: {}\".format(ha))\n",
    "print(\"This is a right sided T-Test\")\n",
    "\n",
    "print(\"alpha/ Significance: {}\".format(alpha))\n",
    "print(\"Significant t-value at alpha - {} is : {}\".format(alpha , -1* sp.stats.t.ppf(alpha, df = df)))\n",
    "print(\"p-value:{} is less than alpha({} for t-stat {})\".format(1 - sp.stats.t.cdf(tstat, df = df), alpha, tstat))\n",
    "print(\"Hence we can reject the NULL Hypothesis (ho)\")\n",
    "print(\"We have proven statistically that number of users have increased over the years\")\n"
   ]
  },
  {
   "cell_type": "markdown",
   "metadata": {},
   "source": [
    "## Q5 - 4"
   ]
  },
  {
   "cell_type": "code",
   "execution_count": 42,
   "metadata": {},
   "outputs": [
    {
     "data": {
      "image/png": "[encoded data removed]",
      "text/plain": [
       "<Figure size 432x288 with 1 Axes>"
      ]
     },
     "metadata": {},
     "output_type": "display_data"
    },
    {
     "data": {
      "image/png": "[encoded data removed]",
      "text/plain": [
       "<Figure size 432x288 with 1 Axes>"
      ]
     },
     "metadata": {},
     "output_type": "display_data"
    }
   ],
   "source": [
    "tblmean = data[[\"D1\", \"D2\", \"D3\", \"D4\", \"D5\", \"D6\", \"D7\", \"D8\", \"D9\", \"D10\", \"D11\"]].mean()\n",
    "tblstd = data[[\"D1\", \"D2\", \"D3\", \"D4\", \"D5\", \"D6\", \"D7\", \"D8\", \"D9\", \"D10\", \"D11\"]].std()\n",
    "usgdata = data[[\"D1\", \"D2\", \"D3\", \"D4\", \"D5\", \"D6\", \"D7\", \"D8\", \"D9\", \"D10\", \"D11\"]]\n",
    "#print(tblmean)\n",
    "#print(tblstd)\n",
    "\n",
    "#print(usgdata.melt())\n",
    "\n",
    "\n",
    "sns.distplot(usgdata.melt().value)\n",
    "import matplotlib.mlab as mlab\n",
    "import math\n",
    "import statsmodels.api as sm\n",
    "\n",
    "mu = np.mean(usgdata.melt().value)\n",
    "sigma = np.std(usgdata.melt().value)\n",
    "x = np.linspace(mu - 3*sigma, mu + 3*sigma, 100)\n",
    "plt.plot(x,mlab.normpdf(x, mu, sigma))\n",
    "pp_x = sm.ProbPlot(usgdata.melt().value, fit=True)\n",
    "pp_x.ppplot(line='45')\n",
    "\n",
    "plt.show()"
   ]
  },
  {
   "cell_type": "code",
   "execution_count": 43,
   "metadata": {},
   "outputs": [
    {
     "name": "stdout",
     "output_type": "stream",
     "text": [
      "Its close to normal distribution, with close SD.\n",
      "Performing Anova\n",
      "NULL Hypothesis: ho = means of groups are same\n",
      "Alternate Hypothesis: ha = means of groups are not same\n",
      "F-Statistic: 4.287407508171504\n",
      "Critical F 1.8682470831185125, for DFBetween 10 and DFWithin 253\n",
      "P-Value: 1.54e-05 is less that 0.05\n",
      "We reject the NUll Hypothesis\n"
     ]
    }
   ],
   "source": [
    "print(\"Its close to normal distribution, with close SD.\")\n",
    "print(\"Performing Anova\")\n",
    "ho = \"ho = means of groups are same\"\n",
    "ha = \"ha = means of groups are not same\"\n",
    "print(\"NULL Hypothesis: {}\".format(ho))\n",
    "print(\"Alternate Hypothesis: {}\".format(ha))\n",
    "\n",
    "# Anova by hand\n",
    "\n",
    "data2 = usgdata.melt()\n",
    "k = len(np.unique(data2.variable))\n",
    "N = data2.shape[0]\n",
    "n = data2.groupby('variable').size()[0]\n",
    "#print(k)\n",
    "DFbetween = k - 1\n",
    "DFwithin = N - k\n",
    "DFtotal = N - 1\n",
    "SSbetween = (sum(data2.groupby('variable').sum()['value']**2)/n) \\\n",
    "    - (data2['value'].sum()**2)/N\n",
    "\n",
    "sum_y_squared = sum([value**2 for value in data2['value'].values])\n",
    "SSwithin = sum_y_squared - sum(data2.groupby('variable').sum()['value']**2)/n\n",
    "\n",
    "SStotal = sum_y_squared - (data2['value'].sum()**2)/N\n",
    "MSbetween = SSbetween/DFbetween\n",
    "\n",
    "MSwithin = SSwithin/DFwithin\n",
    "F = MSbetween/MSwithin\n",
    "print(\"F-Statistic: {}\".format(F))\n",
    "#print(sp.stats.f.cdf(F, DFbetween, DFwithin))\n",
    "print(\"Critical F {}, for DFBetween {} and DFWithin {}\".format(sp.stats.f.ppf(.95, DFbetween, DFwithin), DFbetween, DFwithin))\n",
    "\n",
    "#print(sp.stats.f_oneway(usgdata.D1, usgdata.D2, usgdata.D3, usgdata.D4, usgdata.D5, usgdata.D6, \n",
    "#                 usgdata.D7, usgdata.D8, usgdata.D9, usgdata.D10, usgdata.D11))\n",
    "\n",
    "print(\"P-Value: 1.54e-05 is less that 0.05\")\n",
    "print(\"We reject the NUll Hypothesis\")\n"
   ]
  },
  {
   "cell_type": "markdown",
   "metadata": {},
   "source": [
    "There is a statistically significant difference in the average number of times various diseases are accessed\n",
    "\n",
    "\n",
    "## Q5 - 5 \n",
    "\n",
    "We will use 2 sample T-test (with unknown SD and unequal SD) for this hypothesis test. \n",
    "\n",
    "T-statistic equation:\n",
    "\n",
    "\\begin{equation*} T = \\frac{(\\bar x_1 - \\bar x_2) - (\\mu _1 - \\mu _2)} {\\sqrt {\\frac {S_1}{n_1} + \\frac {S_2} {n_2}}} \\end{equation*}\n",
    "\n",
    "DF equation :\n",
    "\n",
    "\\begin{equation*} df = \\left \\lfloor{\\frac{S_u ^ 4} {\\frac{( \\frac{S_1 ^ 2}{n_1} )^2}{n_1 - 1} + {\\frac{( \\frac{S_2 ^ 2}{n_2} )^2}{n_2 - 1}}}} \\right \\rfloor\\end{equation*}\n",
    "\n",
    "SD (Su):\n",
    "\n",
    "\\begin{equation*} S_u = \\sqrt{\\frac{S_1 ^ 2}{n_1} + \\frac{S_2 ^ 2}{n_2}}  \\end{equation*}\n",
    "\n",
    "S1, S2 are the Sample SD, n1, n2 are the sample lengths"
   ]
  },
  {
   "cell_type": "code",
   "execution_count": 44,
   "metadata": {},
   "outputs": [
    {
     "name": "stdout",
     "output_type": "stream",
     "text": [
      "Usage data for Time >= June 2015 & Time < Jul-2016 :: len (n2) = 13, mean (x1) = 152.15384615384616, se (S1) = 98.2766894655477\n",
      "Usage data for Time >= Jul-2016 :: len (n2) = 11, mean (x2) = 296.6363636363636, se (S2) = 99.8982209323797\n",
      "This is 2 Sample T test, with unknown population SD and the SD of the two are unequal\n",
      "Null hypothesis: The usage means x2 - x1 <= 0\n",
      "Alternate hypothesis: x2 - x1 > 0\n",
      "This is a right sided T-Test\n",
      "SE Adjusted: 40.62250691274703\n",
      "DF: 21\n",
      "T-stat 3.556711007345043\n",
      "alpha/ Significance: 0.05\n",
      "Significant t-value at alpha - 0.05 is : 1.7207429028118777\n",
      "p-value:0.0009325540627762585 is less than alpha(0.05)\n",
      "Hence we can reject the NULL Hypothesis (ho)\n",
      "\n",
      "\n",
      "In Q5 - 3, we have already proven statistically that number of total users have increased over the years\n",
      "Above we have already proven statistically that number of app users have increased over the years\n",
      "\n",
      "Correlation Analysis:\n",
      "Since both are Quantitative variables we will use Pearson Coefficient.\n",
      "Correlation : 0.3503700784608535\n",
      "Correlation is positive and non-zero\n",
      "\n",
      "\n",
      "We will perform hypothesis test for Significance of correlation.\n",
      "Null Hypothesis: ho : rho == 0\n",
      "Alternate Hypothesis: ha : rho != 0\n",
      "This is a two sided T-test\n",
      "T-stat 1.7546032832085956\n",
      "T-critical 2.073873067904015 at alpha 0.05\n",
      "T-stat < T-critical for Two sided T-test, hence we retain Null hypothesis (ho), the correlation between App users and total users is not statistically significant.\n"
     ]
    }
   ],
   "source": [
    "jun15jun16 = data.loc[(data.Year >= \"2015-06-01 00:00:00\") & (data.Year <= \"2016-06-01 00:00:00\"), \n",
    "                      \"Usage\"]\n",
    "n1 = jun15jun16.shape[0]\n",
    "x1 = jun15jun16.mean()\n",
    "S1 = jun15jun16.std()\n",
    "print(\"Usage data for Time >= June 2015 & Time < Jul-2016 :: len (n2) = {}, mean (x1) = {}, se (S1) = {}\".format(n1, x1, S1))\n",
    "\n",
    "jun16may17 = data.loc[(data.Year > \"2016-06-01 00:00:00\"), \"Usage\"]#Number of users\n",
    "n2 = jun16may17.shape[0]\n",
    "x2 = jun16may17.mean()\n",
    "S2 = jun16may17.std()\n",
    "\n",
    "print(\"Usage data for Time >= Jul-2016 :: len (n2) = {}, mean (x2) = {}, se (S2) = {}\".format(n2, x2, S2))\n",
    "\n",
    "print(\"This is 2 Sample T test, with unknown population SD and the SD of the two are unequal\")\n",
    "ho = \"The usage means x2 - x1 <= 0\"\n",
    "ha = \"x2 - x1 > 0\"\n",
    "\n",
    "print(\"Null hypothesis: {}\".format(ho))\n",
    "print(\"Alternate hypothesis: {}\".format(ha))\n",
    "print(\"This is a right sided T-Test\")\n",
    "\n",
    "\n",
    "Su = ((S1 ** 2) / n1 + (S2 ** 2) / n2) ** 0.5\n",
    "print(\"SE Adjusted: {}\".format(Su))\n",
    "\n",
    "df = np.math.floor(Su ** 4 / ((((S1 ** 2) / n1) ** 2) / (n1 -1) + (((S2 ** 2) / n2) ** 2) / (n2 -1)))\n",
    "print(\"DF: {}\".format(df))\n",
    "\n",
    "tstat = ((x2 - x1) - 0) /(Su)\n",
    "print(\"T-stat {}\".format(tstat))\n",
    "\n",
    "\n",
    "print(\"alpha/ Significance: {}\".format(alpha))\n",
    "print(\"Significant t-value at alpha - {} is : {}\".format(alpha , -1* sp.stats.t.ppf(alpha, df = df)))\n",
    "print(\"p-value:{} is less than alpha({})\".format(1 - sp.stats.t.cdf(tstat, df = df), alpha))\n",
    "print(\"Hence we can reject the NULL Hypothesis (ho)\")\n",
    "print(\"\\n\")\n",
    "print(\"In Q5 - 3, we have already proven statistically that number of total users have increased over the years\")\n",
    "print(\"Above we have already proven statistically that number of app users have increased over the years\")\n",
    "\n",
    "print(\"\\nCorrelation Analysis:\")\n",
    "print(\"Since both are Quantitative variables we will use Pearson Coefficient.\")\n",
    "#print(data[[\"Usage\", \"Number of users\"]].corr())\n",
    "\n",
    "rho = np.sum((data.Usage.values - data.Usage.mean())*\n",
    "             (data[\"Number of users\"].values - data[\"Number of users\"].mean())) /(\n",
    "    (data.shape[0] - 1) * data[\"Number of users\"].std() * data.Usage.std())\n",
    "print(\"Correlation : {}\".format(rho))\n",
    "print(\"Correlation is positive and non-zero\")\n",
    "\n",
    "print('\\n\\nWe will perform hypothesis test for Significance of correlation.')\n",
    "ho =\"ho : rho == 0\"\n",
    "ha = \"ha : rho != 0\"\n",
    "print(\"Null Hypothesis: {}\".format(ho))\n",
    "print(\"Alternate Hypothesis: {}\".format(ha))\n",
    "print(\"This is a two sided T-test\")\n",
    "\n",
    "tstat = rho *((22)/(1 - rho **2))**0.5\n",
    "print(\"T-stat {}\".format(tstat))\n",
    "tcrit = -1* sp.stats.t.ppf(0.025, df = 22)\n",
    "print(\"T-critical {} at alpha 0.05\".format(tcrit))\n",
    "print(\"T-stat < T-critical for Two sided T-test, hence we retain Null hypothesis (ho), the correlation between App users and total users is not statistically significant.\")"
   ]
  },
  {
   "cell_type": "markdown",
   "metadata": {},
   "source": [
    "It has been proven that Total users and total appusers have increased over the two periods, but correlation between the two is not statisticaaly relevant.\n",
    "\n",
    "\n",
    "## Q5 - 6"
   ]
  },
  {
   "cell_type": "code",
   "execution_count": 45,
   "metadata": {},
   "outputs": [
    {
     "name": "stdout",
     "output_type": "stream",
     "text": [
      "From the graph it is clear that October - 2016 the app usage shifts\n"
     ]
    },
    {
     "data": {
      "image/png": "[encoded data removed]",
      "text/plain": [
       "<Figure size 720x360 with 1 Axes>"
      ]
     },
     "metadata": {},
     "output_type": "display_data"
    }
   ],
   "source": [
    "newAppRel = data.loc[(data.Year >= \"2016-08-01 00:00:00\"), [\"Year\",\"Usage\"]]\n",
    "newAppRel[\"Year\"] = newAppRel.Year.dt.strftime(\"%Y-%m\")\n",
    "plt.figure(figsize=(10,5))\n",
    "plt.plot(\"Year\", \"Usage\", data=newAppRel, marker='o')\n",
    "plt.tight_layout()\n",
    "print(\"From the graph it is clear that October - 2016 the app usage shifts\")"
   ]
  },
  {
   "cell_type": "markdown",
   "metadata": {},
   "source": [
    "## Q5 - 7\n",
    "\n",
    "We will perform T-test between means for users accessing for Disease information during favourable and unfavourable periods for the 5 Diseases provided (with weather data) for the 2 Regions. \n",
    "\n",
    "We will use 2 sample T-test (with unknown SD and unequal SD) for this hypothesis test. \n",
    "\n",
    "T-statistic equation:\n",
    "\n",
    "\\begin{equation*} T = \\frac{(\\bar x_1 - \\bar x_2) - (\\mu _1 - \\mu _2)} {\\sqrt {\\frac {S_1}{n_1} + \\frac {S_2} {n_2}}} \\end{equation*}\n",
    "\n",
    "DF equation :\n",
    "\n",
    "\\begin{equation*} df = \\left \\lfloor{\\frac{S_u ^ 4} {\\frac{( \\frac{S_1 ^ 2}{n_1} )^2}{n_1 - 1} + {\\frac{( \\frac{S_2 ^ 2}{n_2} )^2}{n_2 - 1}}}} \\right \\rfloor\\end{equation*}\n",
    "\n",
    "SD (Su):\n",
    "\n",
    "\\begin{equation*} S_u = \\sqrt{\\frac{S_1 ^ 2}{n_1} + \\frac{S_2 ^ 2}{n_2}}  \\end{equation*}\n",
    "\n",
    "S1, S2 are the Sample SD, n1, n2 are the sample lengths"
   ]
  },
  {
   "cell_type": "code",
   "execution_count": 46,
   "metadata": {},
   "outputs": [],
   "source": [
    "# Define Functions\n",
    "def prepareData(dharwad, source, ignoreT = False, \n",
    "                ignoreH = False, T2 = True, H2 = False, \n",
    "                lowerT = 20, higherT = 24, lowerH = 80, higherH = None):\n",
    "    print(\"Disease type: {}\".format(source))\n",
    "    dharwad['d1_weather'] = 0\n",
    "    if ((ignoreH == False) & (ignoreT == False) & (T2 == True) & (H2 == False)):\n",
    "        dharwad.loc[(dharwad[\"Temperature\"] >= lowerT) & (dharwad[\"Temperature\"] <= higherT) \n",
    "                    & (dharwad[\"Relative Humidity\"] > lowerH),\n",
    "                    'd1_weather'] = 1\n",
    "    elif ((ignoreH == False) & (ignoreT == False) & (T2 == False) & (H2 == False)):\n",
    "        dharwad.loc[(dharwad[\"Temperature\"] > lowerT) \n",
    "                    & (dharwad[\"Relative Humidity\"] > lowerH),\n",
    "                    'd1_weather'] = 1\n",
    "    elif ((ignoreH == True) & (ignoreT == False) & (T2 == True)):\n",
    "        dharwad.loc[(dharwad[\"Temperature\"] >= lowerT) \n",
    "                    & (dharwad[\"Temperature\"] <= higherT),\n",
    "                    'd1_weather'] = 1\n",
    "    elif ((ignoreH == False) & (ignoreT == False) & (T2 == True) & (H2 == True)):\n",
    "        dharwad.loc[(dharwad[\"Temperature\"] >= lowerT) \n",
    "                    & (dharwad[\"Temperature\"] <= higherT)\n",
    "                    & (dharwad[\"Relative Humidity\"] >= lowerH)\n",
    "                    & (dharwad[\"Relative Humidity\"] <= higherH),\n",
    "                    'd1_weather'] = 1\n",
    "\n",
    "\n",
    "    x1 = dharwad.loc[dharwad['d1_weather'] == 1, source].mean()\n",
    "    S1 = dharwad.loc[dharwad['d1_weather'] == 1, source].std()\n",
    "    n1 = dharwad.loc[dharwad['d1_weather'] == 1, source].shape[0]\n",
    "\n",
    "    #print(x1, S1, n1)\n",
    "\n",
    "    x2 = dharwad.loc[dharwad['d1_weather'] == 0, source].mean()\n",
    "    S2 = dharwad.loc[dharwad['d1_weather'] == 0, source].std()\n",
    "    n2 = dharwad.loc[dharwad['d1_weather'] == 0, source].shape[0]\n",
    "\n",
    "    #print(x2, S2, n2)\n",
    "    return(x1, S1, n1, x2, S2, n2)\n",
    "\n",
    "\n",
    "def pairwiseT_test(alpha, x1, S1, n1, x2, S2, n2):\n",
    "    print(\"This is 2 Sample T test, with unknown population SD and the SD of the two are unequal\")\n",
    "    Su = ((S1 ** 2) / n1 + (S2 ** 2) / n2) ** 0.5\n",
    "    #print(Su)\n",
    "\n",
    "    df = np.math.floor(Su ** 4 / ((((S1 ** 2) / n1) ** 2) / (n1 -1) + (((S2 ** 2) / n2) ** 2) / (n2 -1)))\n",
    "    #print(\"Degrees of freedom: {}\".format(df))\n",
    "    print(\"X1 (Mean of users checking Disease in fav condition) {}, SE {}, Len {}\".format(x1, S1, n1))\n",
    "    print(\"X2 (Mean of users checking Disease in un-fav condition) {}, SE {}, Len {}\".format(x2, S2, n2))\n",
    "\n",
    "    tstat = ((x1 - x2) - 0) /(Su)\n",
    "    #print(tstat)\n",
    "\n",
    "    ho = \"The means of diseases access: x1 - x2 <= 0\"\n",
    "    ha = \"x1 - x2 > 0\"\n",
    "\n",
    "    print(\"Null hypothesis: {}\".format(ho))\n",
    "    print(\"Alternate hypothesis: {}\".format(ha))\n",
    "    print(\"This is a right sided T-Test\")\n",
    "\n",
    "    #print(\"alpha/ Significance: {}\".format(alpha))\n",
    "    print(\"Significant t-value at alpha - {} and df: {} is : {}\".format(alpha, df , -1* sp.stats.t.ppf(alpha, df = df)))\n",
    "    tcrit = -1* sp.stats.t.ppf(alpha, df = df)\n",
    "\n",
    "\n",
    "    if(tstat <= tcrit):\n",
    "        print(\"T Statistics:{} is less than T Critical: {} at alpha({})\".format(tstat, tcrit, alpha))\n",
    "        print(\"Hence we can retain the NULL Hypothesis (ho)\")\n",
    "        print(\"\")\n",
    "    else:\n",
    "        print(\"T Statistics:{} is gt than T Critical: {} at alpha({})\".format(tstat, tcrit, alpha))\n",
    "        print(\"Hence we can reject the NULL Hypothesis (ho)\")\n",
    "        print(\"\")"
   ]
  },
  {
   "cell_type": "code",
   "execution_count": 47,
   "metadata": {},
   "outputs": [
    {
     "name": "stdout",
     "output_type": "stream",
     "text": [
      "Analysing for Dharwad\n",
      "Disease type: D1\n",
      "This is 2 Sample T test, with unknown population SD and the SD of the two are unequal\n",
      "X1 (Mean of users checking Disease in fav condition) 31.590651412079982, SE 19.50886987470224, Len 7\n",
      "X2 (Mean of users checking Disease in un-fav condition) 6.515126050420168, SE 6.330623182247867, Len 15\n",
      "Null hypothesis: The means of diseases access: x1 - x2 <= 0\n",
      "Alternate hypothesis: x1 - x2 > 0\n",
      "This is a right sided T-Test\n",
      "Significant t-value at alpha - 0.1 and df: 6 is : 1.4397557472577691\n",
      "T Statistics:3.3200927651509353 is gt than T Critical: 1.4397557472577691 at alpha(0.1)\n",
      "Hence we can reject the NULL Hypothesis (ho)\n",
      "\n",
      "Disease type: D2\n",
      "This is 2 Sample T test, with unknown population SD and the SD of the two are unequal\n",
      "X1 (Mean of users checking Disease in fav condition) 40.134920634920626, SE 33.565536651346264, Len 5\n",
      "X2 (Mean of users checking Disease in un-fav condition) 6.096486366382561, SE 7.463629544788599, Len 17\n",
      "Null hypothesis: The means of diseases access: x1 - x2 <= 0\n",
      "Alternate hypothesis: x1 - x2 > 0\n",
      "This is a right sided T-Test\n",
      "Significant t-value at alpha - 0.1 and df: 4 is : 1.5332062737131438\n",
      "T Statistics:2.251261246997875 is gt than T Critical: 1.5332062737131438 at alpha(0.1)\n",
      "Hence we can reject the NULL Hypothesis (ho)\n",
      "\n",
      "Disease type: D4\n",
      "This is 2 Sample T test, with unknown population SD and the SD of the two are unequal\n",
      "X1 (Mean of users checking Disease in fav condition) 39.166666666666664, SE 45.468242885679125, Len 3\n",
      "X2 (Mean of users checking Disease in un-fav condition) 12.108752272838958, SE 12.79395896519898, Len 19\n",
      "Null hypothesis: The means of diseases access: x1 - x2 <= 0\n",
      "Alternate hypothesis: x1 - x2 > 0\n",
      "This is a right sided T-Test\n",
      "Significant t-value at alpha - 0.1 and df: 2 is : 1.88561808316415\n",
      "T Statistics:1.0243513460539664 is less than T Critical: 1.88561808316415 at alpha(0.1)\n",
      "Hence we can retain the NULL Hypothesis (ho)\n",
      "\n",
      "Disease type: D3\n",
      "This is 2 Sample T test, with unknown population SD and the SD of the two are unequal\n",
      "X1 (Mean of users checking Disease in fav condition) 40.269712430426715, SE 51.14705832340868, Len 14\n",
      "X2 (Mean of users checking Disease in un-fav condition) 11.961659663865547, SE 16.825323356036495, Len 8\n",
      "Null hypothesis: The means of diseases access: x1 - x2 <= 0\n",
      "Alternate hypothesis: x1 - x2 > 0\n",
      "This is a right sided T-Test\n",
      "Significant t-value at alpha - 0.1 and df: 17 is : 1.3333793897216264\n",
      "T Statistics:1.8988640725750916 is gt than T Critical: 1.3333793897216264 at alpha(0.1)\n",
      "Hence we can reject the NULL Hypothesis (ho)\n",
      "\n",
      "Disease type: D5\n",
      "This is 2 Sample T test, with unknown population SD and the SD of the two are unequal\n",
      "X1 (Mean of users checking Disease in fav condition) 14.177489177489177, SE 14.069264069264067, Len 4\n",
      "X2 (Mean of users checking Disease in un-fav condition) 13.067252827056748, SE 19.183808487079045, Len 18\n",
      "Null hypothesis: The means of diseases access: x1 - x2 <= 0\n",
      "Alternate hypothesis: x1 - x2 > 0\n",
      "This is a right sided T-Test\n",
      "Significant t-value at alpha - 0.1 and df: 5 is : 1.475884048782027\n",
      "T Statistics:0.13276358065762542 is less than T Critical: 1.475884048782027 at alpha(0.1)\n",
      "Hence we can retain the NULL Hypothesis (ho)\n",
      "\n",
      "Disease type: D7\n",
      "This is 2 Sample T test, with unknown population SD and the SD of the two are unequal\n",
      "X1 (Mean of users checking Disease in fav condition) 35.0, SE 21.213203435596427, Len 2\n",
      "X2 (Mean of users checking Disease in un-fav condition) 19.908221925133688, SE 28.31825542990713, Len 20\n",
      "Null hypothesis: The means of diseases access: x1 - x2 <= 0\n",
      "Alternate hypothesis: x1 - x2 > 0\n",
      "This is a right sided T-Test\n",
      "Significant t-value at alpha - 0.1 and df: 1 is : 3.077683537207806\n",
      "T Statistics:0.9269123652944348 is less than T Critical: 3.077683537207806 at alpha(0.1)\n",
      "Hence we can retain the NULL Hypothesis (ho)\n",
      "\n"
     ]
    }
   ],
   "source": [
    "dharwad = pd.read_excel(\"./Jayalaxmi Agro Case Data .xlsx\", sheet_name=\"Dharwad_weather\")\n",
    "\n",
    "print(\"Analysing for Dharwad\")\n",
    "source = 'D1'\n",
    "ignoreT = False\n",
    "ignoreH = False\n",
    "T2 = True\n",
    "H2 = False\n",
    "lowerT = 20\n",
    "higherT = 24\n",
    "lowerH = 80\n",
    "higherH = None\n",
    "#dharwad.head()\n",
    "alpha = 0.1\n",
    "\n",
    "x1, S1, n1, x2, S2, n2 = prepareData(dharwad, source, ignoreT, \n",
    "                ignoreH, T2, H2, lowerT, higherT, lowerH, higherH)\n",
    "\n",
    "pairwiseT_test(alpha, x1, S1, n1, x2, S2, n2)\n",
    "\n",
    "source = 'D2'\n",
    "ignoreT = False\n",
    "ignoreH = False\n",
    "T2 = True\n",
    "H2 = False\n",
    "lowerT = 21.5\n",
    "higherT = 24.5\n",
    "lowerH = 83\n",
    "higherH = None\n",
    "#dharwad.head()\n",
    "alpha = 0.1\n",
    "x1, S1, n1, x2, S2, n2 = prepareData(dharwad, source, ignoreT, \n",
    "                ignoreH, T2, H2, lowerT, higherT, lowerH, higherH)\n",
    "\n",
    "pairwiseT_test(alpha, x1, S1, n1, x2, S2, n2)\n",
    "\n",
    "source = 'D4'\n",
    "ignoreT = False\n",
    "ignoreH = False\n",
    "T2 = True\n",
    "H2 = False\n",
    "lowerT = 22\n",
    "higherT = 26\n",
    "lowerH = 85\n",
    "higherH = None\n",
    "#dharwad.head()\n",
    "alpha = 0.1\n",
    "x1, S1, n1, x2, S2, n2 = prepareData(dharwad, source, ignoreT, \n",
    "                ignoreH, T2, H2, lowerT, higherT, lowerH, higherH)\n",
    "\n",
    "pairwiseT_test(alpha, x1, S1, n1, x2, S2, n2)\n",
    "\n",
    "\n",
    "source = 'D3'\n",
    "ignoreT = False\n",
    "ignoreH = True\n",
    "T2 = True\n",
    "H2 = False\n",
    "lowerT = 22\n",
    "higherT = 24\n",
    "lowerH = None\n",
    "higherH = None\n",
    "#dharwad.head()\n",
    "alpha = 0.1\n",
    "x1, S1, n1, x2, S2, n2 = prepareData(dharwad, source, ignoreT, \n",
    "                ignoreH, T2, H2, lowerT, higherT, lowerH, higherH)\n",
    "\n",
    "pairwiseT_test(alpha, x1, S1, n1, x2, S2, n2)\n",
    "\n",
    "\n",
    "source = 'D5'\n",
    "ignoreT = False\n",
    "ignoreH = False\n",
    "T2 = True\n",
    "H2 = True\n",
    "lowerT = 22\n",
    "higherT = 24.5\n",
    "lowerH = 77\n",
    "higherH = 85\n",
    "#dharwad.head()\n",
    "alpha = 0.1\n",
    "x1, S1, n1, x2, S2, n2 = prepareData(dharwad, source, ignoreT, \n",
    "                ignoreH, T2, H2, lowerT, higherT, lowerH, higherH)\n",
    "\n",
    "pairwiseT_test(alpha, x1, S1, n1, x2, S2, n2)\n",
    "\n",
    "\n",
    "source = 'D7'\n",
    "ignoreT = False\n",
    "ignoreH = False\n",
    "T2 = False\n",
    "H2 = False\n",
    "lowerT = 25\n",
    "higherT = None\n",
    "lowerH = 80\n",
    "higherH = None\n",
    "#dharwad.head()\n",
    "alpha = 0.1\n",
    "x1, S1, n1, x2, S2, n2 = prepareData(dharwad, source, ignoreT, \n",
    "                ignoreH, T2, H2, lowerT, higherT, lowerH, higherH)\n",
    "\n",
    "pairwiseT_test(alpha, x1, S1, n1, x2, S2, n2)\n"
   ]
  },
  {
   "cell_type": "markdown",
   "metadata": {},
   "source": [
    "**For Disease D1, D2, D3 for Dharwad, the claim that more people access the disease information during favourable periods hold true. For the rest of the Diseases it is not statistically significant**"
   ]
  },
  {
   "cell_type": "code",
   "execution_count": 48,
   "metadata": {},
   "outputs": [
    {
     "name": "stdout",
     "output_type": "stream",
     "text": [
      "Analysing for Belgavi\n",
      "Disease type: D1\n",
      "This is 2 Sample T test, with unknown population SD and the SD of the two are unequal\n",
      "X1 (Mean of users checking Disease in fav condition) 37.593051847437806, SE 32.135791146151945, Len 9\n",
      "X2 (Mean of users checking Disease in un-fav condition) 11.916694121951826, SE 13.214657338143653, Len 15\n",
      "Null hypothesis: The means of diseases access: x1 - x2 <= 0\n",
      "Alternate hypothesis: x1 - x2 > 0\n",
      "This is a right sided T-Test\n",
      "Significant t-value at alpha - 0.1 and df: 9 is : 1.3830287383964925\n",
      "T Statistics:2.2839245979002736 is gt than T Critical: 1.3830287383964925 at alpha(0.1)\n",
      "Hence we can reject the NULL Hypothesis (ho)\n",
      "\n",
      "Disease type: D2\n",
      "This is 2 Sample T test, with unknown population SD and the SD of the two are unequal\n",
      "X1 (Mean of users checking Disease in fav condition) 29.380223212460052, SE 14.257675698003663, Len 8\n",
      "X2 (Mean of users checking Disease in un-fav condition) 9.173547458456326, SE 11.634011544592797, Len 16\n",
      "Null hypothesis: The means of diseases access: x1 - x2 <= 0\n",
      "Alternate hypothesis: x1 - x2 > 0\n",
      "This is a right sided T-Test\n",
      "Significant t-value at alpha - 0.1 and df: 11 is : 1.3634303180205214\n",
      "T Statistics:3.4720833038193164 is gt than T Critical: 1.3634303180205214 at alpha(0.1)\n",
      "Hence we can reject the NULL Hypothesis (ho)\n",
      "\n",
      "Disease type: D4\n",
      "This is 2 Sample T test, with unknown population SD and the SD of the two are unequal\n",
      "X1 (Mean of users checking Disease in fav condition) 24.28983784246942, SE 17.12396482492092, Len 5\n",
      "X2 (Mean of users checking Disease in un-fav condition) 12.973835703960896, SE 11.293745993618758, Len 19\n",
      "Null hypothesis: The means of diseases access: x1 - x2 <= 0\n",
      "Alternate hypothesis: x1 - x2 > 0\n",
      "This is a right sided T-Test\n",
      "Significant t-value at alpha - 0.1 and df: 4 is : 1.5332062737131438\n",
      "T Statistics:1.3997159471060217 is less than T Critical: 1.5332062737131438 at alpha(0.1)\n",
      "Hence we can retain the NULL Hypothesis (ho)\n",
      "\n",
      "Disease type: D3\n",
      "This is 2 Sample T test, with unknown population SD and the SD of the two are unequal\n",
      "X1 (Mean of users checking Disease in fav condition) 30.957728757809885, SE 24.56035201007001, Len 13\n",
      "X2 (Mean of users checking Disease in un-fav condition) 11.61232644458533, SE 16.414430640928842, Len 11\n",
      "Null hypothesis: The means of diseases access: x1 - x2 <= 0\n",
      "Alternate hypothesis: x1 - x2 > 0\n",
      "This is a right sided T-Test\n",
      "Significant t-value at alpha - 0.1 and df: 20 is : 1.325340706985046\n",
      "T Statistics:2.297579720814241 is gt than T Critical: 1.325340706985046 at alpha(0.1)\n",
      "Hence we can reject the NULL Hypothesis (ho)\n",
      "\n",
      "Disease type: D5\n",
      "This is 2 Sample T test, with unknown population SD and the SD of the two are unequal\n",
      "X1 (Mean of users checking Disease in fav condition) 36.574074074074076, SE 18.326406324471435, Len 4\n",
      "X2 (Mean of users checking Disease in un-fav condition) 10.515473835553788, SE 11.909006454368914, Len 20\n",
      "Null hypothesis: The means of diseases access: x1 - x2 <= 0\n",
      "Alternate hypothesis: x1 - x2 > 0\n",
      "This is a right sided T-Test\n",
      "Significant t-value at alpha - 0.1 and df: 3 is : 1.6377443572159065\n",
      "T Statistics:2.7308507082037217 is gt than T Critical: 1.6377443572159065 at alpha(0.1)\n",
      "Hence we can reject the NULL Hypothesis (ho)\n",
      "\n",
      "Disease type: D7\n",
      "This is 2 Sample T test, with unknown population SD and the SD of the two are unequal\n",
      "X1 (Mean of users checking Disease in fav condition) 72.42328042328042, SE 15.394217855891272, Len 3\n",
      "X2 (Mean of users checking Disease in un-fav condition) 21.006418135849568, SE 25.02226505813728, Len 21\n",
      "Null hypothesis: The means of diseases access: x1 - x2 <= 0\n",
      "Alternate hypothesis: x1 - x2 > 0\n",
      "This is a right sided T-Test\n",
      "Significant t-value at alpha - 0.1 and df: 3 is : 1.6377443572159065\n",
      "T Statistics:4.929164561043593 is gt than T Critical: 1.6377443572159065 at alpha(0.1)\n",
      "Hence we can reject the NULL Hypothesis (ho)\n",
      "\n"
     ]
    }
   ],
   "source": [
    "dharwad = pd.read_excel(\"./Jayalaxmi Agro Case Data .xlsx\", sheet_name=\"Belagavi_weather\")\n",
    "\n",
    "print(\"Analysing for Belgavi\")\n",
    "source = 'D1'\n",
    "ignoreT = False\n",
    "ignoreH = False\n",
    "T2 = True\n",
    "H2 = False\n",
    "lowerT = 20\n",
    "higherT = 24\n",
    "lowerH = 80\n",
    "higherH = None\n",
    "#dharwad.head()\n",
    "alpha = 0.1\n",
    "\n",
    "x1, S1, n1, x2, S2, n2 = prepareData(dharwad, source, ignoreT, \n",
    "                ignoreH, T2, H2, lowerT, higherT, lowerH, higherH)\n",
    "\n",
    "pairwiseT_test(alpha, x1, S1, n1, x2, S2, n2)\n",
    "\n",
    "source = 'D2'\n",
    "ignoreT = False\n",
    "ignoreH = False\n",
    "T2 = True\n",
    "H2 = False\n",
    "lowerT = 21.5\n",
    "higherT = 24.5\n",
    "lowerH = 83\n",
    "higherH = None\n",
    "#dharwad.head()\n",
    "alpha = 0.1\n",
    "x1, S1, n1, x2, S2, n2 = prepareData(dharwad, source, ignoreT, \n",
    "                ignoreH, T2, H2, lowerT, higherT, lowerH, higherH)\n",
    "\n",
    "pairwiseT_test(alpha, x1, S1, n1, x2, S2, n2)\n",
    "\n",
    "source = 'D4'\n",
    "ignoreT = False\n",
    "ignoreH = False\n",
    "T2 = True\n",
    "H2 = False\n",
    "lowerT = 22\n",
    "higherT = 26\n",
    "lowerH = 85\n",
    "higherH = None\n",
    "#dharwad.head()\n",
    "alpha = 0.1\n",
    "x1, S1, n1, x2, S2, n2 = prepareData(dharwad, source, ignoreT, \n",
    "                ignoreH, T2, H2, lowerT, higherT, lowerH, higherH)\n",
    "\n",
    "pairwiseT_test(alpha, x1, S1, n1, x2, S2, n2)\n",
    "\n",
    "\n",
    "source = 'D3'\n",
    "ignoreT = False\n",
    "ignoreH = True\n",
    "T2 = True\n",
    "H2 = False\n",
    "lowerT = 22\n",
    "higherT = 24\n",
    "lowerH = None\n",
    "higherH = None\n",
    "#dharwad.head()\n",
    "alpha = 0.1\n",
    "x1, S1, n1, x2, S2, n2 = prepareData(dharwad, source, ignoreT, \n",
    "                ignoreH, T2, H2, lowerT, higherT, lowerH, higherH)\n",
    "\n",
    "pairwiseT_test(alpha, x1, S1, n1, x2, S2, n2)\n",
    "\n",
    "\n",
    "source = 'D5'\n",
    "ignoreT = False\n",
    "ignoreH = False\n",
    "T2 = True\n",
    "H2 = True\n",
    "lowerT = 22\n",
    "higherT = 24.5\n",
    "lowerH = 77\n",
    "higherH = 85\n",
    "#dharwad.head()\n",
    "alpha = 0.1\n",
    "x1, S1, n1, x2, S2, n2 = prepareData(dharwad, source, ignoreT, \n",
    "                ignoreH, T2, H2, lowerT, higherT, lowerH, higherH)\n",
    "\n",
    "pairwiseT_test(alpha, x1, S1, n1, x2, S2, n2)\n",
    "\n",
    "\n",
    "source = 'D7'\n",
    "ignoreT = False\n",
    "ignoreH = False\n",
    "T2 = False\n",
    "H2 = False\n",
    "lowerT = 25\n",
    "higherT = None\n",
    "lowerH = 80\n",
    "higherH = None\n",
    "#dharwad.head()\n",
    "alpha = 0.1\n",
    "x1, S1, n1, x2, S2, n2 = prepareData(dharwad, source, ignoreT, \n",
    "                ignoreH, T2, H2, lowerT, higherT, lowerH, higherH)\n",
    "\n",
    "pairwiseT_test(alpha, x1, S1, n1, x2, S2, n2)\n"
   ]
  },
  {
   "cell_type": "markdown",
   "metadata": {},
   "source": [
    "**For Disease D1, D2, D3, D5, D7 for Belgavi, the claim that more people access the disease information during favourable periods hold true. For the rest of the Diseases it is not statistically significant**"
   ]
  },
  {
   "cell_type": "markdown",
   "metadata": {},
   "source": [
    "## Q5 - 8"
   ]
  },
  {
   "cell_type": "markdown",
   "metadata": {},
   "source": [
    "**Conclusions:**\n",
    "\n",
    "- Farmers in Belgavi are more aware of Disease D5 and D7 and impact of weather on disease. They seem to be checking for disease in favourable weather conditions more than Dharwad Farmers\n",
    "- Farmers are not cheking for D4 Diseases. May be they need to be made more aware of D4, favourable weather conditions for D4\n"
   ]
  },
  {
   "cell_type": "markdown",
   "metadata": {},
   "source": [
    "# Q6\n",
    "\n",
    "## Q6 - 1"
   ]
  },
  {
   "cell_type": "code",
   "execution_count": 49,
   "metadata": {},
   "outputs": [
    {
     "name": "stdout",
     "output_type": "stream",
     "text": [
      "\n",
      "\"The data has Nominal Variable (e.g. Gender, Board_SSC, Board_HSC etc.) , \n",
      "Continuous variables (e.g. Marks_Projectwork, Marks_Communication) \n",
      "and Binary / indicator variables (e.g. Placement_B, Board_CBSE etc.)\"\n",
      "\n"
     ]
    }
   ],
   "source": [
    "deandata = pd.read_excel(\"./IMB 485 Deans Dilemma Data.xlsx\")\n",
    "#deandata.info()\n",
    "text = \"\"\"\n",
    "\"The data has Nominal Variable (e.g. Gender, Board_SSC, Board_HSC etc.) , \n",
    "Continuous variables (e.g. Marks_Projectwork, Marks_Communication) \n",
    "and Binary / indicator variables (e.g. Placement_B, Board_CBSE etc.)\"\n",
    "\"\"\"\n",
    "print(text)"
   ]
  },
  {
   "cell_type": "code",
   "execution_count": 50,
   "metadata": {},
   "outputs": [
    {
     "data": {
      "image/png": "[encoded data removed]",
      "text/plain": [
       "<Figure size 720x1440 with 4 Axes>"
      ]
     },
     "metadata": {},
     "output_type": "display_data"
    }
   ],
   "source": [
    "plt.figure(figsize = (10, 20))\n",
    "\n",
    "for i, source in enumerate(['Percent_SSC', 'Percent_MBA', \n",
    "                            'Marks_Communication','Marks_Projectwork']):\n",
    "    plt.subplot(6, 1, i + 1)\n",
    "    sns.boxplot(x = 'Placement', y=source, data= deandata)\n",
    "\n",
    "    # Label the plots\n",
    "    plt.title('Boxplot of %s' % source)\n",
    "    \n",
    "plt.tight_layout(h_pad = 2.5)"
   ]
  },
  {
   "cell_type": "markdown",
   "metadata": {},
   "source": [
    "** Observations **\n",
    "\n",
    "- SSC Median scores for students with placement is greater than students without placement\n",
    "- Students who perform better in project work seems to be placed more"
   ]
  },
  {
   "cell_type": "code",
   "execution_count": 51,
   "metadata": {},
   "outputs": [
    {
     "data": {
      "text/plain": [
       "<matplotlib.axes._subplots.AxesSubplot at 0x7f9871fd39b0>"
      ]
     },
     "execution_count": 51,
     "metadata": {},
     "output_type": "execute_result"
    },
    {
     "data": {
      "image/png": "[encoded data removed]",
      "text/plain": [
       "<Figure size 1872x360 with 2 Axes>"
      ]
     },
     "metadata": {},
     "output_type": "display_data"
    }
   ],
   "source": [
    "plt.figure(figsize=(26,5))\n",
    "plt.subplot(1,2,1)\n",
    "sns.barplot(x = 'Course_Degree', y='Placement_B', data = deandata)\n",
    "plt.subplot(1,2,2)\n",
    "sns.countplot(x = 'Course_Degree', data = deandata)"
   ]
  },
  {
   "cell_type": "markdown",
   "metadata": {},
   "source": [
    "** Observations **\n",
    "- In percentage terms, students from science background get getter placement than others however the number of students are too small to conclude anything from graphs. Proper Hypothesis test needs tobe performed to confirm statistical significance\n"
   ]
  },
  {
   "cell_type": "code",
   "execution_count": 52,
   "metadata": {},
   "outputs": [
    {
     "data": {
      "text/plain": [
       "<matplotlib.axes._subplots.AxesSubplot at 0x7f98701001d0>"
      ]
     },
     "execution_count": 52,
     "metadata": {},
     "output_type": "execute_result"
    },
    {
     "data": {
      "image/png": "[encoded data removed]",
      "text/plain": [
       "<Figure size 1872x360 with 2 Axes>"
      ]
     },
     "metadata": {},
     "output_type": "display_data"
    }
   ],
   "source": [
    "plt.figure(figsize=(26,5))\n",
    "plt.subplot(1,2,1)\n",
    "sns.barplot(x = 'Specialization_MBA', y='Placement_B', data = deandata)\n",
    "plt.subplot(1,2,2)\n",
    "sns.countplot(x = 'Specialization_MBA', data = deandata)"
   ]
  },
  {
   "cell_type": "markdown",
   "metadata": {},
   "source": [
    "** Observations **\n",
    "- Marketing & IB students seems to be doing worse than others in term of placements\n",
    "\n",
    "However confirmation can only be provided after performing hypothesis tests"
   ]
  },
  {
   "cell_type": "code",
   "execution_count": 53,
   "metadata": {},
   "outputs": [
    {
     "data": {
      "text/plain": [
       "<matplotlib.axes._subplots.AxesSubplot at 0x7f987010a0b8>"
      ]
     },
     "execution_count": 53,
     "metadata": {},
     "output_type": "execute_result"
    },
    {
     "data": {
      "image/png": "[encoded data removed]",
      "text/plain": [
       "<Figure size 1872x360 with 2 Axes>"
      ]
     },
     "metadata": {},
     "output_type": "display_data"
    }
   ],
   "source": [
    "plt.figure(figsize=(26,5))\n",
    "plt.subplot(1,2,1)\n",
    "sns.barplot(x = 'Gender', y='Placement_B', data = deandata)\n",
    "plt.subplot(1,2,2)\n",
    "sns.countplot(x = 'Gender', data = deandata)"
   ]
  },
  {
   "cell_type": "markdown",
   "metadata": {},
   "source": [
    "** Observations **\n",
    "- There are significantly more Male students than Female students\n",
    "- Percentage of Male students getting placed > percentage of Female students getting placed"
   ]
  },
  {
   "cell_type": "code",
   "execution_count": 54,
   "metadata": {
    "scrolled": true
   },
   "outputs": [
    {
     "data": {
      "text/html": [
       "<div>\n",
       "<style scoped>\n",
       "    .dataframe tbody tr th:only-of-type {\n",
       "        vertical-align: middle;\n",
       "    }\n",
       "\n",
       "    .dataframe tbody tr th {\n",
       "        vertical-align: top;\n",
       "    }\n",
       "\n",
       "    .dataframe thead th {\n",
       "        text-align: right;\n",
       "    }\n",
       "</style>\n",
       "<table border=\"1\" class=\"dataframe\">\n",
       "  <thead>\n",
       "    <tr style=\"text-align: right;\">\n",
       "      <th></th>\n",
       "      <th></th>\n",
       "      <th>Experience_Yrs_mean</th>\n",
       "      <th>Percent_SSC_mean</th>\n",
       "      <th>Percent_HSC_mean</th>\n",
       "      <th>Placement_B_mean</th>\n",
       "      <th>Percent_MBA_mean</th>\n",
       "      <th>Marks_Projectwork_mean</th>\n",
       "      <th>Percentile_ET_mean</th>\n",
       "    </tr>\n",
       "    <tr>\n",
       "      <th>Board_SSC</th>\n",
       "      <th>Gender</th>\n",
       "      <th></th>\n",
       "      <th></th>\n",
       "      <th></th>\n",
       "      <th></th>\n",
       "      <th></th>\n",
       "      <th></th>\n",
       "      <th></th>\n",
       "    </tr>\n",
       "  </thead>\n",
       "  <tbody>\n",
       "    <tr>\n",
       "      <th rowspan=\"2\" valign=\"top\">CBSE</th>\n",
       "      <th>F</th>\n",
       "      <td>0.351351</td>\n",
       "      <td>63.135946</td>\n",
       "      <td>64.267568</td>\n",
       "      <td>0.810811</td>\n",
       "      <td>62.334054</td>\n",
       "      <td>68.972973</td>\n",
       "      <td>54.435676</td>\n",
       "    </tr>\n",
       "    <tr>\n",
       "      <th>M</th>\n",
       "      <td>0.526316</td>\n",
       "      <td>62.818421</td>\n",
       "      <td>63.512632</td>\n",
       "      <td>0.842105</td>\n",
       "      <td>60.106184</td>\n",
       "      <td>67.947368</td>\n",
       "      <td>58.351842</td>\n",
       "    </tr>\n",
       "    <tr>\n",
       "      <th rowspan=\"2\" valign=\"top\">ICSE</th>\n",
       "      <th>F</th>\n",
       "      <td>0.533333</td>\n",
       "      <td>68.935667</td>\n",
       "      <td>74.964333</td>\n",
       "      <td>0.800000</td>\n",
       "      <td>66.944333</td>\n",
       "      <td>71.966667</td>\n",
       "      <td>60.016667</td>\n",
       "    </tr>\n",
       "    <tr>\n",
       "      <th>M</th>\n",
       "      <td>0.574468</td>\n",
       "      <td>63.149574</td>\n",
       "      <td>64.671064</td>\n",
       "      <td>0.765957</td>\n",
       "      <td>60.172340</td>\n",
       "      <td>66.787234</td>\n",
       "      <td>54.668511</td>\n",
       "    </tr>\n",
       "    <tr>\n",
       "      <th rowspan=\"2\" valign=\"top\">Others</th>\n",
       "      <th>F</th>\n",
       "      <td>0.533333</td>\n",
       "      <td>69.083167</td>\n",
       "      <td>62.918167</td>\n",
       "      <td>0.716667</td>\n",
       "      <td>64.282833</td>\n",
       "      <td>70.566667</td>\n",
       "      <td>54.035833</td>\n",
       "    </tr>\n",
       "    <tr>\n",
       "      <th>M</th>\n",
       "      <td>0.418440</td>\n",
       "      <td>63.742908</td>\n",
       "      <td>61.528652</td>\n",
       "      <td>0.815603</td>\n",
       "      <td>60.597447</td>\n",
       "      <td>67.248227</td>\n",
       "      <td>52.614468</td>\n",
       "    </tr>\n",
       "  </tbody>\n",
       "</table>\n",
       "</div>"
      ],
      "text/plain": [
       "                  Experience_Yrs_mean  Percent_SSC_mean  Percent_HSC_mean  \\\n",
       "Board_SSC Gender                                                            \n",
       "CBSE      F                  0.351351         63.135946         64.267568   \n",
       "          M                  0.526316         62.818421         63.512632   \n",
       "ICSE      F                  0.533333         68.935667         74.964333   \n",
       "          M                  0.574468         63.149574         64.671064   \n",
       "Others    F                  0.533333         69.083167         62.918167   \n",
       "          M                  0.418440         63.742908         61.528652   \n",
       "\n",
       "                  Placement_B_mean  Percent_MBA_mean  Marks_Projectwork_mean  \\\n",
       "Board_SSC Gender                                                               \n",
       "CBSE      F               0.810811         62.334054               68.972973   \n",
       "          M               0.842105         60.106184               67.947368   \n",
       "ICSE      F               0.800000         66.944333               71.966667   \n",
       "          M               0.765957         60.172340               66.787234   \n",
       "Others    F               0.716667         64.282833               70.566667   \n",
       "          M               0.815603         60.597447               67.248227   \n",
       "\n",
       "                  Percentile_ET_mean  \n",
       "Board_SSC Gender                      \n",
       "CBSE      F                54.435676  \n",
       "          M                58.351842  \n",
       "ICSE      F                60.016667  \n",
       "          M                54.668511  \n",
       "Others    F                54.035833  \n",
       "          M                52.614468  "
      ]
     },
     "execution_count": 54,
     "metadata": {},
     "output_type": "execute_result"
    }
   ],
   "source": [
    "datax = deandata[['Gender', 'Experience_Yrs','Board_SSC', 'Percent_SSC', 'Percent_HSC', \n",
    "                  'Placement_B', 'Percent_MBA', 'Marks_Projectwork', 'Percentile_ET']].groupby(\n",
    "    ['Board_SSC','Gender'], as_index = False).agg(['mean'])\n",
    "datax.columns = ['_'.join(col).strip() for col in datax.columns.values]\n",
    "datax"
   ]
  },
  {
   "cell_type": "markdown",
   "metadata": {},
   "source": [
    "** Observations on Gender vs Placement**\n",
    "\n",
    "What we observe is that there is a trend of Female students getting less proportion of placement than Male students\n",
    "- Except for students from CBSE board, Females have similar performance to males in all catgories SSC Marks, HSC Marks, ET Marks, and done well in  MBA courses; but they end up landing with lesser jobs\n",
    "- For CBSE Board performance of Females are similar to Males except on Years of Experience and ET Marks\n",
    "\n",
    "For all the bins above the count of data points in each bracket is approximately >= 10% of the entire Data set, hence we will consider them to be decent sized buckets for analysis. \n",
    "\n",
    "This observation needs to be statistically validated before prescribing corrective actions"
   ]
  },
  {
   "cell_type": "code",
   "execution_count": 55,
   "metadata": {},
   "outputs": [
    {
     "data": {
      "text/html": [
       "<div>\n",
       "<style scoped>\n",
       "    .dataframe tbody tr th:only-of-type {\n",
       "        vertical-align: middle;\n",
       "    }\n",
       "\n",
       "    .dataframe tbody tr th {\n",
       "        vertical-align: top;\n",
       "    }\n",
       "\n",
       "    .dataframe thead th {\n",
       "        text-align: right;\n",
       "    }\n",
       "</style>\n",
       "<table border=\"1\" class=\"dataframe\">\n",
       "  <thead>\n",
       "    <tr style=\"text-align: right;\">\n",
       "      <th></th>\n",
       "      <th></th>\n",
       "      <th>Salary_mean</th>\n",
       "      <th>Salary_len</th>\n",
       "    </tr>\n",
       "    <tr>\n",
       "      <th>Board_SSC</th>\n",
       "      <th>Gender</th>\n",
       "      <th></th>\n",
       "      <th></th>\n",
       "    </tr>\n",
       "  </thead>\n",
       "  <tbody>\n",
       "    <tr>\n",
       "      <th rowspan=\"2\" valign=\"top\">CBSE</th>\n",
       "      <th>F</th>\n",
       "      <td>228720.000000</td>\n",
       "      <td>30</td>\n",
       "    </tr>\n",
       "    <tr>\n",
       "      <th>M</th>\n",
       "      <td>299328.125000</td>\n",
       "      <td>64</td>\n",
       "    </tr>\n",
       "    <tr>\n",
       "      <th rowspan=\"2\" valign=\"top\">ICSE</th>\n",
       "      <th>F</th>\n",
       "      <td>275750.000000</td>\n",
       "      <td>24</td>\n",
       "    </tr>\n",
       "    <tr>\n",
       "      <th>M</th>\n",
       "      <td>281805.555556</td>\n",
       "      <td>36</td>\n",
       "    </tr>\n",
       "    <tr>\n",
       "      <th rowspan=\"2\" valign=\"top\">Others</th>\n",
       "      <th>F</th>\n",
       "      <td>257395.348837</td>\n",
       "      <td>43</td>\n",
       "    </tr>\n",
       "    <tr>\n",
       "      <th>M</th>\n",
       "      <td>276608.695652</td>\n",
       "      <td>115</td>\n",
       "    </tr>\n",
       "  </tbody>\n",
       "</table>\n",
       "</div>"
      ],
      "text/plain": [
       "                    Salary_mean  Salary_len\n",
       "Board_SSC Gender                           \n",
       "CBSE      F       228720.000000          30\n",
       "          M       299328.125000          64\n",
       "ICSE      F       275750.000000          24\n",
       "          M       281805.555556          36\n",
       "Others    F       257395.348837          43\n",
       "          M       276608.695652         115"
      ]
     },
     "execution_count": 55,
     "metadata": {},
     "output_type": "execute_result"
    }
   ],
   "source": [
    "datax = deandata.loc[deandata['Placement_B'] > 0, ['Gender','Board_SSC', 'Salary']].groupby(\n",
    "    ['Board_SSC','Gender'], as_index = False).agg(['mean', len])\n",
    "datax.columns = ['_'.join(col).strip() for col in datax.columns.values]\n",
    "datax"
   ]
  },
  {
   "cell_type": "markdown",
   "metadata": {},
   "source": [
    "** Observations on Gender vs Salary**\n",
    "\n",
    "For Students who were placed Females were offered lesser salary than Male counterparts. \n",
    "\n",
    "This observation needs to be statistically validated before prescribing corrective actions"
   ]
  },
  {
   "cell_type": "markdown",
   "metadata": {},
   "source": [
    "## Q6 - 2"
   ]
  },
  {
   "cell_type": "code",
   "execution_count": 56,
   "metadata": {},
   "outputs": [
    {
     "name": "stdout",
     "output_type": "stream",
     "text": [
      "Proportion of students not placed: 0.20204603580562663\n",
      "Prob = comb(20,i) * (p) ** i * (1-p) ** (20 - i)\n",
      "Exactly 5 out of randomly selected 20 Students is: 0.17675144725366596\n",
      "\n",
      "\n",
      "Prob of 0, 1, 2, 3, 4,5 students not been selected is (P): [0.011, 0.0555, 0.1334, 0.2027, 0.2181, 0.1768]\n",
      "At least 5 out of randomly selected 20 Students is (1 - P): 0.20250000000000012\n"
     ]
    }
   ],
   "source": [
    "p = deandata.Placement_B.sum()/deandata.shape[0]\n",
    "print(\"Proportion of students not placed: {}\".format(1 - p))\n",
    "print(\"Prob = comb(20,i) * (p) ** i * (1-p) ** (20 - i)\")\n",
    "from scipy.special import comb\n",
    "print(\"Exactly 5 out of randomly selected 20 Students is: {}\".format(comb(20,5) * (1-p) ** 5 * p ** 15))\n",
    "print(\"\\n\")\n",
    "x = []\n",
    "for i in np.arange(0,6):\n",
    "    x.append(round(comb(20,i) * ((1-p) ** i) * (p ** (20 - i)),4))\n",
    "print(\"Prob of 0, 1, 2, 3, 4,5 students not been selected is (P): {}\".format(x))\n",
    "print(\"At least 5 out of randomly selected 20 Students is (1 - P): {}\".format(1 - np.sum(x)))\n",
    "    "
   ]
  },
  {
   "cell_type": "markdown",
   "metadata": {},
   "source": [
    "## Q6 - 3 - a\n",
    "\n",
    "The Optimal number of bins for histogram is computed using the following formula (this will be used later in the solution):\n",
    "**N = 1 =3.322 * Log10 (n)**\n",
    "where n = number of onservations"
   ]
  },
  {
   "cell_type": "code",
   "execution_count": 57,
   "metadata": {},
   "outputs": [
    {
     "data": {
      "image/png": "[encoded data removed]",
      "text/plain": [
       "<Figure size 432x288 with 1 Axes>"
      ]
     },
     "metadata": {},
     "output_type": "display_data"
    },
    {
     "data": {
      "image/png": "[encoded data removed]",
      "text/plain": [
       "<Figure size 432x288 with 1 Axes>"
      ]
     },
     "metadata": {},
     "output_type": "display_data"
    }
   ],
   "source": [
    "sslc = deandata[['Percent_SSC']]\n",
    "#print(sslc.shape[0])\n",
    "\n",
    "mu = deandata[['Percent_SSC']].values.mean()\n",
    "sigma = deandata[['Percent_SSC']].values.std()\n",
    "x = np.linspace(mu - 3*sigma, mu + 3*sigma, 100)\n",
    "plt.plot(x,mlab.normpdf(x, mu, sigma), color = 'red')\n",
    "sns.distplot(sslc, bins=9)\n",
    "plt.show()\n",
    "pp_x = sm.ProbPlot(sslc.values.reshape(-1), fit=True)\n",
    "pp_x.ppplot(line='45')\n",
    "plt.show()"
   ]
  },
  {
   "cell_type": "code",
   "execution_count": 58,
   "metadata": {},
   "outputs": [
    {
     "data": {
      "text/plain": [
       "[1] \"ho = The distibutions are same (normal)\"\n",
       "[1] \"ha = The distibutions are dissimilar\"\n",
       "[1] \"Min Range: 37\"\n",
       "[1] \"Max Range: 87.2\"\n",
       "[1] \"Total Num Bins: 9\"\n",
       "            V1  N ExpectedNorm ExpectedNormDev\n",
       "1:   (37,42.6]  7            6      0.16666667\n",
       "2: (42.6,48.1] 20           16      1.00000000\n",
       "3: (48.1,53.7] 35           36      0.02777778\n",
       "4: (53.7,59.3] 73           60      2.81666667\n",
       "5: (59.3,64.9] 64           76      1.89473684\n",
       "6: (64.9,70.5] 72           75      0.12000000\n",
       "7:   (70.5,76] 50           57      0.85964912\n",
       "8:   (76,81.6] 47           34      4.97058824\n",
       "9: (81.6,87.2] 23           16      3.06250000\n",
       "[1] \"Chisq:14.9185853113175\"\n",
       "[1] \"Distribution is Normal - Chisq Critical = 15.5, DF =  8\"\n",
       "[1] \"We retain the Null Hypothesis\"\n"
      ]
     },
     "metadata": {},
     "output_type": "display_data"
    }
   ],
   "source": [
    "%%R -i sslc\n",
    "library(data.table)\n",
    "options(warn=-1)\n",
    "\n",
    "print(paste(\"ho = The distibutions are same (normal)\"))\n",
    "print(paste(\"ha = The distibutions are dissimilar\"))\n",
    "\n",
    "propUndVot = unlist(sslc$Percent_SSC)\n",
    "#print(propUndVot[propUndVot >=76 & propUndVot <81.6])\n",
    "Xmin = min(propUndVot)\n",
    "print(paste(\"Min Range:\", Xmin))\n",
    "Xmax = max(propUndVot)\n",
    "print(paste(\"Max Range:\", Xmax))\n",
    "N = 1 + 3.3*log10(length(propUndVot)) # Number of bins in the range\n",
    "N = floor(N)\n",
    "print(paste(\"Total Num Bins:\", floor(N)))\n",
    "\n",
    "obsdistribution = as.data.table(table(cut(propUndVot, breaks = seq(36.99, 87.21, by=((87.21 - 36.99)/N)))))#breaks = N)))\n",
    "#print(obsdistribution)\n",
    "\n",
    "cutpoint = unique(c(as.numeric( sub(\"\\\\((.+),.*\", \"\\\\1\", obsdistribution$V1) ),\n",
    "      as.numeric( sub(\"[^,]*,([^]]*)\\\\]\", \"\\\\1\", obsdistribution$V1) )))\n",
    "#print(cutpoint)\n",
    "\n",
    "meandist = mean(propUndVot)\n",
    "std = sd(propUndVot)\n",
    "#print(meandist)\n",
    "#print(std)\n",
    "\n",
    "normaldist = pnorm(cutpoint, meandist , std)\n",
    "#print(normaldist)\n",
    "probval = c()\n",
    "for(i in seq(1:length(normaldist)-1)){\n",
    "    probval = c(probval, normaldist[i+1] - normaldist[i])\n",
    "    #print(normaldist[i+1])\n",
    "    #print(normaldist[i])\n",
    "}\n",
    "#print(probval)\n",
    "normfreq = probval * length(propUndVot)\n",
    "\n",
    "\n",
    "obsdistribution$ExpectedNorm = as.integer(normfreq[1:9])\n",
    "obsdistribution$ExpectedNormDev = (obsdistribution$N - obsdistribution$ExpectedNorm)^2/\n",
    "                                         ifelse(obsdistribution$ExpectedNorm==0, 0, \n",
    "                                                obsdistribution$ExpectedNorm)\n",
    "\n",
    "print(obsdistribution)\n",
    "obsdistribution$ExpectedNormDev[is.infinite(obsdistribution$ExpectedNormDev)] = 0 \n",
    "#print(sum(obsdistribution$ExpectedNormDev))\n",
    "\n",
    "print(paste0(\"Chisq:\",sum(obsdistribution$ExpectedNormDev)))\n",
    "print(paste(\"Distribution is Normal - Chisq Critical = 15.5, DF = \",(N-1)))\n",
    "print(\"We retain the Null Hypothesis\")\n",
    "#install.packages(\"fitdistrplus\")\n",
    "#library(fitdistrplus)\n",
    "#x = fitdist(propUndVot, \"norm\")\n",
    "#summary(x)\n",
    "\n",
    "#print(length(propUndVot))"
   ]
  },
  {
   "cell_type": "markdown",
   "metadata": {},
   "source": [
    "## Q6 - 3 - b  \n",
    "\n",
    "First solution with SSC Marks == 60, and > 60. Since the problem is not clearly defined hence giving both options\n",
    "\n",
    "We will use 2 sample T-test (with unknown SD and unequal SD) for this hypothesis test. \n",
    "\n",
    "T-statistic equation:\n",
    "\n",
    "\\begin{equation*} T = \\frac{(\\bar x_1 - \\bar x_2) - (\\mu _1 - \\mu _2)} {\\sqrt {\\frac {S_1}{n_1} + \\frac {S_2} {n_2}}} \\end{equation*}\n",
    "\n",
    "DF equation :\n",
    "\n",
    "\\begin{equation*} df = \\left \\lfloor{\\frac{S_u ^ 4} {\\frac{( \\frac{S_1 ^ 2}{n_1} )^2}{n_1 - 1} + {\\frac{( \\frac{S_2 ^ 2}{n_2} )^2}{n_2 - 1}}}} \\right \\rfloor\\end{equation*}\n",
    "\n",
    "SD (Su):\n",
    "\n",
    "\\begin{equation*} S_u = \\sqrt{\\frac{S_1 ^ 2}{n_1} + \\frac{S_2 ^ 2}{n_2}}  \\end{equation*}\n",
    "\n",
    "S1, S2 are the Sample SD, n1, n2 are the sample lengths\n",
    "\n",
    "X1 = Salary of Students with Avg SSC Marks == 60 / <= 60.\n",
    "X2 = Salary of Students with Avg SSC Marks >= 60.\n",
    "\n",
    "The test tries to prove if the Salary for X1 is less than X2. "
   ]
  },
  {
   "cell_type": "code",
   "execution_count": 59,
   "metadata": {},
   "outputs": [
    {
     "name": "stdout",
     "output_type": "stream",
     "text": [
      "X1 = Salary Stats for Percent == 60:: Mean: 276230.76923076925, STD: 127706.14305646763, Len: 13\n",
      "X2 = Salary Stats for Percent > 60:: Mean: 279859.40594059404, STD: 80594.30269880143, Len: 202\n",
      "Null hypothesis: For the means x1 - x2 >= 0\n",
      "Alternate hypothesis: x1 - x2 < 0\n",
      "This is a left sided T-Test\n",
      "This is 2 Sample T test, with unknown population SD and the SD of the two are unequal\n",
      "SE 35870.36750625153\n",
      "DF 12\n",
      "T-stat -0.1011597304987852\n",
      "alpha/ Significance: 0.05\n",
      "Significant t-value at alpha - 0.05 is : -1.7822875556491593\n",
      "p-value:0.5394528767472087 is greater than alpha(0.05)\n",
      "Hence we can retain the NULL Hypothesis (ho)\n"
     ]
    }
   ],
   "source": [
    "\n",
    "x1 = deandata.loc[(deandata['Percent_SSC'] == 60) & (deandata['Placement_B'] == 1), 'Salary'].mean()\n",
    "S1 = deandata.loc[(deandata['Percent_SSC'] == 60) & (deandata['Placement_B'] == 1), 'Salary'].std()\n",
    "n1 = deandata.loc[(deandata['Percent_SSC'] == 60)  & (deandata['Placement_B'] == 1), 'Salary'].shape[0]\n",
    "\n",
    "print(\"X1 = Salary Stats for Percent == 60:: Mean: {}, STD: {}, Len: {}\".format(x1, S1, n1))\n",
    "\n",
    "x2 = deandata.loc[(deandata['Percent_SSC'] > 60) & (deandata['Placement_B'] == 1), 'Salary'].mean()\n",
    "S2 = deandata.loc[(deandata['Percent_SSC'] > 60) & (deandata['Placement_B'] == 1), 'Salary'].std()\n",
    "n2 = deandata.loc[(deandata['Percent_SSC'] > 60) & (deandata['Placement_B'] == 1), 'Salary'].shape[0]\n",
    "\n",
    "print(\"X2 = Salary Stats for Percent > 60:: Mean: {}, STD: {}, Len: {}\".format(x2, S2, n2))\n",
    "ho = \"For the means x1 - x2 >= 0\"\n",
    "ha = \"x1 - x2 < 0\"\n",
    "\n",
    "print(\"Null hypothesis: {}\".format(ho))\n",
    "print(\"Alternate hypothesis: {}\".format(ha))\n",
    "print(\"This is a left sided T-Test\")\n",
    "\n",
    "print(\"This is 2 Sample T test, with unknown population SD and the SD of the two are unequal\")\n",
    "Su = ((S1 ** 2) / n1 + (S2 ** 2) / n2) ** 0.5\n",
    "print(\"SE {}\".format(Su))\n",
    "\n",
    "df = np.math.floor(Su ** 4 / ((((S1 ** 2) / n1) ** 2) / (n1 -1) + (((S2 ** 2) / n2) ** 2) / (n2 -1)))\n",
    "print(\"DF {}\".format(df))\n",
    "\n",
    "tstat = ((x1 - x2) - 0) /(Su)\n",
    "print(\"T-stat {}\".format(tstat))\n",
    "alpha = 0.05\n",
    "\n",
    "print(\"alpha/ Significance: {}\".format(alpha))\n",
    "print(\"Significant t-value at alpha - {} is : {}\".format(alpha , sp.stats.t.ppf(alpha, df = df)))\n",
    "print(\"p-value:{} is greater than alpha({})\".format(1 - sp.stats.t.cdf(tstat, df = df), alpha))\n",
    "print(\"Hence we can retain the NULL Hypothesis (ho)\")"
   ]
  },
  {
   "cell_type": "markdown",
   "metadata": {},
   "source": [
    "There is no statistical evidence to suggest that the average salary of students with average score of 60 marks in SLC is less than the average salary of students with an average score of more than 60 marks in SSLC\n",
    "\n",
    "\n",
    "## Q6 - 3 - b\n",
    "\n",
    "Alternate solution with SSC Marks <= 60 and greater than 60. Since the problem is not clearly defined hence giving both options.\n",
    "\n",
    "2 Sample T Test equations remain same"
   ]
  },
  {
   "cell_type": "code",
   "execution_count": 60,
   "metadata": {},
   "outputs": [
    {
     "name": "stdout",
     "output_type": "stream",
     "text": [
      "X1 = Salary Stats for Percent <= 60:: Mean: 264800.0, STD: 112817.20214983808, Len: 110\n",
      "X2 = Salary Stats for Percent > 60:: Mean: 279859.40594059404, STD: 80594.30269880143, Len: 202\n",
      "This is 2 Sample T test, with unknown population SD and the SD of the two are unequal\n",
      "Null hypothesis: For the means x1 - x2 >= 0\n",
      "Alternate hypothesis: x1 - x2 < 0\n",
      "This is a left sided T-Test\n",
      "SE 12159.860487859336\n",
      "DF 170\n",
      "T-Statistics: -1.2384521973446707\n",
      "alpha/ Significance: 0.05\n",
      "Significant t-value at alpha - 0.05 is : -1.6538663174513013\n",
      "Hence we can retain the NULL Hypothesis (ho)\n"
     ]
    }
   ],
   "source": [
    "x1 = deandata.loc[(deandata['Percent_SSC'] <= 60) & (deandata['Placement_B'] == 1), 'Salary'].mean()\n",
    "S1 = deandata.loc[(deandata['Percent_SSC'] <= 60) & (deandata['Placement_B'] == 1), 'Salary'].std()\n",
    "n1 = deandata.loc[(deandata['Percent_SSC'] <= 60) & (deandata['Placement_B'] == 1), 'Salary'].shape[0]\n",
    "\n",
    "print(\"X1 = Salary Stats for Percent <= 60:: Mean: {}, STD: {}, Len: {}\".format(x1, S1, n1))\n",
    "\n",
    "x2 = deandata.loc[(deandata['Percent_SSC'] > 60) & (deandata['Placement_B'] == 1), 'Salary'].mean()\n",
    "S2 = deandata.loc[(deandata['Percent_SSC'] > 60) & (deandata['Placement_B'] == 1), 'Salary'].std()\n",
    "n2 = deandata.loc[(deandata['Percent_SSC'] > 60) & (deandata['Placement_B'] == 1), 'Salary'].shape[0]\n",
    "\n",
    "print(\"X2 = Salary Stats for Percent > 60:: Mean: {}, STD: {}, Len: {}\".format(x2, S2, n2))\n",
    "print(\"This is 2 Sample T test, with unknown population SD and the SD of the two are unequal\")\n",
    "ho = \"For the means x1 - x2 >= 0\"\n",
    "ha = \"x1 - x2 < 0\"\n",
    "\n",
    "print(\"Null hypothesis: {}\".format(ho))\n",
    "print(\"Alternate hypothesis: {}\".format(ha))\n",
    "print(\"This is a left sided T-Test\")\n",
    "\n",
    "Su = ((S1 ** 2) / n1 + (S2 ** 2) / n2) ** 0.5\n",
    "print(\"SE {}\".format(Su))\n",
    "\n",
    "df = np.math.floor(Su ** 4 / ((((S1 ** 2) / n1) ** 2) / (n1 -1) + (((S2 ** 2) / n2) ** 2) / (n2 -1)))\n",
    "print(\"DF {}\".format(df))\n",
    "\n",
    "tstat = ((x1 - x2) - 0) /(Su)\n",
    "print(\"T-Statistics: {}\".format(tstat))\n",
    "\n",
    "alpha = 0.05\n",
    "print(\"alpha/ Significance: {}\".format(alpha))\n",
    "print(\"Significant t-value at alpha - {} is : {}\".format(alpha , sp.stats.t.ppf(alpha, df = df)))\n",
    "print(\"Hence we can retain the NULL Hypothesis (ho)\")"
   ]
  },
  {
   "cell_type": "markdown",
   "metadata": {},
   "source": [
    "There is no statistical evidence to suggest that the average salary of students with average score of 60 marks in SLC is less than the average salary of students with an average score of more than 60 marks in SSLC\n",
    "\n",
    "\n",
    "## Q6 - 3 - c \n",
    "\n",
    "We will use 2 sample T-test (with unknown SD and unequal SD) for this hypothesis test. \n",
    "\n",
    "T-statistic equation:\n",
    "\n",
    "\\begin{equation*} T = \\frac{(\\bar x_1 - \\bar x_2) - (\\mu _1 - \\mu _2)} {\\sqrt {\\frac {S_1}{n_1} + \\frac {S_2} {n_2}}} \\end{equation*}\n",
    "\n",
    "DF equation :\n",
    "\n",
    "\\begin{equation*} df = \\left \\lfloor{\\frac{S_u ^ 4} {\\frac{( \\frac{S_1 ^ 2}{n_1} )^2}{n_1 - 1} + {\\frac{( \\frac{S_2 ^ 2}{n_2} )^2}{n_2 - 1}}}} \\right \\rfloor\\end{equation*}\n",
    "\n",
    "SD (Su):\n",
    "\n",
    "\\begin{equation*} S_u = \\sqrt{\\frac{S_1 ^ 2}{n_1} + \\frac{S_2 ^ 2}{n_2}}  \\end{equation*}\n",
    "\n",
    "S1, S2 are the Sample SD, n1, n2 are the sample lengths"
   ]
  },
  {
   "cell_type": "code",
   "execution_count": 61,
   "metadata": {},
   "outputs": [
    {
     "name": "stdout",
     "output_type": "stream",
     "text": [
      "Stats for male: X1:Mean 284241.8604651163, STD 99430.42049537445, Len 215\n",
      "Stats for Female: X2:Mean 253068.04123711342, STD 74190.54233637161, Len 97\n",
      "Null hypothesis: Null hypothesis: ho = x1 - x2 <= 10000\n",
      "Alternate hypothesis: Alternate Hypothesis: ha = x1 - x2 > 10000\n",
      "This is a right sided T-Test\n",
      "This is 2 Sample T test, with unknown population SD and the SD of the two are unequal\n",
      "SU 10135.482345249799\n",
      "Degrees of freedom: 243\n",
      "T-stat 2.08907859604002\n",
      "alpha/ Significance: 0.05\n",
      "Significant t-value at alpha - 0.05 is : 1.6511484017734768\n",
      "p-value:0.018870644990801377 is less than alpha(0.05)\n",
      "Hence we can reject the NULL Hypothesis (ho), Male Salary > Female Salary by 10K\n"
     ]
    }
   ],
   "source": [
    "x1 = deandata.loc[(deandata['Gender'] == 'M') & (deandata['Placement_B'] == 1), 'Salary' ].mean()\n",
    "S1 = deandata.loc[(deandata['Gender'] == 'M') & (deandata['Placement_B'] == 1), 'Salary'].std()\n",
    "n1 = deandata.loc[(deandata['Gender'] == 'M') & (deandata['Placement_B'] == 1), 'Salary'].shape[0]\n",
    "\n",
    "print(\"Stats for male: X1:Mean {}, STD {}, Len {}\".format(x1, S1, n1))\n",
    "\n",
    "x2 = deandata.loc[(deandata['Gender'] == 'F') & (deandata['Placement_B'] == 1), 'Salary'].mean()\n",
    "S2 = deandata.loc[(deandata['Gender'] == 'F') & (deandata['Placement_B'] == 1), 'Salary'].std()\n",
    "n2 = deandata.loc[(deandata['Gender'] == 'F') & (deandata['Placement_B'] == 1), 'Salary'].shape[0]\n",
    "\n",
    "print(\"Stats for Female: X2:Mean {}, STD {}, Len {}\".format(x2, S2, n2))\n",
    "ho = \"Null hypothesis: ho = x1 - x2 <= 10000\"\n",
    "ha = \"Alternate Hypothesis: ha = x1 - x2 > 10000\"\n",
    "\n",
    "print(\"Null hypothesis: {}\".format(ho))\n",
    "print(\"Alternate hypothesis: {}\".format(ha))\n",
    "print(\"This is a right sided T-Test\")\n",
    "\n",
    "print(\"This is 2 Sample T test, with unknown population SD and the SD of the two are unequal\")\n",
    "Su = ((S1 ** 2) / n1 + (S2 ** 2) / n2) ** 0.5\n",
    "print(\"SU {}\".format(Su))\n",
    "\n",
    "df = np.math.floor(Su ** 4 / ((((S1 ** 2) / n1) ** 2) / (n1 -1) + (((S2 ** 2) / n2) ** 2) / (n2 -1)))\n",
    "print(\"Degrees of freedom: {}\".format(df))\n",
    "\n",
    "tstat = ((x1 - x2) - 10000) /(Su)\n",
    "print(\"T-stat {}\".format(tstat))\n",
    "\n",
    "alpha = 0.05\n",
    "print(\"alpha/ Significance: {}\".format(alpha))\n",
    "print(\"Significant t-value at alpha - {} is : {}\".format(alpha , -1* sp.stats.t.ppf(alpha, df = df)))\n",
    "print(\"p-value:{} is less than alpha({})\".format(1 - sp.stats.t.cdf(tstat, df = df), alpha))\n",
    "print(\"Hence we can reject the NULL Hypothesis (ho), Male Salary > Female Salary by 10K\")"
   ]
  },
  {
   "cell_type": "markdown",
   "metadata": {},
   "source": [
    "## Q6 - 3 - d\n",
    "\n",
    "Assumption is effectiveness is determined by the outcome variable Placement, i.e. how frequently CBSE students get placed verses placement of non-CBSE student. \n",
    "There are correlation of other KPIs vs CBSE / non-CBSE, even graphically we dont see any significant deviations.\n",
    "We will perform a T-Test only for CBSE and Placement subsequently after the plots"
   ]
  },
  {
   "cell_type": "code",
   "execution_count": 62,
   "metadata": {},
   "outputs": [
    {
     "name": "stdout",
     "output_type": "stream",
     "text": [
      "Correlation Board_CBSE and Placement\n",
      "              Board_CBSE  Placement_B\n",
      "Board_CBSE     1.000000     0.053834\n",
      "Placement_B    0.053834     1.000000\n",
      "\n",
      "Correlation Board_CBSE and Percent MBA Marks Obtained\n",
      "              Board_CBSE  Percent_MBA\n",
      "Board_CBSE     1.000000    -0.090726\n",
      "Percent_MBA   -0.090726     1.000000\n"
     ]
    }
   ],
   "source": [
    "#deandata.loc[deandata[\"Board_CBSE\"] == 1]\n",
    "print(\"Correlation Board_CBSE and Placement\\n\", deandata[[\"Board_CBSE\", \"Placement_B\"]].corr())\n",
    "print(\"\\nCorrelation Board_CBSE and Percent MBA Marks Obtained\\n\", deandata[[\"Board_CBSE\", \"Percent_MBA\"]].corr())"
   ]
  },
  {
   "cell_type": "code",
   "execution_count": 63,
   "metadata": {},
   "outputs": [
    {
     "data": {
      "image/png": "[encoded data removed]",
      "text/plain": [
       "<Figure size 720x360 with 4 Axes>"
      ]
     },
     "metadata": {},
     "output_type": "display_data"
    }
   ],
   "source": [
    "plt.figure(figsize = (10, 5))\n",
    "\n",
    "for i, source in enumerate(['Placement_B', 'Salary', 'Percent_MBA', 'Marks_Projectwork']):\n",
    "    plt.subplot(2, 2, i + 1)\n",
    "    sns.barplot(x = 'Board_CBSE', y=source, data = deandata)\n",
    "    # Label the plots\n",
    "    plt.title('Barplot of %s' % source)\n",
    "    \n",
    "plt.tight_layout(h_pad = 2.5)"
   ]
  },
  {
   "cell_type": "markdown",
   "metadata": {},
   "source": [
    "** From the above plots nothing conclusive is visible regarding CBSE students being better than their counterparts. We will perform hypothesis test now**\n",
    "\n",
    "\n",
    "We will use 2 sample T-test (with unknown SD and unequal SD) for this hypothesis test for proportions. \n",
    "\n",
    "T-statistic equation:\n",
    "\n",
    "\\begin{equation*} T = \\frac{(\\bar x_1 - \\bar x_2) - (\\mu _1 - \\mu _2)} {\\sqrt {\\frac {S_1}{n_1} + \\frac {S_2} {n_2}}} \\end{equation*}\n",
    "\n",
    "DF equation :\n",
    "\n",
    "\\begin{equation*} df = \\left \\lfloor{\\frac{S_u ^ 4} {\\frac{( \\frac{S_1 ^ 2}{n_1} )^2}{n_1 - 1} + {\\frac{( \\frac{S_2 ^ 2}{n_2} )^2}{n_2 - 1}}}} \\right \\rfloor\\end{equation*}\n",
    "\n",
    "SD (Su):\n",
    "\n",
    "\\begin{equation*} S_u = \\sqrt{\\frac{S_1 ^ 2}{n_1} + \\frac{S_2 ^ 2}{n_2}}  \\end{equation*}\n",
    "\n",
    "S1, S2 are the Sample SD, n1, n2 are the sample lengths"
   ]
  },
  {
   "cell_type": "code",
   "execution_count": 64,
   "metadata": {},
   "outputs": [
    {
     "name": "stdout",
     "output_type": "stream",
     "text": [
      "Stats for CBSE Placement: X1:Mean 0.831858407079646, STD 0.37565787215935875, Len 113\n",
      "Stats for NonCBSE Placement: X2:Mean 0.7841726618705036, STD 0.4121369848339013, Len 278\n",
      "This is 2 Sample T test, with unknown population SD and the SD of the two are unequal\n",
      "SE 0.04312580767108984\n",
      "Degrees of freedom: 226\n",
      "T-stat 1.1057357017596072\n",
      "Null hypothesis: Null Hypothesis: ho = x1 - x2 <= 0\n",
      "Alternate hypothesis: Alternate hypothesis: ha = x1 - x2 > 0\n",
      "This is a right sided T-Test\n",
      "alpha/ Significance: 0.05\n",
      "Significant t-value at alpha - 0.05 is : 1.651623859318793\n",
      "p-value:0.1350083082855783 is gt than alpha(0.05)\n",
      "Hence we can retain the NULL Hypothesis (ho)\n",
      "Conclusions:\n",
      "1. There is no statistical proof that CBSE students get more jobs\n",
      "2. They do not get more marks in MBA as indicated on the graphs (not statistically validated)\n",
      "Hence giving more preference to CBSE students adds no extra value to the institution\n"
     ]
    }
   ],
   "source": [
    "x1 = deandata.loc[deandata['Board_CBSE'] == 1, 'Placement_B'].mean()\n",
    "S1 = deandata.loc[deandata['Board_CBSE'] == 1, 'Placement_B'].std()\n",
    "n1 = deandata.loc[deandata['Board_CBSE'] == 1, 'Placement_B'].shape[0]\n",
    "\n",
    "print(\"Stats for CBSE Placement: X1:Mean {}, STD {}, Len {}\".format(x1, S1, n1))\n",
    "\n",
    "x2 = deandata.loc[deandata['Board_CBSE'] == 0, 'Placement_B'].mean()\n",
    "S2 = deandata.loc[deandata['Board_CBSE'] == 0, 'Placement_B'].std()\n",
    "n2 = deandata.loc[deandata['Board_CBSE'] == 0, 'Placement_B'].shape[0]\n",
    "\n",
    "print(\"Stats for NonCBSE Placement: X2:Mean {}, STD {}, Len {}\".format(x2, S2, n2))\n",
    "\n",
    "print(\"This is 2 Sample T test, with unknown population SD and the SD of the two are unequal\")\n",
    "Su = ((S1 ** 2) / n1 + (S2 ** 2) / n2) ** 0.5\n",
    "print(\"SE {}\".format(Su))\n",
    "\n",
    "df = np.math.floor(Su ** 4 / ((((S1 ** 2) / n1) ** 2) / (n1 -1) + (((S2 ** 2) / n2) ** 2) / (n2 -1)))\n",
    "print(\"Degrees of freedom: {}\".format(df))\n",
    "\n",
    "tstat = ((x1 - x2) - 0) /(Su)\n",
    "print(\"T-stat {}\".format(tstat))\n",
    "\n",
    "ho = \"Null Hypothesis: ho = x1 - x2 <= 0\"\n",
    "ha = \"Alternate hypothesis: ha = x1 - x2 > 0\"\n",
    "\n",
    "print(\"Null hypothesis: {}\".format(ho))\n",
    "print(\"Alternate hypothesis: {}\".format(ha))\n",
    "print(\"This is a right sided T-Test\")\n",
    "\n",
    "print(\"alpha/ Significance: {}\".format(alpha))\n",
    "print(\"Significant t-value at alpha - {} is : {}\".format(alpha , -1* sp.stats.t.ppf(alpha, df = df)))\n",
    "print(\"p-value:{} is gt than alpha({})\".format(1 - sp.stats.t.cdf(tstat, df = df), alpha))\n",
    "print(\"Hence we can retain the NULL Hypothesis (ho)\")\n",
    "\n",
    "print(\"Conclusions:\")\n",
    "print(\"1. There is no statistical proof that CBSE students get more jobs\")\n",
    "print(\"2. They do not get more marks in MBA as indicated on the graphs (not statistically validated)\")\n",
    "print(\"Hence giving more preference to CBSE students adds no extra value to the institution\")"
   ]
  },
  {
   "cell_type": "markdown",
   "metadata": {},
   "source": [
    "## Q6 - 3 - e"
   ]
  },
  {
   "cell_type": "markdown",
   "metadata": {},
   "source": [
    "**Recommendations:**\n",
    "\n",
    "- Giving priority to CBSE students should be discontinued as there is no proof thet they get better placement or does better in Project Work / obtains overall higher percetage of marks\n",
    "- More emphasis should be laid to doing Project Work well. It seems people with better Project Work, gets placed better (this has not been statistically proved, but graphs provide some visual evidence)\n",
    "- Marketing students seems to be faring worse than the other streams in terms of placements\n",
    "- Male students are paid significantly more than Female students on an average. There is a possibility of bias and gender pay gap (more tests are needed to provide complete evidence to this thought, effect of other variables like experience etc.). Hence he might need to work with recruiters on this if further studies do provide evidence to gender pay bias"
   ]
  },
  {
   "cell_type": "markdown",
   "metadata": {},
   "source": [
    "# Q7 \n",
    "\n",
    "## Q7 - a\n",
    "\n",
    "The Optimal number of bins for histogram is computed using the following formula (this will be used later in the solution):\n",
    "**N = 1 =3.3 * Log10 (n)**\n",
    "where n = number of onservations"
   ]
  },
  {
   "cell_type": "code",
   "execution_count": 65,
   "metadata": {},
   "outputs": [
    {
     "data": {
      "image/png": "[encoded data removed]",
      "text/plain": [
       "<Figure size 432x288 with 1 Axes>"
      ]
     },
     "metadata": {},
     "output_type": "display_data"
    },
    {
     "data": {
      "image/png": "[encoded data removed]",
      "text/plain": [
       "<Figure size 432x288 with 1 Axes>"
      ]
     },
     "metadata": {},
     "output_type": "display_data"
    }
   ],
   "source": [
    "propUndVot = [12, 16, 12, 10, 14, 9, 8, 13, 5, 5,\n",
    "19, 8, 6, 11, 19, 14, 10, 20, 11, 10,\n",
    "6, 6, 5, 12, 16, 9, 5, 9, 17, 18,\n",
    "15, 17, 18, 13, 18, 11, 7, 20, 6, 11,\n",
    "23, 10, 24, 6, 24, 18, 7, 8, 5, 15]\n",
    "mu = np.mean(propUndVot)\n",
    "sigma = np.std(propUndVot)\n",
    "x = np.linspace(mu - 3*sigma, mu + 3*sigma, 100)\n",
    "plt.plot(x,mlab.normpdf(x, mu, sigma), color = 'red')\n",
    "sns.distplot(propUndVot, bins=6)\n",
    "plt.show()\n",
    "pp_x = sm.ProbPlot(np.array(propUndVot), fit=True)\n",
    "pp_x.ppplot(line='45')\n",
    "plt.show()"
   ]
  },
  {
   "cell_type": "code",
   "execution_count": 66,
   "metadata": {},
   "outputs": [
    {
     "data": {
      "text/plain": [
       "[1] \"ho = The distibutions are same (normal)\"\n",
       "[1] \"ha = The distibutions are dissimilar\"\n",
       "[1] \"Min Range: 5\"\n",
       "[1] \"Max Range: 24\"\n",
       "[1] \"Total Num Bins: 6\"\n",
       "            V1  N ExpectedNorm ExpectedNormDev\n",
       "1: (4.99,8.16] 15            6       13.500000\n",
       "2: (8.16,11.3] 11           10        0.100000\n",
       "3: (11.3,14.5]  7           11        1.454545\n",
       "4: (14.5,17.7]  6            9        1.000000\n",
       "5: (17.7,20.8]  8            4        4.000000\n",
       "6:   (20.8,24]  3            2        0.500000\n",
       "[1] \"ChiSq:20.0545454545455\"\n",
       "[1] \"We have rejected the last bucket as the number of records in the bin is < 5\"\n",
       "[1] \"Not Normal - Chisq Critical = 9.2, DF = 5\"\n",
       "[1] \"We reject the Null Hypothesis, the distribution is statistically not normal\"\n"
      ]
     },
     "metadata": {},
     "output_type": "display_data"
    }
   ],
   "source": [
    "%%R -i propUndVot\n",
    "print(paste(\"ho = The distibutions are same (normal)\"))\n",
    "print(paste(\"ha = The distibutions are dissimilar\"))\n",
    "\n",
    "propUndVot = unlist(propUndVot)\n",
    "library(data.table)\n",
    "Xmin = min(propUndVot)\n",
    "print(paste(\"Min Range:\", Xmin))\n",
    "Xmax = max(propUndVot)\n",
    "print(paste(\"Max Range:\", Xmax))\n",
    "N = 1 + 3.3*log10(length(propUndVot)) # Number of bins in the range\n",
    "N = floor(N)\n",
    "print(paste(\"Total Num Bins:\", floor(N)))\n",
    "\n",
    "obsdistribution = as.data.table(table(cut(propUndVot, breaks = seq(4.99,24.01, by = ((24.01-4.99)/N)))))#breaks = N)))\n",
    "#print(obsdistribution)\n",
    "\n",
    "cutpoint = unique(c(as.numeric( sub(\"\\\\((.+),.*\", \"\\\\1\", obsdistribution$V1) ),\n",
    "      as.numeric( sub(\"[^,]*,([^]]*)\\\\]\", \"\\\\1\", obsdistribution$V1) )))\n",
    "#print(cutpoint)\n",
    "\n",
    "meandist = mean(propUndVot)\n",
    "std = sd(propUndVot)\n",
    "#print(meandist)\n",
    "#print(std)\n",
    "\n",
    "normaldist = pnorm(cutpoint, meandist , std)\n",
    "#print(normaldist)\n",
    "probval = c()\n",
    "for(i in seq(1:length(normaldist)-1)){\n",
    "    probval = c(probval, normaldist[i+1] - normaldist[i])\n",
    "    #print(normaldist[i+1])\n",
    "    #print(normaldist[i])\n",
    "}\n",
    "\n",
    "normfreq = probval * length(propUndVot)\n",
    "\n",
    "\n",
    "obsdistribution$ExpectedNorm = as.integer(normfreq[1:6])\n",
    "obsdistribution$ExpectedNormDev = (obsdistribution$N - obsdistribution$ExpectedNorm)^2/\n",
    "                                         ifelse(obsdistribution$ExpectedNorm==0, 0, \n",
    "                                                obsdistribution$ExpectedNorm)\n",
    "\n",
    "print(obsdistribution)\n",
    "obsdistribution$ExpectedNormDev[is.infinite(obsdistribution$ExpectedNormDev)] = 0 \n",
    "print(paste0(\"ChiSq:\",(sum(obsdistribution$ExpectedNormDev)- 0.5)))\n",
    "print(\"We have rejected the last bucket as the number of records in the bin is < 5\")\n",
    "\n",
    "print(\"Not Normal - Chisq Critical = 9.2, DF = 5\")\n",
    "print(\"We reject the Null Hypothesis, the distribution is statistically not normal\")\n",
    "\n",
    "#install.packages(\"fitdistrplus\")\n",
    "#library(fitdistrplus)\n",
    "#x = fitdist(propUndVot, \"norm\")\n",
    "#summary(x)"
   ]
  },
  {
   "cell_type": "markdown",
   "metadata": {},
   "source": [
    "## Q7 - b\n",
    "\n",
    "We will calculate the lower and upper bound of CI using the following equation:\n",
    "\n",
    "\\begin{equation*} X \\pm T * (\\frac {S}{\\sqrt n}) \\end{equation*}\n",
    "\n",
    "where X = mean of sample\n",
    "T = Critical T-statistic Value at alpha/significance\n",
    "S = Standard Deviation\n",
    "\n"
   ]
  },
  {
   "cell_type": "code",
   "execution_count": 67,
   "metadata": {},
   "outputs": [
    {
     "name": "stdout",
     "output_type": "stream",
     "text": [
      "T distribution with 90% CI (Population variance in unknown)\n",
      "T-stat 1.6765508919142635 at alpha 0.1\n",
      "X_bar 12.22\n",
      "SE 5.397369729785055\n",
      "lowerBound 10.940283092282368\n",
      "upperBound 13.499716907717634\n"
     ]
    }
   ],
   "source": [
    "print(\"T distribution with 90% CI (Population variance in unknown)\")\n",
    "n = len(propUndVot)\n",
    "alpha = 0.1\n",
    "T = abs(sp.stats.t.ppf(alpha / 2, df = n - 1))\n",
    "print(\"T-stat {} at alpha {}\".format(T, alpha))\n",
    "Xbar = np.mean(propUndVot)\n",
    "S = np.std(propUndVot)\n",
    "\n",
    "print(\"X_bar {}\".format(Xbar))\n",
    "print(\"SE {}\".format(S))\n",
    "lowerBound = Xbar - T * S / n ** 0.5\n",
    "print(\"lowerBound {}\".format(lowerBound))\n",
    "upperBound = Xbar + T * S / n ** 0.5\n",
    "print(\"upperBound {}\".format(upperBound))"
   ]
  },
  {
   "cell_type": "markdown",
   "metadata": {},
   "source": [
    "# Q8\n",
    "\n",
    "We will use paired 2 sample T-test. \n",
    "\n",
    "T-statistic equation:\n",
    "\n",
    "\\begin{equation*} T = \\frac{D - \\mu _d} {\\frac {S_d}{\\sqrt n}}\\end{equation*}\n",
    "\n",
    "where Sd = SD\n",
    "\n",
    "Here we have \\begin{equation*} \\mu _d = 0\\end{equation*}\n"
   ]
  },
  {
   "cell_type": "code",
   "execution_count": 68,
   "metadata": {},
   "outputs": [
    {
     "data": {
      "text/html": [
       "<div>\n",
       "<style scoped>\n",
       "    .dataframe tbody tr th:only-of-type {\n",
       "        vertical-align: middle;\n",
       "    }\n",
       "\n",
       "    .dataframe tbody tr th {\n",
       "        vertical-align: top;\n",
       "    }\n",
       "\n",
       "    .dataframe thead th {\n",
       "        text-align: right;\n",
       "    }\n",
       "</style>\n",
       "<table border=\"1\" class=\"dataframe\">\n",
       "  <thead>\n",
       "    <tr style=\"text-align: right;\">\n",
       "      <th></th>\n",
       "      <th>meditation</th>\n",
       "      <th>no_meditation</th>\n",
       "      <th>pair_num</th>\n",
       "      <th>D</th>\n",
       "    </tr>\n",
       "  </thead>\n",
       "  <tbody>\n",
       "    <tr>\n",
       "      <th>0</th>\n",
       "      <td>4.00</td>\n",
       "      <td>3.75</td>\n",
       "      <td>1</td>\n",
       "      <td>0.25</td>\n",
       "    </tr>\n",
       "    <tr>\n",
       "      <th>1</th>\n",
       "      <td>2.65</td>\n",
       "      <td>2.75</td>\n",
       "      <td>2</td>\n",
       "      <td>-0.10</td>\n",
       "    </tr>\n",
       "    <tr>\n",
       "      <th>2</th>\n",
       "      <td>3.65</td>\n",
       "      <td>3.45</td>\n",
       "      <td>3</td>\n",
       "      <td>0.20</td>\n",
       "    </tr>\n",
       "    <tr>\n",
       "      <th>3</th>\n",
       "      <td>2.55</td>\n",
       "      <td>2.11</td>\n",
       "      <td>4</td>\n",
       "      <td>0.44</td>\n",
       "    </tr>\n",
       "    <tr>\n",
       "      <th>4</th>\n",
       "      <td>3.20</td>\n",
       "      <td>3.21</td>\n",
       "      <td>5</td>\n",
       "      <td>-0.01</td>\n",
       "    </tr>\n",
       "    <tr>\n",
       "      <th>5</th>\n",
       "      <td>3.60</td>\n",
       "      <td>3.25</td>\n",
       "      <td>6</td>\n",
       "      <td>0.35</td>\n",
       "    </tr>\n",
       "    <tr>\n",
       "      <th>6</th>\n",
       "      <td>2.90</td>\n",
       "      <td>2.58</td>\n",
       "      <td>7</td>\n",
       "      <td>0.32</td>\n",
       "    </tr>\n",
       "    <tr>\n",
       "      <th>7</th>\n",
       "      <td>3.41</td>\n",
       "      <td>3.28</td>\n",
       "      <td>8</td>\n",
       "      <td>0.13</td>\n",
       "    </tr>\n",
       "    <tr>\n",
       "      <th>8</th>\n",
       "      <td>3.33</td>\n",
       "      <td>3.35</td>\n",
       "      <td>9</td>\n",
       "      <td>-0.02</td>\n",
       "    </tr>\n",
       "    <tr>\n",
       "      <th>9</th>\n",
       "      <td>2.90</td>\n",
       "      <td>2.65</td>\n",
       "      <td>10</td>\n",
       "      <td>0.25</td>\n",
       "    </tr>\n",
       "  </tbody>\n",
       "</table>\n",
       "</div>"
      ],
      "text/plain": [
       "   meditation  no_meditation  pair_num     D\n",
       "0        4.00           3.75         1  0.25\n",
       "1        2.65           2.75         2 -0.10\n",
       "2        3.65           3.45         3  0.20\n",
       "3        2.55           2.11         4  0.44\n",
       "4        3.20           3.21         5 -0.01\n",
       "5        3.60           3.25         6  0.35\n",
       "6        2.90           2.58         7  0.32\n",
       "7        3.41           3.28         8  0.13\n",
       "8        3.33           3.35         9 -0.02\n",
       "9        2.90           2.65        10  0.25"
      ]
     },
     "execution_count": 68,
     "metadata": {},
     "output_type": "execute_result"
    }
   ],
   "source": [
    "students = pd.DataFrame({\"pair_num\": np.arange(1,11),\n",
    "                         \"meditation\": [4.0, 2.65, 3.65, 2.55, 3.2, 3.6, 2.9, 3.41, 3.33, 2.90],\n",
    "                         \"no_meditation\": [3.75, 2.75, 3.45, 2.11, 3.21, 3.25, 2.58, 3.28, 3.35, 2.65]\n",
    "                        })\n",
    "students[\"D\"] = students.meditation - students.no_meditation\n",
    "students"
   ]
  },
  {
   "cell_type": "code",
   "execution_count": 69,
   "metadata": {},
   "outputs": [
    {
     "name": "stdout",
     "output_type": "stream",
     "text": [
      "We will use Paired Sample T test\n",
      "Null hypothesis: Difference in CGPA between students performing meditation and not performing meditation <= 0\n",
      "Alternate hypothesis: Difference in CGPA between students performing meditation and not performing meditation > 0\n",
      "This is a right sided T-Test\n",
      "Mean of difference: 0.181\n",
      "SD of difference: 0.17741664709566196\n",
      "Null Hypothesis: ho = mean <= 0\n",
      "Alternate Hypothesis: ha = mean > 0\n",
      "Tstat Formula : tsat = (dmean - 0) / dstd / n ** 0.5\n",
      "T-Statistic Value: 3.2261474098417446\n",
      "For Alpha 0.05 t-Critical is : 1.8331129326536337\n",
      "We reject null hypothesis ho. There is statistical evidence that meditation helps\n"
     ]
    }
   ],
   "source": [
    "print(\"We will use Paired Sample T test\")\n",
    "ho = \"Difference in CGPA between students performing meditation and not performing meditation <= 0\"\n",
    "ha = \"Difference in CGPA between students performing meditation and not performing meditation > 0\"\n",
    "alpha =0.05\n",
    "\n",
    "print(\"Null hypothesis: {}\".format(ho))\n",
    "print(\"Alternate hypothesis: {}\".format(ha))\n",
    "print(\"This is a right sided T-Test\")\n",
    "\n",
    "dmean = students.D.mean()\n",
    "dstd = students.D.std()\n",
    "print(\"Mean of difference: {}\".format(dmean))\n",
    "print(\"SD of difference: {}\".format(dstd))\n",
    "print(\"Null Hypothesis: ho = mean <= 0\")\n",
    "print(\"Alternate Hypothesis: ha = mean > 0\")\n",
    "\n",
    "print(\"Tstat Formula : tsat = (dmean - 0) / dstd / n ** 0.5\")\n",
    "tstat = (dmean - 0) / (dstd / students.shape[0] ** 0.5)\n",
    "print(\"T-Statistic Value: {}\".format(tstat))\n",
    "\n",
    "print(\"For Alpha {} t-Critical is : {}\".format(alpha, -1* sp.stats.t.ppf(alpha, df = students.shape[0] - 1)))\n",
    "print(\"We reject null hypothesis ho. There is statistical evidence that meditation helps\")"
   ]
  },
  {
   "cell_type": "markdown",
   "metadata": {},
   "source": [
    "# Q9 \n",
    "\n",
    "We will use 2 sample T-test (with unknown SD and unequal SD) for this hypothesis test. \n",
    "\n",
    "T-statistic equation:\n",
    "\n",
    "\\begin{equation*} T = \\frac{(\\bar x_1 - \\bar x_2) - (\\mu _1 - \\mu _2)} {\\sqrt {\\frac {S_1}{n_1} + \\frac {S_2} {n_2}}} \\end{equation*}\n",
    "\n",
    "DF equation :\n",
    "\n",
    "\\begin{equation*} df = \\left \\lfloor{\\frac{S_u ^ 4} {\\frac{( \\frac{S_1 ^ 2}{n_1} )^2}{n_1 - 1} + {\\frac{( \\frac{S_2 ^ 2}{n_2} )^2}{n_2 - 1}}}} \\right \\rfloor\\end{equation*}\n",
    "\n",
    "SD (Su):\n",
    "\n",
    "\\begin{equation*} S_u = \\sqrt{\\frac{S_1 ^ 2}{n_1} + \\frac{S_2 ^ 2}{n_2}}  \\end{equation*}\n",
    "\n",
    "S1, S2 are the Sample SD, n1, n2 are the sample lengths"
   ]
  },
  {
   "cell_type": "code",
   "execution_count": 70,
   "metadata": {},
   "outputs": [
    {
     "name": "stdout",
     "output_type": "stream",
     "text": [
      "Emerging Market: Mean (x1): 12.0322, SD: 3.4964898341050556\n",
      "Derivative Market: Mean (x2): 12.6588, SD: 4.158908818428219\n",
      "T-test with unknown population SD and unequal variance will be used for hypothesis testing\n",
      "This is 2 Sample T test, with unknown population SD and the SD of the two are unequal\n",
      "SE 0.7684004648619104\n",
      "DF 95\n",
      "T-stat -0.8154602042212539\n",
      "Null hypothesis: Null Hypothesis: ho = x1 - x2 <= 0\n",
      "Alternate hypothesis: Alternate hypothesis: ha = x1 - x2 > 0\n",
      "This is a right sided T-Test\n",
      "alpha/ Significance: 0.05\n",
      "Significant t-value at alpha - 0.05 is : 1.6610518172519093\n",
      "p-value:0.2084243682887848 is greater than alpha(0.05)\n",
      "Hence we can retain the NULL Hypothesis (ho)\n"
     ]
    }
   ],
   "source": [
    "emergingMkt = [ \n",
    "    11.20, 12.10, 13.33, 16.40, 15.00, 10.00, 12.00, 13.00, 12.00, 13.00,\n",
    "    8.25, 7.00, 10.00, 11.46, 11.00, 7.70, 7.00, 12.00, 18.00, 10.00,\n",
    "    13.11, 9.00, 14.00, 9.90, 16.00, 9.00, 6.00, 11.40, 7.00, 16.00,\n",
    "    8.41, 17.21, 14.00, 15.00, 17.20, 18.00, 9.00, 7.00, 15.45, 15.00,\n",
    "    13.00, 18.60, 16.00, 9.60, 12.00, 6.00, 15.00, 8.00, 16.29, 9.00]\n",
    "derivativeMkt = [\n",
    "    17.65, 10.20, 19.00, 14.00, 11.00, 4.97, 11.00, 7.00, 5.12, 4.90,\n",
    "    19.00, 11.45, 16.00, 6.87, 14.00, 8.00, 10.78, 16.00, 18.00, 11.00,\n",
    "    13.00, 17.00, 18.00, 16.00, 12.00, 13.26, 19.00, 10.00, 17.00, 5.56,\n",
    "    8.00, 15.55, 11.22, 6.78, 10.00, 19.00, 14.00, 15.00, 14.00, 7.00,\n",
    "    14.00, 15.00, 18.00, 7.78, 10.00, 15.00, 16.20, 15.00, 11.65, 13.00\n",
    "]\n",
    "\n",
    "print(\"Emerging Market: Mean (x1): {}, SD: {}\".format(np.mean(emergingMkt), np.std(emergingMkt)))\n",
    "print(\"Derivative Market: Mean (x2): {}, SD: {}\".format(np.mean(derivativeMkt), np.std(derivativeMkt)))\n",
    "\n",
    "print(\"T-test with unknown population SD and unequal variance will be used for hypothesis testing\")\n",
    "\n",
    "n1 = len(emergingMkt)\n",
    "x1 = np.mean(emergingMkt)\n",
    "S1 = np.std(emergingMkt)\n",
    "\n",
    "n2 = len(derivativeMkt)\n",
    "x2 = np.mean(derivativeMkt)\n",
    "S2 = np.std(derivativeMkt)\n",
    "\n",
    "\n",
    "print(\"This is 2 Sample T test, with unknown population SD and the SD of the two are unequal\")\n",
    "Su = ((S1 ** 2) / n1 + (S2 ** 2) / n2) ** 0.5\n",
    "print(\"SE {}\".format(Su))\n",
    "\n",
    "df = np.math.floor(Su ** 4 / ((((S1 ** 2) / n1) ** 2) / (n1 -1) + (((S2 ** 2) / n2) ** 2) / (n2 -1)))\n",
    "print(\"DF {}\".format(df))\n",
    "\n",
    "tstat = ((x1 - x2) - 0) /(Su)\n",
    "print(\"T-stat {}\".format(tstat))\n",
    "\n",
    "ho = \"Null Hypothesis: ho = x1 - x2 <= 0\"\n",
    "ha = \"Alternate hypothesis: ha = x1 - x2 > 0\"\n",
    "\n",
    "print(\"Null hypothesis: {}\".format(ho))\n",
    "print(\"Alternate hypothesis: {}\".format(ha))\n",
    "print(\"This is a right sided T-Test\")\n",
    "\n",
    "print(\"alpha/ Significance: {}\".format(alpha))\n",
    "print(\"Significant t-value at alpha - {} is : {}\".format(alpha , -1*sp.stats.t.ppf(alpha, df = df)))\n",
    "print(\"p-value:{} is greater than alpha({})\".format(sp.stats.t.cdf(tstat, df = df), alpha))\n",
    "print(\"Hence we can retain the NULL Hypothesis (ho)\")"
   ]
  },
  {
   "cell_type": "markdown",
   "metadata": {},
   "source": [
    "There is no statistical evidence that average returns of the hedge fund ‘Emerging Market’ is higher than that of ‘Derivative’.\n",
    "\n",
    "\n",
    "# Q10"
   ]
  },
  {
   "cell_type": "code",
   "execution_count": 71,
   "metadata": {},
   "outputs": [
    {
     "data": {
      "image/png": "[encoded data removed]",
      "text/plain": [
       "<Figure size 432x288 with 1 Axes>"
      ]
     },
     "metadata": {},
     "output_type": "display_data"
    },
    {
     "name": "stdout",
     "output_type": "stream",
     "text": [
      "PP Plot may not be normal by visual inspection. Morreover sample size is small.\n",
      "\n"
     ]
    }
   ],
   "source": [
    "diet = [0, 4, 3, 5, -3, 10, 0, 4, -2]\n",
    "exercise = [-3, -1, 8,4 ,2 ,3]\n",
    "modificbeh = [10, 1, 0, 12, 18, 4, -2, 5, 3, 4]\n",
    "\n",
    "pp_x = sm.ProbPlot(np.array(diet + exercise + modificbeh), fit=True)\n",
    "pp_x.ppplot(line='45')\n",
    "plt.show()\n",
    "\n",
    "print(\"PP Plot may not be normal by visual inspection. Morreover sample size is small.\\n\")\n",
    "\n"
   ]
  },
  {
   "cell_type": "code",
   "execution_count": 72,
   "metadata": {},
   "outputs": [
    {
     "name": "stdout",
     "output_type": "stream",
     "text": [
      "Diet == Mean (x1): 2.3333333333333335, SD: 3.80058475033046, Count: 9\n",
      "Exer == Mean (x2): 2.1666666666666665, SD: 3.531603350069515, Count: 6\n",
      "ModB == Mean (x3): 5.5, SD: 5.80086200490927, Count: 10\n",
      "We cannot use Anova as the variances are not similar, we will use multiple pairwise t tests. We will use 3 pairwise tests. Since this increases the Type 1 error, we will use Bonferroni's Correction\n",
      "Adjusted Alpha: 0.016666666666666666\n",
      "NUll Hypothesis: x1 - x2 <= 0\n",
      "Alternate Hypothesis: x1 - x2 >0\n",
      "This is 2 Sample T test, with unknown population SD and the SD of the two are unequal\n",
      "SE 1.9192816300138555\n",
      "DF 11\n",
      "T-stat 0.08683804610033379\n",
      "This is a two sided T-Test\n",
      "Significant t-value at alpha - 0.016666666666666666 is : 2.431291192825905\n",
      "p-value:0.4661804170878926 is greater than alpha(0.016666666666666666)\n",
      "Hence we can retain the NULL Hypothesis (ho)\n",
      "\n",
      "\n",
      "\n",
      "NUll Hypothesis: x2 - x3 <= 0\n",
      "Alternate Hypothesis: x2 - x3 >0\n",
      "This is 2 Sample T test, with unknown population SD and the SD of the two are unequal\n",
      "SE 2.3331745977752507\n",
      "DF 13\n",
      "T-stat -1.428668620218891\n",
      "This is a two sided T-Test\n",
      "Significant t-value at alpha - 0.016666666666666666 is : 2.3795918574465182\n",
      "p-value:0.9116578507983054 is greater than alpha(0.016666666666666666)\n",
      "Hence we can retain the NULL Hypothesis (ho)\n",
      "\n",
      "\n",
      "\n",
      "NUll Hypothesis: x1 - x3 <= 0\n",
      "Alternate Hypothesis: x1 - x3 >0\n",
      "This is 2 Sample T test, with unknown population SD and the SD of the two are unequal\n",
      "SE 2.229335836433115\n",
      "DF 15\n",
      "T-stat -1.420452950567223\n",
      "This is a two sided T-Test\n",
      "Significant t-value at alpha - 0.016666666666666666 is : 2.342924621576576\n",
      "p-value:0.9120359852133058 is greater than alpha(0.016666666666666666)\n",
      "Hence we can retain the NULL Hypothesis (ho)\n",
      "\n",
      "\n",
      "\n",
      "There is not enough statistically significant difference in weight loss between three weight loss programs\n"
     ]
    }
   ],
   "source": [
    "print(\"Diet == Mean (x1): {}, SD: {}, Count: {}\".format(np.mean(diet), np.std(diet), len(diet)))\n",
    "print(\"Exer == Mean (x2): {}, SD: {}, Count: {}\".format(np.mean(exercise), np.std(exercise), len(exercise)))\n",
    "print(\"ModB == Mean (x3): {}, SD: {}, Count: {}\".format(np.mean(modificbeh), np.std(modificbeh), len(modificbeh)))\n",
    "\n",
    "print(\"We cannot use Anova as the variances are not similar, we will use multiple pairwise t tests.\",\n",
    "      \"We will use 3 pairwise tests. Since this increases the Type 1 error, we will use Bonferroni's Correction\")\n",
    "\n",
    "\n",
    "x1, S1, n1 = np.mean(diet), np.std(diet), len(diet)\n",
    "x2, S2, n2 = np.mean(exercise), np.std(exercise), len(exercise)\n",
    "x3, S3, n3 = np.mean(modificbeh), np.std(modificbeh), len(modificbeh)\n",
    "\n",
    "alpha = 0.05\n",
    "adjustedAlpha = alpha / 3\n",
    "\n",
    "print(\"Adjusted Alpha: {}\".format(adjustedAlpha))\n",
    "ho = \"x1 - x2 <= 0\"\n",
    "ha = \"x1 - x2 >0\"\n",
    "\n",
    "def pairwise_t_test(S1, S2, n1, n2, x1, x2, adjustedAlpha):\n",
    "    print(\"NUll Hypothesis: {}\".format(ho))\n",
    "    print(\"Alternate Hypothesis: {}\".format(ha))\n",
    "    print(\"This is 2 Sample T test, with unknown population SD and the SD of the two are unequal\")\n",
    "    Su = ((S1 ** 2) / n1 + (S2 ** 2) / n2) ** 0.5\n",
    "    print(\"SE {}\".format(Su))\n",
    "\n",
    "    df = np.math.floor(Su ** 4 / ((((S1 ** 2) / n1) ** 2) / (n1 -1) + (((S2 ** 2) / n2) ** 2) / (n2 -1)))\n",
    "    print(\"DF {}\".format(df))\n",
    "\n",
    "    tstat = ((x1 - x2) - 0) /(Su)\n",
    "    print(\"T-stat {}\".format(tstat))\n",
    "\n",
    "    print(\"This is a two sided T-Test\")\n",
    "\n",
    "    #print(\"alpha/ Significance: {}\".format(adjustedAlpha / 2))\n",
    "    print(\"Significant t-value at alpha - {} is : {}\".format(adjustedAlpha , -1*sp.stats.t.ppf(adjustedAlpha, \n",
    "                                                                                               df = df)))\n",
    "    print(\"p-value:{} is greater than alpha({})\".format(1 - sp.stats.t.cdf(tstat, df = df), adjustedAlpha))\n",
    "    print(\"Hence we can retain the NULL Hypothesis (ho)\")\n",
    "    print(\"\\n\\n\")\n",
    "\n",
    "pairwise_t_test(S1, S2, n1, n2, x1, x2, adjustedAlpha)\n",
    "\n",
    "ho = \"x2 - x3 <= 0\"\n",
    "ha = \"x2 - x3 >0\"\n",
    "pairwise_t_test(S2, S3, n2, n3, x2, x3, adjustedAlpha)\n",
    "\n",
    "ho = \"x1 - x3 <= 0\"\n",
    "ha = \"x1 - x3 >0\"\n",
    "pairwise_t_test(S1, S3, n1, n3, x1, x3, adjustedAlpha)\n",
    "\n",
    "print(\"There is not enough statistically significant difference in weight loss between three weight loss programs\")"
   ]
  },
  {
   "cell_type": "markdown",
   "metadata": {},
   "source": [
    "# END\n",
    "***\n",
    "***"
   ]
  },
  {
   "cell_type": "code",
   "execution_count": null,
   "metadata": {},
   "outputs": [],
   "source": []
  }
 ],
 "metadata": {
  "kernelspec": {
   "display_name": "Python 3",
   "language": "python",
   "name": "python3"
  },
  "language_info": {
   "codemirror_mode": {
    "name": "ipython",
    "version": 3
   },
   "file_extension": ".py",
   "mimetype": "text/x-python",
   "name": "python",
   "nbconvert_exporter": "python",
   "pygments_lexer": "ipython3",
   "version": "3.6.6"
  }
 },
 "nbformat": 4,
 "nbformat_minor": 2
}
