{
 "cells": [
  {
   "cell_type": "code",
   "execution_count": 45,
   "metadata": {
    "collapsed": true
   },
   "outputs": [],
   "source": [
    "import scipy.stats as stats\n",
    "import numpy as np\n",
    "import pandas as pd\n",
    "import warnings\n",
    "warnings.filterwarnings('ignore')\n",
    "\n",
    "%matplotlib inline\n"
   ]
  },
  {
   "cell_type": "markdown",
   "metadata": {},
   "source": [
    "# Q 1.1\n",
    "\n",
    "We will use the following formula to calculate the coefficient of CRIM.\n",
    "\n",
    "\\begin{equation*} \\beta = r * \\frac{SD_x} {SD_Y}\\end{equation*}\n",
    "\n",
    "\\begin{equation*}\\text {where r = Correlation of X (CRIM) and Y (PRICE) &} \\end{equation*}\n",
    "\\begin{equation*}SD_x \\text{= Standard deviation of X}\\end{equation*}\n",
    "\\begin{equation*}SD_y \\text{= Standard deviation of Y}\\end{equation*}\n",
    "\n",
    "\n",
    "From table 1.1 we can find SDx = 8.60154511 & SDy = 9.197\n",
    "From table 1.2 we can find r = -.388\n",
    "\n",
    "Using the above we can find:"
   ]
  },
  {
   "cell_type": "code",
   "execution_count": 9,
   "metadata": {},
   "outputs": [
    {
     "name": "stdout",
     "output_type": "stream",
     "text": [
      "B1 -0.414859883238, implies as crime rate increases by 1 unit, unit price reduces by 0.414859883238 units\n"
     ]
    }
   ],
   "source": [
    "sd_crim = 8.60154511\n",
    "sd_price = 9.197\n",
    "\n",
    "r = -.388\n",
    "\n",
    "B1 = r * sd_price / sd_crim\n",
    "print(\"B1 {}, implies as crime rate increases by 1 unit, unit price reduces by {} units\".format(B1, abs(B1)))"
   ]
  },
  {
   "cell_type": "markdown",
   "metadata": {},
   "source": [
    "# Q 1.2\n",
    "\n",
    "The range of coefficients is given by:\n",
    "\\begin{equation*} \\beta \\pm \\text{t-crit *} SE_{beta}\\end{equation*}\n",
    "\n",
    "where t-critical is the critical value of T for significance alpha"
   ]
  },
  {
   "cell_type": "code",
   "execution_count": 14,
   "metadata": {},
   "outputs": [
    {
     "name": "stdout",
     "output_type": "stream",
     "text": [
      "T-critical at alpha 0.5 and df 505 is 1.96467263874\n",
      "Min B1 -0.328414287133\n",
      "Max B1 -0.501305479342\n",
      "Price will reduce between 32K to 50K with 95% CI, hence his assumption that it reduces by at least 30K is correct\n"
     ]
    }
   ],
   "source": [
    "n = 506\n",
    "seb1 = 0.044\n",
    "\n",
    "tcrit = abs(stats.t.ppf(0.025, df = 505))\n",
    "print(\"T-critical at alpha {} and df {} is {}\".format(0.5, 505, tcrit))\n",
    "print(\"Min B1 {}\".format(B1 + tcrit * seb1))\n",
    "print(\"Max B1 {}\".format(B1 - tcrit * seb1))\n",
    "\n",
    "print(\"Price will reduce between 32K to 50K with 95% CI, hence his assumption that it reduces by at least 30K is correct\")"
   ]
  },
  {
   "cell_type": "markdown",
   "metadata": {},
   "source": [
    "# Q 1.3\n",
    "\n",
    "Regression is valid for only the observed ranges. The min value of Crime rate = .0068 > 0. Hence it is incorrect to draw any conclusion about the predicted values of Y for Crim==0 as that value is unobserved.\n",
    "\n",
    "We cannot claim the value will be 24.03"
   ]
  },
  {
   "cell_type": "markdown",
   "metadata": {},
   "source": [
    "# Q 1.4\n",
    "\n",
    "Here Y predicted can be calculated from the regression equation:\n",
    "24.033 - 0.414 * 1 (Value of CRIM)\n",
    "\n",
    "For large values of n the range of Y-predicted is given by:\n",
    "The range of coefficients is given by:\n",
    "\\begin{equation*} \\hat Y \\pm \\text{t-crit *} SE_{Y}\\end{equation*}\n",
    "\n",
    "where t-critical is the critical value of T for significance alpha.\n",
    "\n"
   ]
  },
  {
   "cell_type": "code",
   "execution_count": 15,
   "metadata": {},
   "outputs": [
    {
     "name": "stdout",
     "output_type": "stream",
     "text": [
      "Max Value of Price for CRIM ==1 is 40.2872826671\n"
     ]
    }
   ],
   "source": [
    "se = 8.484 #seb1 * sd_crim * (n - 1) ** 0.5\n",
    "#print(se)\n",
    "\n",
    "yhat = 24.033 - 0.414 * 1\n",
    "yhat_max = (yhat + tcrit * se)\n",
    "print(\"Max Value of Price for CRIM ==1 is {}\".format(yhat_max))\n"
   ]
  },
  {
   "cell_type": "markdown",
   "metadata": {},
   "source": [
    "# Q 1.5\n",
    "\n",
    "Here Y predicted (mean value of regression) can be calculated from the regression equation:\n",
    "24.033 - 6.346 * 1 (Value of SEZ)\n",
    "\n",
    "t-critical is computed as:\n",
    "\\begin{equation*} t = \\frac {(t_o - t_{mean})} {SE_{estimate}} \\end{equation*}"
   ]
  },
  {
   "cell_type": "code",
   "execution_count": 26,
   "metadata": {},
   "outputs": [
    {
     "name": "stdout",
     "output_type": "stream",
     "text": [
      "Mean Regression value 28.44\n",
      "t-crit at alpha 0.05 is 1.27537511033\n",
      "Y-pred follows a normal distribution. Probability of Price being at least 40 lac is 10.11 percent\n"
     ]
    }
   ],
   "source": [
    "yhat = 22.094 + 6.346\n",
    "print(\"Mean Regression value {}\".format(yhat))\n",
    "\n",
    "t = (40 - yhat) / 9.064\n",
    "print(\"t-crit at alpha 0.05 is {}\".format(t))\n",
    "\n",
    "print(\"Y-pred follows a normal distribution. Probability of Price being at least 40 lac is {} percent\".format(round((1 - sp.stats.norm.cdf(t))* 100, 2)))"
   ]
  },
  {
   "cell_type": "markdown",
   "metadata": {},
   "source": [
    "# Q 1.6 - a\n",
    "\n",
    "From the residual plot we can see that the spread of standardised errors are higher for lower values of standardised prediction compared to higher values.\n",
    "\n",
    "Hence the variance of the residuals are not equal and it demonstrates heteroscedasticity\n",
    "\n",
    "# Q 1.6 - b\n",
    "\n",
    "1. It is a right skewed distribution\n",
    "2. The left tail has less proportion of data than that of a normal distribution\n",
    "3. Between 40-80 % range the distribution has much less proportion of data compared to a normal distribution\n",
    "\n",
    "From observing the P-P plot we conclude there is considerable difference between this distribution and normal distribution.\n",
    "\n",
    "# Q 1.6 - c\n",
    "\n",
    "Based on the above we can conclude that this regression equation may not be functionally correct. "
   ]
  },
  {
   "cell_type": "markdown",
   "metadata": {},
   "source": [
    "# Q 1.7\n",
    "\n",
    "The increase in R-squared when a new variable is added to a model is the given by the **Square of the Semi-Partial (PART) Correlation**.\n",
    "\n",
    "- From Table 1.7: R-squared @ Step 2 = 0.542\n",
    "- From Table 1.8: PART Correlation for adding RES = -.153 "
   ]
  },
  {
   "cell_type": "code",
   "execution_count": 19,
   "metadata": {},
   "outputs": [
    {
     "name": "stdout",
     "output_type": "stream",
     "text": [
      "R-squared in Step 3 is 0.565409\n"
     ]
    }
   ],
   "source": [
    "print(\"R-squared in Step 3 is {}\".format(0.542 + (-.153) ** 2))"
   ]
  },
  {
   "cell_type": "markdown",
   "metadata": {},
   "source": [
    "# Q 1.8 ==> better representation\n",
    "\n",
    "It reduces as there is correlation among RM and CRIM. Part of what was explained by RM in model 1 is now being explained by CRIM in model 2 hence the coefficient value reduces. ==Put in the equations and Graphs in possible\n"
   ]
  },
  {
   "cell_type": "markdown",
   "metadata": {},
   "source": [
    "# Q 1.9 ==> look again\n",
    "\n",
    "We will use the model in step - 6 for answering this question. \n",
    "\n",
    "- Since the variables are not standardised we cannot use the magnitude of the coefficients as a measure of impact on dependent variable (Price)\n",
    "- We will use the notion of the Standardised Coefficients to measure how much 1 SD change in the variable X (Predictor) changes Y (dependant)\n",
    "\n",
    "- From Tables 1.1 and 1.8 we can easily obtain the Standardised Coefficients for the regression variable and model for all variables except for RM as the SD of RM is not provided in table 1.1 and the Standardised coefficient of RM is not provided in table 1.8. Standardised Coefficient is calculated using: \n",
    "\n",
    "\\begin{equation*} \\beta_{STANDARDISED} = \\hat\\beta * \\frac {S_X} {S_Y}  \\end{equation*}\n",
    "\n",
    "where \\begin{equation*} \\text{Standard Deviation X} = S_X \\end{equation*}\n",
    "& \\begin{equation*} \\text{Standard Deviation Y} = S_Y \\end{equation*}\n",
    "\n",
    "\n",
    "- To calculate the variance of RM we will use the Model 1 and Model 2 from table 1.8. In Model1 the coefficient of RM is 9.102\n",
    "- In Model 2 the coefficient reduces to 8.391 on adding CRIM. This shows there is correlation among CRIM and RM which reduces the coefficient of RM in model 2. We can use the following equation to calculate SD of RM:\n",
    "\n",
    "\\begin{equation*} \\alpha_{RM_{Model1}} = \\beta_{RM_{Model2}} + \\frac{\\beta_{CRIM_{Model2}} * Cor(RM, CRIM)} {Var(RM)}  \\end{equation*}\n",
    "\n",
    "- SD is square root of variance\n",
    "- From tabel 1.2 Cor(RM, CRIM) = -.219, Hence SD of RM = 2.13 \n",
    "- We can now use the SD of RM to calculate the standarddised coefficient for RM\n",
    "- From the below table we can see that **RM** has the highest impact on PRICE."
   ]
  },
  {
   "cell_type": "code",
   "execution_count": 32,
   "metadata": {},
   "outputs": [
    {
     "data": {
      "text/html": [
       "<div>\n",
       "<table border=\"1\" class=\"dataframe\">\n",
       "  <thead>\n",
       "    <tr style=\"text-align: right;\">\n",
       "      <th></th>\n",
       "      <th>_</th>\n",
       "      <th>Coefficients</th>\n",
       "      <th>Standardized Coefficients</th>\n",
       "    </tr>\n",
       "  </thead>\n",
       "  <tbody>\n",
       "    <tr>\n",
       "      <th>0</th>\n",
       "      <td>INTERCEPT</td>\n",
       "      <td>-8.993</td>\n",
       "      <td></td>\n",
       "    </tr>\n",
       "    <tr>\n",
       "      <th>1</th>\n",
       "      <td>RM</td>\n",
       "      <td>7.182</td>\n",
       "      <td>1.66333</td>\n",
       "    </tr>\n",
       "    <tr>\n",
       "      <th>2</th>\n",
       "      <td>CRIM</td>\n",
       "      <td>-0.194</td>\n",
       "      <td>-0.18144</td>\n",
       "    </tr>\n",
       "    <tr>\n",
       "      <th>3</th>\n",
       "      <td>RES</td>\n",
       "      <td>-0.318</td>\n",
       "      <td>-0.238</td>\n",
       "    </tr>\n",
       "    <tr>\n",
       "      <th>4</th>\n",
       "      <td>SEZ</td>\n",
       "      <td>4.499</td>\n",
       "      <td>0.0124</td>\n",
       "    </tr>\n",
       "    <tr>\n",
       "      <th>5</th>\n",
       "      <td>Highway</td>\n",
       "      <td>-1.154</td>\n",
       "      <td>0.208</td>\n",
       "    </tr>\n",
       "    <tr>\n",
       "      <th>6</th>\n",
       "      <td>AGE</td>\n",
       "      <td>-0.077</td>\n",
       "      <td>-0.235671</td>\n",
       "    </tr>\n",
       "  </tbody>\n",
       "</table>\n",
       "</div>"
      ],
      "text/plain": [
       "           _  Coefficients Standardized Coefficients\n",
       "0  INTERCEPT        -8.993                          \n",
       "1         RM         7.182                   1.66333\n",
       "2       CRIM        -0.194                  -0.18144\n",
       "3        RES        -0.318                    -0.238\n",
       "4        SEZ         4.499                    0.0124\n",
       "5    Highway        -1.154                     0.208\n",
       "6        AGE        -0.077                 -0.235671"
      ]
     },
     "execution_count": 32,
     "metadata": {},
     "output_type": "execute_result"
    }
   ],
   "source": [
    "#print(((8.391 * .388) / (9.102 - 8.391))**0.5)\n",
    "\n",
    "data = pd.DataFrame({\"_\": [\"INTERCEPT\",\"RM\",\"CRIM\",\"RES\",\"SEZ\",\"Highway\", \"AGE\"]})\n",
    "data[\"Coefficients\"] = [-8.993, 7.182, -.194, -.318, 4.499, -1.154, -.077]\n",
    "data[\"Standardized Coefficients\"] = ['', 7.182 * 2.13 / 9.197, -.194 * 8.60154511 / 9.197, \n",
    "                                     -.238, .0124, .208, \n",
    "                                     -.077 * 28.1489 / 9.197]\n",
    "data"
   ]
  },
  {
   "cell_type": "markdown",
   "metadata": {},
   "source": [
    "# Q 2.1\n",
    "\n",
    "1. The model explains 42.25% of variation in box office collection.\n",
    "2. There are outliers in the model.\n",
    "3. The residuals do not follow a normal distribution.\n",
    "4. The model cannot be used since R-square is low.\n",
    "5. Box office collection increases as the budget increases.\n",
    "\n",
    "\n",
    "1, 2, 3 are right ==> color / highlight"
   ]
  },
  {
   "cell_type": "markdown",
   "metadata": {},
   "source": [
    "# Q 2.2\n",
    "\n",
    "Here Budget (X) can never be = 0, as it may not be possible to produce a movie without money and X = 0 is unobserved i.e. X = 0 falls outside the domain of the observed values of the variable X. The relationship between the variables can change as we move outside the observed region. We cannot predict for a point that is outside the range of observed values using the regression model. \n",
    "\n",
    "The Model explains the relationship between Y and X within the range of observed values only. Hence Mr Chellapa's observation is incorrect\n"
   ]
  },
  {
   "cell_type": "markdown",
   "metadata": {},
   "source": [
    "# Q 2.3 == check again?\n",
    "\n",
    "Since the variable is insignificant at alpha = 0.05, hence the coefficient may not be different from zero. There is is no statistical validity that the collection of movie released in Releasing_Time Normal_Season is different from Releasing_Time Holiday_Season (which is factored in the intercept / constant).\n",
    "\n",
    "Since we do not have the data hence we cannot rerun the model. We will assume that the co-efficient is 0 and it's removal does not have any effect on the overall equation (other significant variables).\n",
    "\n",
    "Hence the difference is **Zero**."
   ]
  },
  {
   "cell_type": "code",
   "execution_count": 23,
   "metadata": {},
   "outputs": [],
   "source": [
    "y = 2.685 + .147\n",
    "#print(\"With beta = .147 y = {}\".format(y))\n",
    "#print(\"With beta = 0 y = {}\".format(2.685))\n"
   ]
  },
  {
   "cell_type": "markdown",
   "metadata": {},
   "source": [
    "# Q 2.4 == check again?\n",
    "\n",
    "The beta for Release Normal Time is being considered as 0 as it is statistically insignificant at alpha. Hence it will be factored in the Intercept term. Releasing_Time Long_Weekend is statistically significant and the coefficient = 1.247. "
   ]
  },
  {
   "cell_type": "code",
   "execution_count": 33,
   "metadata": {},
   "outputs": [
    {
     "name": "stdout",
     "output_type": "stream",
     "text": [
      "Max B can be 2.4018319999999997\n",
      "Min B can be 0.09216800000000025\n",
      "Movies released in Long Wekends may earn upto 2.4 lac more than movies released in normal season.\n",
      "Mr. Chellapa's statement is statistically incorrect.\n"
     ]
    }
   ],
   "source": [
    "Bmax = 1.247 + 1.964 *.588\n",
    "print(\"Max B can be {}\".format(Bmax))\n",
    "Bmin = 1.247 - 1.964 *.588\n",
    "print(\"Min B can be {}\".format(Bmin))\n",
    "print(\"Movies released in Long Wekends may earn upto 2.4 lac more than movies released in normal season.\")\n",
    "print(\"Mr. Chellapa's statement is statistically incorrect.\")"
   ]
  },
  {
   "cell_type": "markdown",
   "metadata": {},
   "source": [
    "# Q 2.5\n",
    "\n",
    "The increase in R-squared when a new variable is added to a model is the given by the **Square of the Semi-Partial (PART) Correlation**.\n",
    "\n",
    "- From Table 2.5 : R-squared @ Step 5 = 0.810 ** 2 = .6561\n",
    "- From Table 2.6: PART Correlation for adding Director_CAT C = -.104 "
   ]
  },
  {
   "cell_type": "code",
   "execution_count": null,
   "metadata": {
    "collapsed": true
   },
   "outputs": [],
   "source": [
    "print(\"R-squared in Step 3 is {}\".format(0.6561 + (-.104) ** 2))"
   ]
  },
  {
   "cell_type": "markdown",
   "metadata": {},
   "source": [
    "# Q2.6 ==> Need to relook at this( can we do some hypothesis tests)\n",
    "\n",
    "- Budget_35_Cr is the highest impact on the performance of the movie. \n",
    "- Recommendation is to use high enough budget to hire Category A Production House, Category C Director and Music Director and produce a Comedy movie. "
   ]
  },
  {
   "cell_type": "markdown",
   "metadata": {},
   "source": [
    "# Q 2.7\n",
    "\n",
    "- We cannot say that the variables have no relationship to Y (BOX Office Collection)\n",
    "- We can conclude that in presence of the other variables the variables in Model 2 are not explaining additional information about Y >> Formulate more nicely (charts and graphs are needed - Venn Diagram)\n",
    "\n"
   ]
  },
  {
   "cell_type": "code",
   "execution_count": 33,
   "metadata": {},
   "outputs": [
    {
     "ename": "ImportError",
     "evalue": "No module named matplotlib_venn",
     "output_type": "error",
     "traceback": [
      "\u001b[0;31m---------------------------------------------------------------------------\u001b[0m",
      "\u001b[0;31mImportError\u001b[0m                               Traceback (most recent call last)",
      "\u001b[0;32m<ipython-input-33-4b99e0e78fc5>\u001b[0m in \u001b[0;36m<module>\u001b[0;34m()\u001b[0m\n\u001b[1;32m      1\u001b[0m \u001b[1;31m# Import the library\u001b[0m\u001b[1;33m\u001b[0m\u001b[1;33m\u001b[0m\u001b[0m\n\u001b[1;32m      2\u001b[0m \u001b[1;32mimport\u001b[0m \u001b[0mmatplotlib\u001b[0m\u001b[1;33m.\u001b[0m\u001b[0mpyplot\u001b[0m \u001b[1;32mas\u001b[0m \u001b[0mplt\u001b[0m\u001b[1;33m\u001b[0m\u001b[0m\n\u001b[0;32m----> 3\u001b[0;31m \u001b[1;32mfrom\u001b[0m \u001b[0mmatplotlib_venn\u001b[0m \u001b[1;32mimport\u001b[0m \u001b[0mvenn3\u001b[0m\u001b[1;33m\u001b[0m\u001b[0m\n\u001b[0m\u001b[1;32m      4\u001b[0m \u001b[1;33m\u001b[0m\u001b[0m\n\u001b[1;32m      5\u001b[0m \u001b[0mx\u001b[0m \u001b[1;33m=\u001b[0m\u001b[1;36m10\u001b[0m\u001b[1;33m\u001b[0m\u001b[0m\n",
      "\u001b[0;31mImportError\u001b[0m: No module named matplotlib_venn"
     ]
    }
   ],
   "source": [
    "# Import the library\n",
    "import matplotlib.pyplot as plt\n",
    "from matplotlib_venn import venn3\n",
    "\n",
    "x =10\n",
    " \n",
    "# Make the diagram\n",
    "venn3(subsets = (x, 10, 10, 10, 10,10, 10))\n",
    "plt.show()"
   ]
  },
  {
   "cell_type": "markdown",
   "metadata": {},
   "source": [
    "# Q 2.8\n",
    "\n",
    "We are making the assumption that the variable Youtube views imply views of the actual movie and not the trailers before movie release dates. The following explanation will not be valid in that case. Also, we are assuming that revenue collected from advertisements during Youtube views do not fall under the Box Office Collection.\n",
    "\n",
    "Youtube_Views = Will not contribute anything meaningful functionally to the Box Office collection as the movie has been created and released in theaters and all possible collection is completed. The main essence of the prediction here is to understand before making a movie, what all factors may lead to better revenue collection for a movie"
   ]
  },
  {
   "cell_type": "markdown",
   "metadata": {},
   "source": [
    "# Q 3.1"
   ]
  },
  {
   "cell_type": "markdown",
   "metadata": {},
   "source": [
    "### Table 3.1\n",
    "\n",
    "- **Observations** (N) = 543\n",
    "- **Standard Error**\n",
    "    - \\begin{equation*} SE = \\sqrt {\\frac{ \\sum_{k=1}^N {(Y_k - \\hat{Y_k})^2}} {N - 2}} \\end{equation*}\n",
    "\n",
    "      \\begin{equation*} (Y_k - \\hat{Y_k})^2 = \\epsilon_k^2 = \\text{Residual SS (SSE)} = \\text{17104.06 (Table 3.2)}\\end{equation*}\n",
    "\n",
    "\n",
    "- **R-Squared** = 1 - SSE / SST\n",
    "    - SSE = 17104.06 (Table 3.2)\n",
    "    - SST = 36481.89 (Table 3.2)\n",
    "\n",
    "\n",
    "\n",
    "- **Adjuated R-Squared** = 1 - (SSE / N-k-1) / (SST/N-1)\n",
    "    - N = 543\n",
    "    - K = 3\n",
    "\n",
    "\n",
    "\n",
    "- **Multiple R** = \\begin{equation*} \\sqrt R_{Squared}\\end{equation*}\n"
   ]
  },
  {
   "cell_type": "code",
   "execution_count": 34,
   "metadata": {},
   "outputs": [
    {
     "data": {
      "text/html": [
       "<div>\n",
       "<table border=\"1\" class=\"dataframe\">\n",
       "  <thead>\n",
       "    <tr style=\"text-align: right;\">\n",
       "      <th></th>\n",
       "      <th>Regression Statistics</th>\n",
       "      <th>_</th>\n",
       "    </tr>\n",
       "  </thead>\n",
       "  <tbody>\n",
       "    <tr>\n",
       "      <th>0</th>\n",
       "      <td>Multiple R</td>\n",
       "      <td>0.728809</td>\n",
       "    </tr>\n",
       "    <tr>\n",
       "      <th>1</th>\n",
       "      <td>R Square</td>\n",
       "      <td>0.531163</td>\n",
       "    </tr>\n",
       "    <tr>\n",
       "      <th>2</th>\n",
       "      <td>Adjusted R Squared</td>\n",
       "      <td>0.528554</td>\n",
       "    </tr>\n",
       "    <tr>\n",
       "      <th>3</th>\n",
       "      <td>Standard Error</td>\n",
       "      <td>5.622778</td>\n",
       "    </tr>\n",
       "    <tr>\n",
       "      <th>4</th>\n",
       "      <td>Observations</td>\n",
       "      <td>543.000000</td>\n",
       "    </tr>\n",
       "  </tbody>\n",
       "</table>\n",
       "</div>"
      ],
      "text/plain": [
       "  Regression Statistics           _\n",
       "0            Multiple R    0.728809\n",
       "1              R Square    0.531163\n",
       "2    Adjusted R Squared    0.528554\n",
       "3        Standard Error    5.622778\n",
       "4          Observations  543.000000"
      ]
     },
     "execution_count": 34,
     "metadata": {},
     "output_type": "execute_result"
    }
   ],
   "source": [
    "x = [\"Multiple R\", \"R Square\", \"Adjusted R Squared\", \"Standard Error\", \"Observations\"]\n",
    "data = pd.DataFrame({\"Regression Statistics\": x})\n",
    "data[\"_\"] = [(1 - 17104.06/36481.89) ** 0.5,1 - 17104.06/36481.89, 1 - (17104.06/(543 - 3 -1))/(36481.89/542),((17104.06)/541) ** 0.5,543]\n",
    "data"
   ]
  },
  {
   "cell_type": "markdown",
   "metadata": {},
   "source": [
    "### Table 3.2\n",
    "\n",
    "- **DF Calculation**\n",
    "    - DF for Regression (K) = Number of variables = 3\n",
    "    - DF for Residual = N - K - 1 = 539\n",
    "\n",
    "\n",
    "- **SS Calculation**\n",
    "    - Residual SS (SSE) = 17104.06 (given)\n",
    "    - Total SS (TSS)= 36481.89 (given)\n",
    "    - Regression SS (SSR) = TSS - SSE = 19377.83\n",
    "\n",
    "\n",
    "- **MS Calculation**\n",
    "    - MSR (Regression) = SSR / DF for SSR (=3)\n",
    "    - MSE (Error) = SSE / DF for SSE (= 539)\n",
    "\n",
    "\n",
    "- **F Claculation**\n",
    "    - F = MSR / MSE"
   ]
  },
  {
   "cell_type": "code",
   "execution_count": 35,
   "metadata": {},
   "outputs": [
    {
     "data": {
      "text/html": [
       "<div>\n",
       "<table border=\"1\" class=\"dataframe\">\n",
       "  <thead>\n",
       "    <tr style=\"text-align: right;\">\n",
       "      <th></th>\n",
       "      <th>_</th>\n",
       "      <th>DF</th>\n",
       "      <th>SS</th>\n",
       "      <th>MS</th>\n",
       "      <th>F</th>\n",
       "      <th>SignificanceF</th>\n",
       "    </tr>\n",
       "  </thead>\n",
       "  <tbody>\n",
       "    <tr>\n",
       "      <th>0</th>\n",
       "      <td>Regression</td>\n",
       "      <td>3</td>\n",
       "      <td>19377.83</td>\n",
       "      <td>9688.92</td>\n",
       "      <td>312.546</td>\n",
       "      <td>1.11022e-16</td>\n",
       "    </tr>\n",
       "    <tr>\n",
       "      <th>1</th>\n",
       "      <td>Residual</td>\n",
       "      <td>539</td>\n",
       "      <td>17104.06</td>\n",
       "      <td>31</td>\n",
       "      <td></td>\n",
       "      <td></td>\n",
       "    </tr>\n",
       "    <tr>\n",
       "      <th>2</th>\n",
       "      <td>Total</td>\n",
       "      <td>542</td>\n",
       "      <td>36481.89</td>\n",
       "      <td></td>\n",
       "      <td></td>\n",
       "      <td></td>\n",
       "    </tr>\n",
       "  </tbody>\n",
       "</table>\n",
       "</div>"
      ],
      "text/plain": [
       "            _   DF        SS       MS        F SignificanceF\n",
       "0  Regression    3  19377.83  9688.92  312.546   1.11022e-16\n",
       "1    Residual  539  17104.06       31                       \n",
       "2       Total  542  36481.89                                "
      ]
     },
     "execution_count": 35,
     "metadata": {},
     "output_type": "execute_result"
    }
   ],
   "source": [
    "x = [\"Regression\", \"Residual\", \"Total\"]\n",
    "ss = [36481.89 - 17104.06, 17104.06,36481.89]\n",
    "df = [3, 539,542]\n",
    "ms = [19377.83 / 2, 17104 / 539, '']\n",
    "f = [(19377.83 / 2) / (17104 / 539),'','']\n",
    "sf = [1 - sp.stats.f.cdf(305, 3, 539),'','']\n",
    "\n",
    "data = pd.DataFrame({\"_\": x})\n",
    "data[\"DF\"] = df\n",
    "data[\"SS\"] = ss\n",
    "data[\"MS\"] = ms\n",
    "data[\"F\"] = f\n",
    "data[\"SignificanceF\"] = sf\n",
    "\n",
    "data"
   ]
  },
  {
   "cell_type": "markdown",
   "metadata": {},
   "source": [
    "### Table 3.3 - Coefficients\n",
    "\n",
    "- MLR T-Test\n",
    "    - \\begin{equation*} t_i = \\frac {\\beta_i - 0} {Se(\\beta_i)}\\end{equation*}\n",
    "    where i denotes the different variables (here i = 3)"
   ]
  },
  {
   "cell_type": "code",
   "execution_count": 36,
   "metadata": {},
   "outputs": [
    {
     "data": {
      "text/html": [
       "<div>\n",
       "<table border=\"1\" class=\"dataframe\">\n",
       "  <thead>\n",
       "    <tr style=\"text-align: right;\">\n",
       "      <th></th>\n",
       "      <th>_</th>\n",
       "      <th>Coefficeints</th>\n",
       "      <th>Standard Error</th>\n",
       "      <th>t Stat</th>\n",
       "      <th>P-Value</th>\n",
       "      <th>Lower 95%</th>\n",
       "      <th>Upper 95%</th>\n",
       "    </tr>\n",
       "  </thead>\n",
       "  <tbody>\n",
       "    <tr>\n",
       "      <th>0</th>\n",
       "      <td>Intercept</td>\n",
       "      <td>38.592350</td>\n",
       "      <td>0.937225</td>\n",
       "      <td>41.177252</td>\n",
       "      <td></td>\n",
       "      <td>36.751290</td>\n",
       "      <td>40.433411</td>\n",
       "    </tr>\n",
       "    <tr>\n",
       "      <th>1</th>\n",
       "      <td>Margin</td>\n",
       "      <td>0.000053</td>\n",
       "      <td>0.000002</td>\n",
       "      <td>24.403670</td>\n",
       "      <td></td>\n",
       "      <td>0.000049</td>\n",
       "      <td>0.000057</td>\n",
       "    </tr>\n",
       "    <tr>\n",
       "      <th>2</th>\n",
       "      <td>Gender</td>\n",
       "      <td>1.551306</td>\n",
       "      <td>0.777806</td>\n",
       "      <td>1.994464</td>\n",
       "      <td></td>\n",
       "      <td>0.023404</td>\n",
       "      <td>3.079208</td>\n",
       "    </tr>\n",
       "    <tr>\n",
       "      <th>3</th>\n",
       "      <td>College</td>\n",
       "      <td>-1.475060</td>\n",
       "      <td>0.586995</td>\n",
       "      <td>-2.512900</td>\n",
       "      <td></td>\n",
       "      <td>-2.628140</td>\n",
       "      <td>-0.321978</td>\n",
       "    </tr>\n",
       "  </tbody>\n",
       "</table>\n",
       "</div>"
      ],
      "text/plain": [
       "           _  Coefficeints  Standard Error     t Stat P-Value  Lower 95%  \\\n",
       "0  Intercept     38.592350        0.937225  41.177252          36.751290   \n",
       "1     Margin      0.000053        0.000002  24.403670           0.000049   \n",
       "2     Gender      1.551306        0.777806   1.994464           0.023404   \n",
       "3    College     -1.475060        0.586995  -2.512900          -2.628140   \n",
       "\n",
       "   Upper 95%  \n",
       "0  40.433411  \n",
       "1   0.000057  \n",
       "2   3.079208  \n",
       "3  -0.321978  "
      ]
     },
     "execution_count": 36,
     "metadata": {},
     "output_type": "execute_result"
    }
   ],
   "source": [
    "data = pd.DataFrame({\"_\":[\"Intercept\", \"Margin\", \"Gender\", \"College\"]})\n",
    "data[\"Coefficeints\"] = [38.59235, 5.32e-05, 1.551306, -1.47506]\n",
    "data[\"Standard Error\"] = [0.937225, 2.18e-06, 0.777806, 0.586995]\n",
    "data[\"t Stat\"] = [(38.59235 / 0.937225),5.32e-05 /  2.18e-06, 1.551306/0.777806, -1.47506/ 0.586995]\n",
    "data[\"P-Value\"] = ['','','','']\n",
    "data[\"Lower 95%\"] = [36.75129, 4.89E-05, 0.023404, -2.62814]\n",
    "data[\"Upper 95%\"] = [40.4334106,5.7463E-05,3.07920835,-0.3219783]\n",
    "\n",
    "\n",
    "data"
   ]
  },
  {
   "cell_type": "markdown",
   "metadata": {},
   "source": [
    "# Q 3.2\n",
    "\n",
    "From the table above we see that for all the variables the t-value > 1.964. hence all the variables are significant."
   ]
  },
  {
   "cell_type": "markdown",
   "metadata": {},
   "source": [
    "# Q 3.3\n",
    "\n",
    "F-distribution with DF = 3, 539 at significance = 95% is 2.621. Hence the  model is significant."
   ]
  },
  {
   "cell_type": "code",
   "execution_count": 39,
   "metadata": {},
   "outputs": [
    {
     "data": {
      "text/plain": [
       "2.6214400365865611"
      ]
     },
     "execution_count": 39,
     "metadata": {},
     "output_type": "execute_result"
    }
   ],
   "source": [
    "1 - sp.stats.f.cdf(2.621, 3, 539)\n",
    "sp.stats.f.ppf(0.95, 3, 539)"
   ]
  },
  {
   "cell_type": "markdown",
   "metadata": {},
   "source": [
    "# Q 3.4\n",
    "\n",
    "The increase in R-squared when a new variable is added to a model is the given by the **Square of the Semi-Partial (PART) Correlation**.\n",
    "\n",
    "- R-squared for Model 2 = 0.52567 (R1)\n",
    "- R-squared for Model 3 = 0.531163 (R2)\n",
    "\n",
    "Part Correlation of College & % Votes = \\begin{equation*}\\sqrt{R_2 - R_1} \\end{equation*}\n"
   ]
  },
  {
   "cell_type": "code",
   "execution_count": 40,
   "metadata": {},
   "outputs": [
    {
     "name": "stdout",
     "output_type": "stream",
     "text": [
      "Increase in R-Squared due to adding College = 0.005493\n",
      "Part Correlation of College & % Votes = 0.0741147758548\n"
     ]
    }
   ],
   "source": [
    "print(\"Increase in R-Squared due to adding College = {}\".format(0.531163 - 0.52567))\n",
    "print(\"Part Correlation of College & % Votes = {}\".format((0.531163 - 0.52567)**0.5))"
   ]
  },
  {
   "cell_type": "markdown",
   "metadata": {},
   "source": [
    "# Q 3.5\n",
    "\n",
    "We will conduct Partial F-test between models to test for significance of each model. We make the assumption that the variables added are significant at each step (model) at alpha 0.05\n",
    "\n",
    "\\begin{equation*}F_{PARTIAL} = \\frac{\\frac{R_{FULL}^2 - R_{PARTIAL}^2} {k - r}}  {\\frac{1 - R_{FULL}^2} {N - k - 1}}\\end{equation*}\n",
    "\n",
    "where k = variables in full model,\n",
    "      r = variables in reduced model,\n",
    "      N = Total number of records\n"
   ]
  },
  {
   "cell_type": "code",
   "execution_count": 41,
   "metadata": {},
   "outputs": [
    {
     "name": "stdout",
     "output_type": "stream",
     "text": [
      "Model 3 Partial F 4.35874463399\n",
      "Model 3 Critical F at Df = (1, 539) 0.0372611210892\n",
      "Model 4 Partial F 25.1317657533\n",
      "Model 4 Critical F at Df = (1, 539) 7.28176735132e-07\n",
      "Model 5 Partial F 19.2914065358\n",
      "Model 5 Critical F at Df = (1, 539) 1.35225861937e-05\n",
      "\n",
      "Hence we can see that all the models are significant. The number of features (5) are not very high, hence we conclude it's justified to add the additional variables\n"
     ]
    }
   ],
   "source": [
    "def f_partial(rf, rp, n, k, r):\n",
    "    return ((rf **2 - rp ** 2)/(k-r))/((1 - rf ** 2)/ (n - k - 1))\n",
    "\n",
    "print(\"Model 3 Partial F {}\".format(f_partial(0.531163, 0.52567, 543, 3, 2)))\n",
    "print(\"Model 3 Critical F at Df = (1, 539) {}\".format(1 - sp.stats.f.cdf(4.36, 1, 539)))\n",
    "print(\"Model 4 Partial F {}\".format(f_partial(0.56051, 0.531163, 543, 4, 3)))\n",
    "print(\"Model 4 Critical F at Df = (1, 539) {}\".format(1 - sp.stats.f.cdf(25.13, 1, 539)))\n",
    "print(\"Model 5 Partial F {}\".format(f_partial(0.581339, 0.56051, 543, 5, 4)))\n",
    "print(\"Model 5 Critical F at Df = (1, 539) {}\".format(1 - sp.stats.f.cdf(19.29, 1, 539)))\n",
    "\n",
    "print(\"\\nHence we can see that all the models are significant. The number of features (5) are not very high, hence we conclude it's justified to add the additional variables\")"
   ]
  },
  {
   "cell_type": "markdown",
   "metadata": {},
   "source": [
    "# Q 3.6\n",
    "\n",
    "- Equations used for computing Standardized coefficients are provided in Q1.9\n",
    "- Since the variables are not standardised we cannot use the magnitude of the coefficients as a measure of impact on dependent variable (Vote %)\n",
    "- We will use the notion of the Standardised Coefficients to measure how much 1 SD change in the variable X (Predictor) changes Y (dependant)\n",
    "\n",
    "- From the below table we can see that **MARGIN** has the highest impact on Vote %. 1 SD change in Margin changes .75 SD in Vote %"
   ]
  },
  {
   "cell_type": "code",
   "execution_count": 42,
   "metadata": {},
   "outputs": [
    {
     "data": {
      "text/html": [
       "<div>\n",
       "<table border=\"1\" class=\"dataframe\">\n",
       "  <thead>\n",
       "    <tr style=\"text-align: right;\">\n",
       "      <th></th>\n",
       "      <th>_</th>\n",
       "      <th>Coefficients</th>\n",
       "      <th>Standard deviation</th>\n",
       "      <th>Standardized Coefficients</th>\n",
       "    </tr>\n",
       "  </thead>\n",
       "  <tbody>\n",
       "    <tr>\n",
       "      <th>0</th>\n",
       "      <td>INTERCEPT</td>\n",
       "      <td>38.569930</td>\n",
       "      <td></td>\n",
       "      <td></td>\n",
       "    </tr>\n",
       "    <tr>\n",
       "      <th>1</th>\n",
       "      <td>MARGIN</td>\n",
       "      <td>0.000056</td>\n",
       "      <td>111366</td>\n",
       "      <td>0.757437</td>\n",
       "    </tr>\n",
       "    <tr>\n",
       "      <th>2</th>\n",
       "      <td>Gender</td>\n",
       "      <td>1.498308</td>\n",
       "      <td>0.311494</td>\n",
       "      <td>0.0568868</td>\n",
       "    </tr>\n",
       "    <tr>\n",
       "      <th>3</th>\n",
       "      <td>College</td>\n",
       "      <td>-1.537740</td>\n",
       "      <td>0.412796</td>\n",
       "      <td>-0.0773712</td>\n",
       "    </tr>\n",
       "    <tr>\n",
       "      <th>4</th>\n",
       "      <td>UP</td>\n",
       "      <td>-3.714390</td>\n",
       "      <td>0.354761</td>\n",
       "      <td>-0.160614</td>\n",
       "    </tr>\n",
       "    <tr>\n",
       "      <th>5</th>\n",
       "      <td>AP</td>\n",
       "      <td>5.715821</td>\n",
       "      <td>0.209766</td>\n",
       "      <td>0.146142</td>\n",
       "    </tr>\n",
       "  </tbody>\n",
       "</table>\n",
       "</div>"
      ],
      "text/plain": [
       "           _  Coefficients Standard deviation Standardized Coefficients\n",
       "0  INTERCEPT     38.569930                                             \n",
       "1     MARGIN      0.000056             111366                  0.757437\n",
       "2     Gender      1.498308           0.311494                 0.0568868\n",
       "3    College     -1.537740           0.412796                -0.0773712\n",
       "4         UP     -3.714390           0.354761                 -0.160614\n",
       "5         AP      5.715821           0.209766                  0.146142"
      ]
     },
     "execution_count": 42,
     "metadata": {},
     "output_type": "execute_result"
    }
   ],
   "source": [
    "data = pd.DataFrame({\"_\": [\"INTERCEPT\",\"MARGIN\",\"Gender\",\"College\",\"UP\",\"AP\"]})\n",
    "data[\"Coefficients\"] = [38.56993, 5.58E-05, 1.498308, -1.53774, -3.71439, 5.715821]\n",
    "data[\"Standard deviation\"] = ['', 111365.7, 0.311494, 0.412796, 0.354761, 0.209766]\n",
    "data[\"Standardized Coefficients\"] = ['', 5.58E-05 * 111365.7 / 8.204253, 1.498308 * 0.311494 / 8.204253,\n",
    "                                     -1.53774 * 0.412796 / 8.204253, -3.71439 * 0.354761 / 8.204253, \n",
    "                                     5.715821 * 0.209766 / 8.204253]\n",
    "data"
   ]
  },
  {
   "cell_type": "markdown",
   "metadata": {},
   "source": [
    "# Q 4.1"
   ]
  },
  {
   "cell_type": "code",
   "execution_count": 46,
   "metadata": {},
   "outputs": [
    {
     "name": "stdout",
     "output_type": "stream",
     "text": [
      "Total Positives: 1045  ::  Total Negatives: 955  ::  Total Records: 2000\n",
      "P(Y=1) = positives / N = 0  ::  P(Y=0) = negatives /N = 0\n",
      "-2LL0 = inf\n"
     ]
    }
   ],
   "source": [
    "positives = 353+692\n",
    "negatives = 751+204\n",
    "\n",
    "N = positives + negatives\n",
    "\n",
    "print(\"Total Positives: {}  ::  Total Negatives: {}  ::  Total Records: {}\".format(positives, negatives, N))\n",
    "\n",
    "pi1 = positives / N\n",
    "pi2 = negatives / N\n",
    "\n",
    "print(\"P(Y=1) = positives / N = {}  ::  P(Y=0) = negatives /N = {}\".format(pi1, pi2))\n",
    "\n",
    "_2LL0 = -2* (negatives * np.log(pi2) + positives * np.log(pi1))\n",
    "print(\"-2LL0 = {}\".format(_2LL0))"
   ]
  },
  {
   "cell_type": "markdown",
   "metadata": {},
   "source": [
    "- -2LLo is called the \"Null Deviance\" of a model. It is -2 Log Likelihood of a model which had no predictor variables. Hence we obtain the probabilities of positive and negative in the dataset using the frequencies for such model.\n",
    "\n",
    "- After adding \"Premium\" 2LL reduces to 2629.318 (Table 4.2). Hence reduction is equal to (-2LLo -(-2LLm)):"
   ]
  },
  {
   "cell_type": "code",
   "execution_count": 47,
   "metadata": {},
   "outputs": [
    {
     "name": "stdout",
     "output_type": "stream",
     "text": [
      "139.219\n"
     ]
    }
   ],
   "source": [
    "print(2768.537 - 2629.318)"
   ]
  },
  {
   "cell_type": "markdown",
   "metadata": {},
   "source": [
    "# Q 4.2"
   ]
  },
  {
   "cell_type": "code",
   "execution_count": 49,
   "metadata": {},
   "outputs": [
    {
     "name": "stdout",
     "output_type": "stream",
     "text": [
      "True Positive :Actually Positive and Predicted Positive = 692\n",
      "False Positive :Actually Negative and Predicted Positive = 204\n",
      "Precision = True Positive / (True Positive + False Positive) = 0.772321428571\n"
     ]
    }
   ],
   "source": [
    "print(\"True Positive :Actually Positive and Predicted Positive = {}\".format(692))\n",
    "print(\"False Positive :Actually Negative and Predicted Positive = {}\".format(204))\n",
    "\n",
    "print(\"Precision = True Positive / (True Positive + False Positive) = {}\".format(692.0 / (692 + 204)))"
   ]
  },
  {
   "cell_type": "markdown",
   "metadata": {},
   "source": [
    "# Q 4.3\n",
    "\n",
    "exp(B) = change in odds ratio. The odds ratio can be interpreted as the multiplicative adjustment to the odds of the outcome, given a **unit** change in the independent variable. In this case the unit of measurement for Premium (1 INR) which is very small compared to the actual Premium (1000s INR), hence a unit change does not lead to a meaningful change in odds ratio, subsequently the odds ratio will be very close to one. "
   ]
  },
  {
   "cell_type": "markdown",
   "metadata": {},
   "source": [
    "# Q 4.4"
   ]
  },
  {
   "cell_type": "code",
   "execution_count": 50,
   "metadata": {},
   "outputs": [
    {
     "name": "stdout",
     "output_type": "stream",
     "text": [
      "The model predicts 751 + 353 = 1104 customers have a probability less than 0.5 of paying premium\n",
      "The will call 1104 customers through Call Center\n"
     ]
    }
   ],
   "source": [
    "print(\"The model predicts 751 + 353 = {} customers have a probability less than 0.5 of paying premium\".format(\n",
    "    751+353))\n",
    "print(\"The will call 1104 customers through Call Center\")"
   ]
  },
  {
   "cell_type": "markdown",
   "metadata": {},
   "source": [
    "# Q 4.5 \n",
    "\n",
    "Total points we are getting is 1960.\n",
    "\n",
    "total = tp + fp + fn + tn\n",
    "\n",
    "sensitivity = tp/ (tp + fn)\n",
    "specificity = tn / (tn + fp)\n",
    "\n",
    "recall = sensitivity\n",
    "precision = tp / (tp + fp)"
   ]
  },
  {
   "cell_type": "code",
   "execution_count": 58,
   "metadata": {},
   "outputs": [
    {
     "name": "stdout",
     "output_type": "stream",
     "text": [
      "1960.0\n",
      "Precision 0.75 :: \n",
      "Recall 0.0555555555556 :: \n",
      "sensitivity 0.0555555555556 :: \n",
      "specificity 0.977272727273 ::\n"
     ]
    }
   ],
   "source": [
    "tp = 60.0 \n",
    "fp = 20.0\n",
    "\n",
    "fn = 51*20\n",
    "tn = 43 * 20\n",
    "\n",
    "total = tp + fp + fn + tn\n",
    "print(total)\n",
    "\n",
    "sensitivity = tp/ (tp + fn)\n",
    "specificity = tn / (tn + fp)\n",
    "\n",
    "recall = sensitivity\n",
    "precision = tp / (tp + fp)\n",
    "\n",
    "print(\"Precision {} :: \\nRecall {} :: \\nsensitivity {} :: \\nspecificity {} ::\".format(precision, recall, sensitivity, specificity))"
   ]
  },
  {
   "cell_type": "markdown",
   "metadata": {},
   "source": [
    "# Q 4.6\n",
    "\n",
    "Probability can be calculated using the following formula:\n",
    "\n",
    "\\begin{equation*} P(Y=1) = \\frac{\\exp^z} {1 + \\exp^z}\n",
    "\\end{equation*}\n",
    "\n",
    "\\begin{equation*} \\text{where z} = \\beta_0 + \\beta_1 * Salaried + \\beta_2 * HouseWife +\\beta_3 * others\\end{equation*}\n",
    "\n",
    "However in this case the variable Housewife is not a significant variable. Hence using this equation to calculate probability for the variable house wife may not be appropriate. However we will procced to compute the probability using the equation, using the coefficient in the equation and also using the coefficient as 0 (B is not significantly different from 0 for insignificant variables)"
   ]
  },
  {
   "cell_type": "code",
   "execution_count": 60,
   "metadata": {},
   "outputs": [
    {
     "name": "stdout",
     "output_type": "stream",
     "text": [
      "Probability of House wife paying the Premium is (beta ==22.061): 0.999999999381\n",
      "Probability of House wife paying the Premium is (beta = 0): 0.297757372269\n",
      "Since Beta is insignificant Beta == 0, hence .298 is the probability for housewife paying renewal\n"
     ]
    }
   ],
   "source": [
    "print(\"Probability of House wife paying the Premium is (beta ==22.061): {}\".format(np.exp(-.858 + 22.061)\n",
    "                                                                    / (1 + np.exp(-.858 + 22.061))))\n",
    "\n",
    "print(\"Probability of House wife paying the Premium is (beta = 0): {}\".format(np.exp(-.858 + 0)\n",
    "                                                                    / (1 + np.exp(-.858 + 0))))\n",
    "\n",
    "print(\"Since Beta is insignificant Beta == 0, hence .298 is the probability for housewife paying renewal\")"
   ]
  },
  {
   "cell_type": "markdown",
   "metadata": {},
   "source": [
    "# Q 4.7\n",
    "\n",
    "The Constant / Intercept measures for people with the following occupations **Professionals, Business and Agriculture** and they have a lower probability of renewal payment"
   ]
  },
  {
   "cell_type": "markdown",
   "metadata": {},
   "source": [
    "# Q 4.8\n",
    "\n",
    "Probability can be calculated using the following formula:\n",
    "\n",
    "\\begin{equation*} P(Y=1) = \\frac{\\exp^z} {1 + \\exp^z}\n",
    "\\end{equation*}\n",
    "\n",
    "\\begin{equation*} \\text{where z} = constant + \\beta_1 * Policy Term\\end{equation*}\n",
    "\n",
    "SSC Education, Agriculturist Profession & Marital Status Single will be factored in the term constant of the given equation.\n"
   ]
  },
  {
   "cell_type": "code",
   "execution_count": 61,
   "metadata": {},
   "outputs": [
    {
     "name": "stdout",
     "output_type": "stream",
     "text": [
      "Probability : 0.824190402911\n"
     ]
    }
   ],
   "source": [
    "print(\"Probability : {}\".format(np.exp(3.105 + 60 * -0.026)/ (1 + np.exp(3.105 + 60 * -0.026))))"
   ]
  },
  {
   "cell_type": "markdown",
   "metadata": {},
   "source": [
    "# Q 4.9\n",
    "\n",
    "The coefficients tell about the relationship between the independent variables and the dependent variable, where the dependent variable is on the logit scale.  These estimates tell the amount of increase in the predicted log odds that would be predicted by a 1 unit increase in the predictor, holding all other predictors constant.\n",
    "\n",
    "**Recommendations** :\n",
    "\n",
    "- Married People has higher possibility of renewals (log odds ratio increases)\n",
    "- As payment term increases it leads to slightly reduced log odds of renewals\n",
    "- Professionals, Business men have much higher chance of defaulting on log odds of renewals\n",
    "- Being a graduate does increase the chance of log odds of renewals\n",
    "- Annual / Half yearly / Quarterly policy renewal schemes see reduced log odds of renewals\n",
    "- Model Change - Premuim : Variable scale should be changed for better understanding of Premium's contribution to affinity to renew policy (may be reduce unit to 1000s)\n",
    "\n",
    "\n",
    "- Strategy:\n",
    "    - For new customers target Married people and graduates\n",
    "    - For existing customers send more reminders (via Call centers / messgaes etc) to Business men, Professionals for renewal\n",
    "    - For people paying premiums in yearly / quarterly / halfyearly terms, send reminders to them before renewal dates\n",
    "    - For people with long payment terms keep sending them payment reminders as the tenure of their engagement increases\n"
   ]
  },
  {
   "cell_type": "markdown",
   "metadata": {},
   "source": [
    "# Q 4.10\n",
    "\n",
    "Gain is calculated as:\n",
    "\n",
    "\\begin{equation*} gain = \\frac {\\text{cumulative number of positive obs upto decile i}} \n",
    "{\\text {Total number of positive observations}} \\end{equation*}\n",
    "\n",
    "Lift is calculated as:\n",
    "\n",
    "\\begin{equation*} lift = \\frac {\\text{cumulative number of positive obs upto decile i}} \n",
    "{\\text {Total number of positive observations upto decile i from random model}} \\end{equation*}\n"
   ]
  },
  {
   "cell_type": "code",
   "execution_count": 62,
   "metadata": {},
   "outputs": [
    {
     "data": {
      "text/html": [
       "<div>\n",
       "<table border=\"1\" class=\"dataframe\">\n",
       "  <thead>\n",
       "    <tr style=\"text-align: right;\">\n",
       "      <th></th>\n",
       "      <th>Decile</th>\n",
       "      <th>posunits</th>\n",
       "      <th>negunits</th>\n",
       "      <th>posCountunits</th>\n",
       "      <th>negCountunits</th>\n",
       "      <th>avgCountunits</th>\n",
       "      <th>cumPosCountunits</th>\n",
       "      <th>cumAvgCountunits</th>\n",
       "      <th>lift</th>\n",
       "      <th>gain</th>\n",
       "      <th>avgLift</th>\n",
       "    </tr>\n",
       "  </thead>\n",
       "  <tbody>\n",
       "    <tr>\n",
       "      <th>0</th>\n",
       "      <td>0.1</td>\n",
       "      <td>31</td>\n",
       "      <td>0</td>\n",
       "      <td>620</td>\n",
       "      <td>0</td>\n",
       "      <td>102</td>\n",
       "      <td>620</td>\n",
       "      <td>102</td>\n",
       "      <td>6.078431</td>\n",
       "      <td>0.607843</td>\n",
       "      <td>1</td>\n",
       "    </tr>\n",
       "    <tr>\n",
       "      <th>1</th>\n",
       "      <td>0.2</td>\n",
       "      <td>0</td>\n",
       "      <td>0</td>\n",
       "      <td>0</td>\n",
       "      <td>0</td>\n",
       "      <td>102</td>\n",
       "      <td>620</td>\n",
       "      <td>204</td>\n",
       "      <td>3.039216</td>\n",
       "      <td>0.607843</td>\n",
       "      <td>1</td>\n",
       "    </tr>\n",
       "    <tr>\n",
       "      <th>2</th>\n",
       "      <td>0.3</td>\n",
       "      <td>0</td>\n",
       "      <td>0</td>\n",
       "      <td>0</td>\n",
       "      <td>0</td>\n",
       "      <td>102</td>\n",
       "      <td>620</td>\n",
       "      <td>306</td>\n",
       "      <td>2.026144</td>\n",
       "      <td>0.607843</td>\n",
       "      <td>1</td>\n",
       "    </tr>\n",
       "    <tr>\n",
       "      <th>3</th>\n",
       "      <td>0.4</td>\n",
       "      <td>0</td>\n",
       "      <td>0</td>\n",
       "      <td>0</td>\n",
       "      <td>0</td>\n",
       "      <td>102</td>\n",
       "      <td>620</td>\n",
       "      <td>408</td>\n",
       "      <td>1.519608</td>\n",
       "      <td>0.607843</td>\n",
       "      <td>1</td>\n",
       "    </tr>\n",
       "    <tr>\n",
       "      <th>4</th>\n",
       "      <td>0.5</td>\n",
       "      <td>3</td>\n",
       "      <td>0</td>\n",
       "      <td>60</td>\n",
       "      <td>0</td>\n",
       "      <td>102</td>\n",
       "      <td>680</td>\n",
       "      <td>510</td>\n",
       "      <td>1.333333</td>\n",
       "      <td>0.666667</td>\n",
       "      <td>1</td>\n",
       "    </tr>\n",
       "    <tr>\n",
       "      <th>5</th>\n",
       "      <td>0.6</td>\n",
       "      <td>5</td>\n",
       "      <td>5</td>\n",
       "      <td>100</td>\n",
       "      <td>100</td>\n",
       "      <td>102</td>\n",
       "      <td>780</td>\n",
       "      <td>612</td>\n",
       "      <td>1.274510</td>\n",
       "      <td>0.764706</td>\n",
       "      <td>1</td>\n",
       "    </tr>\n",
       "    <tr>\n",
       "      <th>6</th>\n",
       "      <td>0.7</td>\n",
       "      <td>5</td>\n",
       "      <td>11</td>\n",
       "      <td>100</td>\n",
       "      <td>220</td>\n",
       "      <td>102</td>\n",
       "      <td>880</td>\n",
       "      <td>714</td>\n",
       "      <td>1.232493</td>\n",
       "      <td>0.862745</td>\n",
       "      <td>1</td>\n",
       "    </tr>\n",
       "    <tr>\n",
       "      <th>7</th>\n",
       "      <td>0.8</td>\n",
       "      <td>4</td>\n",
       "      <td>17</td>\n",
       "      <td>80</td>\n",
       "      <td>340</td>\n",
       "      <td>102</td>\n",
       "      <td>960</td>\n",
       "      <td>816</td>\n",
       "      <td>1.176471</td>\n",
       "      <td>0.941176</td>\n",
       "      <td>1</td>\n",
       "    </tr>\n",
       "    <tr>\n",
       "      <th>8</th>\n",
       "      <td>0.9</td>\n",
       "      <td>2</td>\n",
       "      <td>12</td>\n",
       "      <td>40</td>\n",
       "      <td>240</td>\n",
       "      <td>102</td>\n",
       "      <td>1000</td>\n",
       "      <td>918</td>\n",
       "      <td>1.089325</td>\n",
       "      <td>0.980392</td>\n",
       "      <td>1</td>\n",
       "    </tr>\n",
       "    <tr>\n",
       "      <th>9</th>\n",
       "      <td>1.0</td>\n",
       "      <td>1</td>\n",
       "      <td>2</td>\n",
       "      <td>20</td>\n",
       "      <td>40</td>\n",
       "      <td>102</td>\n",
       "      <td>1020</td>\n",
       "      <td>1020</td>\n",
       "      <td>1.000000</td>\n",
       "      <td>1.000000</td>\n",
       "      <td>1</td>\n",
       "    </tr>\n",
       "  </tbody>\n",
       "</table>\n",
       "</div>"
      ],
      "text/plain": [
       "   Decile  posunits  negunits  posCountunits  negCountunits  avgCountunits  \\\n",
       "0     0.1        31         0            620              0            102   \n",
       "1     0.2         0         0              0              0            102   \n",
       "2     0.3         0         0              0              0            102   \n",
       "3     0.4         0         0              0              0            102   \n",
       "4     0.5         3         0             60              0            102   \n",
       "5     0.6         5         5            100            100            102   \n",
       "6     0.7         5        11            100            220            102   \n",
       "7     0.8         4        17             80            340            102   \n",
       "8     0.9         2        12             40            240            102   \n",
       "9     1.0         1         2             20             40            102   \n",
       "\n",
       "   cumPosCountunits  cumAvgCountunits      lift      gain  avgLift  \n",
       "0               620               102  6.078431  0.607843        1  \n",
       "1               620               204  3.039216  0.607843        1  \n",
       "2               620               306  2.026144  0.607843        1  \n",
       "3               620               408  1.519608  0.607843        1  \n",
       "4               680               510  1.333333  0.666667        1  \n",
       "5               780               612  1.274510  0.764706        1  \n",
       "6               880               714  1.232493  0.862745        1  \n",
       "7               960               816  1.176471  0.941176        1  \n",
       "8              1000               918  1.089325  0.980392        1  \n",
       "9              1020              1020  1.000000  1.000000        1  "
      ]
     },
     "execution_count": 62,
     "metadata": {},
     "output_type": "execute_result"
    },
    {
     "data": {
      "image/png": "[encoded data removed]",
      "text/plain": [
       "<matplotlib.figure.Figure at 0xbfeef28>"
      ]
     },
     "metadata": {},
     "output_type": "display_data"
    }
   ],
   "source": [
    "data = pd.DataFrame({'Decile': [.1, .2, .3, .4, .5, .6, .7, .8, .9, 1]})\n",
    "data['posunits'] = [31, 0, 0, 0, 3, 5, 5, 4, 2, 1]\n",
    "data['negunits'] = [0, 0, 0, 0, 0, 5, 11, 17, 12, 2]\n",
    "data['posCountunits'] = data['posunits'] * 20\n",
    "data['negCountunits'] = data['negunits'] * 20\n",
    "avgPerDec = np.sum(data['posCountunits']) / 10\n",
    "data['avgCountunits'] = avgPerDec\n",
    "\n",
    "data['cumPosCountunits'] = data['posCountunits'].cumsum()\n",
    "data['cumAvgCountunits'] = data['avgCountunits'].cumsum()\n",
    "data['lift'] = data['cumPosCountunits'] / data['cumAvgCountunits']\n",
    "data['gain'] = data['cumPosCountunits'] / data['posCountunits'].sum()\n",
    "\n",
    "data['avgLift'] = 1\n",
    "\n",
    "\n",
    "#print(df)\n",
    "#### Plots\n",
    "plt.figure(figsize=(15, 5))\n",
    "plt.subplot(1,2,1)\n",
    "plt.plot(data.avgLift, 'r-', label='Average Model Performance')\n",
    "plt.plot(data.lift, 'g-', label='Predict Model Performance')\n",
    "plt.title('Cumulative Lift Chart')\n",
    "plt.xlabel('Deciles')\n",
    "plt.ylabel('Normalised Model')\n",
    "plt.legend()\n",
    "plt.xlim(0, 10)\n",
    "\n",
    "plt.subplot(1,2,2)\n",
    "plt.plot(data.Decile, 'r-', label='Average Model Performance')\n",
    "plt.plot(data.gain, 'g-', label='Predict Model Performance')\n",
    "plt.title('Cumulative Gain Chart')\n",
    "plt.xlabel('Deciles')\n",
    "plt.ylabel('Gain')\n",
    "plt.legend()\n",
    "plt.xlim(0, 10)\n",
    "\n",
    "data"
   ]
  },
  {
   "cell_type": "markdown",
   "metadata": {},
   "source": [
    "**Observaions**\n",
    "\n",
    "- From gain we see that the model captures 76% positives by the fifth decile\n",
    "- From Lift we see for the 1st decile model captures 6 times more positives than an ordinary model, 3 times for second decile, 2 times for 3rd decile, 1.5 times for 4th decile and 1.27 times for the 5th decile"
   ]
  },
  {
   "cell_type": "code",
   "execution_count": null,
   "metadata": {
    "collapsed": true
   },
   "outputs": [],
   "source": []
  }
 ],
 "metadata": {
  "kernelspec": {
   "display_name": "Python 2",
   "language": "python",
   "name": "python2"
  },
  "language_info": {
   "codemirror_mode": {
    "name": "ipython",
    "version": 2
   },
   "file_extension": ".py",
   "mimetype": "text/x-python",
   "name": "python",
   "nbconvert_exporter": "python",
   "pygments_lexer": "ipython2",
   "version": "2.7.13"
  }
 },
 "nbformat": 4,
 "nbformat_minor": 2
}
