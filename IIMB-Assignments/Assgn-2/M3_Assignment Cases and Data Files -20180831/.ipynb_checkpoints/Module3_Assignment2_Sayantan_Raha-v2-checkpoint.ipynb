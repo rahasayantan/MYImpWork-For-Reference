{
 "cells": [
  {
   "cell_type": "markdown",
   "metadata": {},
   "source": [
    "### SAYANTAN RAHA\n",
    "## Roll # : BAI09056\n",
    "### IIMB - BAI09 - Assignment 1\n"
   ]
  },
  {
   "cell_type": "code",
   "execution_count": 1,
   "metadata": {},
   "outputs": [
    {
     "data": {
      "text/html": [
       "<script>\n",
       "code_show=true; \n",
       "function code_toggle() {\n",
       " if (code_show){\n",
       " $('div.input').hide();\n",
       " } else {\n",
       " $('div.input').show();\n",
       " }\n",
       " code_show = !code_show\n",
       "} \n",
       "$( document ).ready(code_toggle);\n",
       "</script>\n",
       "<form action=\"javascript:code_toggle()\"><input type=\"submit\" value=\"Toggle on/off Code\"></form>"
      ],
      "text/plain": [
       "<IPython.core.display.HTML object>"
      ]
     },
     "execution_count": 1,
     "metadata": {},
     "output_type": "execute_result"
    }
   ],
   "source": [
    "from IPython.display import HTML\n",
    "\n",
    "HTML('''<script>\n",
    "code_show=true; \n",
    "function code_toggle() {\n",
    " if (code_show){\n",
    " $('div.input').hide();\n",
    " } else {\n",
    " $('div.input').show();\n",
    " }\n",
    " code_show = !code_show\n",
    "} \n",
    "$( document ).ready(code_toggle);\n",
    "</script>\n",
    "<form action=\"javascript:code_toggle()\"><input type=\"submit\" value=\"Toggle on/off Code\"></form>''')"
   ]
  },
  {
   "cell_type": "code",
   "execution_count": 2,
   "metadata": {},
   "outputs": [],
   "source": [
    "import scipy.stats as stats\n",
    "import numpy as np\n",
    "import pandas as pd\n",
    "import warnings\n",
    "warnings.filterwarnings('ignore')\n",
    "\n",
    "%matplotlib inline\n"
   ]
  },
  {
   "cell_type": "markdown",
   "metadata": {},
   "source": [
    "# Q 1.1\n",
    "\n",
    "We will use the following formula to calculate the coefficient of CRIM.\n",
    "\n",
    "\\begin{equation*} \\beta = r * \\frac{SD_x} {SD_Y}\\end{equation*}\n",
    "\n",
    "\\begin{equation*}\\text {where r = Correlation of X (CRIM) and Y (PRICE) &} \\end{equation*}\n",
    "\\begin{equation*}SD_x \\text{= Standard deviation of X}\\end{equation*}\n",
    "\\begin{equation*}SD_y \\text{= Standard deviation of Y}\\end{equation*}\n",
    "\n",
    "\n",
    "From table 1.1 we can find SDx = 8.60154511 & SDy = 9.197\n",
    "From table 1.2 we can find r = -.388\n",
    "\n",
    "Using the above we can find:"
   ]
  },
  {
   "cell_type": "code",
   "execution_count": 3,
   "metadata": {},
   "outputs": [
    {
     "name": "stdout",
     "output_type": "stream",
     "text": [
      "B1 -0.41485988323788486, implies as crime rate increases by 1 unit, unit price reduces by 0.41485988323788486 units\n"
     ]
    }
   ],
   "source": [
    "sd_crim = 8.60154511\n",
    "sd_price = 9.197\n",
    "\n",
    "r = -.388\n",
    "\n",
    "B1 = r * sd_price / sd_crim\n",
    "print(\"B1 {}, implies as crime rate increases by 1 unit, unit price reduces by {} units\".format(B1, abs(B1)))"
   ]
  },
  {
   "cell_type": "markdown",
   "metadata": {},
   "source": [
    "# Q 1.2\n",
    "\n",
    "The range of coefficients is given by:\n",
    "\\begin{equation*} \\beta \\pm \\text{t-crit *} SE_{beta}\\end{equation*}\n",
    "\n",
    "where t-critical is the critical value of T for significance alpha"
   ]
  },
  {
   "cell_type": "code",
   "execution_count": 4,
   "metadata": {},
   "outputs": [
    {
     "name": "stdout",
     "output_type": "stream",
     "text": [
      "T-critical at alpha 0.5 and df 505 is 1.964672638739595\n",
      "Min B1 -0.3284142871333427\n",
      "Max B1 -0.5013054793424271\n",
      "Price will reduce between 32K to 50K with 95% CI, hence his assumption that it reduces by at least 30K is correct\n"
     ]
    }
   ],
   "source": [
    "n = 506\n",
    "seb1 = 0.044\n",
    "\n",
    "tcrit = abs(stats.t.ppf(0.025, df = 505))\n",
    "print(\"T-critical at alpha {} and df {} is {}\".format(0.5, 505, tcrit))\n",
    "print(\"Min B1 {}\".format(B1 + tcrit * seb1))\n",
    "print(\"Max B1 {}\".format(B1 - tcrit * seb1))\n",
    "\n",
    "print(\"Price will reduce between 32K to 50K with 95% CI, hence his assumption that it reduces by at least 30K is correct\")"
   ]
  },
  {
   "cell_type": "markdown",
   "metadata": {},
   "source": [
    "# Q 1.3\n",
    "\n",
    "Regression is valid for only the observed ranges. The min value of Crime rate = .0068 > 0. Hence it is incorrect to draw any conclusion about the predicted values of Y for Crim==0 as that value is unobserved.\n",
    "\n",
    "We cannot claim the value will be 24.03"
   ]
  },
  {
   "cell_type": "markdown",
   "metadata": {},
   "source": [
    "# Q 1.4\n",
    "\n",
    "Here Y predicted can be calculated from the regression equation:\n",
    "24.033 - 0.414 * 1 (Value of CRIM)\n",
    "\n",
    "For large values of n the range of Y-predicted is given by:\n",
    "The range of coefficients is given by:\n",
    "\\begin{equation*} \\hat Y \\pm \\text{t-crit *} SE_{Y}\\end{equation*}\n",
    "\n",
    "where t-critical is the critical value of T for significance alpha.\n",
    "\n"
   ]
  },
  {
   "cell_type": "code",
   "execution_count": 5,
   "metadata": {},
   "outputs": [
    {
     "name": "stdout",
     "output_type": "stream",
     "text": [
      "Max Value of Price for CRIM ==1 is 40.28728266706672\n"
     ]
    }
   ],
   "source": [
    "se = 8.484 #seb1 * sd_crim * (n - 1) ** 0.5\n",
    "#print(se)\n",
    "\n",
    "yhat = 24.033 - 0.414 * 1\n",
    "yhat_max = (yhat + tcrit * se)\n",
    "print(\"Max Value of Price for CRIM ==1 is {}\".format(yhat_max))\n"
   ]
  },
  {
   "cell_type": "markdown",
   "metadata": {},
   "source": [
    "# Q 1.5\n",
    "\n",
    "Here Y predicted (mean value of regression) can be calculated from the regression equation:\n",
    "24.033 - 6.346 * 1 (Value of SEZ)\n",
    "\n",
    "t-critical is computed as:\n",
    "\\begin{equation*} t = \\frac {(t_o - t_{mean})} {SE_{estimate}} \\end{equation*}"
   ]
  },
  {
   "cell_type": "code",
   "execution_count": 6,
   "metadata": {},
   "outputs": [
    {
     "name": "stdout",
     "output_type": "stream",
     "text": [
      "Mean Regression value 28.44\n",
      "t-crit at alpha 0.05 is 1.2753751103265665\n",
      "Y-pred follows a normal distribution. Probability of Price being at least 40 lac is 10.11 percent\n"
     ]
    }
   ],
   "source": [
    "yhat = 22.094 + 6.346\n",
    "print(\"Mean Regression value {}\".format(yhat))\n",
    "\n",
    "t = (40 - yhat) / 9.064\n",
    "print(\"t-crit at alpha 0.05 is {}\".format(t))\n",
    "\n",
    "print(\"Y-pred follows a normal distribution. Probability of Price being at least 40 lac is {} percent\".format(round((1 - stats.norm.cdf(t))* 100, 2)))"
   ]
  },
  {
   "cell_type": "markdown",
   "metadata": {},
   "source": [
    "# Q 1.6 - a\n",
    "\n",
    "From the residual plot we can see that the spread of standardised errors are higher for lower values of standardised prediction compared to higher values.\n",
    "\n",
    "Hence the variance of the residuals are not equal and it demonstrates heteroscedasticity\n",
    "\n",
    "# Q 1.6 - b\n",
    "\n",
    "1. It is a right skewed distribution\n",
    "2. The left tail has less proportion of data than that of a normal distribution\n",
    "3. Between 40-80 % range the distribution has much less proportion of data compared to a normal distribution\n",
    "\n",
    "From observing the P-P plot we conclude there is considerable difference between this distribution and normal distribution.\n",
    "\n",
    "# Q 1.6 - c\n",
    "\n",
    "Based on the above we can conclude that this regression equation may not be functionally correct. "
   ]
  },
  {
   "cell_type": "markdown",
   "metadata": {},
   "source": [
    "# Q 1.7\n",
    "\n",
    "The increase in R-squared when a new variable is added to a model is the given by the **Square of the Semi-Partial (PART) Correlation**.\n",
    "\n",
    "- From Table 1.7: R-squared @ Step 2 = 0.542\n",
    "- From Table 1.8: PART Correlation for adding RES = -.153 "
   ]
  },
  {
   "cell_type": "code",
   "execution_count": 7,
   "metadata": {},
   "outputs": [
    {
     "name": "stdout",
     "output_type": "stream",
     "text": [
      "R-squared in Step 3 is 0.565409\n"
     ]
    }
   ],
   "source": [
    "print(\"R-squared in Step 3 is {}\".format(0.542 + (-.153) ** 2))"
   ]
  },
  {
   "cell_type": "markdown",
   "metadata": {},
   "source": [
    "# Q 1.8 ==> better representation\n",
    "\n",
    "It reduces as there is correlation among RM and CRIM. Part of what was explained by RM in model 1 is now being explained by CRIM in model 2 hence the coefficient value reduces. ==Put in the equations and Graphs in possible\n"
   ]
  },
  {
   "cell_type": "markdown",
   "metadata": {},
   "source": [
    "# Q 1.9 ==> look again\n",
    "\n",
    "We will use the model in step - 6 for answering this question. \n",
    "\n",
    "- Since the variables are not standardised we cannot use the magnitude of the coefficients as a measure of impact on dependent variable (Price)\n",
    "- We will use the notion of the Standardised Coefficients to measure how much 1 SD change in the variable X (Predictor) changes Y (dependant)\n",
    "\n",
    "- From Tables 1.1 and 1.8 we can easily obtain the Standardised Coefficients for the regression variable and model for all variables except for RM as the SD of RM is not provided in table 1.1 and the Standardised coefficient of RM is not provided in table 1.8. Standardised Coefficient is calculated using: \n",
    "\n",
    "\\begin{equation*} \\beta_{STANDARDISED} = \\hat\\beta * \\frac {S_X} {S_Y}  \\end{equation*}\n",
    "\n",
    "where \\begin{equation*} \\text{Standard Deviation X} = S_X \\end{equation*}\n",
    "& \\begin{equation*} \\text{Standard Deviation Y} = S_Y \\end{equation*}\n",
    "\n",
    "\n",
    "- To calculate the variance of RM we will use the Model 1 and Model 2 from table 1.8. In Model1 the coefficient of RM is 9.102\n",
    "- In Model 2 the coefficient reduces to 8.391 on adding CRIM. This shows there is correlation among CRIM and RM which reduces the coefficient of RM in model 2. We can use the following equation to calculate SD of RM:\n",
    "\n",
    "\\begin{equation*} \\alpha_{RM_{Model1}} = \\beta_{RM_{Model2}} + \\frac{\\beta_{CRIM_{Model2}} * Cor(RM, CRIM)} {Var(RM)}  \\end{equation*}\n",
    "\n",
    "- SD is square root of variance\n",
    "- From tabel 1.2 Cor(RM, CRIM) = -.219, Hence SD of RM = 2.13 \n",
    "- We can now use the SD of RM to calculate the standarddised coefficient for RM\n",
    "- From the below table we can see that **RM** has the highest impact on PRICE."
   ]
  },
  {
   "cell_type": "code",
   "execution_count": 8,
   "metadata": {},
   "outputs": [
    {
     "data": {
      "text/html": [
       "<div>\n",
       "<style scoped>\n",
       "    .dataframe tbody tr th:only-of-type {\n",
       "        vertical-align: middle;\n",
       "    }\n",
       "\n",
       "    .dataframe tbody tr th {\n",
       "        vertical-align: top;\n",
       "    }\n",
       "\n",
       "    .dataframe thead th {\n",
       "        text-align: right;\n",
       "    }\n",
       "</style>\n",
       "<table border=\"1\" class=\"dataframe\">\n",
       "  <thead>\n",
       "    <tr style=\"text-align: right;\">\n",
       "      <th></th>\n",
       "      <th>_</th>\n",
       "      <th>Coefficients</th>\n",
       "      <th>Standardized Coefficients</th>\n",
       "    </tr>\n",
       "  </thead>\n",
       "  <tbody>\n",
       "    <tr>\n",
       "      <th>0</th>\n",
       "      <td>INTERCEPT</td>\n",
       "      <td>-8.993</td>\n",
       "      <td></td>\n",
       "    </tr>\n",
       "    <tr>\n",
       "      <th>1</th>\n",
       "      <td>RM</td>\n",
       "      <td>7.182</td>\n",
       "      <td>1.66333</td>\n",
       "    </tr>\n",
       "    <tr>\n",
       "      <th>2</th>\n",
       "      <td>CRIM</td>\n",
       "      <td>-0.194</td>\n",
       "      <td>-0.18144</td>\n",
       "    </tr>\n",
       "    <tr>\n",
       "      <th>3</th>\n",
       "      <td>RES</td>\n",
       "      <td>-0.318</td>\n",
       "      <td>-0.238</td>\n",
       "    </tr>\n",
       "    <tr>\n",
       "      <th>4</th>\n",
       "      <td>SEZ</td>\n",
       "      <td>4.499</td>\n",
       "      <td>0.0124</td>\n",
       "    </tr>\n",
       "    <tr>\n",
       "      <th>5</th>\n",
       "      <td>Highway</td>\n",
       "      <td>-1.154</td>\n",
       "      <td>0.208</td>\n",
       "    </tr>\n",
       "    <tr>\n",
       "      <th>6</th>\n",
       "      <td>AGE</td>\n",
       "      <td>-0.077</td>\n",
       "      <td>-0.235671</td>\n",
       "    </tr>\n",
       "  </tbody>\n",
       "</table>\n",
       "</div>"
      ],
      "text/plain": [
       "           _  Coefficients Standardized Coefficients\n",
       "0  INTERCEPT        -8.993                          \n",
       "1         RM         7.182                   1.66333\n",
       "2       CRIM        -0.194                  -0.18144\n",
       "3        RES        -0.318                    -0.238\n",
       "4        SEZ         4.499                    0.0124\n",
       "5    Highway        -1.154                     0.208\n",
       "6        AGE        -0.077                 -0.235671"
      ]
     },
     "execution_count": 8,
     "metadata": {},
     "output_type": "execute_result"
    }
   ],
   "source": [
    "#print(((8.391 * .388) / (9.102 - 8.391))**0.5)\n",
    "\n",
    "data = pd.DataFrame({\"_\": [\"INTERCEPT\",\"RM\",\"CRIM\",\"RES\",\"SEZ\",\"Highway\", \"AGE\"]})\n",
    "data[\"Coefficients\"] = [-8.993, 7.182, -.194, -.318, 4.499, -1.154, -.077]\n",
    "data[\"Standardized Coefficients\"] = ['', 7.182 * 2.13 / 9.197, -.194 * 8.60154511 / 9.197, \n",
    "                                     -.238, .0124, .208, \n",
    "                                     -.077 * 28.1489 / 9.197]\n",
    "data"
   ]
  },
  {
   "cell_type": "markdown",
   "metadata": {},
   "source": [
    "# Q 2.1\n",
    "\n",
    "1. The model explains 42.25% of variation in box office collection.\n",
    "2. There are outliers in the model.\n",
    "3. The residuals do not follow a normal distribution.\n",
    "4. The model cannot be used since R-square is low.\n",
    "5. Box office collection increases as the budget increases.\n",
    "\n",
    "\n",
    "1, 2, 3 are right ==> color / highlight"
   ]
  },
  {
   "cell_type": "markdown",
   "metadata": {},
   "source": [
    "# Q 2.2\n",
    "\n",
    "Here Budget (X) can never be = 0, as it may not be possible to produce a movie without money and X = 0 is unobserved i.e. X = 0 falls outside the domain of the observed values of the variable X. The relationship between the variables can change as we move outside the observed region. We cannot predict for a point that is outside the range of observed values using the regression model. \n",
    "\n",
    "The Model explains the relationship between Y and X within the range of observed values only. Hence Mr Chellapa's observation is incorrect\n"
   ]
  },
  {
   "cell_type": "markdown",
   "metadata": {},
   "source": [
    "# Q 2.3 == check again?\n",
    "\n",
    "Since the variable is insignificant at alpha = 0.05, hence the coefficient may not be different from zero. There is is no statistical validity that the collection of movie released in Releasing_Time Normal_Season is different from Releasing_Time Holiday_Season (which is factored in the intercept / constant).\n",
    "\n",
    "Since we do not have the data hence we cannot rerun the model. We will assume that the co-efficient is 0 and it's removal does not have any effect on the overall equation (other significant variables).\n",
    "\n",
    "Hence the difference is **Zero**."
   ]
  },
  {
   "cell_type": "code",
   "execution_count": 9,
   "metadata": {},
   "outputs": [],
   "source": [
    "y = 2.685 + .147\n",
    "#print(\"With beta = .147 y = {}\".format(y))\n",
    "#print(\"With beta = 0 y = {}\".format(2.685))\n"
   ]
  },
  {
   "cell_type": "markdown",
   "metadata": {},
   "source": [
    "# Q 2.4 == check again?\n",
    "\n",
    "The beta for Release Normal Time is being considered as 0 as it is statistically insignificant at alpha. Hence it will be factored in the Intercept term. Releasing_Time Long_Weekend is statistically significant and the coefficient = 1.247. "
   ]
  },
  {
   "cell_type": "code",
   "execution_count": 10,
   "metadata": {},
   "outputs": [
    {
     "name": "stdout",
     "output_type": "stream",
     "text": [
      "Max B can be 2.4018319999999997\n",
      "Min B can be 0.09216800000000025\n",
      "Movies released in Long Wekends may earn upto 2.4 lac more than movies released in normal season.\n",
      "Mr. Chellapa's statement is statistically incorrect.\n"
     ]
    }
   ],
   "source": [
    "Bmax = 1.247 + 1.964 *.588\n",
    "print(\"Max B can be {}\".format(Bmax))\n",
    "Bmin = 1.247 - 1.964 *.588\n",
    "print(\"Min B can be {}\".format(Bmin))\n",
    "print(\"Movies released in Long Wekends may earn upto 2.4 lac more than movies released in normal season.\")\n",
    "print(\"Mr. Chellapa's statement is statistically incorrect.\")"
   ]
  },
  {
   "cell_type": "markdown",
   "metadata": {},
   "source": [
    "# Q 2.5\n",
    "\n",
    "The increase in R-squared when a new variable is added to a model is the given by the **Square of the Semi-Partial (PART) Correlation**.\n",
    "\n",
    "- From Table 2.5 : R-squared @ Step 5 = 0.810 ** 2 = .6561\n",
    "- From Table 2.6: PART Correlation for adding Director_CAT C = -.104 "
   ]
  },
  {
   "cell_type": "code",
   "execution_count": 11,
   "metadata": {},
   "outputs": [
    {
     "name": "stdout",
     "output_type": "stream",
     "text": [
      "R-squared in Step 3 is 0.6669160000000001\n"
     ]
    }
   ],
   "source": [
    "print(\"R-squared in Step 3 is {}\".format(0.6561 + (-.104) ** 2))"
   ]
  },
  {
   "cell_type": "markdown",
   "metadata": {},
   "source": [
    "# Q2.6 ==> Need to relook at this( can we do some hypothesis tests)\n",
    "\n",
    "- Budget_35_Cr is the highest impact on the performance of the movie. \n",
    "- Recommendation is to use high enough budget to hire Category A Production House, Category C Director and Music Director and produce a Comedy movie. "
   ]
  },
  {
   "cell_type": "markdown",
   "metadata": {},
   "source": [
    "# Q 2.7\n",
    "\n",
    "- We cannot say that the variables have no relationship to Y (BOX Office Collection)\n",
    "- We can conclude that in presence of the other variables the variables in Model 2 are not explaining additional information about Y >> Formulate more nicely (charts and graphs are needed - Venn Diagram)\n",
    "\n"
   ]
  },
  {
   "cell_type": "code",
   "execution_count": 12,
   "metadata": {},
   "outputs": [
    {
     "data": {
      "image/png": "[encoded data removed]",
      "text/plain": [
       "<Figure size 432x288 with 1 Axes>"
      ]
     },
     "metadata": {},
     "output_type": "display_data"
    }
   ],
   "source": [
    "# Import the library\n",
    "import matplotlib.pyplot as plt\n",
    "from matplotlib_venn import venn3\n",
    "\n",
    "x =10\n",
    " \n",
    "# Make the diagram\n",
    "venn3(subsets = (x, 10, 10, 10, 10,10, 10))\n",
    "plt.show()"
   ]
  },
  {
   "cell_type": "markdown",
   "metadata": {},
   "source": [
    "# Q 2.8\n",
    "\n",
    "We are making the assumption that the variable Youtube views imply views of the actual movie and not the trailers before movie release dates. The following explanation will not be valid in that case. Also, we are assuming that revenue collected from advertisements during Youtube views do not fall under the Box Office Collection.\n",
    "\n",
    "Youtube_Views = Will not contribute anything meaningful functionally to the Box Office collection as the movie has been created and released in theaters and all possible collection is completed. The main essence of the prediction here is to understand before making a movie, what all factors may lead to better revenue collection for a movie"
   ]
  },
  {
   "cell_type": "markdown",
   "metadata": {},
   "source": [
    "# Q 3.1"
   ]
  },
  {
   "cell_type": "markdown",
   "metadata": {},
   "source": [
    "### Table 3.1\n",
    "\n",
    "- **Observations** (N) = 543\n",
    "- **Standard Error**\n",
    "    - \\begin{equation*} SE = \\sqrt {\\frac{ \\sum_{k=1}^N {(Y_k - \\hat{Y_k})^2}} {N - 2}} \\end{equation*}\n",
    "\n",
    "      \\begin{equation*} (Y_k - \\hat{Y_k})^2 = \\epsilon_k^2 = \\text{Residual SS (SSE)} = \\text{17104.06 (Table 3.2)}\\end{equation*}\n",
    "\n",
    "\n",
    "- **R-Squared** = 1 - SSE / SST\n",
    "    - SSE = 17104.06 (Table 3.2)\n",
    "    - SST = 36481.89 (Table 3.2)\n",
    "\n",
    "\n",
    "\n",
    "- **Adjuated R-Squared** = 1 - (SSE / N-k-1) / (SST/N-1)\n",
    "    - N = 543\n",
    "    - K = 3\n",
    "\n",
    "\n",
    "\n",
    "- **Multiple R** = \\begin{equation*} \\sqrt R_{Squared}\\end{equation*}\n"
   ]
  },
  {
   "cell_type": "code",
   "execution_count": 13,
   "metadata": {},
   "outputs": [
    {
     "data": {
      "text/html": [
       "<div>\n",
       "<style scoped>\n",
       "    .dataframe tbody tr th:only-of-type {\n",
       "        vertical-align: middle;\n",
       "    }\n",
       "\n",
       "    .dataframe tbody tr th {\n",
       "        vertical-align: top;\n",
       "    }\n",
       "\n",
       "    .dataframe thead th {\n",
       "        text-align: right;\n",
       "    }\n",
       "</style>\n",
       "<table border=\"1\" class=\"dataframe\">\n",
       "  <thead>\n",
       "    <tr style=\"text-align: right;\">\n",
       "      <th></th>\n",
       "      <th>Regression Statistics</th>\n",
       "      <th>_</th>\n",
       "    </tr>\n",
       "  </thead>\n",
       "  <tbody>\n",
       "    <tr>\n",
       "      <th>0</th>\n",
       "      <td>Multiple R</td>\n",
       "      <td>0.728809</td>\n",
       "    </tr>\n",
       "    <tr>\n",
       "      <th>1</th>\n",
       "      <td>R Square</td>\n",
       "      <td>0.531163</td>\n",
       "    </tr>\n",
       "    <tr>\n",
       "      <th>2</th>\n",
       "      <td>Adjusted R Squared</td>\n",
       "      <td>0.528554</td>\n",
       "    </tr>\n",
       "    <tr>\n",
       "      <th>3</th>\n",
       "      <td>Standard Error</td>\n",
       "      <td>5.622778</td>\n",
       "    </tr>\n",
       "    <tr>\n",
       "      <th>4</th>\n",
       "      <td>Observations</td>\n",
       "      <td>543.000000</td>\n",
       "    </tr>\n",
       "  </tbody>\n",
       "</table>\n",
       "</div>"
      ],
      "text/plain": [
       "  Regression Statistics           _\n",
       "0            Multiple R    0.728809\n",
       "1              R Square    0.531163\n",
       "2    Adjusted R Squared    0.528554\n",
       "3        Standard Error    5.622778\n",
       "4          Observations  543.000000"
      ]
     },
     "execution_count": 13,
     "metadata": {},
     "output_type": "execute_result"
    }
   ],
   "source": [
    "x = [\"Multiple R\", \"R Square\", \"Adjusted R Squared\", \"Standard Error\", \"Observations\"]\n",
    "data = pd.DataFrame({\"Regression Statistics\": x})\n",
    "data[\"_\"] = [(1 - 17104.06/36481.89) ** 0.5,1 - 17104.06/36481.89, 1 - (17104.06/(543 - 3 -1))/(36481.89/542),((17104.06)/541) ** 0.5,543]\n",
    "data"
   ]
  },
  {
   "cell_type": "markdown",
   "metadata": {},
   "source": [
    "### Table 3.2\n",
    "\n",
    "- **DF Calculation**\n",
    "    - DF for Regression (K) = Number of variables = 3\n",
    "    - DF for Residual = N - K - 1 = 539\n",
    "\n",
    "\n",
    "- **SS Calculation**\n",
    "    - Residual SS (SSE) = 17104.06 (given)\n",
    "    - Total SS (TSS)= 36481.89 (given)\n",
    "    - Regression SS (SSR) = TSS - SSE = 19377.83\n",
    "\n",
    "\n",
    "- **MS Calculation**\n",
    "    - MSR (Regression) = SSR / DF for SSR (=3)\n",
    "    - MSE (Error) = SSE / DF for SSE (= 539)\n",
    "\n",
    "\n",
    "- **F Claculation**\n",
    "    - F = MSR / MSE"
   ]
  },
  {
   "cell_type": "code",
   "execution_count": 14,
   "metadata": {},
   "outputs": [
    {
     "data": {
      "text/html": [
       "<div>\n",
       "<style scoped>\n",
       "    .dataframe tbody tr th:only-of-type {\n",
       "        vertical-align: middle;\n",
       "    }\n",
       "\n",
       "    .dataframe tbody tr th {\n",
       "        vertical-align: top;\n",
       "    }\n",
       "\n",
       "    .dataframe thead th {\n",
       "        text-align: right;\n",
       "    }\n",
       "</style>\n",
       "<table border=\"1\" class=\"dataframe\">\n",
       "  <thead>\n",
       "    <tr style=\"text-align: right;\">\n",
       "      <th></th>\n",
       "      <th>_</th>\n",
       "      <th>DF</th>\n",
       "      <th>SS</th>\n",
       "      <th>MS</th>\n",
       "      <th>F</th>\n",
       "      <th>SignificanceF</th>\n",
       "    </tr>\n",
       "  </thead>\n",
       "  <tbody>\n",
       "    <tr>\n",
       "      <th>0</th>\n",
       "      <td>Regression</td>\n",
       "      <td>3</td>\n",
       "      <td>19377.83</td>\n",
       "      <td>9688.92</td>\n",
       "      <td>305.328</td>\n",
       "      <td>1.11022e-16</td>\n",
       "    </tr>\n",
       "    <tr>\n",
       "      <th>1</th>\n",
       "      <td>Residual</td>\n",
       "      <td>539</td>\n",
       "      <td>17104.06</td>\n",
       "      <td>31.7328</td>\n",
       "      <td></td>\n",
       "      <td></td>\n",
       "    </tr>\n",
       "    <tr>\n",
       "      <th>2</th>\n",
       "      <td>Total</td>\n",
       "      <td>542</td>\n",
       "      <td>36481.89</td>\n",
       "      <td></td>\n",
       "      <td></td>\n",
       "      <td></td>\n",
       "    </tr>\n",
       "  </tbody>\n",
       "</table>\n",
       "</div>"
      ],
      "text/plain": [
       "            _   DF        SS       MS        F SignificanceF\n",
       "0  Regression    3  19377.83  9688.92  305.328   1.11022e-16\n",
       "1    Residual  539  17104.06  31.7328                       \n",
       "2       Total  542  36481.89                                "
      ]
     },
     "execution_count": 14,
     "metadata": {},
     "output_type": "execute_result"
    }
   ],
   "source": [
    "x = [\"Regression\", \"Residual\", \"Total\"]\n",
    "ss = [36481.89 - 17104.06, 17104.06,36481.89]\n",
    "df = [3, 539,542]\n",
    "ms = [19377.83 / 2, 17104 / 539, '']\n",
    "f = [(19377.83 / 2) / (17104 / 539),'','']\n",
    "sf = [1 - stats.f.cdf(305, 3, 539),'','']\n",
    "\n",
    "data = pd.DataFrame({\"_\": x})\n",
    "data[\"DF\"] = df\n",
    "data[\"SS\"] = ss\n",
    "data[\"MS\"] = ms\n",
    "data[\"F\"] = f\n",
    "data[\"SignificanceF\"] = sf\n",
    "\n",
    "data"
   ]
  },
  {
   "cell_type": "markdown",
   "metadata": {},
   "source": [
    "### Table 3.3 - Coefficients\n",
    "\n",
    "- MLR T-Test\n",
    "    - \\begin{equation*} t_i = \\frac {\\beta_i - 0} {Se(\\beta_i)}\\end{equation*}\n",
    "    where i denotes the different variables (here i = 3)"
   ]
  },
  {
   "cell_type": "code",
   "execution_count": 15,
   "metadata": {},
   "outputs": [
    {
     "data": {
      "text/html": [
       "<div>\n",
       "<style scoped>\n",
       "    .dataframe tbody tr th:only-of-type {\n",
       "        vertical-align: middle;\n",
       "    }\n",
       "\n",
       "    .dataframe tbody tr th {\n",
       "        vertical-align: top;\n",
       "    }\n",
       "\n",
       "    .dataframe thead th {\n",
       "        text-align: right;\n",
       "    }\n",
       "</style>\n",
       "<table border=\"1\" class=\"dataframe\">\n",
       "  <thead>\n",
       "    <tr style=\"text-align: right;\">\n",
       "      <th></th>\n",
       "      <th>_</th>\n",
       "      <th>Coefficeints</th>\n",
       "      <th>Standard Error</th>\n",
       "      <th>t Stat</th>\n",
       "      <th>P-Value</th>\n",
       "      <th>Lower 95%</th>\n",
       "      <th>Upper 95%</th>\n",
       "    </tr>\n",
       "  </thead>\n",
       "  <tbody>\n",
       "    <tr>\n",
       "      <th>0</th>\n",
       "      <td>Intercept</td>\n",
       "      <td>38.592350</td>\n",
       "      <td>0.937225</td>\n",
       "      <td>41.177252</td>\n",
       "      <td></td>\n",
       "      <td>36.751290</td>\n",
       "      <td>40.433411</td>\n",
       "    </tr>\n",
       "    <tr>\n",
       "      <th>1</th>\n",
       "      <td>Margin</td>\n",
       "      <td>0.000053</td>\n",
       "      <td>0.000002</td>\n",
       "      <td>24.403670</td>\n",
       "      <td></td>\n",
       "      <td>0.000049</td>\n",
       "      <td>0.000057</td>\n",
       "    </tr>\n",
       "    <tr>\n",
       "      <th>2</th>\n",
       "      <td>Gender</td>\n",
       "      <td>1.551306</td>\n",
       "      <td>0.777806</td>\n",
       "      <td>1.994464</td>\n",
       "      <td></td>\n",
       "      <td>0.023404</td>\n",
       "      <td>3.079208</td>\n",
       "    </tr>\n",
       "    <tr>\n",
       "      <th>3</th>\n",
       "      <td>College</td>\n",
       "      <td>-1.475060</td>\n",
       "      <td>0.586995</td>\n",
       "      <td>-2.512900</td>\n",
       "      <td></td>\n",
       "      <td>-2.628140</td>\n",
       "      <td>-0.321978</td>\n",
       "    </tr>\n",
       "  </tbody>\n",
       "</table>\n",
       "</div>"
      ],
      "text/plain": [
       "           _  Coefficeints  Standard Error     t Stat P-Value  Lower 95%  \\\n",
       "0  Intercept     38.592350        0.937225  41.177252          36.751290   \n",
       "1     Margin      0.000053        0.000002  24.403670           0.000049   \n",
       "2     Gender      1.551306        0.777806   1.994464           0.023404   \n",
       "3    College     -1.475060        0.586995  -2.512900          -2.628140   \n",
       "\n",
       "   Upper 95%  \n",
       "0  40.433411  \n",
       "1   0.000057  \n",
       "2   3.079208  \n",
       "3  -0.321978  "
      ]
     },
     "execution_count": 15,
     "metadata": {},
     "output_type": "execute_result"
    }
   ],
   "source": [
    "data = pd.DataFrame({\"_\":[\"Intercept\", \"Margin\", \"Gender\", \"College\"]})\n",
    "data[\"Coefficeints\"] = [38.59235, 5.32e-05, 1.551306, -1.47506]\n",
    "data[\"Standard Error\"] = [0.937225, 2.18e-06, 0.777806, 0.586995]\n",
    "data[\"t Stat\"] = [(38.59235 / 0.937225),5.32e-05 /  2.18e-06, 1.551306/0.777806, -1.47506/ 0.586995]\n",
    "data[\"P-Value\"] = ['','','','']\n",
    "data[\"Lower 95%\"] = [36.75129, 4.89E-05, 0.023404, -2.62814]\n",
    "data[\"Upper 95%\"] = [40.4334106,5.7463E-05,3.07920835,-0.3219783]\n",
    "\n",
    "\n",
    "data"
   ]
  },
  {
   "cell_type": "markdown",
   "metadata": {},
   "source": [
    "# Q 3.2\n",
    "\n",
    "From the table above we see that for all the variables the t-value > 1.964. hence all the variables are significant."
   ]
  },
  {
   "cell_type": "markdown",
   "metadata": {},
   "source": [
    "# Q 3.3\n",
    "\n",
    "F-distribution with DF = 3, 539 at significance = 95% is 2.621. Hence the  model is significant."
   ]
  },
  {
   "cell_type": "code",
   "execution_count": 16,
   "metadata": {},
   "outputs": [
    {
     "data": {
      "text/plain": [
       "2.621440036586561"
      ]
     },
     "execution_count": 16,
     "metadata": {},
     "output_type": "execute_result"
    }
   ],
   "source": [
    "1 - stats.f.cdf(2.621, 3, 539)\n",
    "stats.f.ppf(0.95, 3, 539)"
   ]
  },
  {
   "cell_type": "markdown",
   "metadata": {},
   "source": [
    "# Q 3.4\n",
    "\n",
    "The increase in R-squared when a new variable is added to a model is the given by the **Square of the Semi-Partial (PART) Correlation**.\n",
    "\n",
    "- R-squared for Model 2 = 0.52567 (R1)\n",
    "- R-squared for Model 3 = 0.531163 (R2)\n",
    "\n",
    "Part Correlation of College & % Votes = \\begin{equation*}\\sqrt{R_2 - R_1} \\end{equation*}\n"
   ]
  },
  {
   "cell_type": "code",
   "execution_count": 17,
   "metadata": {},
   "outputs": [
    {
     "name": "stdout",
     "output_type": "stream",
     "text": [
      "Increase in R-Squared due to adding College = 0.005493000000000081\n",
      "Part Correlation of College & % Votes = 0.07411477585475167\n"
     ]
    }
   ],
   "source": [
    "print(\"Increase in R-Squared due to adding College = {}\".format(0.531163 - 0.52567))\n",
    "print(\"Part Correlation of College & % Votes = {}\".format((0.531163 - 0.52567)**0.5))"
   ]
  },
  {
   "cell_type": "markdown",
   "metadata": {},
   "source": [
    "# Q 3.5\n",
    "\n",
    "We will conduct Partial F-test between models to test for significance of each model. We make the assumption that the variables added are significant at each step (model) at alpha 0.05\n",
    "\n",
    "\\begin{equation*}F_{PARTIAL} = \\frac{\\frac{R_{FULL}^2 - R_{PARTIAL}^2} {k - r}}  {\\frac{1 - R_{FULL}^2} {N - k - 1}}\\end{equation*}\n",
    "\n",
    "where k = variables in full model,\n",
    "      r = variables in reduced model,\n",
    "      N = Total number of records\n"
   ]
  },
  {
   "cell_type": "code",
   "execution_count": 18,
   "metadata": {},
   "outputs": [
    {
     "name": "stdout",
     "output_type": "stream",
     "text": [
      "Model 3 Partial F 4.358744633992214\n",
      "Model 3 Critical F at Df = (1, 539) 0.03726112108923041\n",
      "Model 4 Partial F 25.131765753275783\n",
      "Model 4 Critical F at Df = (1, 539) 7.281767351319246e-07\n",
      "Model 5 Partial F 19.291406535763336\n",
      "Model 5 Critical F at Df = (1, 539) 1.3522586193692732e-05\n",
      "\n",
      "Hence we can see that all the models are significant. The number of features (5) are not very high, hence we conclude it's justified to add the additional variables\n"
     ]
    }
   ],
   "source": [
    "def f_partial(rf, rp, n, k, r):\n",
    "    return ((rf **2 - rp ** 2)/(k-r))/((1 - rf ** 2)/ (n - k - 1))\n",
    "\n",
    "print(\"Model 3 Partial F {}\".format(f_partial(0.531163, 0.52567, 543, 3, 2)))\n",
    "print(\"Model 3 Critical F at Df = (1, 539) {}\".format(1 - stats.f.cdf(4.36, 1, 539)))\n",
    "print(\"Model 4 Partial F {}\".format(f_partial(0.56051, 0.531163, 543, 4, 3)))\n",
    "print(\"Model 4 Critical F at Df = (1, 539) {}\".format(1 - stats.f.cdf(25.13, 1, 539)))\n",
    "print(\"Model 5 Partial F {}\".format(f_partial(0.581339, 0.56051, 543, 5, 4)))\n",
    "print(\"Model 5 Critical F at Df = (1, 539) {}\".format(1 - stats.f.cdf(19.29, 1, 539)))\n",
    "\n",
    "print(\"\\nHence we can see that all the models are significant. The number of features (5) are not very high, hence we conclude it's justified to add the additional variables\")"
   ]
  },
  {
   "cell_type": "markdown",
   "metadata": {},
   "source": [
    "# Q 3.6\n",
    "\n",
    "- Equations used for computing Standardized coefficients are provided in Q1.9\n",
    "- Since the variables are not standardised we cannot use the magnitude of the coefficients as a measure of impact on dependent variable (Vote %)\n",
    "- We will use the notion of the Standardised Coefficients to measure how much 1 SD change in the variable X (Predictor) changes Y (dependant)\n",
    "\n",
    "- From the below table we can see that **MARGIN** has the highest impact on Vote %. 1 SD change in Margin changes .75 SD in Vote %"
   ]
  },
  {
   "cell_type": "code",
   "execution_count": 19,
   "metadata": {},
   "outputs": [
    {
     "data": {
      "text/html": [
       "<div>\n",
       "<style scoped>\n",
       "    .dataframe tbody tr th:only-of-type {\n",
       "        vertical-align: middle;\n",
       "    }\n",
       "\n",
       "    .dataframe tbody tr th {\n",
       "        vertical-align: top;\n",
       "    }\n",
       "\n",
       "    .dataframe thead th {\n",
       "        text-align: right;\n",
       "    }\n",
       "</style>\n",
       "<table border=\"1\" class=\"dataframe\">\n",
       "  <thead>\n",
       "    <tr style=\"text-align: right;\">\n",
       "      <th></th>\n",
       "      <th>_</th>\n",
       "      <th>Coefficients</th>\n",
       "      <th>Standard deviation</th>\n",
       "      <th>Standardized Coefficients</th>\n",
       "    </tr>\n",
       "  </thead>\n",
       "  <tbody>\n",
       "    <tr>\n",
       "      <th>0</th>\n",
       "      <td>INTERCEPT</td>\n",
       "      <td>38.569930</td>\n",
       "      <td></td>\n",
       "      <td></td>\n",
       "    </tr>\n",
       "    <tr>\n",
       "      <th>1</th>\n",
       "      <td>MARGIN</td>\n",
       "      <td>0.000056</td>\n",
       "      <td>111366</td>\n",
       "      <td>0.757437</td>\n",
       "    </tr>\n",
       "    <tr>\n",
       "      <th>2</th>\n",
       "      <td>Gender</td>\n",
       "      <td>1.498308</td>\n",
       "      <td>0.311494</td>\n",
       "      <td>0.0568868</td>\n",
       "    </tr>\n",
       "    <tr>\n",
       "      <th>3</th>\n",
       "      <td>College</td>\n",
       "      <td>-1.537740</td>\n",
       "      <td>0.412796</td>\n",
       "      <td>-0.0773712</td>\n",
       "    </tr>\n",
       "    <tr>\n",
       "      <th>4</th>\n",
       "      <td>UP</td>\n",
       "      <td>-3.714390</td>\n",
       "      <td>0.354761</td>\n",
       "      <td>-0.160614</td>\n",
       "    </tr>\n",
       "    <tr>\n",
       "      <th>5</th>\n",
       "      <td>AP</td>\n",
       "      <td>5.715821</td>\n",
       "      <td>0.209766</td>\n",
       "      <td>0.146142</td>\n",
       "    </tr>\n",
       "  </tbody>\n",
       "</table>\n",
       "</div>"
      ],
      "text/plain": [
       "           _  Coefficients Standard deviation Standardized Coefficients\n",
       "0  INTERCEPT     38.569930                                             \n",
       "1     MARGIN      0.000056             111366                  0.757437\n",
       "2     Gender      1.498308           0.311494                 0.0568868\n",
       "3    College     -1.537740           0.412796                -0.0773712\n",
       "4         UP     -3.714390           0.354761                 -0.160614\n",
       "5         AP      5.715821           0.209766                  0.146142"
      ]
     },
     "execution_count": 19,
     "metadata": {},
     "output_type": "execute_result"
    }
   ],
   "source": [
    "data = pd.DataFrame({\"_\": [\"INTERCEPT\",\"MARGIN\",\"Gender\",\"College\",\"UP\",\"AP\"]})\n",
    "data[\"Coefficients\"] = [38.56993, 5.58E-05, 1.498308, -1.53774, -3.71439, 5.715821]\n",
    "data[\"Standard deviation\"] = ['', 111365.7, 0.311494, 0.412796, 0.354761, 0.209766]\n",
    "data[\"Standardized Coefficients\"] = ['', 5.58E-05 * 111365.7 / 8.204253, 1.498308 * 0.311494 / 8.204253,\n",
    "                                     -1.53774 * 0.412796 / 8.204253, -3.71439 * 0.354761 / 8.204253, \n",
    "                                     5.715821 * 0.209766 / 8.204253]\n",
    "data"
   ]
  },
  {
   "cell_type": "markdown",
   "metadata": {},
   "source": [
    "# Q 4.1"
   ]
  },
  {
   "cell_type": "code",
   "execution_count": 20,
   "metadata": {},
   "outputs": [
    {
     "name": "stdout",
     "output_type": "stream",
     "text": [
      "Total Positives: 1045  ::  Total Negatives: 955  ::  Total Records: 2000\n",
      "P(Y=1) = positives / N = 0.5225  ::  P(Y=0) = negatives /N = 0.4775\n",
      "-2LL0 = 2768.5373542564103\n"
     ]
    }
   ],
   "source": [
    "positives = 353+692\n",
    "negatives = 751+204\n",
    "\n",
    "N = positives + negatives\n",
    "\n",
    "print(\"Total Positives: {}  ::  Total Negatives: {}  ::  Total Records: {}\".format(positives, negatives, N))\n",
    "\n",
    "pi1 = positives / N\n",
    "pi2 = negatives / N\n",
    "\n",
    "print(\"P(Y=1) = positives / N = {}  ::  P(Y=0) = negatives /N = {}\".format(pi1, pi2))\n",
    "\n",
    "_2LL0 = -2* (negatives * np.log(pi2) + positives * np.log(pi1))\n",
    "print(\"-2LL0 = {}\".format(_2LL0))"
   ]
  },
  {
   "cell_type": "markdown",
   "metadata": {},
   "source": [
    "- -2LLo is called the \"Null Deviance\" of a model. It is -2 Log Likelihood of a model which had no predictor variables. Hence we obtain the probabilities of positive and negative in the dataset using the frequencies for such model.\n",
    "\n",
    "- After adding \"Premium\" 2LL reduces to 2629.318 (Table 4.2). Hence reduction is equal to (-2LLo -(-2LLm)):"
   ]
  },
  {
   "cell_type": "code",
   "execution_count": 21,
   "metadata": {},
   "outputs": [
    {
     "name": "stdout",
     "output_type": "stream",
     "text": [
      "139.2189999999996\n"
     ]
    }
   ],
   "source": [
    "print(2768.537 - 2629.318)"
   ]
  },
  {
   "cell_type": "markdown",
   "metadata": {},
   "source": [
    "# Q 4.2"
   ]
  },
  {
   "cell_type": "code",
   "execution_count": 22,
   "metadata": {},
   "outputs": [
    {
     "name": "stdout",
     "output_type": "stream",
     "text": [
      "True Positive :Actually Positive and Predicted Positive = 692\n",
      "False Positive :Actually Negative and Predicted Positive = 204\n",
      "Precision = True Positive / (True Positive + False Positive) = 0.7723214285714286\n"
     ]
    }
   ],
   "source": [
    "print(\"True Positive :Actually Positive and Predicted Positive = {}\".format(692))\n",
    "print(\"False Positive :Actually Negative and Predicted Positive = {}\".format(204))\n",
    "\n",
    "print(\"Precision = True Positive / (True Positive + False Positive) = {}\".format(692.0 / (692 + 204)))"
   ]
  },
  {
   "cell_type": "markdown",
   "metadata": {},
   "source": [
    "# Q 4.3\n",
    "\n",
    "exp(B) = change in odds ratio. The odds ratio can be interpreted as the multiplicative adjustment to the odds of the outcome, given a **unit** change in the independent variable. In this case the unit of measurement for Premium (1 INR) which is very small compared to the actual Premium (1000s INR), hence a unit change does not lead to a meaningful change in odds ratio, subsequently the odds ratio will be very close to one. "
   ]
  },
  {
   "cell_type": "markdown",
   "metadata": {},
   "source": [
    "# Q 4.4"
   ]
  },
  {
   "cell_type": "code",
   "execution_count": 23,
   "metadata": {},
   "outputs": [
    {
     "name": "stdout",
     "output_type": "stream",
     "text": [
      "The model predicts 751 + 353 = 1104 customers have a probability less than 0.5 of paying premium\n",
      "The will call 1104 customers through Call Center\n"
     ]
    }
   ],
   "source": [
    "print(\"The model predicts 751 + 353 = {} customers have a probability less than 0.5 of paying premium\".format(\n",
    "    751+353))\n",
    "print(\"The will call 1104 customers through Call Center\")"
   ]
  },
  {
   "cell_type": "markdown",
   "metadata": {},
   "source": [
    "# Q 4.5 \n",
    "\n",
    "Total points we are getting is 1960.\n",
    "\n",
    "total = tp + fp + fn + tn\n",
    "\n",
    "sensitivity = tp/ (tp + fn)\n",
    "specificity = tn / (tn + fp)\n",
    "\n",
    "recall = sensitivity\n",
    "precision = tp / (tp + fp)"
   ]
  },
  {
   "cell_type": "code",
   "execution_count": 24,
   "metadata": {},
   "outputs": [
    {
     "name": "stdout",
     "output_type": "stream",
     "text": [
      "1960.0\n",
      "Precision 0.75 :: \n",
      "Recall 0.05555555555555555 :: \n",
      "sensitivity 0.05555555555555555 :: \n",
      "specificity 0.9772727272727273 ::\n"
     ]
    }
   ],
   "source": [
    "tp = 60.0 \n",
    "fp = 20.0\n",
    "\n",
    "fn = 51*20\n",
    "tn = 43 * 20\n",
    "\n",
    "total = tp + fp + fn + tn\n",
    "print(total)\n",
    "\n",
    "sensitivity = tp/ (tp + fn)\n",
    "specificity = tn / (tn + fp)\n",
    "\n",
    "recall = sensitivity\n",
    "precision = tp / (tp + fp)\n",
    "\n",
    "print(\"Precision {} :: \\nRecall {} :: \\nsensitivity {} :: \\nspecificity {} ::\".format(precision, recall, sensitivity, specificity))"
   ]
  },
  {
   "cell_type": "markdown",
   "metadata": {},
   "source": [
    "# Q 4.6\n",
    "\n",
    "Probability can be calculated using the following formula:\n",
    "\n",
    "\\begin{equation*} P(Y=1) = \\frac{\\exp^z} {1 + \\exp^z}\n",
    "\\end{equation*}\n",
    "\n",
    "\\begin{equation*} \\text{where z} = \\beta_0 + \\beta_1 * Salaried + \\beta_2 * HouseWife +\\beta_3 * others\\end{equation*}\n",
    "\n",
    "However in this case the variable Housewife is not a significant variable. Hence using this equation to calculate probability for the variable house wife may not be appropriate. However we will procced to compute the probability using the equation, using the coefficient in the equation and also using the coefficient as 0 (B is not significantly different from 0 for insignificant variables)"
   ]
  },
  {
   "cell_type": "code",
   "execution_count": 25,
   "metadata": {},
   "outputs": [
    {
     "name": "stdout",
     "output_type": "stream",
     "text": [
      "Probability of House wife paying the Premium is (beta ==22.061): 0.9999999993810521\n",
      "Probability of House wife paying the Premium is (beta = 0): 0.29775737226938176\n",
      "Since Beta is insignificant Beta == 0, hence .298 is the probability for housewife paying renewal\n"
     ]
    }
   ],
   "source": [
    "print(\"Probability of House wife paying the Premium is (beta ==22.061): {}\".format(np.exp(-.858 + 22.061)\n",
    "                                                                    / (1 + np.exp(-.858 + 22.061))))\n",
    "\n",
    "print(\"Probability of House wife paying the Premium is (beta = 0): {}\".format(np.exp(-.858 + 0)\n",
    "                                                                    / (1 + np.exp(-.858 + 0))))\n",
    "\n",
    "print(\"Since Beta is insignificant Beta == 0, hence .298 is the probability for housewife paying renewal\")"
   ]
  },
  {
   "cell_type": "markdown",
   "metadata": {},
   "source": [
    "# Q 4.7\n",
    "\n",
    "The Constant / Intercept measures for people with the following occupations **Professionals, Business and Agriculture** and they have a lower probability of renewal payment"
   ]
  },
  {
   "cell_type": "markdown",
   "metadata": {},
   "source": [
    "# Q 4.8\n",
    "\n",
    "Probability can be calculated using the following formula:\n",
    "\n",
    "\\begin{equation*} P(Y=1) = \\frac{\\exp^z} {1 + \\exp^z}\n",
    "\\end{equation*}\n",
    "\n",
    "\\begin{equation*} \\text{where z} = constant + \\beta_1 * Policy Term\\end{equation*}\n",
    "\n",
    "SSC Education, Agriculturist Profession & Marital Status Single will be factored in the term constant of the given equation.\n"
   ]
  },
  {
   "cell_type": "code",
   "execution_count": 26,
   "metadata": {},
   "outputs": [
    {
     "name": "stdout",
     "output_type": "stream",
     "text": [
      "Probability : 0.824190402911071\n"
     ]
    }
   ],
   "source": [
    "print(\"Probability : {}\".format(np.exp(3.105 + 60 * -0.026)/ (1 + np.exp(3.105 + 60 * -0.026))))"
   ]
  },
  {
   "cell_type": "markdown",
   "metadata": {},
   "source": [
    "# Q 4.9\n",
    "\n",
    "The coefficients tell about the relationship between the independent variables and the dependent variable, where the dependent variable is on the logit scale.  These estimates tell the amount of increase in the predicted log odds that would be predicted by a 1 unit increase in the predictor, holding all other predictors constant.\n",
    "\n",
    "**Recommendations** :\n",
    "\n",
    "- Married People has higher possibility of renewals (log odds ratio increases)\n",
    "- As payment term increases it leads to slightly reduced log odds of renewals\n",
    "- Professionals, Business men have much higher chance of defaulting on log odds of renewals\n",
    "- Being a graduate does increase the chance of log odds of renewals\n",
    "- Annual / Half yearly / Quarterly policy renewal schemes see reduced log odds of renewals\n",
    "- Model Change - Premuim : Variable scale should be changed for better understanding of Premium's contribution to affinity to renew policy (may be reduce unit to 1000s)\n",
    "\n",
    "\n",
    "- Strategy:\n",
    "    - For new customers target Married people and graduates\n",
    "    - For existing customers send more reminders (via Call centers / messgaes etc) to Business men, Professionals for renewal\n",
    "    - For people paying premiums in yearly / quarterly / halfyearly terms, send reminders to them before renewal dates\n",
    "    - For people with long payment terms keep sending them payment reminders as the tenure of their engagement increases\n"
   ]
  },
  {
   "cell_type": "markdown",
   "metadata": {},
   "source": [
    "# Q 4.10\n",
    "\n",
    "Gain is calculated as:\n",
    "\n",
    "\\begin{equation*} gain = \\frac {\\text{cumulative number of positive obs upto decile i}} \n",
    "{\\text {Total number of positive observations}} \\end{equation*}\n",
    "\n",
    "Lift is calculated as:\n",
    "\n",
    "\\begin{equation*} lift = \\frac {\\text{cumulative number of positive obs upto decile i}} \n",
    "{\\text {Total number of positive observations upto decile i from random model}} \\end{equation*}\n"
   ]
  },
  {
   "cell_type": "code",
   "execution_count": 27,
   "metadata": {},
   "outputs": [
    {
     "data": {
      "text/html": [
       "<div>\n",
       "<style scoped>\n",
       "    .dataframe tbody tr th:only-of-type {\n",
       "        vertical-align: middle;\n",
       "    }\n",
       "\n",
       "    .dataframe tbody tr th {\n",
       "        vertical-align: top;\n",
       "    }\n",
       "\n",
       "    .dataframe thead th {\n",
       "        text-align: right;\n",
       "    }\n",
       "</style>\n",
       "<table border=\"1\" class=\"dataframe\">\n",
       "  <thead>\n",
       "    <tr style=\"text-align: right;\">\n",
       "      <th></th>\n",
       "      <th>Decile</th>\n",
       "      <th>posunits</th>\n",
       "      <th>negunits</th>\n",
       "      <th>posCountunits</th>\n",
       "      <th>negCountunits</th>\n",
       "      <th>avgCountunits</th>\n",
       "      <th>cumPosCountunits</th>\n",
       "      <th>cumAvgCountunits</th>\n",
       "      <th>lift</th>\n",
       "      <th>gain</th>\n",
       "      <th>avgLift</th>\n",
       "    </tr>\n",
       "  </thead>\n",
       "  <tbody>\n",
       "    <tr>\n",
       "      <th>0</th>\n",
       "      <td>0.1</td>\n",
       "      <td>31</td>\n",
       "      <td>0</td>\n",
       "      <td>620</td>\n",
       "      <td>0</td>\n",
       "      <td>102.0</td>\n",
       "      <td>620</td>\n",
       "      <td>102.0</td>\n",
       "      <td>6.078431</td>\n",
       "      <td>0.607843</td>\n",
       "      <td>1</td>\n",
       "    </tr>\n",
       "    <tr>\n",
       "      <th>1</th>\n",
       "      <td>0.2</td>\n",
       "      <td>0</td>\n",
       "      <td>0</td>\n",
       "      <td>0</td>\n",
       "      <td>0</td>\n",
       "      <td>102.0</td>\n",
       "      <td>620</td>\n",
       "      <td>204.0</td>\n",
       "      <td>3.039216</td>\n",
       "      <td>0.607843</td>\n",
       "      <td>1</td>\n",
       "    </tr>\n",
       "    <tr>\n",
       "      <th>2</th>\n",
       "      <td>0.3</td>\n",
       "      <td>0</td>\n",
       "      <td>0</td>\n",
       "      <td>0</td>\n",
       "      <td>0</td>\n",
       "      <td>102.0</td>\n",
       "      <td>620</td>\n",
       "      <td>306.0</td>\n",
       "      <td>2.026144</td>\n",
       "      <td>0.607843</td>\n",
       "      <td>1</td>\n",
       "    </tr>\n",
       "    <tr>\n",
       "      <th>3</th>\n",
       "      <td>0.4</td>\n",
       "      <td>0</td>\n",
       "      <td>0</td>\n",
       "      <td>0</td>\n",
       "      <td>0</td>\n",
       "      <td>102.0</td>\n",
       "      <td>620</td>\n",
       "      <td>408.0</td>\n",
       "      <td>1.519608</td>\n",
       "      <td>0.607843</td>\n",
       "      <td>1</td>\n",
       "    </tr>\n",
       "    <tr>\n",
       "      <th>4</th>\n",
       "      <td>0.5</td>\n",
       "      <td>3</td>\n",
       "      <td>0</td>\n",
       "      <td>60</td>\n",
       "      <td>0</td>\n",
       "      <td>102.0</td>\n",
       "      <td>680</td>\n",
       "      <td>510.0</td>\n",
       "      <td>1.333333</td>\n",
       "      <td>0.666667</td>\n",
       "      <td>1</td>\n",
       "    </tr>\n",
       "    <tr>\n",
       "      <th>5</th>\n",
       "      <td>0.6</td>\n",
       "      <td>5</td>\n",
       "      <td>5</td>\n",
       "      <td>100</td>\n",
       "      <td>100</td>\n",
       "      <td>102.0</td>\n",
       "      <td>780</td>\n",
       "      <td>612.0</td>\n",
       "      <td>1.274510</td>\n",
       "      <td>0.764706</td>\n",
       "      <td>1</td>\n",
       "    </tr>\n",
       "    <tr>\n",
       "      <th>6</th>\n",
       "      <td>0.7</td>\n",
       "      <td>5</td>\n",
       "      <td>11</td>\n",
       "      <td>100</td>\n",
       "      <td>220</td>\n",
       "      <td>102.0</td>\n",
       "      <td>880</td>\n",
       "      <td>714.0</td>\n",
       "      <td>1.232493</td>\n",
       "      <td>0.862745</td>\n",
       "      <td>1</td>\n",
       "    </tr>\n",
       "    <tr>\n",
       "      <th>7</th>\n",
       "      <td>0.8</td>\n",
       "      <td>4</td>\n",
       "      <td>17</td>\n",
       "      <td>80</td>\n",
       "      <td>340</td>\n",
       "      <td>102.0</td>\n",
       "      <td>960</td>\n",
       "      <td>816.0</td>\n",
       "      <td>1.176471</td>\n",
       "      <td>0.941176</td>\n",
       "      <td>1</td>\n",
       "    </tr>\n",
       "    <tr>\n",
       "      <th>8</th>\n",
       "      <td>0.9</td>\n",
       "      <td>2</td>\n",
       "      <td>12</td>\n",
       "      <td>40</td>\n",
       "      <td>240</td>\n",
       "      <td>102.0</td>\n",
       "      <td>1000</td>\n",
       "      <td>918.0</td>\n",
       "      <td>1.089325</td>\n",
       "      <td>0.980392</td>\n",
       "      <td>1</td>\n",
       "    </tr>\n",
       "    <tr>\n",
       "      <th>9</th>\n",
       "      <td>1.0</td>\n",
       "      <td>1</td>\n",
       "      <td>2</td>\n",
       "      <td>20</td>\n",
       "      <td>40</td>\n",
       "      <td>102.0</td>\n",
       "      <td>1020</td>\n",
       "      <td>1020.0</td>\n",
       "      <td>1.000000</td>\n",
       "      <td>1.000000</td>\n",
       "      <td>1</td>\n",
       "    </tr>\n",
       "  </tbody>\n",
       "</table>\n",
       "</div>"
      ],
      "text/plain": [
       "   Decile  posunits  negunits  posCountunits  negCountunits  avgCountunits  \\\n",
       "0     0.1        31         0            620              0          102.0   \n",
       "1     0.2         0         0              0              0          102.0   \n",
       "2     0.3         0         0              0              0          102.0   \n",
       "3     0.4         0         0              0              0          102.0   \n",
       "4     0.5         3         0             60              0          102.0   \n",
       "5     0.6         5         5            100            100          102.0   \n",
       "6     0.7         5        11            100            220          102.0   \n",
       "7     0.8         4        17             80            340          102.0   \n",
       "8     0.9         2        12             40            240          102.0   \n",
       "9     1.0         1         2             20             40          102.0   \n",
       "\n",
       "   cumPosCountunits  cumAvgCountunits      lift      gain  avgLift  \n",
       "0               620             102.0  6.078431  0.607843        1  \n",
       "1               620             204.0  3.039216  0.607843        1  \n",
       "2               620             306.0  2.026144  0.607843        1  \n",
       "3               620             408.0  1.519608  0.607843        1  \n",
       "4               680             510.0  1.333333  0.666667        1  \n",
       "5               780             612.0  1.274510  0.764706        1  \n",
       "6               880             714.0  1.232493  0.862745        1  \n",
       "7               960             816.0  1.176471  0.941176        1  \n",
       "8              1000             918.0  1.089325  0.980392        1  \n",
       "9              1020            1020.0  1.000000  1.000000        1  "
      ]
     },
     "execution_count": 27,
     "metadata": {},
     "output_type": "execute_result"
    },
    {
     "data": {
      "image/png": "[encoded data removed]",
      "text/plain": [
       "<Figure size 1080x360 with 2 Axes>"
      ]
     },
     "metadata": {},
     "output_type": "display_data"
    }
   ],
   "source": [
    "data = pd.DataFrame({'Decile': [.1, .2, .3, .4, .5, .6, .7, .8, .9, 1]})\n",
    "data['posunits'] = [31, 0, 0, 0, 3, 5, 5, 4, 2, 1]\n",
    "data['negunits'] = [0, 0, 0, 0, 0, 5, 11, 17, 12, 2]\n",
    "data['posCountunits'] = data['posunits'] * 20\n",
    "data['negCountunits'] = data['negunits'] * 20\n",
    "avgPerDec = np.sum(data['posCountunits']) / 10\n",
    "data['avgCountunits'] = avgPerDec\n",
    "\n",
    "data['cumPosCountunits'] = data['posCountunits'].cumsum()\n",
    "data['cumAvgCountunits'] = data['avgCountunits'].cumsum()\n",
    "data['lift'] = data['cumPosCountunits'] / data['cumAvgCountunits']\n",
    "data['gain'] = data['cumPosCountunits'] / data['posCountunits'].sum()\n",
    "\n",
    "data['avgLift'] = 1\n",
    "\n",
    "\n",
    "#print(df)\n",
    "#### Plots\n",
    "plt.figure(figsize=(15, 5))\n",
    "plt.subplot(1,2,1)\n",
    "plt.plot(data.avgLift, 'r-', label='Average Model Performance')\n",
    "plt.plot(data.lift, 'g-', label='Predict Model Performance')\n",
    "plt.title('Cumulative Lift Chart')\n",
    "plt.xlabel('Deciles')\n",
    "plt.ylabel('Normalised Model')\n",
    "plt.legend()\n",
    "plt.xlim(0, 10)\n",
    "\n",
    "plt.subplot(1,2,2)\n",
    "plt.plot(data.Decile, 'r-', label='Average Model Performance')\n",
    "plt.plot(data.gain, 'g-', label='Predict Model Performance')\n",
    "plt.title('Cumulative Gain Chart')\n",
    "plt.xlabel('Deciles')\n",
    "plt.ylabel('Gain')\n",
    "plt.legend()\n",
    "plt.xlim(0, 10)\n",
    "\n",
    "data"
   ]
  },
  {
   "cell_type": "markdown",
   "metadata": {},
   "source": [
    "**Observaions**\n",
    "\n",
    "- From gain we see that the model captures 76% positives by the fifth decile\n",
    "- From Lift we see for the 1st decile model captures 6 times more positives than an ordinary model, 3 times for second decile, 2 times for 3rd decile, 1.5 times for 4th decile and 1.27 times for the 5th decile"
   ]
  },
  {
   "cell_type": "markdown",
   "metadata": {
    "collapsed": true
   },
   "source": [
    "# Q 5"
   ]
  },
  {
   "cell_type": "code",
   "execution_count": 28,
   "metadata": {},
   "outputs": [],
   "source": [
    "import statsmodels.api as sm\n",
    "import statsmodels.formula.api as smf\n",
    "from IPython.display import display\n",
    "pd.options.display.max_columns = None\n",
    "\n",
    "%load_ext rpy2.ipython"
   ]
  },
  {
   "cell_type": "code",
   "execution_count": 29,
   "metadata": {},
   "outputs": [
    {
     "name": "stdout",
     "output_type": "stream",
     "text": [
      "<class 'pandas.core.frame.DataFrame'>\n",
      "RangeIndex: 75 entries, 0 to 74\n",
      "Data columns (total 29 columns):\n",
      "NUMBER    75 non-null int64\n",
      "TIX       75 non-null int64\n",
      "OPP       75 non-null int64\n",
      "POS       75 non-null int64\n",
      "GB        75 non-null int64\n",
      "DOW       75 non-null int64\n",
      "TEMP      75 non-null int64\n",
      "PREC      75 non-null int64\n",
      "TOG       75 non-null int64\n",
      "TV        75 non-null int64\n",
      "PROMO     75 non-null int64\n",
      "NOBEL     75 non-null int64\n",
      "YANKS     75 non-null int64\n",
      "WKEND     75 non-null int64\n",
      "OD        75 non-null int64\n",
      "DH        75 non-null int64\n",
      "O1        75 non-null int64\n",
      "O2        75 non-null int64\n",
      "O3        75 non-null int64\n",
      "O4        75 non-null int64\n",
      "O5        75 non-null int64\n",
      "O6        75 non-null int64\n",
      "O7        75 non-null int64\n",
      "O8        75 non-null int64\n",
      "O9        75 non-null int64\n",
      "O10       75 non-null int64\n",
      "O11       75 non-null int64\n",
      "O12       75 non-null int64\n",
      "O13       75 non-null int64\n",
      "dtypes: int64(29)\n",
      "memory usage: 17.1 KB\n"
     ]
    }
   ],
   "source": [
    "oakland = pd.read_excel(\"./Oakland A Data 1.xlsx\", sheet_name='Attendance Data')\n",
    "oakland.info()"
   ]
  },
  {
   "cell_type": "code",
   "execution_count": 30,
   "metadata": {
    "scrolled": false
   },
   "outputs": [
    {
     "name": "stdout",
     "output_type": "stream",
     "text": [
      "There are no Missing Values in Data\n"
     ]
    },
    {
     "data": {
      "text/html": [
       "<div>\n",
       "<style scoped>\n",
       "    .dataframe tbody tr th:only-of-type {\n",
       "        vertical-align: middle;\n",
       "    }\n",
       "\n",
       "    .dataframe tbody tr th {\n",
       "        vertical-align: top;\n",
       "    }\n",
       "\n",
       "    .dataframe thead th {\n",
       "        text-align: right;\n",
       "    }\n",
       "</style>\n",
       "<table border=\"1\" class=\"dataframe\">\n",
       "  <thead>\n",
       "    <tr style=\"text-align: right;\">\n",
       "      <th></th>\n",
       "      <th>NUMBER</th>\n",
       "      <th>TIX</th>\n",
       "      <th>OPP</th>\n",
       "      <th>POS</th>\n",
       "      <th>GB</th>\n",
       "      <th>DOW</th>\n",
       "      <th>TEMP</th>\n",
       "      <th>PREC</th>\n",
       "      <th>TOG</th>\n",
       "      <th>TV</th>\n",
       "      <th>PROMO</th>\n",
       "      <th>NOBEL</th>\n",
       "      <th>YANKS</th>\n",
       "      <th>WKEND</th>\n",
       "      <th>OD</th>\n",
       "      <th>DH</th>\n",
       "      <th>O1</th>\n",
       "      <th>O2</th>\n",
       "      <th>O3</th>\n",
       "      <th>O4</th>\n",
       "      <th>O5</th>\n",
       "      <th>O6</th>\n",
       "      <th>O7</th>\n",
       "      <th>O8</th>\n",
       "      <th>O9</th>\n",
       "      <th>O10</th>\n",
       "      <th>O11</th>\n",
       "      <th>O12</th>\n",
       "      <th>O13</th>\n",
       "    </tr>\n",
       "  </thead>\n",
       "  <tbody>\n",
       "    <tr>\n",
       "      <th>count</th>\n",
       "      <td>75.000000</td>\n",
       "      <td>75.000000</td>\n",
       "      <td>75.000000</td>\n",
       "      <td>75.000000</td>\n",
       "      <td>75.000000</td>\n",
       "      <td>75.000000</td>\n",
       "      <td>75.000000</td>\n",
       "      <td>75.000000</td>\n",
       "      <td>75.000000</td>\n",
       "      <td>75.00000</td>\n",
       "      <td>75.000000</td>\n",
       "      <td>75.000000</td>\n",
       "      <td>75.000000</td>\n",
       "      <td>75.000000</td>\n",
       "      <td>75.000000</td>\n",
       "      <td>75.00000</td>\n",
       "      <td>75.00000</td>\n",
       "      <td>75.000000</td>\n",
       "      <td>75.000000</td>\n",
       "      <td>75.000000</td>\n",
       "      <td>75.000000</td>\n",
       "      <td>75.00000</td>\n",
       "      <td>75.000000</td>\n",
       "      <td>75.00000</td>\n",
       "      <td>75.00000</td>\n",
       "      <td>75.00000</td>\n",
       "      <td>75.00000</td>\n",
       "      <td>75.00000</td>\n",
       "      <td>75.00000</td>\n",
       "    </tr>\n",
       "    <tr>\n",
       "      <th>mean</th>\n",
       "      <td>38.000000</td>\n",
       "      <td>11244.253333</td>\n",
       "      <td>7.053333</td>\n",
       "      <td>2.853333</td>\n",
       "      <td>8.760000</td>\n",
       "      <td>4.240000</td>\n",
       "      <td>62.026667</td>\n",
       "      <td>0.040000</td>\n",
       "      <td>1.480000</td>\n",
       "      <td>0.12000</td>\n",
       "      <td>0.173333</td>\n",
       "      <td>0.213333</td>\n",
       "      <td>0.066667</td>\n",
       "      <td>0.520000</td>\n",
       "      <td>0.013333</td>\n",
       "      <td>0.08000</td>\n",
       "      <td>0.08000</td>\n",
       "      <td>0.093333</td>\n",
       "      <td>0.066667</td>\n",
       "      <td>0.066667</td>\n",
       "      <td>0.066667</td>\n",
       "      <td>0.08000</td>\n",
       "      <td>0.066667</td>\n",
       "      <td>0.08000</td>\n",
       "      <td>0.08000</td>\n",
       "      <td>0.08000</td>\n",
       "      <td>0.08000</td>\n",
       "      <td>0.08000</td>\n",
       "      <td>0.08000</td>\n",
       "    </tr>\n",
       "    <tr>\n",
       "      <th>std</th>\n",
       "      <td>21.794495</td>\n",
       "      <td>9729.863870</td>\n",
       "      <td>3.834034</td>\n",
       "      <td>1.342581</td>\n",
       "      <td>6.064607</td>\n",
       "      <td>2.058864</td>\n",
       "      <td>3.324655</td>\n",
       "      <td>0.197279</td>\n",
       "      <td>0.502964</td>\n",
       "      <td>0.32715</td>\n",
       "      <td>0.381084</td>\n",
       "      <td>0.412420</td>\n",
       "      <td>0.251124</td>\n",
       "      <td>0.502964</td>\n",
       "      <td>0.115470</td>\n",
       "      <td>0.27312</td>\n",
       "      <td>0.27312</td>\n",
       "      <td>0.292858</td>\n",
       "      <td>0.251124</td>\n",
       "      <td>0.251124</td>\n",
       "      <td>0.251124</td>\n",
       "      <td>0.27312</td>\n",
       "      <td>0.251124</td>\n",
       "      <td>0.27312</td>\n",
       "      <td>0.27312</td>\n",
       "      <td>0.27312</td>\n",
       "      <td>0.27312</td>\n",
       "      <td>0.27312</td>\n",
       "      <td>0.27312</td>\n",
       "    </tr>\n",
       "    <tr>\n",
       "      <th>min</th>\n",
       "      <td>1.000000</td>\n",
       "      <td>2140.000000</td>\n",
       "      <td>1.000000</td>\n",
       "      <td>1.000000</td>\n",
       "      <td>0.000000</td>\n",
       "      <td>1.000000</td>\n",
       "      <td>55.000000</td>\n",
       "      <td>0.000000</td>\n",
       "      <td>1.000000</td>\n",
       "      <td>0.00000</td>\n",
       "      <td>0.000000</td>\n",
       "      <td>0.000000</td>\n",
       "      <td>0.000000</td>\n",
       "      <td>0.000000</td>\n",
       "      <td>0.000000</td>\n",
       "      <td>0.00000</td>\n",
       "      <td>0.00000</td>\n",
       "      <td>0.000000</td>\n",
       "      <td>0.000000</td>\n",
       "      <td>0.000000</td>\n",
       "      <td>0.000000</td>\n",
       "      <td>0.00000</td>\n",
       "      <td>0.000000</td>\n",
       "      <td>0.00000</td>\n",
       "      <td>0.00000</td>\n",
       "      <td>0.00000</td>\n",
       "      <td>0.00000</td>\n",
       "      <td>0.00000</td>\n",
       "      <td>0.00000</td>\n",
       "    </tr>\n",
       "    <tr>\n",
       "      <th>25%</th>\n",
       "      <td>19.500000</td>\n",
       "      <td>5151.500000</td>\n",
       "      <td>4.000000</td>\n",
       "      <td>2.000000</td>\n",
       "      <td>2.000000</td>\n",
       "      <td>2.000000</td>\n",
       "      <td>60.000000</td>\n",
       "      <td>0.000000</td>\n",
       "      <td>1.000000</td>\n",
       "      <td>0.00000</td>\n",
       "      <td>0.000000</td>\n",
       "      <td>0.000000</td>\n",
       "      <td>0.000000</td>\n",
       "      <td>0.000000</td>\n",
       "      <td>0.000000</td>\n",
       "      <td>0.00000</td>\n",
       "      <td>0.00000</td>\n",
       "      <td>0.000000</td>\n",
       "      <td>0.000000</td>\n",
       "      <td>0.000000</td>\n",
       "      <td>0.000000</td>\n",
       "      <td>0.00000</td>\n",
       "      <td>0.000000</td>\n",
       "      <td>0.00000</td>\n",
       "      <td>0.00000</td>\n",
       "      <td>0.00000</td>\n",
       "      <td>0.00000</td>\n",
       "      <td>0.00000</td>\n",
       "      <td>0.00000</td>\n",
       "    </tr>\n",
       "    <tr>\n",
       "      <th>50%</th>\n",
       "      <td>38.000000</td>\n",
       "      <td>7696.000000</td>\n",
       "      <td>7.000000</td>\n",
       "      <td>3.000000</td>\n",
       "      <td>11.000000</td>\n",
       "      <td>5.000000</td>\n",
       "      <td>62.000000</td>\n",
       "      <td>0.000000</td>\n",
       "      <td>1.000000</td>\n",
       "      <td>0.00000</td>\n",
       "      <td>0.000000</td>\n",
       "      <td>0.000000</td>\n",
       "      <td>0.000000</td>\n",
       "      <td>1.000000</td>\n",
       "      <td>0.000000</td>\n",
       "      <td>0.00000</td>\n",
       "      <td>0.00000</td>\n",
       "      <td>0.000000</td>\n",
       "      <td>0.000000</td>\n",
       "      <td>0.000000</td>\n",
       "      <td>0.000000</td>\n",
       "      <td>0.00000</td>\n",
       "      <td>0.000000</td>\n",
       "      <td>0.00000</td>\n",
       "      <td>0.00000</td>\n",
       "      <td>0.00000</td>\n",
       "      <td>0.00000</td>\n",
       "      <td>0.00000</td>\n",
       "      <td>0.00000</td>\n",
       "    </tr>\n",
       "    <tr>\n",
       "      <th>75%</th>\n",
       "      <td>56.500000</td>\n",
       "      <td>13026.000000</td>\n",
       "      <td>10.000000</td>\n",
       "      <td>3.000000</td>\n",
       "      <td>13.000000</td>\n",
       "      <td>6.000000</td>\n",
       "      <td>64.000000</td>\n",
       "      <td>0.000000</td>\n",
       "      <td>2.000000</td>\n",
       "      <td>0.00000</td>\n",
       "      <td>0.000000</td>\n",
       "      <td>0.000000</td>\n",
       "      <td>0.000000</td>\n",
       "      <td>1.000000</td>\n",
       "      <td>0.000000</td>\n",
       "      <td>0.00000</td>\n",
       "      <td>0.00000</td>\n",
       "      <td>0.000000</td>\n",
       "      <td>0.000000</td>\n",
       "      <td>0.000000</td>\n",
       "      <td>0.000000</td>\n",
       "      <td>0.00000</td>\n",
       "      <td>0.000000</td>\n",
       "      <td>0.00000</td>\n",
       "      <td>0.00000</td>\n",
       "      <td>0.00000</td>\n",
       "      <td>0.00000</td>\n",
       "      <td>0.00000</td>\n",
       "      <td>0.00000</td>\n",
       "    </tr>\n",
       "    <tr>\n",
       "      <th>max</th>\n",
       "      <td>75.000000</td>\n",
       "      <td>47946.000000</td>\n",
       "      <td>13.000000</td>\n",
       "      <td>7.000000</td>\n",
       "      <td>19.000000</td>\n",
       "      <td>7.000000</td>\n",
       "      <td>70.000000</td>\n",
       "      <td>1.000000</td>\n",
       "      <td>2.000000</td>\n",
       "      <td>1.00000</td>\n",
       "      <td>1.000000</td>\n",
       "      <td>1.000000</td>\n",
       "      <td>1.000000</td>\n",
       "      <td>1.000000</td>\n",
       "      <td>1.000000</td>\n",
       "      <td>1.00000</td>\n",
       "      <td>1.00000</td>\n",
       "      <td>1.000000</td>\n",
       "      <td>1.000000</td>\n",
       "      <td>1.000000</td>\n",
       "      <td>1.000000</td>\n",
       "      <td>1.00000</td>\n",
       "      <td>1.000000</td>\n",
       "      <td>1.00000</td>\n",
       "      <td>1.00000</td>\n",
       "      <td>1.00000</td>\n",
       "      <td>1.00000</td>\n",
       "      <td>1.00000</td>\n",
       "      <td>1.00000</td>\n",
       "    </tr>\n",
       "  </tbody>\n",
       "</table>\n",
       "</div>"
      ],
      "text/plain": [
       "          NUMBER           TIX        OPP        POS         GB        DOW  \\\n",
       "count  75.000000     75.000000  75.000000  75.000000  75.000000  75.000000   \n",
       "mean   38.000000  11244.253333   7.053333   2.853333   8.760000   4.240000   \n",
       "std    21.794495   9729.863870   3.834034   1.342581   6.064607   2.058864   \n",
       "min     1.000000   2140.000000   1.000000   1.000000   0.000000   1.000000   \n",
       "25%    19.500000   5151.500000   4.000000   2.000000   2.000000   2.000000   \n",
       "50%    38.000000   7696.000000   7.000000   3.000000  11.000000   5.000000   \n",
       "75%    56.500000  13026.000000  10.000000   3.000000  13.000000   6.000000   \n",
       "max    75.000000  47946.000000  13.000000   7.000000  19.000000   7.000000   \n",
       "\n",
       "            TEMP       PREC        TOG        TV      PROMO      NOBEL  \\\n",
       "count  75.000000  75.000000  75.000000  75.00000  75.000000  75.000000   \n",
       "mean   62.026667   0.040000   1.480000   0.12000   0.173333   0.213333   \n",
       "std     3.324655   0.197279   0.502964   0.32715   0.381084   0.412420   \n",
       "min    55.000000   0.000000   1.000000   0.00000   0.000000   0.000000   \n",
       "25%    60.000000   0.000000   1.000000   0.00000   0.000000   0.000000   \n",
       "50%    62.000000   0.000000   1.000000   0.00000   0.000000   0.000000   \n",
       "75%    64.000000   0.000000   2.000000   0.00000   0.000000   0.000000   \n",
       "max    70.000000   1.000000   2.000000   1.00000   1.000000   1.000000   \n",
       "\n",
       "           YANKS      WKEND         OD        DH        O1         O2  \\\n",
       "count  75.000000  75.000000  75.000000  75.00000  75.00000  75.000000   \n",
       "mean    0.066667   0.520000   0.013333   0.08000   0.08000   0.093333   \n",
       "std     0.251124   0.502964   0.115470   0.27312   0.27312   0.292858   \n",
       "min     0.000000   0.000000   0.000000   0.00000   0.00000   0.000000   \n",
       "25%     0.000000   0.000000   0.000000   0.00000   0.00000   0.000000   \n",
       "50%     0.000000   1.000000   0.000000   0.00000   0.00000   0.000000   \n",
       "75%     0.000000   1.000000   0.000000   0.00000   0.00000   0.000000   \n",
       "max     1.000000   1.000000   1.000000   1.00000   1.00000   1.000000   \n",
       "\n",
       "              O3         O4         O5        O6         O7        O8  \\\n",
       "count  75.000000  75.000000  75.000000  75.00000  75.000000  75.00000   \n",
       "mean    0.066667   0.066667   0.066667   0.08000   0.066667   0.08000   \n",
       "std     0.251124   0.251124   0.251124   0.27312   0.251124   0.27312   \n",
       "min     0.000000   0.000000   0.000000   0.00000   0.000000   0.00000   \n",
       "25%     0.000000   0.000000   0.000000   0.00000   0.000000   0.00000   \n",
       "50%     0.000000   0.000000   0.000000   0.00000   0.000000   0.00000   \n",
       "75%     0.000000   0.000000   0.000000   0.00000   0.000000   0.00000   \n",
       "max     1.000000   1.000000   1.000000   1.00000   1.000000   1.00000   \n",
       "\n",
       "             O9       O10       O11       O12       O13  \n",
       "count  75.00000  75.00000  75.00000  75.00000  75.00000  \n",
       "mean    0.08000   0.08000   0.08000   0.08000   0.08000  \n",
       "std     0.27312   0.27312   0.27312   0.27312   0.27312  \n",
       "min     0.00000   0.00000   0.00000   0.00000   0.00000  \n",
       "25%     0.00000   0.00000   0.00000   0.00000   0.00000  \n",
       "50%     0.00000   0.00000   0.00000   0.00000   0.00000  \n",
       "75%     0.00000   0.00000   0.00000   0.00000   0.00000  \n",
       "max     1.00000   1.00000   1.00000   1.00000   1.00000  "
      ]
     },
     "execution_count": 30,
     "metadata": {},
     "output_type": "execute_result"
    }
   ],
   "source": [
    "print(\"There are no Missing Values in Data\")\n",
    "oakland.describe()"
   ]
  },
  {
   "cell_type": "code",
   "execution_count": 31,
   "metadata": {},
   "outputs": [
    {
     "data": {
      "image/png": "[encoded data removed]",
      "text/plain": [
       "<Figure size 1080x360 with 2 Axes>"
      ]
     },
     "metadata": {},
     "output_type": "display_data"
    },
    {
     "name": "stdout",
     "output_type": "stream",
     "text": [
      "TIX is right skewed distribution. The log Transformed TIX is more of an approximate normal distribution.\n"
     ]
    }
   ],
   "source": [
    "import seaborn as sns\n",
    "fig = plt.figure(figsize=(15,5))\n",
    "ax = plt.subplot(\"121\")\n",
    "ax.set_title(\"Distribution plot for TIX\")\n",
    "sns.distplot(oakland.TIX)\n",
    "ax = plt.subplot(\"122\")\n",
    "ax.set_title(\"Distribution plot for LOG(TIX)\")\n",
    "sns.distplot(np.log(oakland.TIX))\n",
    "plt.show()\n",
    "\n",
    "print(\"TIX is right skewed distribution. The log Transformed TIX is more of an approximate normal distribution.\")"
   ]
  },
  {
   "cell_type": "markdown",
   "metadata": {},
   "source": [
    "- Mark Nobel has played for 21.33% games for Oakland A during the period when the data was captured\n",
    "- We will perform a Two Sample T-test between the mean of TIX when Nobel Played vs When Nobel did not play to check wthether ther was any significant difference of mean between the two categories"
   ]
  },
  {
   "cell_type": "code",
   "execution_count": null,
   "metadata": {},
   "outputs": [],
   "source": []
  },
  {
   "cell_type": "code",
   "execution_count": 32,
   "metadata": {},
   "outputs": [
    {
     "data": {
      "image/png": "[encoded data removed]",
      "text/plain": [
       "<Figure size 432x288 with 1 Axes>"
      ]
     },
     "metadata": {},
     "output_type": "display_data"
    }
   ],
   "source": [
    "sns.boxplot(x='NOBEL', y='TIX', data=oakland)\n",
    "plt.show()"
   ]
  },
  {
   "cell_type": "code",
   "execution_count": 33,
   "metadata": {},
   "outputs": [
    {
     "name": "stdout",
     "output_type": "stream",
     "text": [
      "Alpha: 0.05\n",
      "Mean TIX (x1) = 12663.5625, STD TIX = 11211.620411987733 and number of games = 16 with Nobel\n",
      "Mean TIX (x1) = 10859.35593220339, STD TIX = 9357.940067245701 and number of games = 59 without Nobel\n",
      "NUll Hypothesis: x1 - x2 <= 0\n",
      "Alternate Hypothesis: x1 - x2 >0\n",
      "This is 2 Sample T test, with unknown population SD and the SD of the two are unequal\n",
      "SE 3056.228389809929\n",
      "DF 21\n",
      "T-stat 0.5903376114861676\n",
      "This is a two sided T-Test\n",
      "Significant t-value at alpha - 0.05 is : 1.7207429028118777\n",
      "p-value:0.2806319971052741 is greater than alpha(0.05)\n",
      "Hence we can retain the NULL Hypothesis (ho)\n"
     ]
    }
   ],
   "source": [
    "x1, S1, n1 = oakland.loc[oakland.NOBEL==1, \"TIX\"].mean(), oakland.loc[oakland.NOBEL==1, \"TIX\"].std(), oakland.loc[oakland.NOBEL==1, \"TIX\"].shape[0]\n",
    "x2, S2, n2 = oakland.loc[oakland.NOBEL==0, \"TIX\"].mean(), oakland.loc[oakland.NOBEL==0, \"TIX\"].std(), oakland.loc[oakland.NOBEL==0, \"TIX\"].shape[0]\n",
    "#x1, S1, n1 = np.mean(np.log(oakland.loc[oakland.NOBEL==1, \"TIX\"])), np.std(np.log(oakland.loc[oakland.NOBEL==1, \"TIX\"])), oakland.loc[oakland.NOBEL==1, \"TIX\"].shape[0]\n",
    "#x2, S2, n2 = np.mean(np.log(oakland.loc[oakland.NOBEL==0, \"TIX\"])), np.std(np.log(oakland.loc[oakland.NOBEL==0, \"TIX\"])), oakland.loc[oakland.NOBEL==0, \"TIX\"].shape[0]\n",
    "\n",
    "alpha = 0.05\n",
    "adjustedAlpha = alpha \n",
    "\n",
    "print(\"Alpha: {}\".format(adjustedAlpha))\n",
    "print(\"Mean TIX (x1) = {}, STD TIX = {} and number of games = {} with Nobel\".format(x1, S1, n1))\n",
    "print(\"Mean TIX (x1) = {}, STD TIX = {} and number of games = {} without Nobel\".format(x2, S2, n2))\n",
    "\n",
    "ho = \"x1 - x2 <= 0\"\n",
    "ha = \"x1 - x2 >0\"\n",
    "\n",
    "def pairwise_t_test(S1, S2, n1, n2, x1, x2, adjustedAlpha):\n",
    "    print(\"NUll Hypothesis: {}\".format(ho))\n",
    "    print(\"Alternate Hypothesis: {}\".format(ha))\n",
    "    print(\"This is 2 Sample T test, with unknown population SD and the SD of the two are unequal\")\n",
    "    Su = ((S1 ** 2) / n1 + (S2 ** 2) / n2) ** 0.5\n",
    "    print(\"SE {}\".format(Su))\n",
    "\n",
    "    df = np.math.floor(Su ** 4 / ((((S1 ** 2) / n1) ** 2) / (n1 -1) + (((S2 ** 2) / n2) ** 2) / (n2 -1)))\n",
    "    print(\"DF {}\".format(df))\n",
    "\n",
    "    tstat = ((x1 - x2) - 0) /(Su)\n",
    "    print(\"T-stat {}\".format(tstat))\n",
    "\n",
    "    print(\"This is a two sided T-Test\")\n",
    "\n",
    "    #print(\"alpha/ Significance: {}\".format(adjustedAlpha / 2))\n",
    "    print(\"Significant t-value at alpha - {} is : {}\".format(adjustedAlpha , -1*stats.t.ppf(adjustedAlpha, \n",
    "                                                                                               df = df)))\n",
    "    print(\"p-value:{} is greater than alpha({})\".format(1 - stats.t.cdf(tstat, df = df), adjustedAlpha))\n",
    "    print(\"Hence we can retain the NULL Hypothesis (ho)\")\n",
    "pairwise_t_test(S1, S2, n1, n2, x1, x2, adjustedAlpha)\n"
   ]
  },
  {
   "cell_type": "markdown",
   "metadata": {},
   "source": [
    " - In general we see that there is not statistical evidence that a single factor, presence of Nobel has any effect on increasing ticket sales\n",
    " - We will check whether this factor become important in presence of other factors before drawing any final conclusions"
   ]
  },
  {
   "cell_type": "code",
   "execution_count": 34,
   "metadata": {},
   "outputs": [
    {
     "data": {
      "text/plain": [
       "<matplotlib.axes._subplots.AxesSubplot at 0x7f1feec1e240>"
      ]
     },
     "execution_count": 34,
     "metadata": {},
     "output_type": "execute_result"
    },
    {
     "data": {
      "image/png": "[encoded data removed]",
      "text/plain": [
       "<Figure size 864x864 with 2 Axes>"
      ]
     },
     "metadata": {},
     "output_type": "display_data"
    }
   ],
   "source": [
    "corr = oakland[[\"TIX\",\"OPP\",\"POS\",\"GB\",\"DOW\",\"TEMP\",\"PREC\",\"TOG\",\"TV\",\"PROMO\",\"NOBEL\",\"YANKS\",\"WKEND\",\"OD\",\"DH\"]].corr(method='pearson')\n",
    "\n",
    "# Generate a mask for the upper triangle\n",
    "mask = np.zeros_like(corr, dtype=np.bool)\n",
    "mask[np.triu_indices_from(mask)] = True\n",
    "\n",
    "# Set up the matplotlib figure\n",
    "f, ax = plt.subplots(figsize=(12, 12))\n",
    "\n",
    "# Generate a custom diverging colormap\n",
    "cmap = sns.diverging_palette(255, 150, as_cmap=True)\n",
    "\n",
    "# Draw the heatmap with the mask and correct aspect ratio\n",
    "sns.heatmap(corr, mask=mask, cmap=cmap, vmax=.3, center=0,\n",
    "            square=True, linewidths=.5, cbar_kws={\"shrink\": .5})"
   ]
  },
  {
   "cell_type": "markdown",
   "metadata": {},
   "source": [
    " - From the correlation plot above we see that \"Game with YANKS\" and PROMO along with whether the match is a \"DOUBLE HEADER\" has high correlation to TIX sales\n",
    " \n",
    "**We will now create a series of Regression Models to check the validity of the claim that MARK NOBEL's presence increase the TIX and revenue generation for OAKLAND A**\n",
    "\n",
    "- From the plots of TIX we noticed that TIX is not normally distributed. The Regression Model developed with TIX may end up with Error terms which are not Normally distributed\n",
    "- To address this issue we will build the models using the Log transformed values of TIX, as from the plot it is clear that the log transformed variable is closer to a Normal Distribution."
   ]
  },
  {
   "cell_type": "code",
   "execution_count": 35,
   "metadata": {},
   "outputs": [],
   "source": [
    "y = np.log(oakland.TIX.values)\n",
    "cols2use = \"NOBEL\"\n",
    "x = oakland[cols2use]\n",
    "\n",
    "#lg_model_1 = sm.OLS(y, sm.add_constant(x)).fit()\n",
    "\n",
    "#lg_model_1.summary()\n",
    "#lg_model_1.params\n",
    "#lg_model_1.summary2()"
   ]
  },
  {
   "cell_type": "code",
   "execution_count": 36,
   "metadata": {},
   "outputs": [
    {
     "data": {
      "text/plain": [
       "\n",
       "Call:\n",
       "lm(formula = .outcome ~ ., data = dat, verbose = FALSE)\n",
       "\n",
       "Residuals:\n",
       "    Min      1Q  Median      3Q     Max \n",
       "-1.3590 -0.5277 -0.1325  0.4293  1.7465 \n",
       "\n",
       "Coefficients:\n",
       "            Estimate Std. Error t value Pr(>|t|)    \n",
       "(Intercept)  9.02758    0.09137  98.807   <2e-16 ***\n",
       "x1           0.16970    0.19781   0.858    0.394    \n",
       "---\n",
       "Signif. codes:  0 ‘***’ 0.001 ‘**’ 0.01 ‘*’ 0.05 ‘.’ 0.1 ‘ ’ 1\n",
       "\n",
       "Residual standard error: 0.7018 on 73 degrees of freedom\n",
       "Multiple R-squared:  0.009981,\tAdjusted R-squared:  -0.003581 \n",
       "F-statistic: 0.7359 on 1 and 73 DF,  p-value: 0.3938\n",
       "\n",
       "NULL\n"
      ]
     },
     "metadata": {},
     "output_type": "display_data"
    },
    {
     "data": {
      "image/png": "[encoded data removed]"
     },
     "metadata": {},
     "output_type": "display_data"
    }
   ],
   "source": [
    "%%R -i x -i y -w 800 -h 400\n",
    "library(caret)\n",
    "x = data.frame(x)\n",
    "x$x = as.factor(x$x)\n",
    "y = data.frame(y)\n",
    "y$y = as.numeric(y$y)\n",
    "\n",
    "#print(str(y$y))\n",
    "#print(str(x))\n",
    "objControl <- trainControl(method = \"none\", returnResamp = 'final',\n",
    "                           summaryFunction = defaultSummary,\n",
    "                           #summaryFunction = twoClassSummary, defaultSummary\n",
    "                           classProbs = FALSE,\n",
    "                           savePredictions = TRUE)\n",
    "set.seed(766)\n",
    "reg_caret_model <- train(x,\n",
    "                      y$y,\n",
    "                      method = 'lm',\n",
    "                      trControl = objControl,\n",
    "                      metric = \"Rsquared\",\n",
    "                      tuneGrid = NULL,\n",
    "                      verbose = FALSE)\n",
    "\n",
    "#print(plot(varImp(reg_caret_model, scale = TRUE)))\n",
    "\n",
    "print(summary(reg_caret_model))\n",
    "par(mfrow = c(2, 2)) \n",
    "print(plot(reg_caret_model$finalModel))"
   ]
  },
  {
   "cell_type": "markdown",
   "metadata": {},
   "source": [
    "- As noticed with the Hypothesis test, from the model above we can see that on its own the variable checking for the presence of Nobel is not Significant in predicting for TIX\n",
    "\n",
    "**We will build a Model with NOBEL, YANKS, DH and PROMO**"
   ]
  },
  {
   "cell_type": "code",
   "execution_count": 37,
   "metadata": {},
   "outputs": [],
   "source": [
    "y = np.log(oakland.TIX.values)\n",
    "cols2use = [\"NOBEL\", \"YANKS\", \"DH\", \"PROMO\" ] \n",
    "x = oakland[cols2use]\n"
   ]
  },
  {
   "cell_type": "code",
   "execution_count": 38,
   "metadata": {},
   "outputs": [
    {
     "data": {
      "text/plain": [
       "\n",
       "Call:\n",
       "lm(formula = .outcome ~ ., data = dat, verbose = FALSE)\n",
       "\n",
       "Residuals:\n",
       "     Min       1Q   Median       3Q      Max \n",
       "-1.17886 -0.34759 -0.05221  0.43435  1.25553 \n",
       "\n",
       "Coefficients:\n",
       "            Estimate Std. Error t value Pr(>|t|)    \n",
       "(Intercept)  8.84742    0.07830 112.993  < 2e-16 ***\n",
       "NOBEL1      -0.01655    0.15781  -0.105   0.9168    \n",
       "YANKS1       1.44901    0.25925   5.589 4.09e-07 ***\n",
       "DH1          0.51414    0.24118   2.132   0.0365 *  \n",
       "PROMO1       0.47397    0.17055   2.779   0.0070 ** \n",
       "---\n",
       "Signif. codes:  0 ‘***’ 0.001 ‘**’ 0.01 ‘*’ 0.05 ‘.’ 0.1 ‘ ’ 1\n",
       "\n",
       "Residual standard error: 0.5448 on 70 degrees of freedom\n",
       "Multiple R-squared:  0.4279,\tAdjusted R-squared:  0.3953 \n",
       "F-statistic: 13.09 on 4 and 70 DF,  p-value: 5.174e-08\n",
       "\n",
       "NULL\n"
      ]
     },
     "metadata": {},
     "output_type": "display_data"
    },
    {
     "data": {
      "image/png": "[encoded data removed]"
     },
     "metadata": {},
     "output_type": "display_data"
    }
   ],
   "source": [
    "%%R -i x -i y -w 800 -h 400\n",
    "library(caret)\n",
    "x = data.frame(x)\n",
    "x$NOBEL = factor(x$NOBEL)\n",
    "x$YANKS = factor(x$YANKS)\n",
    "x$DH = factor(x$DH)\n",
    "x$PROMO = factor(x$PROMO)\n",
    "y = data.frame(y)\n",
    "y$y = as.numeric(y$y)\n",
    "\n",
    "#print(str(y$y))\n",
    "#print(str(x))\n",
    "objControl <- trainControl(method = \"none\", returnResamp = 'final',\n",
    "                           summaryFunction = defaultSummary,\n",
    "                           #summaryFunction = twoClassSummary, defaultSummary\n",
    "                           classProbs = FALSE,\n",
    "                           savePredictions = TRUE)\n",
    "set.seed(766)\n",
    "reg_caret_model <- train(x,\n",
    "                      y$y,\n",
    "                      method = 'lm',\n",
    "                      trControl = objControl,\n",
    "                      metric = \"Rsquared\",\n",
    "                      tuneGrid = NULL,\n",
    "                      verbose = FALSE)\n",
    "\n",
    "#print(plot(varImp(reg_caret_model, scale = TRUE)))\n",
    "\n",
    "print(summary(reg_caret_model))\n",
    "par(mfrow = c(2, 2)) \n",
    "print(plot(reg_caret_model$finalModel))"
   ]
  },
  {
   "cell_type": "markdown",
   "metadata": {},
   "source": [
    "- As noticed with the Hypothesis test, from the model above we can see that on its own the variable checking for the presence of Nobel is not Significant in predicting for TIX\n",
    "\n",
    "**We will build a Stepwise Model with all variables and select the best model. We will check if the variable NOBEL is significant in any of the models**"
   ]
  },
  {
   "cell_type": "code",
   "execution_count": 39,
   "metadata": {},
   "outputs": [],
   "source": [
    "y = np.log(oakland.TIX.values)\n",
    "cols2use = [\"OPP\",\"POS\",\"GB\",\"DOW\",\"TEMP\",\"PREC\",\"TOG\",\"TV\",\"PROMO\",\"NOBEL\",\"YANKS\",\"WKEND\",\"OD\",\"DH\"] \n",
    "x = oakland[cols2use]"
   ]
  },
  {
   "cell_type": "code",
   "execution_count": 40,
   "metadata": {
    "scrolled": false
   },
   "outputs": [
    {
     "data": {
      "text/plain": [
       "Start:  AIC=-137.62\n",
       ".outcome ~ OPP + POS + GB + DOW + TEMP + PREC + TOG + TV + PROMO + \n",
       "    NOBEL + YANKS + WKEND + OD + DH\n",
       "\n",
       "\n",
       "Step:  AIC=-137.62\n",
       ".outcome ~ OPP + POS + GB + DOW + TEMP + PREC + TOG + TV + PROMO + \n",
       "    NOBEL + YANKS + OD + DH\n",
       "\n",
       "\n",
       "Step:  AIC=-137.62\n",
       ".outcome ~ OPP + POS + GB + DOW + TEMP + PREC + TOG + TV + PROMO + \n",
       "    NOBEL + OD + DH\n",
       "\n",
       "        Df Sum of Sq    RSS      AIC\n",
       "- GB    16    1.0683 4.3093 -148.253\n",
       "- POS    5    0.2947 3.5357 -141.094\n",
       "- NOBEL  1    0.0015 3.2425 -139.586\n",
       "- TEMP   1    0.0102 3.2512 -139.384\n",
       "- TOG    1    0.0302 3.2712 -138.925\n",
       "- TV     1    0.0854 3.3264 -137.670\n",
       "<none>               3.2410 -137.621\n",
       "- PREC   1    0.2414 3.4824 -134.232\n",
       "- PROMO  1    0.8455 4.0865 -122.236\n",
       "- OD     1    0.9411 4.1821 -120.501\n",
       "- DH     1    0.9740 4.2150 -119.913\n",
       "- OPP   12    6.0107 9.2517  -82.951\n",
       "- DOW    6    4.8968 8.1378  -80.572\n",
       "\n",
       "Step:  AIC=-148.25\n",
       ".outcome ~ OPP + POS + DOW + TEMP + PREC + TOG + TV + PROMO + \n",
       "    NOBEL + OD + DH\n",
       "\n",
       "        Df Sum of Sq     RSS      AIC\n",
       "- TOG    1    0.0005  4.3098 -150.244\n",
       "- NOBEL  1    0.0053  4.3146 -150.161\n",
       "- TEMP   1    0.0125  4.3218 -150.036\n",
       "<none>                4.3093 -148.253\n",
       "- TV     1    0.1677  4.4771 -147.389\n",
       "- PREC   1    0.2532  4.5625 -145.971\n",
       "- POS    6    1.3336  5.6429 -140.031\n",
       "- OD     1    0.9311  5.2404 -135.581\n",
       "- PROMO  1    1.5890  5.8983 -126.711\n",
       "- DH     1    1.6242  5.9335 -126.265\n",
       "- DOW    6    6.6753 10.9846  -90.075\n",
       "- OPP   12   12.6881 16.9974  -69.332\n",
       "\n",
       "Step:  AIC=-150.24\n",
       ".outcome ~ OPP + POS + DOW + TEMP + PREC + TV + PROMO + NOBEL + \n",
       "    OD + DH\n",
       "\n",
       "        Df Sum of Sq     RSS      AIC\n",
       "- NOBEL  1    0.0051  4.3149 -152.156\n",
       "- TEMP   1    0.0133  4.3231 -152.014\n",
       "<none>                4.3098 -150.244\n",
       "- TV     1    0.1683  4.4781 -149.371\n",
       "- PREC   1    0.2527  4.5625 -147.971\n",
       "- POS    6    1.3522  5.6621 -141.777\n",
       "- OD     1    1.0705  5.3803 -135.605\n",
       "- PROMO  1    1.5921  5.9020 -128.665\n",
       "- DH     1    1.6913  6.0012 -127.415\n",
       "- DOW    6    6.9278 11.2376  -90.367\n",
       "- OPP   12   12.9542 17.2641  -70.165\n",
       "\n",
       "Step:  AIC=-152.16\n",
       ".outcome ~ OPP + POS + DOW + TEMP + PREC + TV + PROMO + OD + \n",
       "    DH\n",
       "\n",
       "        Df Sum of Sq     RSS      AIC\n",
       "- TEMP   1    0.0145  4.3294 -153.905\n",
       "<none>                4.3149 -152.156\n",
       "- TV     1    0.1684  4.4833 -151.285\n",
       "- PREC   1    0.2522  4.5671 -149.896\n",
       "- POS    6    1.3484  5.6633 -143.761\n",
       "- OD     1    1.0704  5.3853 -137.537\n",
       "- PROMO  1    1.5871  5.9020 -130.665\n",
       "- DH     1    1.7216  6.0365 -128.975\n",
       "- DOW    6    6.9499 11.2648  -92.185\n",
       "- OPP   12   12.9817 17.2966  -72.023\n",
       "\n",
       "Step:  AIC=-153.91\n",
       ".outcome ~ OPP + POS + DOW + PREC + TV + PROMO + OD + DH\n",
       "\n",
       "        Df Sum of Sq     RSS      AIC\n",
       "<none>                4.3294 -153.905\n",
       "- TV     1    0.1751  4.5044 -152.932\n",
       "- PREC   1    0.2801  4.6095 -151.203\n",
       "- POS    6    1.3866  5.7159 -145.067\n",
       "- OD     1    1.0859  5.4153 -139.119\n",
       "- PROMO  1    1.7217  6.0511 -130.794\n",
       "- DH     1    1.8443  6.1737 -129.289\n",
       "- DOW    6    6.9391 11.2684  -94.161\n",
       "- OPP   12   13.0650 17.3944  -73.601\n",
       "\n",
       "Call:\n",
       "lm(formula = .outcome ~ OPP + POS + DOW + PREC + TV + PROMO + \n",
       "    OD + DH, data = dat)\n",
       "\n",
       "Residuals:\n",
       "     Min       1Q   Median       3Q      Max \n",
       "-0.46633 -0.14812 -0.00399  0.11824  0.85710 \n",
       "\n",
       "Coefficients:\n",
       "            Estimate Std. Error t value Pr(>|t|)    \n",
       "(Intercept)  9.09003    0.26331  34.522  < 2e-16 ***\n",
       "OPP2         0.44416    0.20678   2.148 0.037133 *  \n",
       "OPP3         0.30877    0.25620   1.205 0.234437    \n",
       "OPP4         1.73429    0.21481   8.073 2.70e-10 ***\n",
       "OPP5         0.62308    0.26591   2.343 0.023598 *  \n",
       "OPP6         0.21812    0.20011   1.090 0.281516    \n",
       "OPP7         0.37260    0.23989   1.553 0.127375    \n",
       "OPP8         0.04801    0.20888   0.230 0.819247    \n",
       "OPP9         1.20131    0.22159   5.421 2.24e-06 ***\n",
       "OPP10        0.52861    0.20772   2.545 0.014435 *  \n",
       "OPP11        0.68907    0.25195   2.735 0.008893 ** \n",
       "OPP12        0.13104    0.21979   0.596 0.554029    \n",
       "OPP13        0.70907    0.20678   3.429 0.001307 ** \n",
       "POS2         0.07531    0.19319   0.390 0.698512    \n",
       "POS3        -0.13506    0.16212  -0.833 0.409191    \n",
       "POS4         0.08729    0.22849   0.382 0.704247    \n",
       "POS5         0.17222    0.21214   0.812 0.421152    \n",
       "POS6        -0.38361    0.41983  -0.914 0.365735    \n",
       "POS7        -0.66226    0.31119  -2.128 0.038839 *  \n",
       "DOW2        -1.03787    0.15275  -6.794 2.06e-08 ***\n",
       "DOW3        -1.08154    0.14853  -7.282 3.90e-09 ***\n",
       "DOW4        -0.99885    0.22516  -4.436 5.85e-05 ***\n",
       "DOW5        -0.58277    0.15017  -3.881 0.000337 ***\n",
       "DOW6        -0.56788    0.14304  -3.970 0.000256 ***\n",
       "DOW7        -0.49177    0.14823  -3.318 0.001804 ** \n",
       "PREC1       -0.36312    0.21281  -1.706 0.094841 .  \n",
       "TV1         -0.20025    0.14845  -1.349 0.184096    \n",
       "PROMO1       0.49874    0.11789   4.230 0.000113 ***\n",
       "OD1          1.39539    0.41533   3.360 0.001598 ** \n",
       "DH1          0.72698    0.16604   4.378 7.05e-05 ***\n",
       "---\n",
       "Signif. codes:  0 ‘***’ 0.001 ‘**’ 0.01 ‘*’ 0.05 ‘.’ 0.1 ‘ ’ 1\n",
       "\n",
       "Residual standard error: 0.3102 on 45 degrees of freedom\n",
       "Multiple R-squared:  0.8808,\tAdjusted R-squared:  0.804 \n",
       "F-statistic: 11.46 on 29 and 45 DF,  p-value: 9.674e-13\n",
       "\n",
       "NULL\n"
      ]
     },
     "metadata": {},
     "output_type": "display_data"
    },
    {
     "data": {
      "image/png": "[encoded data removed]"
     },
     "metadata": {},
     "output_type": "display_data"
    },
    {
     "data": {
      "image/png": "[encoded data removed]"
     },
     "metadata": {},
     "output_type": "display_data"
    }
   ],
   "source": [
    "%%R -i x -i y -w 800 -h 400\n",
    "library(caret)\n",
    "x = data.frame(x)\n",
    "x$NOBEL = factor(x$NOBEL)\n",
    "x$YANKS = factor(x$YANKS)\n",
    "x$DH = factor(x$DH)\n",
    "x$PROMO = factor(x$PROMO)\n",
    "x$OPP = factor(x$OPP)\n",
    "x$POS = factor(x$POS)\n",
    "x$GB = factor(x$GB)\n",
    "x$DOW = factor(x$DOW)\n",
    "x$PREC = factor(x$PREC)\n",
    "x$TOG = factor(x$TOG)\n",
    "x$TV = factor(x$TV)\n",
    "x$WKEND = factor(x$WKEND)\n",
    "x$OD = factor(x$OD)\n",
    "\n",
    "y = data.frame(y)\n",
    "y$y = as.numeric(y$y)\n",
    "\n",
    "#print(str(y$y))\n",
    "#print(str(x))\n",
    "objControl <- trainControl(method = \"none\", returnResamp = 'final',\n",
    "                           summaryFunction = defaultSummary,\n",
    "                           #summaryFunction = twoClassSummary, defaultSummary\n",
    "                           classProbs = FALSE,\n",
    "                           savePredictions = TRUE)\n",
    "set.seed(766)\n",
    "reg_caret_model <- train(x,\n",
    "                      y$y,\n",
    "                      method = 'lmStepAIC',\n",
    "                      trControl = objControl,\n",
    "                      metric = \"Rsquared\",\n",
    "                      tuneGrid = NULL,\n",
    "                      verbose = FALSE)\n",
    "\n",
    "print(plot(varImp(reg_caret_model, scale = TRUE)))\n",
    "\n",
    "print(summary(reg_caret_model))\n",
    "par(mfrow = c(2, 2)) \n",
    "print(plot(reg_caret_model$finalModel))"
   ]
  },
  {
   "cell_type": "markdown",
   "metadata": {},
   "source": [
    "**From the model and the analysis done above we can see that presence of Nobel is not Significant in increasing Ticket Sales and Revenue collected from Ticket sales.\n",
    "He Does  not have any contribution to incresed revenue colection due to ticket Sales.**\n"
   ]
  },
  {
   "cell_type": "markdown",
   "metadata": {},
   "source": [
    "# Q6\n",
    "\n",
    "## Q6 -1\n",
    "\n",
    "- NPS is a KPI which is used by many organizations to understand and measure customer satisfaction\n",
    "- Organizations also believe that it is important for every organization to know what their customers tell their friends about the organization. NPS is considered by many organizations as a measurement of whether a customer will recommend the company or product/service to a friend or colleague\n",
    "\n",
    "\n",
    "**Business Problem**\n",
    "\n",
    "- Managment at Manipal Hospitals belived that loyalty in healthcare depends on technical and emotional aspects\n",
    "- Happy customer may lead to new business, unhapy customers may lead to lack of new business / erosion of exising business\n",
    "- Through NPS forms they wanted to collect customer feedback and sentiments\n",
    "- By analysing the NPS data they also wanted to understand the reasons that led to the customer giving such a NPS score\n",
    "- They wanted to analyse the reasons that would help resolving issues and then keeping the customers informed about  the corrective action taken through word of mouth; they believed they could improve the customer satisfaction and hence the NPS by such action\n",
    "\n",
    "**How Analytics can help with the Problem**\n",
    "\n",
    "- The historical paper based feedback when conevrted into digital data and the digital data captured post March 2014 can be analysed using analytics to derive insights\n",
    "- By analysing past data, analytics can help unearth patterns in data that can be related to high or low customer statisfaction and NPS\n",
    "- These patterns can be formualated into prescriptive actions which can help improve the process for the future there by improving the overall customer satisfaction and better NPS \n",
    "- If analytics can help link customer demographics / behaviour to NPS then hospital can devise different startegies for different customer profiles, which also can lead to better NPS and satisfied customer\n",
    "\n",
    "\n"
   ]
  },
  {
   "cell_type": "markdown",
   "metadata": {},
   "source": [
    "## Q6-2\n",
    "\n",
    "Sensitivity, Specificity for a multinomial / 3-class problem can be calculated in the following manner. We will elaborate the method using the following tables and derive the formula for the metrics.\n",
    "\n",
    "total records = tp + fp + fn + tn\n",
    "\n",
    "\n",
    "For 2-class the following are the definition for sensitivity and specificity:\n",
    "\n",
    "sensitivity = tp/ (tp + fn)\n",
    "specificity = tn / (tn + fp)\n",
    "\n",
    "\n",
    "where tp = True positive\n",
    "      fp = False Postive\n",
    "      tn = True Negative\n",
    "      fn = False Negative\n",
    "\n",
    "\n",
    "The definition for Specificty / sensitivity does not change from the above in 3-class scenario. The way we compute the tp, tn, fp and fn changes. We will demonstrate the same below. \n",
    "\n",
    "Lets say we have 3 classes A, B, C. \n",
    "\n",
    "Step 1: We will construct the Confusion Matrix for \"A\". Table belows shows FP1 and FP2 etc. information.\n",
    "Here :\n",
    "\n",
    "    fp = FP1 + FP2\n",
    "    \n",
    "    fn = FN1 + FN2\n",
    "    \n",
    "    tn = Sum(X)\n",
    "     \n",
    "The formula for the metrics changes to:\n",
    "\n",
    "sensitivity = tp/ (tp + fn1 + fn2)\n",
    "\n",
    "specificity = tn / (tn + fp1 + fp2)"
   ]
  },
  {
   "cell_type": "code",
   "execution_count": 61,
   "metadata": {},
   "outputs": [
    {
     "data": {
      "text/html": [
       "<div>\n",
       "<style scoped>\n",
       "    .dataframe tbody tr th:only-of-type {\n",
       "        vertical-align: middle;\n",
       "    }\n",
       "\n",
       "    .dataframe tbody tr th {\n",
       "        vertical-align: top;\n",
       "    }\n",
       "\n",
       "    .dataframe thead tr th {\n",
       "        text-align: left;\n",
       "    }\n",
       "</style>\n",
       "<table border=\"1\" class=\"dataframe\">\n",
       "  <thead>\n",
       "    <tr>\n",
       "      <th></th>\n",
       "      <th></th>\n",
       "      <th>Predcited</th>\n",
       "      <th colspan=\"2\" halign=\"left\"></th>\n",
       "    </tr>\n",
       "    <tr>\n",
       "      <th></th>\n",
       "      <th></th>\n",
       "      <th>A</th>\n",
       "      <th>B</th>\n",
       "      <th>C</th>\n",
       "    </tr>\n",
       "  </thead>\n",
       "  <tbody>\n",
       "    <tr>\n",
       "      <th>Actual</th>\n",
       "      <th>A</th>\n",
       "      <td>TP</td>\n",
       "      <td>FN1</td>\n",
       "      <td>FN2</td>\n",
       "    </tr>\n",
       "    <tr>\n",
       "      <th rowspan=\"2\" valign=\"top\"></th>\n",
       "      <th>B</th>\n",
       "      <td>FP1</td>\n",
       "      <td>X</td>\n",
       "      <td>X</td>\n",
       "    </tr>\n",
       "    <tr>\n",
       "      <th>C</th>\n",
       "      <td>FP2</td>\n",
       "      <td>X</td>\n",
       "      <td>X</td>\n",
       "    </tr>\n",
       "  </tbody>\n",
       "</table>\n",
       "</div>"
      ],
      "text/plain": [
       "         Predcited          \n",
       "                 A    B    C\n",
       "Actual A        TP  FN1  FN2\n",
       "       B       FP1    X    X\n",
       "       C       FP2    X    X"
      ]
     },
     "execution_count": 61,
     "metadata": {},
     "output_type": "execute_result"
    }
   ],
   "source": [
    "array1 = pd.MultiIndex.from_arrays(np.array([['Predcited', '', ''],['A', 'B', 'C']]))\n",
    "array2 = pd.MultiIndex.from_arrays(np.array([['Actual', '', ''],['A', 'B', 'C']]))\n",
    "\n",
    "array1\n",
    "\n",
    "data = data = pd.DataFrame(np.array([['TP', 'FN1', 'FN2'], ['FP1', 'X', 'X'], ['FP2', 'X', 'X']]), \n",
    "                    columns=array1, index=array2)\n",
    "data"
   ]
  },
  {
   "cell_type": "markdown",
   "metadata": {},
   "source": [
    "Step 2: We will construct the Confusion Matrix for \"B\". Table belows shows FP1 and FP2 etc. information.\n",
    "Here:\n",
    "     \n",
    "     fp = FP1 + FP2\n",
    "\n",
    "     fn = FN1 + FN2\n",
    "     \n",
    "     tn = sum(X)\n",
    "     \n",
    "The formula for the metrics changes to:\n",
    "\n",
    "sensitivity = tp/ (tp + fn1 + fn2)\n",
    "\n",
    "specificity = tn / (tn + fp1 + fp2)"
   ]
  },
  {
   "cell_type": "code",
   "execution_count": 67,
   "metadata": {},
   "outputs": [
    {
     "data": {
      "text/html": [
       "<div>\n",
       "<style scoped>\n",
       "    .dataframe tbody tr th:only-of-type {\n",
       "        vertical-align: middle;\n",
       "    }\n",
       "\n",
       "    .dataframe tbody tr th {\n",
       "        vertical-align: top;\n",
       "    }\n",
       "\n",
       "    .dataframe thead tr th {\n",
       "        text-align: left;\n",
       "    }\n",
       "</style>\n",
       "<table border=\"1\" class=\"dataframe\">\n",
       "  <thead>\n",
       "    <tr>\n",
       "      <th></th>\n",
       "      <th></th>\n",
       "      <th>Predcited</th>\n",
       "      <th colspan=\"2\" halign=\"left\"></th>\n",
       "    </tr>\n",
       "    <tr>\n",
       "      <th></th>\n",
       "      <th></th>\n",
       "      <th>A</th>\n",
       "      <th>B</th>\n",
       "      <th>C</th>\n",
       "    </tr>\n",
       "  </thead>\n",
       "  <tbody>\n",
       "    <tr>\n",
       "      <th>Actual</th>\n",
       "      <th>A</th>\n",
       "      <td>X</td>\n",
       "      <td>FP1</td>\n",
       "      <td>X</td>\n",
       "    </tr>\n",
       "    <tr>\n",
       "      <th rowspan=\"2\" valign=\"top\"></th>\n",
       "      <th>B</th>\n",
       "      <td>FN1</td>\n",
       "      <td>TP</td>\n",
       "      <td>FN2</td>\n",
       "    </tr>\n",
       "    <tr>\n",
       "      <th>C</th>\n",
       "      <td>X</td>\n",
       "      <td>FP2</td>\n",
       "      <td>X</td>\n",
       "    </tr>\n",
       "  </tbody>\n",
       "</table>\n",
       "</div>"
      ],
      "text/plain": [
       "         Predcited          \n",
       "                 A    B    C\n",
       "Actual A         X  FP1    X\n",
       "       B       FN1   TP  FN2\n",
       "       C         X  FP2    X"
      ]
     },
     "execution_count": 67,
     "metadata": {},
     "output_type": "execute_result"
    }
   ],
   "source": [
    "array1 = pd.MultiIndex.from_arrays(np.array([['Predcited', '', ''],['A', 'B', 'C']]))\n",
    "array2 = pd.MultiIndex.from_arrays(np.array([['Actual', '', ''],['A', 'B', 'C']]))\n",
    "\n",
    "array1\n",
    "\n",
    "data = data = pd.DataFrame(np.array([['X', 'FP1', 'X'], ['FN1', 'TP', 'FN2'], ['X', 'FP2', 'X']]), \n",
    "                    columns=array1, index=array2)\n",
    "data"
   ]
  },
  {
   "cell_type": "markdown",
   "metadata": {},
   "source": [
    "Step 3: We will construct the Confusion Matrix for \"C\". Table belows shows FP1 and FP2 etc. information.\n",
    "Here :\n",
    "\n",
    "     fp = FP1 + FP2\n",
    "\n",
    "     fn = FN1 + FN2\n",
    "     \n",
    "     tn = sum(X)\n",
    "     \n",
    "The formula for the metrics changes to:\n",
    "\n",
    "sensitivity = tp/ (tp + fn1 + fn2)\n",
    "\n",
    "specificity = tn / (tn + fp1 + fp2)"
   ]
  },
  {
   "cell_type": "code",
   "execution_count": 71,
   "metadata": {},
   "outputs": [
    {
     "data": {
      "text/html": [
       "<div>\n",
       "<style scoped>\n",
       "    .dataframe tbody tr th:only-of-type {\n",
       "        vertical-align: middle;\n",
       "    }\n",
       "\n",
       "    .dataframe tbody tr th {\n",
       "        vertical-align: top;\n",
       "    }\n",
       "\n",
       "    .dataframe thead tr th {\n",
       "        text-align: left;\n",
       "    }\n",
       "</style>\n",
       "<table border=\"1\" class=\"dataframe\">\n",
       "  <thead>\n",
       "    <tr>\n",
       "      <th></th>\n",
       "      <th></th>\n",
       "      <th>Predicted</th>\n",
       "      <th colspan=\"2\" halign=\"left\"></th>\n",
       "    </tr>\n",
       "    <tr>\n",
       "      <th></th>\n",
       "      <th></th>\n",
       "      <th>A</th>\n",
       "      <th>B</th>\n",
       "      <th>C</th>\n",
       "    </tr>\n",
       "  </thead>\n",
       "  <tbody>\n",
       "    <tr>\n",
       "      <th>Actual</th>\n",
       "      <th>A</th>\n",
       "      <td>X</td>\n",
       "      <td>X</td>\n",
       "      <td>FP1</td>\n",
       "    </tr>\n",
       "    <tr>\n",
       "      <th rowspan=\"2\" valign=\"top\"></th>\n",
       "      <th>B</th>\n",
       "      <td>X</td>\n",
       "      <td>X</td>\n",
       "      <td>FP2</td>\n",
       "    </tr>\n",
       "    <tr>\n",
       "      <th>C</th>\n",
       "      <td>FN1</td>\n",
       "      <td>FN2</td>\n",
       "      <td>TP</td>\n",
       "    </tr>\n",
       "  </tbody>\n",
       "</table>\n",
       "</div>"
      ],
      "text/plain": [
       "         Predicted          \n",
       "                 A    B    C\n",
       "Actual A         X    X  FP1\n",
       "       B         X    X  FP2\n",
       "       C       FN1  FN2   TP"
      ]
     },
     "execution_count": 71,
     "metadata": {},
     "output_type": "execute_result"
    }
   ],
   "source": [
    "array1 = pd.MultiIndex.from_arrays(np.array([['Predicted', '', ''],['A', 'B', 'C']]))\n",
    "array2 = pd.MultiIndex.from_arrays(np.array([['Actual', '', ''],['A', 'B', 'C']]))\n",
    "\n",
    "array1\n",
    "\n",
    "data = data = pd.DataFrame(np.array([['X', 'X', 'FP1'], ['X', 'X', 'FP2'], ['FN1', 'FN2', 'TP']]), \n",
    "                    columns=array1, index=array2)\n",
    "data"
   ]
  },
  {
   "cell_type": "code",
   "execution_count": null,
   "metadata": {},
   "outputs": [],
   "source": []
  }
 ],
 "metadata": {
  "kernelspec": {
   "display_name": "Python 3",
   "language": "python",
   "name": "python3"
  },
  "language_info": {
   "codemirror_mode": {
    "name": "ipython",
    "version": 3
   },
   "file_extension": ".py",
   "mimetype": "text/x-python",
   "name": "python",
   "nbconvert_exporter": "python",
   "pygments_lexer": "ipython3",
   "version": "3.6.4"
  }
 },
 "nbformat": 4,
 "nbformat_minor": 2
}
