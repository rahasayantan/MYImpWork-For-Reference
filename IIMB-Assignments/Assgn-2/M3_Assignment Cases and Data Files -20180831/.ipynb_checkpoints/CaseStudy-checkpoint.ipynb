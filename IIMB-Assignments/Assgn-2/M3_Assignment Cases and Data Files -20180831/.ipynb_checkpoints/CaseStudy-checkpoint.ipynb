{
 "cells": [
  {
   "cell_type": "code",
   "execution_count": 5,
   "metadata": {},
   "outputs": [],
   "source": [
    "import numpy as np\n",
    "import scipy.linalg as slin"
   ]
  },
  {
   "cell_type": "code",
   "execution_count": 48,
   "metadata": {},
   "outputs": [],
   "source": [
    "A = np.array([[0.05, -.0001, -.0001, -.0001],\n",
    "              [-0.025, 0.0502, -0.055, -0.05],\n",
    "              [-0.0225, -0.05 , 0.0552, -0.1],\n",
    "              [1,1,1,1 ]])"
   ]
  },
  {
   "cell_type": "code",
   "execution_count": 49,
   "metadata": {},
   "outputs": [
    {
     "data": {
      "text/plain": [
       "array([[ 5.00e-02, -1.00e-04, -1.00e-04, -1.00e-04],\n",
       "       [-2.50e-02,  5.02e-02, -5.50e-02, -5.00e-02],\n",
       "       [-2.25e-02, -5.00e-02,  5.52e-02, -1.00e-01],\n",
       "       [ 1.00e+00,  1.00e+00,  1.00e+00,  1.00e+00]])"
      ]
     },
     "execution_count": 49,
     "metadata": {},
     "output_type": "execute_result"
    }
   ],
   "source": [
    "A"
   ]
  },
  {
   "cell_type": "code",
   "execution_count": 59,
   "metadata": {},
   "outputs": [
    {
     "data": {
      "text/plain": [
       "array([[ 1.81488203e+01, -2.84009716e-16,  4.78039801e-16,\n",
       "         1.81488203e-03],\n",
       "       [-4.01028073e+00,  9.82213829e+00,  3.16434868e-01,\n",
       "         5.22349373e-01],\n",
       "       [-7.77074445e+00, -3.16434868e+00,  6.34135475e+00,\n",
       "         4.75140966e-01],\n",
       "       [-6.36779515e+00, -6.65778961e+00, -6.65778961e+00,\n",
       "         6.94778408e-04]])"
      ]
     },
     "execution_count": 59,
     "metadata": {},
     "output_type": "execute_result"
    }
   ],
   "source": [
    "slin.inv(A)"
   ]
  },
  {
   "cell_type": "code",
   "execution_count": 51,
   "metadata": {},
   "outputs": [
    {
     "data": {
      "text/plain": [
       "array([[ 0.        ,  0.        , -0.        ,  0.00199601],\n",
       "       [-0.        ,  0.        ,  0.        ,  0.52221133],\n",
       "       [-0.        , -0.        ,  0.        ,  0.47509499],\n",
       "       [-0.        , -0.        , -0.        ,  0.00069767]])"
      ]
     },
     "execution_count": 51,
     "metadata": {},
     "output_type": "execute_result"
    }
   ],
   "source": [
    "np.array([0,0,0,1]).reshape(1,4) * B"
   ]
  },
  {
   "cell_type": "code",
   "execution_count": 52,
   "metadata": {},
   "outputs": [
    {
     "data": {
      "text/plain": [
       "(4, 4)"
      ]
     },
     "execution_count": 52,
     "metadata": {},
     "output_type": "execute_result"
    }
   ],
   "source": [
    "A.shape"
   ]
  },
  {
   "cell_type": "code",
   "execution_count": 53,
   "metadata": {},
   "outputs": [
    {
     "data": {
      "text/plain": [
       "array([[0.00199601],\n",
       "       [0.52221133],\n",
       "       [0.47509499],\n",
       "       [0.00069767]])"
      ]
     },
     "execution_count": 53,
     "metadata": {},
     "output_type": "execute_result"
    }
   ],
   "source": [
    "slin.solve(A, np.array([0,0,0,1]).reshape(4,1))"
   ]
  },
  {
   "cell_type": "code",
   "execution_count": 54,
   "metadata": {},
   "outputs": [
    {
     "data": {
      "text/plain": [
       "0.05500000000000005"
      ]
     },
     "execution_count": 54,
     "metadata": {},
     "output_type": "execute_result"
    }
   ],
   "source": [
    "1-.945"
   ]
  },
  {
   "cell_type": "code",
   "execution_count": 57,
   "metadata": {},
   "outputs": [],
   "source": [
    "A = np.array([[0.055, -.0001, -.0001, -.0001],\n",
    "              [-0.03, 0.0502, -0.055, -0.05],\n",
    "              [-0.0225, -0.05 , 0.0552, -0.1],\n",
    "              [1,1,1,1 ]])"
   ]
  },
  {
   "cell_type": "code",
   "execution_count": 65,
   "metadata": {},
   "outputs": [
    {
     "data": {
      "text/plain": [
       "array([[0.00181488],\n",
       "       [0.52234937],\n",
       "       [0.47514097],\n",
       "       [0.00069478]])"
      ]
     },
     "execution_count": 65,
     "metadata": {},
     "output_type": "execute_result"
    }
   ],
   "source": [
    "slin.solve(A, np.array([0,0,0,1]).reshape(4,1))"
   ]
  },
  {
   "cell_type": "code",
   "execution_count": 72,
   "metadata": {},
   "outputs": [
    {
     "ename": "NameError",
     "evalue": "name 'P' is not defined",
     "output_type": "error",
     "traceback": [
      "\u001b[0;31m---------------------------------------------------------------------------\u001b[0m",
      "\u001b[0;31mNameError\u001b[0m                                 Traceback (most recent call last)",
      "\u001b[0;32m<ipython-input-72-2c1f8ffff27f>\u001b[0m in \u001b[0;36m<module>\u001b[0;34m()\u001b[0m\n\u001b[0;32m----> 1\u001b[0;31m \u001b[0mnp\u001b[0m\u001b[0;34m.\u001b[0m\u001b[0marray\u001b[0m\u001b[0;34m(\u001b[0m\u001b[0;34m[\u001b[0m\u001b[0;36m.759925\u001b[0m\u001b[0;34m,\u001b[0m \u001b[0;36m0.12847\u001b[0m\u001b[0;34m,\u001b[0m \u001b[0;36m.68613\u001b[0m\u001b[0;34m,\u001b[0m \u001b[0;36m0.185\u001b[0m\u001b[0;34m]\u001b[0m\u001b[0;34m)\u001b[0m\u001b[0;34m.\u001b[0m\u001b[0mreshape\u001b[0m\u001b[0;34m(\u001b[0m\u001b[0;36m4\u001b[0m\u001b[0;34m,\u001b[0m\u001b[0;36m1\u001b[0m\u001b[0;34m)\u001b[0m \u001b[0;34m*\u001b[0m \u001b[0mP\u001b[0m \u001b[0;31m# need the one transition matrox\u001b[0m\u001b[0;34m\u001b[0m\u001b[0m\n\u001b[0m",
      "\u001b[0;31mNameError\u001b[0m: name 'P' is not defined"
     ]
    }
   ],
   "source": [
    "np.array([.759925, 0.12847, .68613, 0.185]).reshape(4,1) * P # need the one transition matrox"
   ]
  },
  {
   "cell_type": "code",
   "execution_count": 66,
   "metadata": {},
   "outputs": [
    {
     "data": {
      "text/plain": [
       "0.0013678649999999998"
      ]
     },
     "execution_count": 66,
     "metadata": {},
     "output_type": "execute_result"
    }
   ],
   "source": [
    ".759925*0.0018"
   ]
  },
  {
   "cell_type": "code",
   "execution_count": 73,
   "metadata": {},
   "outputs": [],
   "source": [
    "# In the longer run no difference\n",
    "# If you bundle you take market much earlier"
   ]
  },
  {
   "cell_type": "code",
   "execution_count": 91,
   "metadata": {},
   "outputs": [
    {
     "data": {
      "text/plain": [
       "array([[ 1.  , -0.5 ,  0.  , -0.5 , -0.25],\n",
       "       [ 0.  ,  1.  , -0.5 ,  0.  , -0.25],\n",
       "       [-0.5 ,  0.  ,  1.  , -0.5 , -0.25],\n",
       "       [ 0.  , -0.5 ,  0.  ,  1.  , -0.25],\n",
       "       [ 1.  ,  1.  ,  1.  ,  1.  ,  1.  ]])"
      ]
     },
     "execution_count": 91,
     "metadata": {},
     "output_type": "execute_result"
    }
   ],
   "source": [
    "A = np.array([\n",
    "             [1,-0.5,0,-0.5,-.25],\n",
    "             [0,1,-0.5,0,-.25],\n",
    "             [-0.5,0,1,-0.5,-.25],\n",
    "             [0,-0.5,0,1,-0.25],\n",
    "             [1, 1, 1,1,1]\n",
    "            ])\n",
    "\n",
    "A"
   ]
  },
  {
   "cell_type": "code",
   "execution_count": 92,
   "metadata": {},
   "outputs": [
    {
     "data": {
      "text/plain": [
       "array([[0.21649485],\n",
       "       [0.17525773],\n",
       "       [0.2371134 ],\n",
       "       [0.1443299 ],\n",
       "       [0.22680412]])"
      ]
     },
     "execution_count": 92,
     "metadata": {},
     "output_type": "execute_result"
    }
   ],
   "source": [
    "slin.solve(A, np.array([0,0,0,0,1]).reshape(5,1))"
   ]
  },
  {
   "cell_type": "code",
   "execution_count": 103,
   "metadata": {},
   "outputs": [],
   "source": [
    "A = np.array([\n",
    "    [0.45,0.3,0.2,0.05],\n",
    "    [0.15,0.6,0.15,0.1],\n",
    "    [0.1,0.3,0.4,0.2],\n",
    "    [0,0.1,0.7,0.2]])"
   ]
  },
  {
   "cell_type": "code",
   "execution_count": 107,
   "metadata": {},
   "outputs": [
    {
     "data": {
      "text/plain": [
       "array([[0.2675, 0.38  , 0.25  , 0.1025]])"
      ]
     },
     "execution_count": 107,
     "metadata": {},
     "output_type": "execute_result"
    }
   ],
   "source": [
    "np.array([1,0,0,0]).reshape(1,4).dot(A.dot(A))"
   ]
  },
  {
   "cell_type": "code",
   "execution_count": 115,
   "metadata": {},
   "outputs": [
    {
     "data": {
      "text/plain": [
       "array([[-0.3 ,  0.4 , -0.3 , -0.1 ],\n",
       "       [-0.2 , -0.15,  0.6 , -0.7 ],\n",
       "       [-0.05, -0.1 , -0.2 ,  0.8 ],\n",
       "       [ 1.  ,  1.  ,  1.  ,  1.  ]])"
      ]
     },
     "execution_count": 115,
     "metadata": {},
     "output_type": "execute_result"
    }
   ],
   "source": [
    "A = np.array([\n",
    "    #[.55, -.15,-.1, 0],\n",
    "    [-.3, .4, -.3,-.1],\n",
    "    [-.2, -.15, .6, -.7],\n",
    "    [-.05, -.1, -.2, .8],\n",
    "    [1,1,1,1]\n",
    "])\n",
    "\n",
    "A"
   ]
  },
  {
   "cell_type": "code",
   "execution_count": 116,
   "metadata": {},
   "outputs": [
    {
     "data": {
      "text/plain": [
       "array([[0.1627907 ],\n",
       "       [0.38953488],\n",
       "       [0.31104651],\n",
       "       [0.13662791]])"
      ]
     },
     "execution_count": 116,
     "metadata": {},
     "output_type": "execute_result"
    }
   ],
   "source": [
    "slin.solve(A, np.array([0,0,0,1]).reshape(4,1))"
   ]
  },
  {
   "cell_type": "code",
   "execution_count": 120,
   "metadata": {},
   "outputs": [
    {
     "ename": "ValueError",
     "evalue": "shapes (4,1) and (4,1) not aligned: 1 (dim 1) != 4 (dim 0)",
     "output_type": "error",
     "traceback": [
      "\u001b[0;31m---------------------------------------------------------------------------\u001b[0m",
      "\u001b[0;31mValueError\u001b[0m                                Traceback (most recent call last)",
      "\u001b[0;32m<ipython-input-120-58bdd1c0fdab>\u001b[0m in \u001b[0;36m<module>\u001b[0;34m()\u001b[0m\n\u001b[0;32m----> 1\u001b[0;31m \u001b[0mslin\u001b[0m\u001b[0;34m.\u001b[0m\u001b[0msolve\u001b[0m\u001b[0;34m(\u001b[0m\u001b[0mA\u001b[0m\u001b[0;34m,\u001b[0m \u001b[0mnp\u001b[0m\u001b[0;34m.\u001b[0m\u001b[0marray\u001b[0m\u001b[0;34m(\u001b[0m\u001b[0;34m[\u001b[0m\u001b[0;36m0\u001b[0m\u001b[0;34m,\u001b[0m\u001b[0;36m0\u001b[0m\u001b[0;34m,\u001b[0m\u001b[0;36m0\u001b[0m\u001b[0;34m,\u001b[0m\u001b[0;36m1\u001b[0m\u001b[0;34m]\u001b[0m\u001b[0;34m)\u001b[0m\u001b[0;34m.\u001b[0m\u001b[0mreshape\u001b[0m\u001b[0;34m(\u001b[0m\u001b[0;36m4\u001b[0m\u001b[0;34m,\u001b[0m\u001b[0;36m1\u001b[0m\u001b[0;34m)\u001b[0m\u001b[0;34m)\u001b[0m\u001b[0;34m.\u001b[0m\u001b[0mdot\u001b[0m\u001b[0;34m(\u001b[0m\u001b[0mnp\u001b[0m\u001b[0;34m.\u001b[0m\u001b[0marray\u001b[0m\u001b[0;34m(\u001b[0m\u001b[0;34m[\u001b[0m\u001b[0;36m0\u001b[0m\u001b[0;34m,\u001b[0m\u001b[0;36m4.5\u001b[0m\u001b[0;34m,\u001b[0m\u001b[0;36m10\u001b[0m\u001b[0;34m,\u001b[0m\u001b[0;36m16\u001b[0m\u001b[0;34m]\u001b[0m\u001b[0;34m)\u001b[0m\u001b[0;34m.\u001b[0m\u001b[0mreshape\u001b[0m\u001b[0;34m(\u001b[0m\u001b[0;36m4\u001b[0m\u001b[0;34m,\u001b[0m\u001b[0;36m1\u001b[0m\u001b[0;34m)\u001b[0m\u001b[0;34m)\u001b[0m\u001b[0;34m\u001b[0m\u001b[0m\n\u001b[0m",
      "\u001b[0;31mValueError\u001b[0m: shapes (4,1) and (4,1) not aligned: 1 (dim 1) != 4 (dim 0)"
     ]
    }
   ],
   "source": [
    "slin.solve(A, np.array([0,0,0,1]).reshape(4,1)).dot()"
   ]
  },
  {
   "cell_type": "code",
   "execution_count": 125,
   "metadata": {},
   "outputs": [
    {
     "data": {
      "text/plain": [
       "array([[7.0494186]])"
      ]
     },
     "execution_count": 125,
     "metadata": {},
     "output_type": "execute_result"
    }
   ],
   "source": [
    "np.array([0,4.5,10,16]).reshape(1,4).dot(slin.solve(A, np.array([0,0,0,1]).reshape(4,1)))"
   ]
  },
  {
   "cell_type": "code",
   "execution_count": 127,
   "metadata": {},
   "outputs": [
    {
     "data": {
      "text/plain": [
       "array([[1., 0.],\n",
       "       [0., 1.]])"
      ]
     },
     "execution_count": 127,
     "metadata": {},
     "output_type": "execute_result"
    }
   ],
   "source": [
    "I = np.identity(2)\n",
    "I"
   ]
  },
  {
   "cell_type": "code",
   "execution_count": 128,
   "metadata": {},
   "outputs": [
    {
     "data": {
      "text/plain": [
       "array([[0. , 0.3],\n",
       "       [0. , 0. ]])"
      ]
     },
     "execution_count": 128,
     "metadata": {},
     "output_type": "execute_result"
    }
   ],
   "source": [
    "Q = np.array([\n",
    "    [0, 0.3],\n",
    "    [0,0]\n",
    "])\n",
    "Q"
   ]
  },
  {
   "cell_type": "code",
   "execution_count": 135,
   "metadata": {},
   "outputs": [
    {
     "name": "stdout",
     "output_type": "stream",
     "text": [
      "[[ 1.  -0.3]\n",
      " [ 0.   1. ]]\n"
     ]
    }
   ],
   "source": [
    "print(I-Q)\n",
    "\n",
    "R = np.array([\n",
    "    [0.7, 0],\n",
    "    [0.5, 0.5]\n",
    "])"
   ]
  },
  {
   "cell_type": "code",
   "execution_count": 134,
   "metadata": {},
   "outputs": [
    {
     "name": "stdout",
     "output_type": "stream",
     "text": [
      "[[0.85 0.15]\n",
      " [0.5  0.5 ]]\n",
      "85% from state 1 will pay rest will default\n",
      "50% from state 2 will pay rest will default\n"
     ]
    }
   ],
   "source": [
    "print(slin.inv(I-Q).dot(R))\n",
    "print(\"85% from state 1 will pay rest will default\")\n",
    "print(\"50% from state 2 will pay rest will default\")"
   ]
  },
  {
   "cell_type": "code",
   "execution_count": 139,
   "metadata": {},
   "outputs": [
    {
     "data": {
      "text/plain": [
       "array([[0.8],\n",
       "       [0.4],\n",
       "       [0.3],\n",
       "       [0.8]])"
      ]
     },
     "execution_count": 139,
     "metadata": {},
     "output_type": "execute_result"
    }
   ],
   "source": [
    "R = np.array([[0.8, 0.4, 0.3, 0.8]])\n",
    "R = R.reshape(4,1)\n",
    "R"
   ]
  },
  {
   "cell_type": "code",
   "execution_count": 140,
   "metadata": {},
   "outputs": [
    {
     "data": {
      "text/plain": [
       "array([[0. , 0.2, 0. , 0. ],\n",
       "       [0. , 0. , 0.6, 0. ],\n",
       "       [0. , 0. , 0. , 0.7],\n",
       "       [0. , 0. , 0. , 0.2]])"
      ]
     },
     "execution_count": 140,
     "metadata": {},
     "output_type": "execute_result"
    }
   ],
   "source": [
    "Q = np.array([\n",
    "    [0, 0.2, 0,0],\n",
    "    [0,0,0.6,0],\n",
    "    [0,0,0,0.7],\n",
    "    [0,0,0,0.2]\n",
    "])\n",
    "Q"
   ]
  },
  {
   "cell_type": "code",
   "execution_count": 141,
   "metadata": {},
   "outputs": [
    {
     "data": {
      "text/plain": [
       "array([[1., 0., 0., 0.],\n",
       "       [0., 1., 0., 0.],\n",
       "       [0., 0., 1., 0.],\n",
       "       [0., 0., 0., 1.]])"
      ]
     },
     "execution_count": 141,
     "metadata": {},
     "output_type": "execute_result"
    }
   ],
   "source": [
    "I = np.identity(4)\n",
    "I"
   ]
  },
  {
   "cell_type": "code",
   "execution_count": 143,
   "metadata": {},
   "outputs": [
    {
     "name": "stdout",
     "output_type": "stream",
     "text": [
      "[[1.]\n",
      " [1.]\n",
      " [1.]\n",
      " [1.]]\n"
     ]
    }
   ],
   "source": [
    "print(slin.inv(I-Q).dot(R))\n",
    "#print(\"85% from state 1 will pay rest will default\")\n",
    "#print(\"50% from state 2 will pay rest will default\")"
   ]
  },
  {
   "cell_type": "code",
   "execution_count": 148,
   "metadata": {},
   "outputs": [
    {
     "data": {
      "text/plain": [
       "array([1.425, 2.125, 1.875, 1.25 ])"
      ]
     },
     "execution_count": 148,
     "metadata": {},
     "output_type": "execute_result"
    }
   ],
   "source": [
    "#Average Life\n",
    "slin.inv(I-Q).sum(axis = 1)"
   ]
  },
  {
   "cell_type": "code",
   "execution_count": 149,
   "metadata": {},
   "outputs": [
    {
     "data": {
      "text/plain": [
       "0.31875"
      ]
     },
     "execution_count": 149,
     "metadata": {},
     "output_type": "execute_result"
    }
   ],
   "source": [
    "# Revenue for 2 week \n",
    "2.125 * .15 # weekly collection"
   ]
  },
  {
   "cell_type": "markdown",
   "metadata": {},
   "source": [
    "## MNB"
   ]
  },
  {
   "cell_type": "code",
   "execution_count": 154,
   "metadata": {},
   "outputs": [
    {
     "data": {
      "text/plain": [
       "array([[639104, 194856,  76288,  31449,  58303]])"
      ]
     },
     "execution_count": 154,
     "metadata": {},
     "output_type": "execute_result"
    }
   ],
   "source": [
    "C1 = np.array([639104, 194856, 76288, 31449, 58303]).reshape(1,5)\n",
    "C1"
   ]
  },
  {
   "cell_type": "code",
   "execution_count": 200,
   "metadata": {},
   "outputs": [
    {
     "data": {
      "text/plain": [
       "array([[0.799, 0.201, 0.   , 0.   , 0.   ],\n",
       "       [0.198, 0.276, 0.526, 0.   , 0.   ],\n",
       "       [0.178, 0.203, 0.065, 0.554, 0.   ],\n",
       "       [0.151, 0.159, 0.053, 0.029, 0.608],\n",
       "       [0.097, 0.   , 0.   , 0.   , 0.903]])"
      ]
     },
     "execution_count": 200,
     "metadata": {},
     "output_type": "execute_result"
    }
   ],
   "source": [
    "P1 = np.array([\n",
    "    [.799, .201, 0,0,0],\n",
    "    [.198, .276, .526, 0,0],\n",
    "    [.178, .203,.065, .554,0],\n",
    "    [.151, .159,.053,.029,.608],\n",
    "    [.097, 0,0,0,0.903]\n",
    "])\n",
    "P1"
   ]
  },
  {
   "cell_type": "code",
   "execution_count": 201,
   "metadata": {},
   "outputs": [
    {
     "data": {
      "text/plain": [
       "array([[ 0.201, -0.198, -0.178, -0.151, -0.097],\n",
       "       [-0.201,  0.724, -0.203, -0.159,  0.   ],\n",
       "       [ 0.   , -0.526,  0.935, -0.053,  0.   ],\n",
       "       [ 0.   ,  0.   , -0.554,  0.971,  0.   ],\n",
       "       [ 1.   ,  1.   ,  1.   ,  1.   ,  1.   ]])"
      ]
     },
     "execution_count": 201,
     "metadata": {},
     "output_type": "execute_result"
    }
   ],
   "source": [
    "# to calculate the steady state probabiklity\n",
    "\n",
    "PP1 = P1.T * -1 + np.identity(5)\n",
    "# last eqn omit\n",
    "#PP1 = PP1[:-1,:]\n",
    "PP1[4,:] = [1,1,1,1,1]\n",
    "PP1"
   ]
  },
  {
   "cell_type": "code",
   "execution_count": 202,
   "metadata": {},
   "outputs": [
    {
     "data": {
      "text/plain": [
       "array([[0.40809606],\n",
       "       [0.14826655],\n",
       "       [0.08619757],\n",
       "       [0.04917966],\n",
       "       [0.30826016]])"
      ]
     },
     "execution_count": 202,
     "metadata": {},
     "output_type": "execute_result"
    }
   ],
   "source": [
    "slin.solve(PP1, np.array([0,0,0,0,1]).reshape(5,1))"
   ]
  },
  {
   "cell_type": "code",
   "execution_count": 203,
   "metadata": {},
   "outputs": [
    {
     "data": {
      "text/plain": [
       "0.9572909405156272"
      ]
     },
     "execution_count": 203,
     "metadata": {},
     "output_type": "execute_result"
    }
   ],
   "source": [
    "rt = 1 - (1 - .903) * 0.3057 / (1-0.3057)\n",
    "rt"
   ]
  },
  {
   "cell_type": "code",
   "execution_count": 204,
   "metadata": {},
   "outputs": [
    {
     "data": {
      "text/plain": [
       "array([[ 0.227, -0.153, -0.118, -0.092, -0.069],\n",
       "       [-0.227,  0.719, -0.153, -0.077,  0.   ],\n",
       "       [ 0.   , -0.566,  0.869, -0.058,  0.   ],\n",
       "       [ 0.   ,  0.   , -0.598,  0.822,  0.   ],\n",
       "       [ 1.   ,  1.   ,  1.   ,  1.   ,  1.   ]])"
      ]
     },
     "execution_count": 204,
     "metadata": {},
     "output_type": "execute_result"
    }
   ],
   "source": [
    "P1 = np.array([\n",
    "    [.773, .227, 0,0,0],\n",
    "    [.153, .281, .566, 0,0],\n",
    "    [.118, .153,.131, .598,0],\n",
    "    [.092, .077,.058,.178,.595],\n",
    "    [.069, 0,0,0,0.931]\n",
    "])\n",
    "P1\n",
    "# to calculate the steady state probabiklity\n",
    "\n",
    "PP1 = P1.T * -1 + np.identity(5)\n",
    "# last eqn omit\n",
    "#PP1 = PP1[:-1,:]\n",
    "PP1[4,:] = [1,1,1,1,1]\n",
    "PP1"
   ]
  },
  {
   "cell_type": "code",
   "execution_count": 205,
   "metadata": {},
   "outputs": [
    {
     "data": {
      "text/plain": [
       "array([[0.28145487],\n",
       "       [0.110937  ],\n",
       "       [0.07594332],\n",
       "       [0.0552483 ],\n",
       "       [0.47641651]])"
      ]
     },
     "execution_count": 205,
     "metadata": {},
     "output_type": "execute_result"
    }
   ],
   "source": [
    "slin.solve(PP1, np.array([0,0,0,0,1]).reshape(5,1))"
   ]
  },
  {
   "cell_type": "code",
   "execution_count": 206,
   "metadata": {},
   "outputs": [
    {
     "data": {
      "text/plain": [
       "0.9372158599003952"
      ]
     },
     "execution_count": 206,
     "metadata": {},
     "output_type": "execute_result"
    }
   ],
   "source": [
    "rt = 1 - (1 - .931) * 0.47641651 / (1-0.47641651)\n",
    "rt"
   ]
  },
  {
   "cell_type": "code",
   "execution_count": 209,
   "metadata": {},
   "outputs": [
    {
     "data": {
      "text/plain": [
       "array([9630362.0221])"
      ]
     },
     "execution_count": 209,
     "metadata": {},
     "output_type": "execute_result"
    }
   ],
   "source": [
    "P1 = np.array([\n",
    "    [.799, .201, 0,0,0],\n",
    "    [.198, .276, .526, 0,0],\n",
    "    [.178, .203,.065, .554,0],\n",
    "    [.151, .159,.053,.029,.608],\n",
    "    [.097, 0,0,0,0.903]\n",
    "])\n",
    "C1.dot(P1)\n",
    "#P1.sum(axis=1)\n",
    "C1.dot(P1).dot([10,15,7,2,.1])"
   ]
  },
  {
   "cell_type": "code",
   "execution_count": 208,
   "metadata": {},
   "outputs": [],
   "source": [
    "# do it for the other one"
   ]
  },
  {
   "cell_type": "code",
   "execution_count": 188,
   "metadata": {},
   "outputs": [
    {
     "data": {
      "text/plain": [
       "array([9632563.4521])"
      ]
     },
     "execution_count": 188,
     "metadata": {},
     "output_type": "execute_result"
    }
   ],
   "source": [
    "# do this for all 24 periods\n",
    "# it should start converginf aroud 23-24 months"
   ]
  },
  {
   "cell_type": "code",
   "execution_count": 214,
   "metadata": {},
   "outputs": [
    {
     "name": "stdout",
     "output_type": "stream",
     "text": [
      "[40.81625 11.00475 14.49175  2.93025  1.057  ]\n",
      "Stage 2\n"
     ]
    }
   ],
   "source": [
    "P1 = np.array([\n",
    "    [.8, .1, 0.1,0,0],\n",
    "    [.1, .6, .2, .1,0],\n",
    "    [.15, .05,.75, .05,0],\n",
    "    [.2, 0,.1,.6,.1],\n",
    "    [.3, 0,0,0.05,0.65]\n",
    "])\n",
    "\n",
    "X1 = np.array([0,120,300,450, 620])\n",
    "C1 = np.array([55.8,6.5,4.1,2.3, 1.6])\n",
    "Y1 = C1.dot(P1.dot(P1))\n",
    "print(Y1)\n",
    "#P1.sum(axis=1)\n",
    "Y1.dot(X1)\n",
    "print(\"Stage 2\")"
   ]
  },
  {
   "cell_type": "code",
   "execution_count": 215,
   "metadata": {},
   "outputs": [
    {
     "name": "stdout",
     "output_type": "stream",
     "text": [
      "[46.845  9.685 10.185  2.315  1.27 ]\n",
      "Stage 1\n"
     ]
    }
   ],
   "source": [
    "P1 = np.array([\n",
    "    [.8, .1, 0.1,0,0],\n",
    "    [.1, .6, .2, .1,0],\n",
    "    [.15, .05,.75, .05,0],\n",
    "    [.2, 0,.1,.6,.1],\n",
    "    [.3, 0,0,0.05,0.65]\n",
    "])\n",
    "\n",
    "X1 = np.array([0,120,300,450, 620])\n",
    "C1 = np.array([55.8,6.5,4.1,2.3, 1.6])\n",
    "Y1 = C1.dot(P1)\n",
    "print(Y1)\n",
    "#P1.sum(axis=1)\n",
    "Y1.dot(X1)\n",
    "print(\"Stage 1\")"
   ]
  },
  {
   "cell_type": "code",
   "execution_count": null,
   "metadata": {},
   "outputs": [],
   "source": []
  }
 ],
 "metadata": {
  "kernelspec": {
   "display_name": "Python 3",
   "language": "python",
   "name": "python3"
  },
  "language_info": {
   "codemirror_mode": {
    "name": "ipython",
    "version": 3
   },
   "file_extension": ".py",
   "mimetype": "text/x-python",
   "name": "python",
   "nbconvert_exporter": "python",
   "pygments_lexer": "ipython3",
   "version": "3.6.4"
  }
 },
 "nbformat": 4,
 "nbformat_minor": 2
}
