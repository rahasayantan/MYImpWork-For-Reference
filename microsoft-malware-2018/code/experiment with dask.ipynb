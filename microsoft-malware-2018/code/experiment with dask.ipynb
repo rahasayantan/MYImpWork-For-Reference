{
 "cells": [
  {
   "cell_type": "code",
   "execution_count": 1,
   "metadata": {},
   "outputs": [
    {
     "name": "stdout",
     "output_type": "stream",
     "text": [
      "['all', 'all.zip']\n"
     ]
    }
   ],
   "source": [
    "import numpy as np # linear algebra\n",
    "import pandas as pd # data processing, CSV file I/O (e.g. pd.read_csv)\n",
    "\n",
    "# Input data files are available in the \"../input/\" directory.\n",
    "# For example, running this (by clicking run or pressing Shift+Enter) will list the files in the input directory\n",
    "import dask\n",
    "import dask.dataframe as dd\n",
    "import os\n",
    "print(os.listdir(\"../input\"))\n",
    "\n",
    "import seaborn as sns\n",
    "import matplotlib.pyplot as plt\n",
    "%matplotlib inline\n",
    "plt.style.use('fivethirtyeight')\n"
   ]
  },
  {
   "cell_type": "code",
   "execution_count": 2,
   "metadata": {},
   "outputs": [],
   "source": [
    "dtypes1 = {\n",
    "        'MachineIdentifier':                                    'category',\n",
    "        'ProductName':                                          'category',\n",
    "        'EngineVersion':                                        'category',\n",
    "        'AppVersion':                                           'category',\n",
    "        'AvSigVersion':                                         'category',\n",
    "        'IsBeta':                                               'int8',\n",
    "        'RtpStateBitfield':                                     'float16',\n",
    "        'IsSxsPassiveMode':                                     'int8',\n",
    "        'DefaultBrowsersIdentifier':                            'float16',\n",
    "        'AVProductStatesIdentifier':                            'float32',\n",
    "        'AVProductsInstalled':                                  'float16',\n",
    "        'AVProductsEnabled':                                    'float16',\n",
    "        'HasTpm':                                               'int8',\n",
    "        'CountryIdentifier':                                    'int16',\n",
    "        'CityIdentifier':                                       'float32',\n",
    "        'OrganizationIdentifier':                               'float16',\n",
    "        'GeoNameIdentifier':                                    'float16',\n",
    "        'LocaleEnglishNameIdentifier':                          'int8',\n",
    "        'Platform':                                             'category',\n",
    "        'Processor':                                            'category',\n",
    "        'OsVer':                                                'category',\n",
    "        'OsBuild':                                              'int16',\n",
    "        'OsSuite':                                              'int16',\n",
    "        'OsPlatformSubRelease':                                 'category',\n",
    "        'OsBuildLab':                                           'category',\n",
    "        'SkuEdition':                                           'category',\n",
    "        'IsProtected':                                          'float16',\n",
    "        'AutoSampleOptIn':                                      'int8',\n",
    "        'PuaMode':                                              'category',\n",
    "        'SMode':                                                'float16',\n",
    "        'IeVerIdentifier':                                      'float16',\n",
    "        'SmartScreen':                                          'category',\n",
    "        'Firewall':                                             'float16',\n",
    "        'UacLuaenable':                                         'float32',\n",
    "        'Census_MDC2FormFactor':                                'category',\n",
    "        'Census_DeviceFamily':                                  'category',\n",
    "        'Census_OEMNameIdentifier':                             'float16',\n",
    "        'Census_OEMModelIdentifier':                            'float32',\n",
    "        'Census_ProcessorCoreCount':                            'float16',\n",
    "        'Census_ProcessorManufacturerIdentifier':               'float16',\n",
    "        'Census_ProcessorModelIdentifier':                      'float16',\n",
    "        'Census_ProcessorClass':                                'category',\n",
    "        'Census_PrimaryDiskTotalCapacity':                      'float32',\n",
    "        'Census_PrimaryDiskTypeName':                           'category',\n",
    "        'Census_SystemVolumeTotalCapacity':                     'float32',\n",
    "        'Census_HasOpticalDiskDrive':                           'int8',\n",
    "        'Census_TotalPhysicalRAM':                              'float32',\n",
    "        'Census_ChassisTypeName':                               'category',\n",
    "        'Census_InternalPrimaryDiagonalDisplaySizeInInches':    'float16',\n",
    "        'Census_InternalPrimaryDisplayResolutionHorizontal':    'float16',\n",
    "        'Census_InternalPrimaryDisplayResolutionVertical':      'float16',\n",
    "        'Census_PowerPlatformRoleName':                         'category',\n",
    "        'Census_InternalBatteryType':                           'category',\n",
    "        'Census_InternalBatteryNumberOfCharges':                'float32',\n",
    "        'Census_OSVersion':                                     'category',\n",
    "        'Census_OSArchitecture':                                'category',\n",
    "        'Census_OSBranch':                                      'category',\n",
    "        'Census_OSBuildNumber':                                 'int16',\n",
    "        'Census_OSBuildRevision':                               'int32',\n",
    "        'Census_OSEdition':                                     'category',\n",
    "        'Census_OSSkuName':                                     'category',\n",
    "        'Census_OSInstallTypeName':                             'category',\n",
    "        'Census_OSInstallLanguageIdentifier':                   'float16',\n",
    "        'Census_OSUILocaleIdentifier':                          'int16',\n",
    "        'Census_OSWUAutoUpdateOptionsName':                     'category',\n",
    "        'Census_IsPortableOperatingSystem':                     'int8',\n",
    "        'Census_GenuineStateName':                              'category',\n",
    "        'Census_ActivationChannel':                             'category',\n",
    "        'Census_IsFlightingInternal':                           'float16',\n",
    "        'Census_IsFlightsDisabled':                             'float16',\n",
    "        'Census_FlightRing':                                    'category',\n",
    "        'Census_ThresholdOptIn':                                'float16',\n",
    "        'Census_FirmwareManufacturerIdentifier':                'float16',\n",
    "        'Census_FirmwareVersionIdentifier':                     'float32',\n",
    "        'Census_IsSecureBootEnabled':                           'int8',\n",
    "        'Census_IsWIMBootEnabled':                              'float16',\n",
    "        'Census_IsVirtualDevice':                               'float16',\n",
    "        'Census_IsTouchEnabled':                                'int8',\n",
    "        'Census_IsPenCapable':                                  'int8',\n",
    "        'Census_IsAlwaysOnAlwaysConnectedCapable':              'float16',\n",
    "        'Wdft_IsGamer':                                         'float16',\n",
    "        'Wdft_RegionIdentifier':                                'float16',\n",
    "        'HasDetections':                                        'int8'\n",
    "        }"
   ]
  },
  {
   "cell_type": "code",
   "execution_count": 3,
   "metadata": {},
   "outputs": [
    {
     "name": "stdout",
     "output_type": "stream",
     "text": [
      "CPU times: user 228 ms, sys: 8 ms, total: 236 ms\n",
      "Wall time: 475 ms\n"
     ]
    }
   ],
   "source": [
    "%%time\n",
    "train_df = dd.read_csv(\"../input/all/test.csv\", dtype = dtypes1)\n"
   ]
  },
  {
   "cell_type": "code",
   "execution_count": 5,
   "metadata": {},
   "outputs": [
    {
     "name": "stderr",
     "output_type": "stream",
     "text": [
      "/home/sayantan/anaconda2/envs/py36/lib/python3.6/site-packages/IPython/core/interactiveshell.py:3020: DtypeWarning: Columns (28) have mixed types. Specify dtype option on import or set low_memory=False.\n",
      "  interactivity=interactivity, compiler=compiler, result=result)\n"
     ]
    }
   ],
   "source": [
    "pd_df = pd.read_csv(\"../input/all/test.csv\")"
   ]
  },
  {
   "cell_type": "code",
   "execution_count": 6,
   "metadata": {},
   "outputs": [
    {
     "name": "stdout",
     "output_type": "stream",
     "text": [
      "<class 'dask.dataframe.core.DataFrame'>\n",
      "Columns: 82 entries, MachineIdentifier to Wdft_RegionIdentifier\n",
      "dtypes: category(30), float16(27), float32(9), int16(5), int32(1), int8(10)"
     ]
    }
   ],
   "source": [
    "train_df.info()"
   ]
  },
  {
   "cell_type": "code",
   "execution_count": 7,
   "metadata": {},
   "outputs": [
    {
     "name": "stdout",
     "output_type": "stream",
     "text": [
      "<class 'pandas.core.frame.DataFrame'>\n",
      "RangeIndex: 7722175 entries, 0 to 7722174\n",
      "Data columns (total 82 columns):\n",
      "MachineIdentifier                                    object\n",
      "ProductName                                          object\n",
      "EngineVersion                                        object\n",
      "AppVersion                                           object\n",
      "AvSigVersion                                         object\n",
      "IsBeta                                               int64\n",
      "RtpStateBitfield                                     float64\n",
      "IsSxsPassiveMode                                     int64\n",
      "DefaultBrowsersIdentifier                            float64\n",
      "AVProductStatesIdentifier                            float64\n",
      "AVProductsInstalled                                  float64\n",
      "AVProductsEnabled                                    float64\n",
      "HasTpm                                               int64\n",
      "CountryIdentifier                                    int64\n",
      "CityIdentifier                                       float64\n",
      "OrganizationIdentifier                               float64\n",
      "GeoNameIdentifier                                    float64\n",
      "LocaleEnglishNameIdentifier                          int64\n",
      "Platform                                             object\n",
      "Processor                                            object\n",
      "OsVer                                                object\n",
      "OsBuild                                              float64\n",
      "OsSuite                                              float64\n",
      "OsPlatformSubRelease                                 object\n",
      "OsBuildLab                                           object\n",
      "SkuEdition                                           object\n",
      "IsProtected                                          float64\n",
      "AutoSampleOptIn                                      float64\n",
      "PuaMode                                              object\n",
      "SMode                                                float64\n",
      "IeVerIdentifier                                      float64\n",
      "SmartScreen                                          object\n",
      "Firewall                                             float64\n",
      "UacLuaenable                                         float64\n",
      "Census_MDC2FormFactor                                object\n",
      "Census_DeviceFamily                                  object\n",
      "Census_OEMNameIdentifier                             float64\n",
      "Census_OEMModelIdentifier                            float64\n",
      "Census_ProcessorCoreCount                            float64\n",
      "Census_ProcessorManufacturerIdentifier               float64\n",
      "Census_ProcessorModelIdentifier                      float64\n",
      "Census_ProcessorClass                                object\n",
      "Census_PrimaryDiskTotalCapacity                      float64\n",
      "Census_PrimaryDiskTypeName                           object\n",
      "Census_SystemVolumeTotalCapacity                     float64\n",
      "Census_HasOpticalDiskDrive                           float64\n",
      "Census_TotalPhysicalRAM                              float64\n",
      "Census_ChassisTypeName                               object\n",
      "Census_InternalPrimaryDiagonalDisplaySizeInInches    float64\n",
      "Census_InternalPrimaryDisplayResolutionHorizontal    float64\n",
      "Census_InternalPrimaryDisplayResolutionVertical      float64\n",
      "Census_PowerPlatformRoleName                         object\n",
      "Census_InternalBatteryType                           object\n",
      "Census_InternalBatteryNumberOfCharges                float64\n",
      "Census_OSVersion                                     object\n",
      "Census_OSArchitecture                                object\n",
      "Census_OSBranch                                      object\n",
      "Census_OSBuildNumber                                 float64\n",
      "Census_OSBuildRevision                               float64\n",
      "Census_OSEdition                                     object\n",
      "Census_OSSkuName                                     object\n",
      "Census_OSInstallTypeName                             object\n",
      "Census_OSInstallLanguageIdentifier                   float64\n",
      "Census_OSUILocaleIdentifier                          float64\n",
      "Census_OSWUAutoUpdateOptionsName                     object\n",
      "Census_IsPortableOperatingSystem                     float64\n",
      "Census_GenuineStateName                              object\n",
      "Census_ActivationChannel                             object\n",
      "Census_IsFlightingInternal                           float64\n",
      "Census_IsFlightsDisabled                             float64\n",
      "Census_FlightRing                                    object\n",
      "Census_ThresholdOptIn                                float64\n",
      "Census_FirmwareManufacturerIdentifier                float64\n",
      "Census_FirmwareVersionIdentifier                     float64\n",
      "Census_IsSecureBootEnabled                           float64\n",
      "Census_IsWIMBootEnabled                              float64\n",
      "Census_IsVirtualDevice                               float64\n",
      "Census_IsTouchEnabled                                float64\n",
      "Census_IsPenCapable                                  float64\n",
      "Census_IsAlwaysOnAlwaysConnectedCapable              float64\n",
      "Wdft_IsGamer                                         float64\n",
      "Wdft_RegionIdentifier                                float64\n",
      "dtypes: float64(47), int64(5), object(30)\n",
      "memory usage: 4.7+ GB\n"
     ]
    }
   ],
   "source": [
    "pd_df.info()"
   ]
  },
  {
   "cell_type": "code",
   "execution_count": null,
   "metadata": {},
   "outputs": [],
   "source": [
    "pd."
   ]
  }
 ],
 "metadata": {
  "kernelspec": {
   "display_name": "Python 3",
   "language": "python",
   "name": "python3"
  },
  "language_info": {
   "codemirror_mode": {
    "name": "ipython",
    "version": 3
   },
   "file_extension": ".py",
   "mimetype": "text/x-python",
   "name": "python",
   "nbconvert_exporter": "python",
   "pygments_lexer": "ipython3",
   "version": "3.6.7"
  }
 },
 "nbformat": 4,
 "nbformat_minor": 2
}
