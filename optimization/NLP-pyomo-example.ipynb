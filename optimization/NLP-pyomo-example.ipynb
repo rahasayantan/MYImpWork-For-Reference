{
 "cells": [
  {
   "cell_type": "code",
   "execution_count": 15,
   "metadata": {},
   "outputs": [],
   "source": [
    "import pyomo.environ as pe\n",
    "import numpy as np\n",
    "import pandas as pd"
   ]
  },
  {
   "cell_type": "code",
   "execution_count": 5,
   "metadata": {},
   "outputs": [
    {
     "name": "stdout",
     "output_type": "stream",
     "text": [
      "c : Size=3, Index=a, Active=True\n",
      "    Key : Lower : Body        : Upper : Active\n",
      "      1 :  -Inf : y[1] - x[1] :   0.0 :   True\n",
      "      2 :  -Inf : y[2] - x[2] :   0.0 :   True\n",
      "      3 :  -Inf : y[3] - x[3] :   0.0 :   True\n",
      "c2 : Size=2, Index=Any, Active=True\n",
      "    Key : Lower : Body            : Upper : Active\n",
      "      1 :   0.0 :      x[1] - 5*z :   0.0 :   True\n",
      "      8 :   0.0 : x[2] - z * y[2] :   0.0 :   True\n"
     ]
    }
   ],
   "source": [
    "m = pe.ConcreteModel()\n",
    "m.a = pe.Set(initialize=[1, 2, 3])\n",
    "m.x = pe.Var(m.a, initialize=0, bounds=(-10,10))\n",
    "m.y = pe.Var(m.a)\n",
    "def c_rule(m, i):\n",
    "    return m.x[i] >= m.y[i]\n",
    "m.c = pe.Constraint(m.a, rule=c_rule)\n",
    "m.c.pprint()\n",
    "m.z = pe.Var()\n",
    "m.c2 = pe.Constraint(pe.Any)\n",
    "m.c2[1] = m.x[1] == 5 * m.z\n",
    "m.c2[8] = m.x[2] == m.z * m.y[2]\n",
    "m.c2.pprint()"
   ]
  },
  {
   "cell_type": "code",
   "execution_count": 7,
   "metadata": {},
   "outputs": [],
   "source": [
    "# Initialize sets and components\n",
    "m.A = pe.Set(initialize=[2,3,5])\n",
    "m.B = pe.Set(initialize=set([2,3,5]))\n",
    "m.C = pe.Set(initialize=(2,3,5))"
   ]
  },
  {
   "cell_type": "code",
   "execution_count": 8,
   "metadata": {},
   "outputs": [
    {
     "name": "stdout",
     "output_type": "stream",
     "text": [
      "A : Dim=0, Dimen=1, Size=3, Domain=None, Ordered=False, Bounds=(2, 5)\n",
      "    [2, 3, 5]\n"
     ]
    }
   ],
   "source": [
    "m.A.pprint()"
   ]
  },
  {
   "cell_type": "code",
   "execution_count": 11,
   "metadata": {},
   "outputs": [
    {
     "name": "stdout",
     "output_type": "stream",
     "text": [
      "WARNING: Implicitly replacing the Component attribute D (type=<class\n",
      "    'pyomo.core.base.sets.SimpleSet'>) on block unknown with a new Component\n",
      "    (type=<class 'pyomo.core.base.sets.SimpleSet'>). This is usually\n",
      "    indicative of a modelling error. To avoid this warning, use\n",
      "    block.del_component() and block.add_component().\n"
     ]
    }
   ],
   "source": [
    "# using generators for inititalization\n",
    "m.D = pe.Set(initialize=range(9))\n",
    "m.E = pe.Set(initialize=(i for i in m.B if i%2 == 0))"
   ]
  },
  {
   "cell_type": "code",
   "execution_count": 12,
   "metadata": {},
   "outputs": [
    {
     "name": "stdout",
     "output_type": "stream",
     "text": [
      "E : Dim=0, Dimen=1, Size=1, Domain=None, Ordered=False, Bounds=(2, 2)\n",
      "    [2]\n"
     ]
    }
   ],
   "source": [
    "m.E.pprint()"
   ]
  },
  {
   "cell_type": "code",
   "execution_count": 17,
   "metadata": {},
   "outputs": [],
   "source": [
    "# using numpy\n",
    "f = np.array([2, 3, 5])\n",
    "m.F = pe.Set(initialize=f)"
   ]
  },
  {
   "cell_type": "code",
   "execution_count": 18,
   "metadata": {},
   "outputs": [],
   "source": [
    "# using functions for initialization\n",
    "def g(model):\n",
    "    return [2,3,5]\n",
    "m.G = pe.Set(initialize=g)"
   ]
  },
  {
   "cell_type": "code",
   "execution_count": 19,
   "metadata": {},
   "outputs": [
    {
     "name": "stdout",
     "output_type": "stream",
     "text": [
      "G : Dim=0, Dimen=1, Size=3, Domain=None, Ordered=False, Bounds=(2, 5)\n",
      "    [2, 3, 5]\n"
     ]
    }
   ],
   "source": [
    "m.G.pprint()"
   ]
  },
  {
   "cell_type": "code",
   "execution_count": 21,
   "metadata": {},
   "outputs": [],
   "source": [
    "# using indexed sets\n",
    "\n",
    "H_init = {}\n",
    "H_init[2] = [1,3,5]\n",
    "H_init[3] = [2,4,6]\n",
    "H_init[4] = [3,5,7]\n",
    "m.H = pe.Set([2,3,4],initialize=H_init)"
   ]
  },
  {
   "cell_type": "code",
   "execution_count": 23,
   "metadata": {},
   "outputs": [
    {
     "name": "stdout",
     "output_type": "stream",
     "text": [
      "WARNING: Implicitly replacing the Component attribute a (type=<class\n",
      "    'pyomo.core.base.sets.SimpleSet'>) on block unknown with a new Component\n",
      "    (type=<class 'pyomo.core.base.param.SimpleParam'>). This is usually\n",
      "    indicative of a modelling error. To avoid this warning, use\n",
      "    block.del_component() and block.add_component().\n",
      "WARNING: Implicitly replacing the Component attribute c (type=<class\n",
      "    'pyomo.core.base.constraint.IndexedConstraint'>) on block unknown with a\n",
      "    new Component (type=<class 'pyomo.core.base.param.IndexedParam'>). This is\n",
      "    usually indicative of a modelling error. To avoid this warning, use\n",
      "    block.del_component() and block.add_component().\n"
     ]
    }
   ],
   "source": [
    "# parameters\n",
    "m.a = pe.Param(initialize=1.1)\n",
    "m.b = pe.Param([1,2,3], initialize={1:1, 2:2, 3:3})\n",
    "def c(model):\n",
    "    return {1:1, 2:2, 3:3}\n",
    "m.c = pe.Param([1,2,3], initialize=c)"
   ]
  },
  {
   "cell_type": "markdown",
   "metadata": {},
   "source": [
    "The following commands are used to declare data:\n",
    "- The set command declares set data.\n",
    "- The param command declares a table of parameter data, which can also include the declaration of the set data used to index the parameter data.\n",
    "- The table command declares a two-dimensional table of parameter data.\n",
    "- The load command defines how set and parameter data is loaded from external data sources, including ASCII table files, CSV files, XML files, YAML files, JSON files, ranges in spreadsheets, and database tables.\n",
    "\n",
    "The following commands are also used in data command files:\n",
    "- The include command specifies a data command file that is processed immediately.\n",
    "- The data and end commands do not perform any actions, but they provide compatibility with AMPL scripts that define data commands.\n",
    "- The namespace keyword allows data commands to be organized into named groups that can be enabled or disabled during model construction.\n",
    "\n",
    "The following data types can be represented in a data command file:\n",
    "- Numeric value: Any Python numeric value (e.g. integer, float, scientific notation, or boolean).\n",
    "- Simple string: A sequence of alpha-numeric characters.\n",
    "- Quoted string: A simple string that is included in a pair of single or double quotes. A quoted string can include quotes within the quoted string"
   ]
  },
  {
   "cell_type": "code",
   "execution_count": 1,
   "metadata": {},
   "outputs": [
    {
     "name": "stdout",
     "output_type": "stream",
     "text": [
      "Status = optimal\n",
      "r = 3.837215\n",
      "h = 7.674430\n",
      "Objective = 277.545024\n"
     ]
    }
   ],
   "source": [
    "# sodacan-pyomo.py\n",
    "\n",
    "from pyomo.environ import *\n",
    "from math import pi\n",
    "\n",
    "m = ConcreteModel()\n",
    "\n",
    "m.r = Var(bounds=(0,None))\n",
    "m.h = Var(bounds=(0,None))\n",
    "\n",
    "m.o = Objective(expr=2*pi*m.r*(m.r + m.h))\n",
    "m.c = Constraint(expr=pi*m.h*m.r**2 == 355)\n",
    "\n",
    "solver = SolverFactory('ipopt')\n",
    "status = solver.solve(m)\n",
    "\n",
    "print(\"Status = %s\" % status.solver.termination_condition)\n",
    "\n",
    "print(\"%s = %f\" % (m.r, value(m.r)))\n",
    "print(\"%s = %f\" % (m.h, value(m.h)))\n",
    "print(\"Objective = %f\" % value(m.o))"
   ]
  },
  {
   "cell_type": "markdown",
   "metadata": {},
   "source": [
    "## Telecom Tower Problem"
   ]
  },
  {
   "cell_type": "code",
   "execution_count": 39,
   "metadata": {},
   "outputs": [
    {
     "name": "stdout",
     "output_type": "stream",
     "text": [
      "Status = optimal\n",
      "x = -116.666667\n",
      "y = 46.666667\n",
      "Objective = 313.979600\n"
     ]
    }
   ],
   "source": [
    "from pyomo.environ import *\n",
    "from math import pi\n",
    "\n",
    "m = ConcreteModel()\n",
    "\n",
    "m.x = Var(initialize=1e-10)#(bounds=(1e-10, None))\n",
    "m.y = Var(initialize=1e-10)#(bounds=(1e-10, None))\n",
    "\n",
    "m.a = Param([1,2,3,4],  initialize={1:0, 2:-110, 3:-130, 4:-250})\n",
    "m.b = Param([1,2,3,4],  initialize={1:0, 2:60, 3:20, 4:100})\n",
    "\n",
    "m.c1 = Constraint(expr= ((m.x - m.a[1])**2 + (m.y - m.b[1])**2)**0.5 <= 160)\n",
    "m.c2 = Constraint(expr= ((m.x - m.a[2])**2 + (m.y - m.b[2])**2)**0.5 <= 160)\n",
    "m.c3 = Constraint(expr= ((m.x - m.a[3])**2 + (m.y - m.b[3])**2)**0.5 <= 160)\n",
    "m.c4 = Constraint(expr= ((m.x - m.a[4])**2 + (m.y - m.b[4])**2)**0.5 <= 160)\n",
    "m.o = Objective(expr= \n",
    "                ((m.x - m.a[1])**2 + (m.y - m.b[1])**2)**0.5 + \\\n",
    "                ((m.x - m.a[2])**2 + (m.y - m.b[2])**2)**0.5 + \\\n",
    "                ((m.x - m.a[3])**2 + (m.y - m.b[3])**2)**0.5 + \\\n",
    "                ((m.x - m.a[4])**2 + (m.y - m.b[4])**2)**0.5 , sense=minimize)\n",
    "\n",
    "solver = SolverFactory('ipopt')\n",
    "status = solver.solve(m)\n",
    "\n",
    "print(\"Status = %s\" % status.solver.termination_condition)\n",
    "\n",
    "print(\"%s = %f\" % (m.x, value(m.x)))\n",
    "print(\"%s = %f\" % (m.y, value(m.y)))\n",
    "print(\"Objective = %f\" % value(m.o))"
   ]
  },
  {
   "cell_type": "code",
   "execution_count": 23,
   "metadata": {},
   "outputs": [
    {
     "data": {
      "text/plain": [
       "-110"
      ]
     },
     "execution_count": 23,
     "metadata": {},
     "output_type": "execute_result"
    }
   ],
   "source": [
    "m.a[2]"
   ]
  },
  {
   "cell_type": "code",
   "execution_count": 17,
   "metadata": {},
   "outputs": [
    {
     "data": {
      "text/plain": [
       "250.0"
      ]
     },
     "execution_count": 17,
     "metadata": {},
     "output_type": "execute_result"
    }
   ],
   "source": [
    "(250**2 + 0**2)**0.5"
   ]
  },
  {
   "cell_type": "code",
   "execution_count": null,
   "metadata": {},
   "outputs": [],
   "source": []
  }
 ],
 "metadata": {
  "kernelspec": {
   "display_name": "Python 3",
   "language": "python",
   "name": "python3"
  },
  "language_info": {
   "codemirror_mode": {
    "name": "ipython",
    "version": 3
   },
   "file_extension": ".py",
   "mimetype": "text/x-python",
   "name": "python",
   "nbconvert_exporter": "python",
   "pygments_lexer": "ipython3",
   "version": "3.6.4"
  }
 },
 "nbformat": 4,
 "nbformat_minor": 2
}
