{
 "cells": [
  {
   "cell_type": "markdown",
   "metadata": {},
   "source": [
    "# Using PULP"
   ]
  },
  {
   "cell_type": "code",
   "execution_count": 45,
   "metadata": {},
   "outputs": [],
   "source": [
    "from pulp import *\n",
    "#pulp.pulpTestAll()\n"
   ]
  },
  {
   "cell_type": "code",
   "execution_count": 46,
   "metadata": {},
   "outputs": [],
   "source": [
    "# Create the model for the problem\n",
    "prob = LpProblem(\"MaxProfit\",LpMaximize)"
   ]
  },
  {
   "cell_type": "code",
   "execution_count": 47,
   "metadata": {},
   "outputs": [],
   "source": [
    "# The 2 variables x1, x2 have a lower limit of zero\n",
    "x1=LpVariable(\"x1\",150, None)\n",
    "x2=LpVariable(\"x2\",100, None)\n"
   ]
  },
  {
   "cell_type": "code",
   "execution_count": 48,
   "metadata": {},
   "outputs": [],
   "source": [
    "# The objective function\n",
    "prob += 3500.0 *x1 + 5000.0 *x2, \"Objective\""
   ]
  },
  {
   "cell_type": "code",
   "execution_count": 49,
   "metadata": {},
   "outputs": [],
   "source": [
    "# The three constraints are\n",
    "prob += 20.0*x1 + 40.0*x2 <= 12000.0, \"Constraint 1\"\n",
    "prob += 25.0*x1 + 10.0*x2 <= 10000.0, \"Constraint 2\"\n",
    "prob += 45.0*x1 + 50.0*x2 >= 14000.0, \"Constraint 3\"\n",
    "prob += x1 <= 500.0, \"Constraint 4\"\n",
    "prob += x2 <= 200.0, \"Constraint 5\""
   ]
  },
  {
   "cell_type": "code",
   "execution_count": 50,
   "metadata": {},
   "outputs": [],
   "source": [
    "# Write the problem data to an .lp file\n",
    "prob.writeLP(\"MaxProfit.lp\")\n"
   ]
  },
  {
   "cell_type": "markdown",
   "metadata": {},
   "source": [
    "## Simple Solve"
   ]
  },
  {
   "cell_type": "code",
   "execution_count": 51,
   "metadata": {},
   "outputs": [],
   "source": [
    "# Solve the optimization problem using the specified Solver\n",
    "# solve the problem\n",
    "#status = prob.solve(GLPK(msg=0))\n",
    "#print(LpStatus[status])\n",
    " \n",
    "# print the results x1 = 20, x2 = 60\n",
    "#print(value(x1))\n",
    "#print(value(x2))\n"
   ]
  },
  {
   "cell_type": "markdown",
   "metadata": {},
   "source": [
    "## Solve with Sensitivity Report (GLPK Solver)"
   ]
  },
  {
   "cell_type": "code",
   "execution_count": 52,
   "metadata": {},
   "outputs": [
    {
     "name": "stdout",
     "output_type": "stream",
     "text": [
      "Optimal\n",
      "350.0\n",
      "125.0\n"
     ]
    }
   ],
   "source": [
    "status=prob.solve(GLPK(options=[\"--ranges\",\"MaxProfit.sen\"]))\n",
    "#glpsol --cpxlp MaxProfit.lp --ranges Maxprofit.sen\n",
    "print(LpStatus[status])\n",
    "print(value(x1))\n",
    "print(value(x2))"
   ]
  },
  {
   "cell_type": "code",
   "execution_count": 53,
   "metadata": {},
   "outputs": [
    {
     "name": "stdout",
     "output_type": "stream",
     "text": [
      "Status: Optimal\n",
      "x1 = 350.0\n",
      "x2 = 125.0\n",
      "Objective 1850000.0\n"
     ]
    }
   ],
   "source": [
    "33 # Print the status of the solution\n",
    "print(\"Status:\", LpStatus[prob.status])\n",
    "# Print each of the variables with it’s resolved optimum value\n",
    "for v in prob.variables():\n",
    "    print(v.name, \"=\", v.varValue)\n",
    "# Print the optimised value of the objective function\n",
    "print(\"Objective\", value(prob.objective))"
   ]
  },
  {
   "cell_type": "markdown",
   "metadata": {},
   "source": [
    "## Display sensitivity Report"
   ]
  },
  {
   "cell_type": "code",
   "execution_count": null,
   "metadata": {},
   "outputs": [],
   "source": [
    "%load Maxprofit.sen\n",
    "\n",
    "GLPK 4.65 - SENSITIVITY ANALYSIS REPORT                                                                         Page   1\n",
    "\n",
    "Problem:    \n",
    "Objective:  Objective = 1850000 (MAXimum)\n",
    "\n",
    "   No. Row name     St      Activity         Slack   Lower bound       Activity      Obj coef  Obj value at Limiting\n",
    "                                          Marginal   Upper bound          range         range   break point variable\n",
    "------ ------------ -- ------------- ------------- -------------  ------------- ------------- ------------- ------------\n",
    "     1 Constraint_1 NU   12000.00000        .               -Inf    11200.00000    -112.50000      1.76e+06 x2\n",
    "                                         112.50000   12000.00000    28000.00000          +Inf      3.65e+06 x1\n",
    "\n",
    "     2 Constraint_2 NU   10000.00000        .               -Inf     6000.00000     -50.00000      1.65e+06 x1\n",
    "                                          50.00000   10000.00000    11000.00000          +Inf       1.9e+06 x2\n",
    "\n",
    "     3 Constraint_3 BS   22000.00000   -8000.00000   14000.00000    18000.00000     -50.00000  750000.00000 Constraint_2\n",
    "                                            .               +Inf    22000.00000          +Inf          +Inf\n",
    "\n",
    "GLPK 4.65 - SENSITIVITY ANALYSIS REPORT                                                                         Page   2\n",
    "\n",
    "Problem:    \n",
    "Objective:  Objective = 1850000 (MAXimum)\n",
    "\n",
    "   No. Column name  St      Activity      Obj coef   Lower bound       Activity      Obj coef  Obj value at Limiting\n",
    "                                          Marginal   Upper bound          range         range   break point variable\n",
    "------ ------------ -- ------------- ------------- -------------  ------------- ------------- ------------- ------------\n",
    "     1 x1           BS     350.00000    3500.00000     150.00000      -50.00000    2500.00000       1.5e+06 Constraint_2\n",
    "                                            .               +Inf      360.00000   12500.00000         5e+06 Constraint_1\n",
    "\n",
    "     2 x2           BS     125.00000    5000.00000     100.00000     -125.00000    1400.00000       1.4e+06 Constraint_1\n",
    "                                            .               +Inf      225.00000    7000.00000       2.1e+06 Constraint_2\n",
    "\n",
    "End of report\n"
   ]
  },
  {
   "cell_type": "markdown",
   "metadata": {},
   "source": [
    "# Solve as equations"
   ]
  },
  {
   "cell_type": "code",
   "execution_count": 44,
   "metadata": {},
   "outputs": [
    {
     "name": "stdout",
     "output_type": "stream",
     "text": [
      "1\n",
      " car :: 350.0 ::\n",
      " truck :: 125.0 ::\n",
      "Objective 1850000.0\n"
     ]
    }
   ],
   "source": [
    "# initialize the model\n",
    "manviMaxProfit = LpProblem(\"ManviMaxProfit\", LpMaximize)\n",
    "#List of decision variables\n",
    "vehicles = ['car', 'truck']\n",
    "# create a dictionary of pulp variables with keys from ingredients\n",
    "# the default lower bound is -inf\n",
    "x = pulp.LpVariable.dict('x_%s', vehicles, lowBound = 0)\n",
    "\n",
    "# Objective function\n",
    "\n",
    "profit = [3500.0, 5000.0]\n",
    "cost = dict(zip(vehicles, profit))\n",
    "\n",
    "manviMaxProfit += sum([cost[i] * x[i] for i in vehicles]), \"Objective\"\n",
    "\n",
    "# Constraints\n",
    "const1 = dict(zip(vehicles, [20, 40]))\n",
    "const2 = dict(zip(vehicles, [25, 10]))\n",
    "const3 = dict(zip(vehicles, [45, 50]))\n",
    "\n",
    "manviMaxProfit += sum([const1[i] * x[i] for i in vehicles]) <= 12000, \"Constraint 1\"\n",
    "manviMaxProfit += sum([const2[i] * x[i] for i in vehicles]) <= 10000, \"Constraint 2\"\n",
    "manviMaxProfit += sum([const3[i] * x[i] for i in vehicles]) >= 14000, \"Constraint 3\"\n",
    "\n",
    "mincnt = dict(zip(vehicles, [150, 100]))\n",
    "\n",
    "for i in vehicles:\n",
    "    manviMaxProfit += x[i]  >= mincnt[i]\n",
    "\n",
    "maxcnt = dict(zip(vehicles, [500, 200]))\n",
    "for i in vehicles:\n",
    "    manviMaxProfit += x[i]  <= maxcnt[i]\n",
    "\n",
    "\n",
    "manviMaxProfit.writeLP(\"manviMaxProfit.lp\")\n",
    "    \n",
    "status=manviMaxProfit.solve(GLPK(options=[\"--ranges\",\"manviMaxProfit.sen\"]))\n",
    "print(status)\n",
    "#print the result\n",
    "for vehicle in vehicles:\n",
    "    print(' {} :: {} ::'.format(vehicle,\n",
    "    x[vehicle].value()))\n",
    "    \n",
    "print(\"Objective\", value(manviMaxProfit.objective))"
   ]
  },
  {
   "cell_type": "code",
   "execution_count": null,
   "metadata": {},
   "outputs": [],
   "source": [
    "# %load manviMaxProfit.sen\n",
    "GLPK 4.65 - SENSITIVITY ANALYSIS REPORT                                                                         Page   1\n",
    "\n",
    "Problem:    \n",
    "Objective:  Objective = 1850000 (MAXimum)\n",
    "\n",
    "   No. Row name     St      Activity         Slack   Lower bound       Activity      Obj coef  Obj value at Limiting\n",
    "                                          Marginal   Upper bound          range         range   break point variable\n",
    "------ ------------ -- ------------- ------------- -------------  ------------- ------------- ------------- ------------\n",
    "     1 Constraint_1 NU   12000.00000        .               -Inf    11200.00000    -112.50000      1.76e+06 _C2\n",
    "                                         112.50000   12000.00000    14400.00000          +Inf      2.12e+06 _C4\n",
    "\n",
    "     2 Constraint_2 NU   10000.00000        .               -Inf     7000.00000     -50.00000       1.7e+06 _C4\n",
    "                                          50.00000   10000.00000    11000.00000          +Inf       1.9e+06 _C2\n",
    "\n",
    "     3 Constraint_3 BS   22000.00000   -8000.00000   14000.00000    19000.00000     -50.00000  750000.00000 Constraint_2\n",
    "                                            .               +Inf    22000.00000          +Inf          +Inf\n",
    "\n",
    "     4 _C1          BS     350.00000    -200.00000     150.00000      200.00000   -1000.00000       1.5e+06 Constraint_2\n",
    "                                            .               +Inf      360.00000    9000.00000         5e+06 Constraint_1\n",
    "\n",
    "     5 _C2          BS     125.00000     -25.00000     100.00000         .        -3600.00000       1.4e+06 Constraint_1\n",
    "                                            .               +Inf      200.00000    2000.00000       2.1e+06 Constraint_2\n",
    "\n",
    "     6 _C3          BS     350.00000     150.00000          -Inf      200.00000   -1000.00000       1.5e+06 Constraint_2\n",
    "                                            .          500.00000      360.00000    9000.00000         5e+06 Constraint_1\n",
    "\n",
    "     7 _C4          BS     125.00000      75.00000          -Inf      100.00000   -3600.00000       1.4e+06 Constraint_1\n",
    "                                            .          200.00000      225.00000    2000.00000       2.1e+06 Constraint_2\n",
    "\n",
    "GLPK 4.65 - SENSITIVITY ANALYSIS REPORT                                                                         Page   2\n",
    "\n",
    "Problem:    \n",
    "Objective:  Objective = 1850000 (MAXimum)\n",
    "\n",
    "   No. Column name  St      Activity      Obj coef   Lower bound       Activity      Obj coef  Obj value at Limiting\n",
    "                                          Marginal   Upper bound          range         range   break point variable\n",
    "------ ------------ -- ------------- ------------- -------------  ------------- ------------- ------------- ------------\n",
    "     1 x_car        BS     350.00000    3500.00000        .           200.00000    2500.00000       1.5e+06 Constraint_2\n",
    "                                            .               +Inf      360.00000   12500.00000         5e+06 Constraint_1\n",
    "\n",
    "     2 x_truck      BS     125.00000    5000.00000        .           100.00000    1400.00000       1.4e+06 Constraint_1\n",
    "                                            .               +Inf      200.00000    7000.00000       2.1e+06 Constraint_2\n",
    "\n",
    "End of report\n"
   ]
  },
  {
   "cell_type": "markdown",
   "metadata": {},
   "source": [
    "#### Solve with Gurobi (Pending)"
   ]
  },
  {
   "cell_type": "markdown",
   "metadata": {},
   "source": [
    "#### Solve with CPLEX (Pending)"
   ]
  },
  {
   "cell_type": "markdown",
   "metadata": {},
   "source": [
    "## New Product (Van) introduced to mix"
   ]
  },
  {
   "cell_type": "code",
   "execution_count": 64,
   "metadata": {},
   "outputs": [
    {
     "name": "stdout",
     "output_type": "stream",
     "text": [
      "1\n",
      " car :: 350.0 ::\n",
      " truck :: 125.0 ::\n",
      " van :: 0.0 ::\n",
      "Objective 1850000.0\n"
     ]
    }
   ],
   "source": [
    "# initialize the model\n",
    "manviMaxProfit = LpProblem(\"ManviMaxProfit\", LpMaximize)\n",
    "#List of decision variables\n",
    "vehicles = ['car', 'truck', 'van']\n",
    "# create a dictionary of pulp variables with keys from ingredients\n",
    "# the default lower bound is -inf\n",
    "x = pulp.LpVariable.dict('x_%s', vehicles, lowBound = 0)\n",
    "\n",
    "# Objective function\n",
    "\n",
    "profit = [3500.0, 5000.0, 4000.0]\n",
    "cost = dict(zip(vehicles, profit))\n",
    "\n",
    "manviMaxProfit += sum([cost[i] * x[i] for i in vehicles]), \"Objective\"\n",
    "\n",
    "# Constraints\n",
    "const1 = dict(zip(vehicles, [20, 40, 30]))\n",
    "const2 = dict(zip(vehicles, [25, 10, 20]))\n",
    "const3 = dict(zip(vehicles, [45, 50, 50]))\n",
    "\n",
    "manviMaxProfit += sum([const1[i] * x[i] for i in vehicles]) <= 12000, \"Constraint 1\"\n",
    "manviMaxProfit += sum([const2[i] * x[i] for i in vehicles]) <= 10000, \"Constraint 2\"\n",
    "manviMaxProfit += sum([const3[i] * x[i] for i in vehicles]) >= 14000, \"Constraint 3\"\n",
    "\n",
    "mincnt = dict(zip(vehicles, [150, 100, 0]))\n",
    "\n",
    "for i in vehicles:\n",
    "    manviMaxProfit += x[i]  >= mincnt[i]\n",
    "\n",
    "maxcnt = dict(zip(vehicles, [500, 200, 1000]))\n",
    "for i in vehicles:\n",
    "    manviMaxProfit += x[i]  <= maxcnt[i]\n",
    "\n",
    "\n",
    "manviMaxProfit.writeLP(\"manviMaxProfit2.lp\")\n",
    "    \n",
    "status=manviMaxProfit.solve(GLPK(options=[\"--ranges\",\"manviMaxProfit2.sen\"]))\n",
    "print(status)\n",
    "#print the result\n",
    "for vehicle in vehicles:\n",
    "    print(' {} :: {} ::'.format(vehicle,\n",
    "    x[vehicle].value()))\n",
    "    \n",
    "print(\"Objective\", value(manviMaxProfit.objective))"
   ]
  },
  {
   "cell_type": "code",
   "execution_count": null,
   "metadata": {},
   "outputs": [],
   "source": [
    "# %load manviMaxProfit2.sen\n",
    "GLPK 4.65 - SENSITIVITY ANALYSIS REPORT                                                                         Page   1\n",
    "\n",
    "Problem:    \n",
    "Objective:  Objective = 1850000 (MAXimum)\n",
    "\n",
    "   No. Row name     St      Activity         Slack   Lower bound       Activity      Obj coef  Obj value at Limiting\n",
    "                                          Marginal   Upper bound          range         range   break point variable\n",
    "------ ------------ -- ------------- ------------- -------------  ------------- ------------- ------------- ------------\n",
    "     1 Constraint_1 NU   12000.00000        .               -Inf    11200.00000    -112.50000      1.76e+06 _C2\n",
    "                                         112.50000   12000.00000    14400.00000          +Inf      2.12e+06 _C5\n",
    "\n",
    "     2 Constraint_2 NU   10000.00000        .               -Inf     7000.00000     -50.00000       1.7e+06 _C5\n",
    "                                          50.00000   10000.00000    11000.00000          +Inf       1.9e+06 _C2\n",
    "\n",
    "     3 Constraint_3 BS   22000.00000   -8000.00000   14000.00000    19000.00000     -50.00000  750000.00000 Constraint_2\n",
    "                                            .               +Inf    22000.00000          +Inf          +Inf\n",
    "\n",
    "     4 _C1          BS     350.00000    -200.00000     150.00000      314.28571    -600.00000      1.64e+06 x_van\n",
    "                                            .               +Inf      360.00000    9000.00000         5e+06 Constraint_1\n",
    "\n",
    "     5 _C2          BS     125.00000     -25.00000     100.00000         .         -857.14286   1.74286e+06 x_van\n",
    "                                            .               +Inf      200.00000    2000.00000       2.1e+06 Constraint_2\n",
    "\n",
    "     6 _C3          BS        .             .             .              .               -Inf      1.85e+06\n",
    "                                            .               +Inf       57.14286     375.00000      1.85e+06 x_van\n",
    "\n",
    "     7 _C4          BS     350.00000     150.00000          -Inf      314.28571    -600.00000      1.64e+06 x_van\n",
    "                                            .          500.00000      360.00000    9000.00000         5e+06 Constraint_1\n",
    "\n",
    "     8 _C5          BS     125.00000      75.00000          -Inf      100.00000    -857.14286   1.74286e+06 x_van\n",
    "                                            .          200.00000      225.00000    2000.00000       2.1e+06 Constraint_2\n",
    "\n",
    "     9 _C6          BS        .         1000.00000          -Inf         .               -Inf      1.85e+06\n",
    "                                            .         1000.00000       57.14286     375.00000      1.85e+06 x_van\n",
    "\n",
    "GLPK 4.65 - SENSITIVITY ANALYSIS REPORT                                                                         Page   2\n",
    "\n",
    "Problem:    \n",
    "Objective:  Objective = 1850000 (MAXimum)\n",
    "\n",
    "   No. Column name  St      Activity      Obj coef   Lower bound       Activity      Obj coef  Obj value at Limiting\n",
    "                                          Marginal   Upper bound          range         range   break point variable\n",
    "------ ------------ -- ------------- ------------- -------------  ------------- ------------- ------------- ------------\n",
    "     1 x_car        BS     350.00000    3500.00000        .           314.28571    2900.00000      1.64e+06 x_van\n",
    "                                            .               +Inf      360.00000   12500.00000         5e+06 Constraint_1\n",
    "\n",
    "     2 x_truck      BS     125.00000    5000.00000        .           100.00000    4142.85714   1.74286e+06 x_van\n",
    "                                            .               +Inf      200.00000    7000.00000       2.1e+06 Constraint_2\n",
    "\n",
    "     3 x_van        NL        .         4000.00000        .              .               -Inf      1.85e+06 _C3\n",
    "                                        -375.00000          +Inf       57.14286    4375.00000   1.82857e+06 _C2\n",
    "\n",
    "End of report\n"
   ]
  },
  {
   "cell_type": "code",
   "execution_count": null,
   "metadata": {},
   "outputs": [],
   "source": []
  }
 ],
 "metadata": {
  "kernelspec": {
   "display_name": "Python 3",
   "language": "python",
   "name": "python3"
  },
  "language_info": {
   "codemirror_mode": {
    "name": "ipython",
    "version": 3
   },
   "file_extension": ".py",
   "mimetype": "text/x-python",
   "name": "python",
   "nbconvert_exporter": "python",
   "pygments_lexer": "ipython3",
   "version": "3.6.4"
  }
 },
 "nbformat": 4,
 "nbformat_minor": 2
}
